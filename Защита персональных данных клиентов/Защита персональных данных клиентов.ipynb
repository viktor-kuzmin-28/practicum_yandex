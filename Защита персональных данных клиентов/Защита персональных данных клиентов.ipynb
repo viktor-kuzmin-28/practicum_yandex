{
 "cells": [
  {
   "cell_type": "markdown",
   "metadata": {},
   "source": [
    "# Защита персональных данных клиентов"
   ]
  },
  {
   "cell_type": "markdown",
   "metadata": {},
   "source": [
    "Вам нужно защитить данные клиентов страховой компании «Хоть потоп». Разработайте такой метод преобразования данных, чтобы по ним было сложно восстановить персональную информацию. Обоснуйте корректность его работы.\n",
    "\n",
    "Нужно защитить данные, чтобы при преобразовании качество моделей машинного обучения не ухудшилось. Подбирать наилучшую модель не требуется."
   ]
  },
  {
   "cell_type": "markdown",
   "metadata": {},
   "source": [
    "## Загрузка данных"
   ]
  },
  {
   "cell_type": "code",
   "execution_count": 1,
   "metadata": {},
   "outputs": [],
   "source": [
    "import pandas as pd\n",
    "import numpy as np\n",
    "\n",
    "from numpy.linalg import inv\n",
    "\n",
    "from sklearn.model_selection import train_test_split\n",
    "from sklearn.linear_model import LinearRegression\n",
    "from sklearn.metrics import r2_score"
   ]
  },
  {
   "cell_type": "code",
   "execution_count": 2,
   "metadata": {},
   "outputs": [],
   "source": [
    "data = pd.read_csv('/datasets/insurance.csv')"
   ]
  },
  {
   "cell_type": "code",
   "execution_count": 3,
   "metadata": {},
   "outputs": [
    {
     "data": {
      "text/html": [
       "<div>\n",
       "<style scoped>\n",
       "    .dataframe tbody tr th:only-of-type {\n",
       "        vertical-align: middle;\n",
       "    }\n",
       "\n",
       "    .dataframe tbody tr th {\n",
       "        vertical-align: top;\n",
       "    }\n",
       "\n",
       "    .dataframe thead th {\n",
       "        text-align: right;\n",
       "    }\n",
       "</style>\n",
       "<table border=\"1\" class=\"dataframe\">\n",
       "  <thead>\n",
       "    <tr style=\"text-align: right;\">\n",
       "      <th></th>\n",
       "      <th>Пол</th>\n",
       "      <th>Возраст</th>\n",
       "      <th>Зарплата</th>\n",
       "      <th>Члены семьи</th>\n",
       "      <th>Страховые выплаты</th>\n",
       "    </tr>\n",
       "  </thead>\n",
       "  <tbody>\n",
       "    <tr>\n",
       "      <th>0</th>\n",
       "      <td>1</td>\n",
       "      <td>41.0</td>\n",
       "      <td>49600.0</td>\n",
       "      <td>1</td>\n",
       "      <td>0</td>\n",
       "    </tr>\n",
       "    <tr>\n",
       "      <th>1</th>\n",
       "      <td>0</td>\n",
       "      <td>46.0</td>\n",
       "      <td>38000.0</td>\n",
       "      <td>1</td>\n",
       "      <td>1</td>\n",
       "    </tr>\n",
       "    <tr>\n",
       "      <th>2</th>\n",
       "      <td>0</td>\n",
       "      <td>29.0</td>\n",
       "      <td>21000.0</td>\n",
       "      <td>0</td>\n",
       "      <td>0</td>\n",
       "    </tr>\n",
       "    <tr>\n",
       "      <th>3</th>\n",
       "      <td>0</td>\n",
       "      <td>21.0</td>\n",
       "      <td>41700.0</td>\n",
       "      <td>2</td>\n",
       "      <td>0</td>\n",
       "    </tr>\n",
       "    <tr>\n",
       "      <th>4</th>\n",
       "      <td>1</td>\n",
       "      <td>28.0</td>\n",
       "      <td>26100.0</td>\n",
       "      <td>0</td>\n",
       "      <td>0</td>\n",
       "    </tr>\n",
       "  </tbody>\n",
       "</table>\n",
       "</div>"
      ],
      "text/plain": [
       "   Пол  Возраст  Зарплата  Члены семьи  Страховые выплаты\n",
       "0    1     41.0   49600.0            1                  0\n",
       "1    0     46.0   38000.0            1                  1\n",
       "2    0     29.0   21000.0            0                  0\n",
       "3    0     21.0   41700.0            2                  0\n",
       "4    1     28.0   26100.0            0                  0"
      ]
     },
     "execution_count": 3,
     "metadata": {},
     "output_type": "execute_result"
    }
   ],
   "source": [
    "data.head()"
   ]
  },
  {
   "cell_type": "code",
   "execution_count": 4,
   "metadata": {
    "scrolled": true
   },
   "outputs": [
    {
     "name": "stdout",
     "output_type": "stream",
     "text": [
      "<class 'pandas.core.frame.DataFrame'>\n",
      "RangeIndex: 5000 entries, 0 to 4999\n",
      "Data columns (total 5 columns):\n",
      " #   Column             Non-Null Count  Dtype  \n",
      "---  ------             --------------  -----  \n",
      " 0   Пол                5000 non-null   int64  \n",
      " 1   Возраст            5000 non-null   float64\n",
      " 2   Зарплата           5000 non-null   float64\n",
      " 3   Члены семьи        5000 non-null   int64  \n",
      " 4   Страховые выплаты  5000 non-null   int64  \n",
      "dtypes: float64(2), int64(3)\n",
      "memory usage: 195.4 KB\n"
     ]
    }
   ],
   "source": [
    "data.info()"
   ]
  },
  {
   "cell_type": "markdown",
   "metadata": {},
   "source": [
    "Мы можем заключить что все данные числовые и представлены в подходящих типах данных, поэтому в будущем эти данные можно будет преобразовать в матричный вид. "
   ]
  },
  {
   "cell_type": "markdown",
   "metadata": {},
   "source": [
    "## Умножение матриц"
   ]
  },
  {
   "cell_type": "markdown",
   "metadata": {},
   "source": [
    "В этом задании вы можете записывать формулы в *Jupyter Notebook.*\n",
    "\n",
    "Чтобы записать формулу внутри текста, окружите её символами доллара \\\\$; если снаружи —  двойными символами \\\\$\\\\$. Эти формулы записываются на языке вёрстки *LaTeX.* \n",
    "\n",
    "Для примера мы записали формулы линейной регрессии. Можете их скопировать и отредактировать, чтобы решить задачу.\n",
    "\n",
    "Работать в *LaTeX* необязательно."
   ]
  },
  {
   "cell_type": "markdown",
   "metadata": {},
   "source": [
    "Обозначения:\n",
    "\n",
    "- $X$ — матрица признаков (нулевой столбец состоит из единиц)\n",
    "\n",
    "- $y$ — вектор целевого признака\n",
    "\n",
    "- $P$ — матрица, на которую умножаются признаки\n",
    "\n",
    "- $w$ — вектор весов линейной регрессии (нулевой элемент равен сдвигу)"
   ]
  },
  {
   "cell_type": "markdown",
   "metadata": {},
   "source": [
    "Предсказания:\n",
    "\n",
    "$$\n",
    "a = Xw\n",
    "$$\n",
    "\n",
    "Задача обучения:\n",
    "\n",
    "$$\n",
    "w = \\arg\\min_w MSE(Xw, y)\n",
    "$$\n",
    "\n",
    "Формула обучения:\n",
    "\n",
    "$$\n",
    "w = (X^T X)^{-1} X^T y\n",
    "$$"
   ]
  },
  {
   "cell_type": "markdown",
   "metadata": {},
   "source": [
    "Ответьте на вопрос и обоснуйте решение.\n",
    "Признаки умножают на обратимую матрицу. Изменится ли качество линейной регрессии?\n",
    "\n",
    "    a. Изменится. Приведите примеры матриц.\n",
    "    b. Не изменится. Укажите, как связаны параметры линейной регрессии в исходной задаче и в преобразованной."
   ]
  },
  {
   "cell_type": "markdown",
   "metadata": {},
   "source": [
    "**Ответ:** Не изменится\n",
    "\n",
    "**Обоснование:** Установим что у нас есть первоначальный набор данных в виде матрицы (только features без target) X и обратимая матрица P (значит существует матрица P^-1) на которую производим матричное умножение. \n",
    "Для нашего объяснения нам понадобятся следующие формулы.\n",
    "\n",
    "Первоначальная формула обучения:\n",
    "\n",
    "$$ w = (X^T X)^{-1} X^T y $$ \n",
    "\n",
    "Первоначальная формула предсказания:\n",
    "\n",
    "$$ a = Xw $$\n",
    "\n",
    "Несколько свойств матричных операций:\n",
    "\n",
    "$$ AA^{-1}=A^{-1}A=E $$ (E - это единичная матрица)\n",
    "\n",
    "$$ AE=EA=A $$\n",
    "\n",
    "$$ (AB)^T=B^TA^T $$ (т.е. A и B меняются местами)\n",
    "\n",
    "$$ (AB)^{-1}=B^{-1}A^{-1} $$ (при условие что и A и B квадратные, так как только у них существуют обратные матрицы)\n",
    "$$ (ABC)^{-1}=C^{-1}B^{-1}A^{-1} $$ (при условие что все три матрицы квадратные, так как только у них существуют обратные матрицы)\n",
    "\n",
    "Представим новую формулу обучения, где каждая X умножится на P (а “y” не изменится, так как target выведен отдельно):\n",
    "$$ w_{new} = ((XP)^T (XP))^{-1} (XP)^T y $$"
   ]
  },
  {
   "cell_type": "markdown",
   "metadata": {},
   "source": [
    "Проведём постепенное раскрытие скобок:\n",
    "$$ w_{new} =  (P^TX^TXP)^{-1} P^T X^T y $$\n",
    "Замечаем что в первой скобке:\n",
    "$$ (P^TX^TXP)^{-1} $$\n",
    "Стоят три квадратные матрицы: Р по условию обратная (а значит квадратная), а при умножение траспонированной матрицы X на саму эту матрицу X, получится квадратная матрица (так как стороны будут равны ширине первоночальной матрицы). Поэтому мы можем ракрыть скобки:\n",
    "$$ w_{new} =  P^{-1} (X^TX)^{-1} (P^T)^{-1} P^T X^T y $$\n",
    "Последние две траспонированные P можно сократить, так как они дают E. Остаётся такая формула:\n",
    "$$ w_{new} =  P^{-1} (X^TX)^{-1} X^T y $$\n",
    "Три последних X и “y” представляют собой формулу w. \n",
    "Поэтому формула будет выглядеть так:\n",
    "$$ w_{new} =  P^{-1} w $$"
   ]
  },
  {
   "cell_type": "markdown",
   "metadata": {},
   "source": [
    "Напомним первоначальную формула предсказания:\n",
    "$$ a=Xw $$\n",
    "Запишем формулу предсказания для новой матрицы:\n",
    "$$ a_{new}=XP w_{new} $$\n",
    "Вставим туда новое w которое мы нашли выше:\n",
    "$$ a_{new}=XP  P^{-1} w $$\n",
    "Сократим Р:\n",
    "$$ a_{new}=Xw $$\n",
    "Получается что новое предсказание равно старому. Значит мы ничего не потеряли, и самое главное не приобрели ничего нового для вычисления предсказаний линейной регрессии. Но сами данные защитили. "
   ]
  },
  {
   "cell_type": "markdown",
   "metadata": {},
   "source": [
    "## Алгоритм преобразования"
   ]
  },
  {
   "cell_type": "markdown",
   "metadata": {},
   "source": [
    "Мы теоретически выяснили, если умножить исходную матрицу данных на обратимую матрицу, то для предсказаний линейной регрессии не будет ни потерь ни приобретений, но данные мы защитим. Теперь проверим это практически. Нам нужно сохранить target без изменений, поэтому его нам нужно будет сразу отделить от данных. Соответственно features будет состоять из 4 колонок. Значит обратимую матрицу надо будет сделать 4x4, так как обратимые матрицы должны быть квадратными. Также надо будет проверить наши преобразования вычислением линейной регрессии, поэтому первоначальную матрицу данных до умножения нужно будет сохранить. "
   ]
  },
  {
   "cell_type": "markdown",
   "metadata": {},
   "source": [
    "Поэтому наш алгоритм действий будет следующий:\n",
    "\n",
    "1. Разделим данные на features и target, а их на обучающую и тестовую выборки.\n",
    "2. Создадим матрицу 4x4.\n",
    "3. Проверим её на обратимость. \n",
    "4. Преобразуем выборки features в матрицы, в отдельные переменные.\n",
    "5. Проведём умножение матриц из 4-го пункта на матрицу из 2-го пункта. \n",
    "6. Создадим модели и посчитаем метрику R2 на первоначальных данных и на преобразованных матричным умножением. \n",
    "7. Подведём итог."
   ]
  },
  {
   "cell_type": "markdown",
   "metadata": {},
   "source": [
    "## Проверка алгоритма"
   ]
  },
  {
   "cell_type": "code",
   "execution_count": 5,
   "metadata": {},
   "outputs": [],
   "source": [
    "features = data.drop(['Страховые выплаты'], axis=1)\n",
    "target = data['Страховые выплаты']"
   ]
  },
  {
   "cell_type": "code",
   "execution_count": 6,
   "metadata": {},
   "outputs": [],
   "source": [
    "features_train, features_test, target_train, target_test = train_test_split(\n",
    "    features, target, test_size=0.25, random_state=12345)"
   ]
  },
  {
   "cell_type": "code",
   "execution_count": 7,
   "metadata": {},
   "outputs": [],
   "source": [
    "p = np.random.randint(7, size=(4, 4))"
   ]
  },
  {
   "cell_type": "code",
   "execution_count": 8,
   "metadata": {},
   "outputs": [
    {
     "name": "stdout",
     "output_type": "stream",
     "text": [
      "True\n",
      "True\n"
     ]
    }
   ],
   "source": [
    "# Создадим обратную матрицу \n",
    "p_inv = inv(p)\n",
    "\n",
    "#Проверим обратимость, если выдаст True, то обратима\n",
    "print(np.allclose(np.dot(p, p_inv), np.eye(4)))\n",
    "print(np.allclose(np.dot(p_inv, p), np.eye(4)))"
   ]
  },
  {
   "cell_type": "code",
   "execution_count": 9,
   "metadata": {},
   "outputs": [],
   "source": [
    "features_train_p = features_train.values\n",
    "features_test_p = features_test.values"
   ]
  },
  {
   "cell_type": "code",
   "execution_count": 10,
   "metadata": {},
   "outputs": [],
   "source": [
    "features_train_p = features_train_p @ p\n",
    "features_test_p = features_test_p @ p"
   ]
  },
  {
   "cell_type": "code",
   "execution_count": 11,
   "metadata": {
    "scrolled": true
   },
   "outputs": [
    {
     "name": "stdout",
     "output_type": "stream",
     "text": [
      "R2 на первоночальных данных: 0.43522757127026546\n"
     ]
    }
   ],
   "source": [
    "model = LinearRegression()\n",
    "model.fit(features_train, target_train)\n",
    "predicted_test = model.predict(features_test)\n",
    "r2 = r2_score(target_test, predicted_test)\n",
    "\n",
    "print('R2 на первоночальных данных:', r2)"
   ]
  },
  {
   "cell_type": "code",
   "execution_count": 12,
   "metadata": {},
   "outputs": [
    {
     "name": "stdout",
     "output_type": "stream",
     "text": [
      "R2 на преобразованных данных: 0.4352275712702721\n"
     ]
    }
   ],
   "source": [
    "model_p = LinearRegression()\n",
    "model_p.fit(features_train_p, target_train)\n",
    "predicted_test_p = model_p.predict(features_test_p)\n",
    "r2_p = r2_score(target_test, predicted_test_p)\n",
    "\n",
    "print('R2 на преобразованных данных:', r2_p)"
   ]
  },
  {
   "cell_type": "markdown",
   "metadata": {},
   "source": [
    "**Итог**\n",
    "\n",
    "Нам были предоставлены данные, в которых должно путём преобразований данных защитить персональную информацию, но одновременно сделать данные пригодными для работы модели линейной регрессии. \n",
    "\n",
    "Сами данные не содержали пропусков, а их тип данных был приемлем для преобразований. \n",
    "\n",
    "Для преобразования данных нами был предложен способ матричного умножения данных. То есть первоначальные данные делились на features и target. Потом features преобразовывался в матрицу и умножался на обратимую квадратную рандомную матрицу. Во втором пункте, нами была обоснована теоретическая база для такого преобразования, так как в результате теоретических расчётов предсказания модели линейной регрессии должны совпадать на и на первичных и на преобразованных данных.  \n",
    "\n",
    "Нами также была проведена проверка наших теоретических выводов. Построены модели линейной регрессии на первичных и на преобразованных данных. Метрика качества R2 почти полностью совпала на этих моделях, а значит для модели линейной регрессии нет потерь если она будет использовать преобразованные данные. Конфиденциальная же информация в данных получит защиту. "
   ]
  }
 ],
 "metadata": {
  "ExecuteTimeLog": [
   {
    "duration": 1075,
    "start_time": "2023-03-30T15:52:51.423Z"
   },
   {
    "duration": 101,
    "start_time": "2023-03-30T15:53:56.923Z"
   },
   {
    "duration": 15,
    "start_time": "2023-03-30T15:54:28.193Z"
   },
   {
    "duration": 9,
    "start_time": "2023-03-30T15:54:41.243Z"
   },
   {
    "duration": 12,
    "start_time": "2023-03-30T15:54:49.473Z"
   },
   {
    "duration": 1200,
    "start_time": "2023-03-30T17:38:19.948Z"
   },
   {
    "duration": 28,
    "start_time": "2023-03-30T17:38:24.285Z"
   },
   {
    "duration": 14,
    "start_time": "2023-03-30T17:38:27.470Z"
   },
   {
    "duration": 12,
    "start_time": "2023-03-30T17:38:30.790Z"
   },
   {
    "duration": 3,
    "start_time": "2023-03-30T18:59:41.555Z"
   },
   {
    "duration": 4,
    "start_time": "2023-03-30T19:01:46.626Z"
   },
   {
    "duration": 6,
    "start_time": "2023-03-30T19:02:47.594Z"
   },
   {
    "duration": 3,
    "start_time": "2023-03-30T19:08:48.035Z"
   },
   {
    "duration": 3,
    "start_time": "2023-03-30T19:12:49.717Z"
   },
   {
    "duration": 352,
    "start_time": "2023-03-30T19:16:13.856Z"
   },
   {
    "duration": 5,
    "start_time": "2023-03-30T19:17:06.156Z"
   },
   {
    "duration": 3,
    "start_time": "2023-03-30T19:18:39.546Z"
   },
   {
    "duration": 5,
    "start_time": "2023-03-30T19:18:42.276Z"
   },
   {
    "duration": 7,
    "start_time": "2023-03-30T19:18:53.524Z"
   },
   {
    "duration": 3,
    "start_time": "2023-03-30T19:18:56.936Z"
   },
   {
    "duration": 5,
    "start_time": "2023-03-30T19:18:59.186Z"
   },
   {
    "duration": 4,
    "start_time": "2023-03-30T19:22:38.320Z"
   },
   {
    "duration": 3,
    "start_time": "2023-03-30T19:22:41.639Z"
   },
   {
    "duration": 10,
    "start_time": "2023-03-30T19:25:43.365Z"
   },
   {
    "duration": 6,
    "start_time": "2023-03-30T19:26:26.675Z"
   },
   {
    "duration": 9,
    "start_time": "2023-03-30T19:27:09.225Z"
   },
   {
    "duration": 7,
    "start_time": "2023-03-30T19:27:11.618Z"
   },
   {
    "duration": 6,
    "start_time": "2023-03-30T19:28:15.435Z"
   },
   {
    "duration": 6,
    "start_time": "2023-03-30T19:28:46.804Z"
   },
   {
    "duration": 8,
    "start_time": "2023-03-30T19:28:52.965Z"
   },
   {
    "duration": 6,
    "start_time": "2023-03-30T19:28:58.335Z"
   },
   {
    "duration": 1271,
    "start_time": "2023-03-31T06:51:00.297Z"
   },
   {
    "duration": 124,
    "start_time": "2023-03-31T06:51:04.883Z"
   },
   {
    "duration": 18,
    "start_time": "2023-03-31T06:51:05.613Z"
   },
   {
    "duration": 14,
    "start_time": "2023-03-31T06:51:08.754Z"
   },
   {
    "duration": 9,
    "start_time": "2023-03-31T06:51:16.955Z"
   },
   {
    "duration": 9,
    "start_time": "2023-03-31T06:51:17.633Z"
   },
   {
    "duration": 3,
    "start_time": "2023-03-31T06:51:18.393Z"
   },
   {
    "duration": 7,
    "start_time": "2023-03-31T06:51:19.323Z"
   },
   {
    "duration": 3,
    "start_time": "2023-03-31T06:51:26.093Z"
   },
   {
    "duration": 4,
    "start_time": "2023-03-31T06:51:26.963Z"
   },
   {
    "duration": 12,
    "start_time": "2023-03-31T06:51:27.667Z"
   },
   {
    "duration": 7,
    "start_time": "2023-03-31T06:51:28.993Z"
   },
   {
    "duration": 6,
    "start_time": "2023-03-31T06:51:49.714Z"
   },
   {
    "duration": 6,
    "start_time": "2023-03-31T06:52:22.893Z"
   },
   {
    "duration": 5,
    "start_time": "2023-03-31T06:53:45.063Z"
   },
   {
    "duration": 8,
    "start_time": "2023-03-31T06:54:00.255Z"
   },
   {
    "duration": 7,
    "start_time": "2023-03-31T06:54:40.583Z"
   },
   {
    "duration": 122,
    "start_time": "2023-03-31T06:57:03.635Z"
   },
   {
    "duration": 217,
    "start_time": "2023-03-31T06:57:15.042Z"
   },
   {
    "duration": 101,
    "start_time": "2023-03-31T06:57:27.824Z"
   },
   {
    "duration": 113,
    "start_time": "2023-03-31T06:57:48.634Z"
   },
   {
    "duration": 10,
    "start_time": "2023-03-31T06:57:57.664Z"
   },
   {
    "duration": 5,
    "start_time": "2023-03-31T06:58:00.204Z"
   },
   {
    "duration": 54,
    "start_time": "2023-03-31T07:00:00.858Z"
   },
   {
    "duration": 1241,
    "start_time": "2023-03-31T07:00:12.015Z"
   },
   {
    "duration": 29,
    "start_time": "2023-03-31T07:00:14.175Z"
   },
   {
    "duration": 17,
    "start_time": "2023-03-31T07:00:14.605Z"
   },
   {
    "duration": 16,
    "start_time": "2023-03-31T07:00:15.115Z"
   },
   {
    "duration": 4,
    "start_time": "2023-03-31T07:00:20.585Z"
   },
   {
    "duration": 7,
    "start_time": "2023-03-31T07:00:21.137Z"
   },
   {
    "duration": 3,
    "start_time": "2023-03-31T07:00:21.870Z"
   },
   {
    "duration": 22,
    "start_time": "2023-03-31T07:00:22.658Z"
   },
   {
    "duration": 3,
    "start_time": "2023-03-31T07:00:28.636Z"
   },
   {
    "duration": 3,
    "start_time": "2023-03-31T07:00:29.225Z"
   },
   {
    "duration": 113,
    "start_time": "2023-03-31T07:01:15.495Z"
   },
   {
    "duration": 6,
    "start_time": "2023-03-31T07:01:31.824Z"
   },
   {
    "duration": 10,
    "start_time": "2023-03-31T07:02:14.977Z"
   },
   {
    "duration": 5,
    "start_time": "2023-03-31T07:02:19.199Z"
   },
   {
    "duration": 16,
    "start_time": "2023-03-31T07:04:40.459Z"
   },
   {
    "duration": 9,
    "start_time": "2023-03-31T07:17:42.297Z"
   },
   {
    "duration": 1323,
    "start_time": "2023-03-31T07:18:44.367Z"
   },
   {
    "duration": 29,
    "start_time": "2023-03-31T07:18:45.692Z"
   },
   {
    "duration": 20,
    "start_time": "2023-03-31T07:18:45.722Z"
   },
   {
    "duration": 13,
    "start_time": "2023-03-31T07:18:46.070Z"
   },
   {
    "duration": 6,
    "start_time": "2023-03-31T07:18:55.429Z"
   },
   {
    "duration": 5,
    "start_time": "2023-03-31T07:18:56.690Z"
   },
   {
    "duration": 3,
    "start_time": "2023-03-31T07:18:59.030Z"
   },
   {
    "duration": 5,
    "start_time": "2023-03-31T07:19:01.989Z"
   },
   {
    "duration": 9,
    "start_time": "2023-03-31T07:19:13.980Z"
   },
   {
    "duration": 6,
    "start_time": "2023-03-31T07:19:37.020Z"
   },
   {
    "duration": 7,
    "start_time": "2023-03-31T07:20:24.800Z"
   },
   {
    "duration": 6,
    "start_time": "2023-03-31T07:20:43.770Z"
   },
   {
    "duration": 5,
    "start_time": "2023-03-31T07:21:06.449Z"
   },
   {
    "duration": 3,
    "start_time": "2023-03-31T07:21:15.160Z"
   },
   {
    "duration": 6,
    "start_time": "2023-03-31T07:21:27.110Z"
   },
   {
    "duration": 10,
    "start_time": "2023-03-31T07:22:13.667Z"
   },
   {
    "duration": 1216,
    "start_time": "2023-03-31T07:33:02.252Z"
   },
   {
    "duration": 30,
    "start_time": "2023-03-31T07:33:04.506Z"
   },
   {
    "duration": 29,
    "start_time": "2023-03-31T07:33:05.048Z"
   },
   {
    "duration": 10,
    "start_time": "2023-03-31T07:33:05.609Z"
   },
   {
    "duration": 12,
    "start_time": "2023-03-31T07:33:25.060Z"
   },
   {
    "duration": 5,
    "start_time": "2023-03-31T07:33:27.028Z"
   },
   {
    "duration": 4,
    "start_time": "2023-03-31T07:33:28.260Z"
   },
   {
    "duration": 15,
    "start_time": "2023-03-31T07:33:29.462Z"
   },
   {
    "duration": 4,
    "start_time": "2023-03-31T07:33:33.460Z"
   },
   {
    "duration": 6,
    "start_time": "2023-03-31T07:33:35.460Z"
   },
   {
    "duration": 10,
    "start_time": "2023-03-31T07:33:37.618Z"
   },
   {
    "duration": 8,
    "start_time": "2023-03-31T07:33:43.664Z"
   },
   {
    "duration": 2276,
    "start_time": "2023-03-31T09:02:09.483Z"
   },
   {
    "duration": 86,
    "start_time": "2023-03-31T09:02:11.761Z"
   },
   {
    "duration": 17,
    "start_time": "2023-03-31T09:02:11.849Z"
   },
   {
    "duration": 10,
    "start_time": "2023-03-31T09:02:11.868Z"
   },
   {
    "duration": 4,
    "start_time": "2023-03-31T09:02:11.880Z"
   },
   {
    "duration": 11,
    "start_time": "2023-03-31T09:02:11.885Z"
   },
   {
    "duration": 12,
    "start_time": "2023-03-31T09:02:11.898Z"
   },
   {
    "duration": 16,
    "start_time": "2023-03-31T09:02:11.912Z"
   },
   {
    "duration": 89,
    "start_time": "2023-03-31T09:02:11.931Z"
   },
   {
    "duration": 8,
    "start_time": "2023-03-31T09:02:12.024Z"
   },
   {
    "duration": 89,
    "start_time": "2023-03-31T09:02:12.033Z"
   },
   {
    "duration": 6,
    "start_time": "2023-03-31T09:02:12.124Z"
   },
   {
    "duration": 1081,
    "start_time": "2023-03-31T13:54:05.880Z"
   },
   {
    "duration": 136,
    "start_time": "2023-03-31T13:54:08.056Z"
   },
   {
    "duration": 15,
    "start_time": "2023-03-31T13:54:08.735Z"
   },
   {
    "duration": 14,
    "start_time": "2023-03-31T13:54:12.363Z"
   },
   {
    "duration": 4,
    "start_time": "2023-03-31T13:59:12.244Z"
   },
   {
    "duration": 6,
    "start_time": "2023-03-31T13:59:12.785Z"
   },
   {
    "duration": 3,
    "start_time": "2023-03-31T13:59:13.285Z"
   },
   {
    "duration": 5,
    "start_time": "2023-03-31T13:59:13.928Z"
   },
   {
    "duration": 3,
    "start_time": "2023-03-31T13:59:17.823Z"
   },
   {
    "duration": 3,
    "start_time": "2023-03-31T13:59:18.340Z"
   },
   {
    "duration": 12,
    "start_time": "2023-03-31T13:59:18.975Z"
   },
   {
    "duration": 5,
    "start_time": "2023-03-31T13:59:19.629Z"
   }
  ],
  "kernelspec": {
   "display_name": "Python 3 (ipykernel)",
   "language": "python",
   "name": "python3"
  },
  "language_info": {
   "codemirror_mode": {
    "name": "ipython",
    "version": 3
   },
   "file_extension": ".py",
   "mimetype": "text/x-python",
   "name": "python",
   "nbconvert_exporter": "python",
   "pygments_lexer": "ipython3",
   "version": "3.9.12"
  },
  "toc": {
   "base_numbering": 1,
   "nav_menu": {},
   "number_sections": true,
   "sideBar": true,
   "skip_h1_title": true,
   "title_cell": "Содержание",
   "title_sidebar": "Contents",
   "toc_cell": true,
   "toc_position": {},
   "toc_section_display": true,
   "toc_window_display": false
  }
 },
 "nbformat": 4,
 "nbformat_minor": 2
}
