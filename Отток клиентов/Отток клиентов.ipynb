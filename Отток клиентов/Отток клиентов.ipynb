{
 "cells": [
  {
   "cell_type": "markdown",
   "metadata": {},
   "source": [
    "# Отток клиентов"
   ]
  },
  {
   "cell_type": "markdown",
   "metadata": {},
   "source": [
    "Из «Бета-Банка» стали уходить клиенты. Каждый месяц. Немного, но заметно. Банковские маркетологи посчитали: сохранять текущих клиентов дешевле, чем привлекать новых.\n",
    "\n",
    "Нужно спрогнозировать, уйдёт клиент из банка в ближайшее время или нет. Вам предоставлены исторические данные о поведении клиентов и расторжении договоров с банком. \n",
    "\n",
    "Постройте модель с предельно большим значением *F1*-меры. Чтобы сдать проект успешно, нужно довести метрику до 0.59. Проверьте *F1*-меру на тестовой выборке самостоятельно.\n",
    "\n",
    "Дополнительно измеряйте *AUC-ROC*, сравнивайте её значение с *F1*-мерой.\n",
    "\n",
    "Источник данных: [https://www.kaggle.com/barelydedicated/bank-customer-churn-modeling](https://www.kaggle.com/barelydedicated/bank-customer-churn-modeling)"
   ]
  },
  {
   "cell_type": "markdown",
   "metadata": {},
   "source": [
    "## Подготовка данных"
   ]
  },
  {
   "cell_type": "code",
   "execution_count": 1,
   "metadata": {},
   "outputs": [],
   "source": [
    "import pandas as pd\n",
    "import numpy as np\n",
    "from sklearn.model_selection import train_test_split\n",
    "from sklearn.tree import DecisionTreeClassifier\n",
    "from sklearn.metrics import accuracy_score\n",
    "from sklearn.ensemble import RandomForestClassifier\n",
    "from sklearn.linear_model import LogisticRegression \n",
    "from sklearn.preprocessing import StandardScaler \n",
    "from sklearn.metrics import f1_score\n",
    "from sklearn.metrics import roc_auc_score\n",
    "from sklearn.utils import shuffle"
   ]
  },
  {
   "cell_type": "code",
   "execution_count": 2,
   "metadata": {
    "scrolled": true
   },
   "outputs": [
    {
     "data": {
      "text/html": [
       "<div>\n",
       "<style scoped>\n",
       "    .dataframe tbody tr th:only-of-type {\n",
       "        vertical-align: middle;\n",
       "    }\n",
       "\n",
       "    .dataframe tbody tr th {\n",
       "        vertical-align: top;\n",
       "    }\n",
       "\n",
       "    .dataframe thead th {\n",
       "        text-align: right;\n",
       "    }\n",
       "</style>\n",
       "<table border=\"1\" class=\"dataframe\">\n",
       "  <thead>\n",
       "    <tr style=\"text-align: right;\">\n",
       "      <th></th>\n",
       "      <th>RowNumber</th>\n",
       "      <th>CustomerId</th>\n",
       "      <th>Surname</th>\n",
       "      <th>CreditScore</th>\n",
       "      <th>Geography</th>\n",
       "      <th>Gender</th>\n",
       "      <th>Age</th>\n",
       "      <th>Tenure</th>\n",
       "      <th>Balance</th>\n",
       "      <th>NumOfProducts</th>\n",
       "      <th>HasCrCard</th>\n",
       "      <th>IsActiveMember</th>\n",
       "      <th>EstimatedSalary</th>\n",
       "      <th>Exited</th>\n",
       "    </tr>\n",
       "  </thead>\n",
       "  <tbody>\n",
       "    <tr>\n",
       "      <th>0</th>\n",
       "      <td>1</td>\n",
       "      <td>15634602</td>\n",
       "      <td>Hargrave</td>\n",
       "      <td>619</td>\n",
       "      <td>France</td>\n",
       "      <td>Female</td>\n",
       "      <td>42</td>\n",
       "      <td>2.0</td>\n",
       "      <td>0.00</td>\n",
       "      <td>1</td>\n",
       "      <td>1</td>\n",
       "      <td>1</td>\n",
       "      <td>101348.88</td>\n",
       "      <td>1</td>\n",
       "    </tr>\n",
       "    <tr>\n",
       "      <th>1</th>\n",
       "      <td>2</td>\n",
       "      <td>15647311</td>\n",
       "      <td>Hill</td>\n",
       "      <td>608</td>\n",
       "      <td>Spain</td>\n",
       "      <td>Female</td>\n",
       "      <td>41</td>\n",
       "      <td>1.0</td>\n",
       "      <td>83807.86</td>\n",
       "      <td>1</td>\n",
       "      <td>0</td>\n",
       "      <td>1</td>\n",
       "      <td>112542.58</td>\n",
       "      <td>0</td>\n",
       "    </tr>\n",
       "    <tr>\n",
       "      <th>2</th>\n",
       "      <td>3</td>\n",
       "      <td>15619304</td>\n",
       "      <td>Onio</td>\n",
       "      <td>502</td>\n",
       "      <td>France</td>\n",
       "      <td>Female</td>\n",
       "      <td>42</td>\n",
       "      <td>8.0</td>\n",
       "      <td>159660.80</td>\n",
       "      <td>3</td>\n",
       "      <td>1</td>\n",
       "      <td>0</td>\n",
       "      <td>113931.57</td>\n",
       "      <td>1</td>\n",
       "    </tr>\n",
       "    <tr>\n",
       "      <th>3</th>\n",
       "      <td>4</td>\n",
       "      <td>15701354</td>\n",
       "      <td>Boni</td>\n",
       "      <td>699</td>\n",
       "      <td>France</td>\n",
       "      <td>Female</td>\n",
       "      <td>39</td>\n",
       "      <td>1.0</td>\n",
       "      <td>0.00</td>\n",
       "      <td>2</td>\n",
       "      <td>0</td>\n",
       "      <td>0</td>\n",
       "      <td>93826.63</td>\n",
       "      <td>0</td>\n",
       "    </tr>\n",
       "    <tr>\n",
       "      <th>4</th>\n",
       "      <td>5</td>\n",
       "      <td>15737888</td>\n",
       "      <td>Mitchell</td>\n",
       "      <td>850</td>\n",
       "      <td>Spain</td>\n",
       "      <td>Female</td>\n",
       "      <td>43</td>\n",
       "      <td>2.0</td>\n",
       "      <td>125510.82</td>\n",
       "      <td>1</td>\n",
       "      <td>1</td>\n",
       "      <td>1</td>\n",
       "      <td>79084.10</td>\n",
       "      <td>0</td>\n",
       "    </tr>\n",
       "  </tbody>\n",
       "</table>\n",
       "</div>"
      ],
      "text/plain": [
       "   RowNumber  CustomerId   Surname  CreditScore Geography  Gender  Age  \\\n",
       "0          1    15634602  Hargrave          619    France  Female   42   \n",
       "1          2    15647311      Hill          608     Spain  Female   41   \n",
       "2          3    15619304      Onio          502    France  Female   42   \n",
       "3          4    15701354      Boni          699    France  Female   39   \n",
       "4          5    15737888  Mitchell          850     Spain  Female   43   \n",
       "\n",
       "   Tenure    Balance  NumOfProducts  HasCrCard  IsActiveMember  \\\n",
       "0     2.0       0.00              1          1               1   \n",
       "1     1.0   83807.86              1          0               1   \n",
       "2     8.0  159660.80              3          1               0   \n",
       "3     1.0       0.00              2          0               0   \n",
       "4     2.0  125510.82              1          1               1   \n",
       "\n",
       "   EstimatedSalary  Exited  \n",
       "0        101348.88       1  \n",
       "1        112542.58       0  \n",
       "2        113931.57       1  \n",
       "3         93826.63       0  \n",
       "4         79084.10       0  "
      ]
     },
     "execution_count": 2,
     "metadata": {},
     "output_type": "execute_result"
    }
   ],
   "source": [
    "data=pd.read_csv('/datasets/Churn.csv')\n",
    "data.head()"
   ]
  },
  {
   "cell_type": "code",
   "execution_count": 3,
   "metadata": {},
   "outputs": [
    {
     "data": {
      "text/html": [
       "<div>\n",
       "<style scoped>\n",
       "    .dataframe tbody tr th:only-of-type {\n",
       "        vertical-align: middle;\n",
       "    }\n",
       "\n",
       "    .dataframe tbody tr th {\n",
       "        vertical-align: top;\n",
       "    }\n",
       "\n",
       "    .dataframe thead th {\n",
       "        text-align: right;\n",
       "    }\n",
       "</style>\n",
       "<table border=\"1\" class=\"dataframe\">\n",
       "  <thead>\n",
       "    <tr style=\"text-align: right;\">\n",
       "      <th></th>\n",
       "      <th>RowNumber</th>\n",
       "      <th>CustomerId</th>\n",
       "      <th>Surname</th>\n",
       "      <th>CreditScore</th>\n",
       "      <th>Geography</th>\n",
       "      <th>Gender</th>\n",
       "      <th>Age</th>\n",
       "      <th>Tenure</th>\n",
       "      <th>Balance</th>\n",
       "      <th>NumOfProducts</th>\n",
       "      <th>HasCrCard</th>\n",
       "      <th>IsActiveMember</th>\n",
       "      <th>EstimatedSalary</th>\n",
       "      <th>Exited</th>\n",
       "    </tr>\n",
       "  </thead>\n",
       "  <tbody>\n",
       "    <tr>\n",
       "      <th>9995</th>\n",
       "      <td>9996</td>\n",
       "      <td>15606229</td>\n",
       "      <td>Obijiaku</td>\n",
       "      <td>771</td>\n",
       "      <td>France</td>\n",
       "      <td>Male</td>\n",
       "      <td>39</td>\n",
       "      <td>5.0</td>\n",
       "      <td>0.00</td>\n",
       "      <td>2</td>\n",
       "      <td>1</td>\n",
       "      <td>0</td>\n",
       "      <td>96270.64</td>\n",
       "      <td>0</td>\n",
       "    </tr>\n",
       "    <tr>\n",
       "      <th>9996</th>\n",
       "      <td>9997</td>\n",
       "      <td>15569892</td>\n",
       "      <td>Johnstone</td>\n",
       "      <td>516</td>\n",
       "      <td>France</td>\n",
       "      <td>Male</td>\n",
       "      <td>35</td>\n",
       "      <td>10.0</td>\n",
       "      <td>57369.61</td>\n",
       "      <td>1</td>\n",
       "      <td>1</td>\n",
       "      <td>1</td>\n",
       "      <td>101699.77</td>\n",
       "      <td>0</td>\n",
       "    </tr>\n",
       "    <tr>\n",
       "      <th>9997</th>\n",
       "      <td>9998</td>\n",
       "      <td>15584532</td>\n",
       "      <td>Liu</td>\n",
       "      <td>709</td>\n",
       "      <td>France</td>\n",
       "      <td>Female</td>\n",
       "      <td>36</td>\n",
       "      <td>7.0</td>\n",
       "      <td>0.00</td>\n",
       "      <td>1</td>\n",
       "      <td>0</td>\n",
       "      <td>1</td>\n",
       "      <td>42085.58</td>\n",
       "      <td>1</td>\n",
       "    </tr>\n",
       "    <tr>\n",
       "      <th>9998</th>\n",
       "      <td>9999</td>\n",
       "      <td>15682355</td>\n",
       "      <td>Sabbatini</td>\n",
       "      <td>772</td>\n",
       "      <td>Germany</td>\n",
       "      <td>Male</td>\n",
       "      <td>42</td>\n",
       "      <td>3.0</td>\n",
       "      <td>75075.31</td>\n",
       "      <td>2</td>\n",
       "      <td>1</td>\n",
       "      <td>0</td>\n",
       "      <td>92888.52</td>\n",
       "      <td>1</td>\n",
       "    </tr>\n",
       "    <tr>\n",
       "      <th>9999</th>\n",
       "      <td>10000</td>\n",
       "      <td>15628319</td>\n",
       "      <td>Walker</td>\n",
       "      <td>792</td>\n",
       "      <td>France</td>\n",
       "      <td>Female</td>\n",
       "      <td>28</td>\n",
       "      <td>NaN</td>\n",
       "      <td>130142.79</td>\n",
       "      <td>1</td>\n",
       "      <td>1</td>\n",
       "      <td>0</td>\n",
       "      <td>38190.78</td>\n",
       "      <td>0</td>\n",
       "    </tr>\n",
       "  </tbody>\n",
       "</table>\n",
       "</div>"
      ],
      "text/plain": [
       "      RowNumber  CustomerId    Surname  CreditScore Geography  Gender  Age  \\\n",
       "9995       9996    15606229   Obijiaku          771    France    Male   39   \n",
       "9996       9997    15569892  Johnstone          516    France    Male   35   \n",
       "9997       9998    15584532        Liu          709    France  Female   36   \n",
       "9998       9999    15682355  Sabbatini          772   Germany    Male   42   \n",
       "9999      10000    15628319     Walker          792    France  Female   28   \n",
       "\n",
       "      Tenure    Balance  NumOfProducts  HasCrCard  IsActiveMember  \\\n",
       "9995     5.0       0.00              2          1               0   \n",
       "9996    10.0   57369.61              1          1               1   \n",
       "9997     7.0       0.00              1          0               1   \n",
       "9998     3.0   75075.31              2          1               0   \n",
       "9999     NaN  130142.79              1          1               0   \n",
       "\n",
       "      EstimatedSalary  Exited  \n",
       "9995         96270.64       0  \n",
       "9996        101699.77       0  \n",
       "9997         42085.58       1  \n",
       "9998         92888.52       1  \n",
       "9999         38190.78       0  "
      ]
     },
     "execution_count": 3,
     "metadata": {},
     "output_type": "execute_result"
    }
   ],
   "source": [
    "data.tail()"
   ]
  },
  {
   "cell_type": "code",
   "execution_count": 4,
   "metadata": {
    "scrolled": false
   },
   "outputs": [
    {
     "name": "stdout",
     "output_type": "stream",
     "text": [
      "<class 'pandas.core.frame.DataFrame'>\n",
      "RangeIndex: 10000 entries, 0 to 9999\n",
      "Data columns (total 14 columns):\n",
      " #   Column           Non-Null Count  Dtype  \n",
      "---  ------           --------------  -----  \n",
      " 0   RowNumber        10000 non-null  int64  \n",
      " 1   CustomerId       10000 non-null  int64  \n",
      " 2   Surname          10000 non-null  object \n",
      " 3   CreditScore      10000 non-null  int64  \n",
      " 4   Geography        10000 non-null  object \n",
      " 5   Gender           10000 non-null  object \n",
      " 6   Age              10000 non-null  int64  \n",
      " 7   Tenure           9091 non-null   float64\n",
      " 8   Balance          10000 non-null  float64\n",
      " 9   NumOfProducts    10000 non-null  int64  \n",
      " 10  HasCrCard        10000 non-null  int64  \n",
      " 11  IsActiveMember   10000 non-null  int64  \n",
      " 12  EstimatedSalary  10000 non-null  float64\n",
      " 13  Exited           10000 non-null  int64  \n",
      "dtypes: float64(3), int64(8), object(3)\n",
      "memory usage: 1.1+ MB\n"
     ]
    }
   ],
   "source": [
    "data.info()"
   ]
  },
  {
   "cell_type": "markdown",
   "metadata": {},
   "source": [
    "Итак. В нашем распоряжение есть данные о 10 тысячах клиентах банка. Нам нужно создать наиболее эффективную модель, которая будет выявлять уйдёт ли клиент от этого банка. Для начала данные нужно подготовить для создания моделей. "
   ]
  },
  {
   "cell_type": "markdown",
   "metadata": {},
   "source": [
    "### Выбираем нужные признаки"
   ]
  },
  {
   "cell_type": "markdown",
   "metadata": {},
   "source": [
    "Так как нам нужно создать модель дающую два взаимоисключающих ответа, то у нас следовательно задача классификации. Для такой задачи из представленных данных нам нужно будет выбрать целевой признак и признаки на основе которых будет происходить прогнозирование нашей модели. \n",
    "\n",
    "Для начала опишем все имеющиеся у нас признаки, т.е. столбцы нашего датафрейма:\n",
    "\n",
    "    RowNumber — индекс строки в данных\n",
    "    CustomerId — уникальный идентификатор клиента\n",
    "    Surname — фамилия\n",
    "    CreditScore — кредитный рейтинг\n",
    "    Geography — страна проживания\n",
    "    Gender — пол\n",
    "    Age — возраст\n",
    "    Tenure — сколько лет человек является клиентом банка\n",
    "    Balance — баланс на счёте\n",
    "    NumOfProducts — количество продуктов банка, используемых клиентом\n",
    "    HasCrCard — наличие кредитной карты\n",
    "    IsActiveMember — активность клиента\n",
    "    EstimatedSalary — предполагаемая зарплата\n",
    "    Exited — факт ухода клиента"
   ]
  },
  {
   "cell_type": "markdown",
   "metadata": {},
   "source": [
    "Мы сразу можем отметить, что последний признак Exited является целевым. Проверим какие значения хранит этот столбец. "
   ]
  },
  {
   "cell_type": "code",
   "execution_count": 5,
   "metadata": {},
   "outputs": [
    {
     "data": {
      "text/plain": [
       "0    7963\n",
       "1    2037\n",
       "Name: Exited, dtype: int64"
      ]
     },
     "execution_count": 5,
     "metadata": {},
     "output_type": "execute_result"
    }
   ],
   "source": [
    "data['Exited'].value_counts()"
   ]
  },
  {
   "cell_type": "markdown",
   "metadata": {},
   "source": [
    "С целевым признаком всё впорядке, лишних значений нет. Из остальных признаков мы считаем нужным сразу удалить из нашего датафрейма:\n",
    "\n",
    "\tRowNumber — индекс строки в данных, так как у нас есть обычные индексы, а эти числовые значения будут путать модель\n",
    "\tCustomerId — уникальный идентификатор клиента, так как эти числовые значения будут путать модель. "
   ]
  },
  {
   "cell_type": "code",
   "execution_count": 6,
   "metadata": {},
   "outputs": [],
   "source": [
    "data=data.drop(['RowNumber'], axis=1)\n",
    "data=data.drop(['CustomerId'], axis=1)"
   ]
  },
  {
   "cell_type": "markdown",
   "metadata": {},
   "source": [
    "### Признак Surname  - фамилия."
   ]
  },
  {
   "cell_type": "markdown",
   "metadata": {},
   "source": [
    "Сложно сказать однозначно, влияет ли фамилия на уход клиентов. С одной стороны, часть пользователей банковских услуг живут семьями, и многим скорее всего удобно использовать один банк для общего счёта, общей ипотеки, общей слежки за тем как пользуется своей банковской картой несовершеннолетний ребёнок и так далее. Вполне возможно что у конкурентов нашего банка есть семейные более удобные программы. Поэтому связь между фамилиями может быть. С другой стороны, у семей не индивидуальные фамилии, у нас есть однофамильцы не являющиеся нам супругами и вообще родственниками. Поэтому это всё будет путать нашу модель. На всякий случай посмотрим сколько фамилий в наших данных."
   ]
  },
  {
   "cell_type": "code",
   "execution_count": 7,
   "metadata": {},
   "outputs": [
    {
     "data": {
      "text/plain": [
       "2932"
      ]
     },
     "execution_count": 7,
     "metadata": {},
     "output_type": "execute_result"
    }
   ],
   "source": [
    "data['Surname'].nunique()"
   ]
  },
  {
   "cell_type": "markdown",
   "metadata": {},
   "source": [
    "Фамилий много. Если мы попытаемся обработать эти данные для работы модели, данные увеличатся во много раз. А фактор того что у семей не индивидуальные фамилии лишь усугубит ситуацию. Поэтому мы для нашей работы исключаем столбец Surname с фамилиями из данных. \n",
    "\n",
    "Сделаем оговорку. Проследить связь между семьями в нашем вопросе скорее всего возможно, но для этого нам нужны данные завязанные на времени и и более детальных данных о регионе проживания. То есть имея данные, например за 3-4 месяцев, проследить как часто повторялась одна фамилия от месяца к месяцу. Однако это уже другое исследование, с другими данными и подзадачами."
   ]
  },
  {
   "cell_type": "code",
   "execution_count": 8,
   "metadata": {},
   "outputs": [],
   "source": [
    "data=data.drop(['Surname'], axis=1)"
   ]
  },
  {
   "cell_type": "markdown",
   "metadata": {},
   "source": [
    "### Проблема пропусков"
   ]
  },
  {
   "cell_type": "markdown",
   "metadata": {},
   "source": [
    "В наших данных в столбце Tenure (сколько лет человек является клиентом банка) существуют пропуски. Мы можем либо удалить их либо заполнить средним или медианным значением. Если мы удалим их, то наша модель будет мало применима в будущем уже на других данных, где также могут быть пропуски. Поэтому надо заполнить. Заполнять будем медианным значением, так как медиана более адекватный показатель чем среднее."
   ]
  },
  {
   "cell_type": "code",
   "execution_count": 9,
   "metadata": {},
   "outputs": [],
   "source": [
    "median_Tenure = data['Tenure'].median()\n",
    "data['Tenure']=data['Tenure'].fillna(value=median_Tenure)"
   ]
  },
  {
   "cell_type": "markdown",
   "metadata": {},
   "source": [
    "### Обработка признаков"
   ]
  },
  {
   "cell_type": "code",
   "execution_count": 10,
   "metadata": {},
   "outputs": [
    {
     "name": "stdout",
     "output_type": "stream",
     "text": [
      "<class 'pandas.core.frame.DataFrame'>\n",
      "RangeIndex: 10000 entries, 0 to 9999\n",
      "Data columns (total 11 columns):\n",
      " #   Column           Non-Null Count  Dtype  \n",
      "---  ------           --------------  -----  \n",
      " 0   CreditScore      10000 non-null  int64  \n",
      " 1   Geography        10000 non-null  object \n",
      " 2   Gender           10000 non-null  object \n",
      " 3   Age              10000 non-null  int64  \n",
      " 4   Tenure           10000 non-null  float64\n",
      " 5   Balance          10000 non-null  float64\n",
      " 6   NumOfProducts    10000 non-null  int64  \n",
      " 7   HasCrCard        10000 non-null  int64  \n",
      " 8   IsActiveMember   10000 non-null  int64  \n",
      " 9   EstimatedSalary  10000 non-null  float64\n",
      " 10  Exited           10000 non-null  int64  \n",
      "dtypes: float64(3), int64(6), object(2)\n",
      "memory usage: 859.5+ KB\n"
     ]
    }
   ],
   "source": [
    "data.info()"
   ]
  },
  {
   "cell_type": "markdown",
   "metadata": {},
   "source": [
    "Итак для нашей модели мы выбрали следующие не целевые признаки: \n",
    "\n",
    "    CreditScore — кредитный рейтинг\n",
    "    Geography — страна проживания\n",
    "    Gender — пол\n",
    "    Age — возраст\n",
    "    Tenure — сколько лет человек является клиентом банка\n",
    "    Balance — баланс на счёте\n",
    "    NumOfProducts — количество продуктов банка, используемых клиентом\n",
    "    HasCrCard — наличие кредитной карты\n",
    "    IsActiveMember — активность клиента\n",
    "    EstimatedSalary — предполагаемая зарплата\n",
    "\t\n",
    "Типы данных соответствуют тому, что по логике должно храниться в данных. Geography и Gender это категориальные данные. Которые нам нужно будет преобразовать. Прежде посмотрим сколько уникальных значений хранится в каждом признаке. "
   ]
  },
  {
   "cell_type": "code",
   "execution_count": 11,
   "metadata": {},
   "outputs": [
    {
     "data": {
      "text/plain": [
       "3"
      ]
     },
     "execution_count": 11,
     "metadata": {},
     "output_type": "execute_result"
    }
   ],
   "source": [
    "data['Geography'].nunique()"
   ]
  },
  {
   "cell_type": "code",
   "execution_count": 12,
   "metadata": {},
   "outputs": [
    {
     "data": {
      "text/plain": [
       "2"
      ]
     },
     "execution_count": 12,
     "metadata": {},
     "output_type": "execute_result"
    }
   ],
   "source": [
    "data['Gender'].nunique()"
   ]
  },
  {
   "cell_type": "markdown",
   "metadata": {},
   "source": [
    "Уникальных значений не так много. Поэтому преобразуем данные техникой техникой OHE, используя также параметр drop_first=True, дабы избежать дамми ловушки, скинув первый образовавшийся столбец. "
   ]
  },
  {
   "cell_type": "markdown",
   "metadata": {},
   "source": [
    "**Дабы избежать ошибок, преобразовывать данные мы будем после того как разобьём их на выборки**"
   ]
  },
  {
   "cell_type": "markdown",
   "metadata": {},
   "source": [
    "Также нам нужно будет масштабировать количественные признаки у которых наблюдаются большие показатели. Мы считаем что масштабировать следует следующие признаки: CreditScore,  Age, Tenure, Balance, EstimatedSalary. Другие признаки не обладают большими показателями исходя из таблицы, но проверим их."
   ]
  },
  {
   "cell_type": "code",
   "execution_count": 13,
   "metadata": {},
   "outputs": [
    {
     "data": {
      "text/plain": [
       "array([1, 0])"
      ]
     },
     "execution_count": 13,
     "metadata": {},
     "output_type": "execute_result"
    }
   ],
   "source": [
    "data['IsActiveMember'].unique()"
   ]
  },
  {
   "cell_type": "code",
   "execution_count": 14,
   "metadata": {},
   "outputs": [
    {
     "data": {
      "text/plain": [
       "array([1, 3, 2, 4])"
      ]
     },
     "execution_count": 14,
     "metadata": {},
     "output_type": "execute_result"
    }
   ],
   "source": [
    "data['NumOfProducts'].unique()"
   ]
  },
  {
   "cell_type": "code",
   "execution_count": 15,
   "metadata": {},
   "outputs": [
    {
     "data": {
      "text/plain": [
       "array([1, 0])"
      ]
     },
     "execution_count": 15,
     "metadata": {},
     "output_type": "execute_result"
    }
   ],
   "source": [
    "data['HasCrCard'].unique()"
   ]
  },
  {
   "cell_type": "markdown",
   "metadata": {},
   "source": [
    "Признаки IsActiveMember, NumOfProducts, HasCrCard оставим как есть. \n",
    "Масштабируем признаки: CreditScore, Age, Tenure, Balance, EstimatedSalary."
   ]
  },
  {
   "cell_type": "markdown",
   "metadata": {},
   "source": [
    "Но прежде чем провести масштабирование создадим выборки. "
   ]
  },
  {
   "cell_type": "markdown",
   "metadata": {},
   "source": [
    "### Создадим выборки"
   ]
  },
  {
   "cell_type": "markdown",
   "metadata": {},
   "source": [
    "В своей работе мы создадим три модели, будем использовать для них следующие названия: решающее дерево, случайный лес и логистическая регрессия.\n",
    "\n",
    "Все имеющиеся у нас данные мы разделим на три части: обучающую, валидационную и тестовую выборку. С помощью первых двух мы построим модели с наиболее эффективными гиперпараметрами. А с помощью тестовой выборки совершим финальную проверку наилучшей модели созданной с помощью обучающей и валидационной выборок.   "
   ]
  },
  {
   "cell_type": "markdown",
   "metadata": {},
   "source": [
    "Разбивая данные на обучающую, валидационную и тестовую выборку, мы будем следовать совету из теории, и разобьём данные в соотношение 3:1:1.\n",
    "\n",
    "Сначала разобьём наш датафрейм на целевой (target) и все остальные признаки (features)."
   ]
  },
  {
   "cell_type": "code",
   "execution_count": 16,
   "metadata": {},
   "outputs": [],
   "source": [
    "features = data.drop(['Exited'], axis=1)\n",
    "target = data['Exited']"
   ]
  },
  {
   "cell_type": "markdown",
   "metadata": {},
   "source": [
    "Теперь разобьём данные на для создания моделей (work) и для конечной проверки моделей (test), в последнюю категорию отнесём 20%, как советует теория."
   ]
  },
  {
   "cell_type": "code",
   "execution_count": 17,
   "metadata": {},
   "outputs": [],
   "source": [
    "features_work, features_test, target_work, target_test = train_test_split(\n",
    "    features, target, test_size=0.2, random_state=12345)"
   ]
  },
  {
   "cell_type": "markdown",
   "metadata": {},
   "source": [
    "Теперь разобьём данные для создания моделей (work) на для первоначального создания моделей (train) и на валидационные для их подкручивания гиперпараметрами (valid), в последнюю категорию отнесём 25%, как советует теория."
   ]
  },
  {
   "cell_type": "code",
   "execution_count": 18,
   "metadata": {},
   "outputs": [],
   "source": [
    "features_train, features_valid, target_train, target_valid = train_test_split(\n",
    "    features_work, target_work, test_size=0.25, random_state=12345)"
   ]
  },
  {
   "cell_type": "markdown",
   "metadata": {},
   "source": [
    "Итак, мы разбили все данные на три выборки:\n",
    "\n",
    "    features_train, target_train - для первоначального создания моделей\n",
    "    features_valid, target_valid - валидационные для подкручивания гиперпараметров\n",
    "    features_test, target_test - тестовые, для финальной проверки"
   ]
  },
  {
   "cell_type": "markdown",
   "metadata": {},
   "source": [
    "### Масштабирование"
   ]
  },
  {
   "cell_type": "code",
   "execution_count": 19,
   "metadata": {},
   "outputs": [
    {
     "data": {
      "text/html": [
       "<style>#sk-container-id-1 {color: black;background-color: white;}#sk-container-id-1 pre{padding: 0;}#sk-container-id-1 div.sk-toggleable {background-color: white;}#sk-container-id-1 label.sk-toggleable__label {cursor: pointer;display: block;width: 100%;margin-bottom: 0;padding: 0.3em;box-sizing: border-box;text-align: center;}#sk-container-id-1 label.sk-toggleable__label-arrow:before {content: \"▸\";float: left;margin-right: 0.25em;color: #696969;}#sk-container-id-1 label.sk-toggleable__label-arrow:hover:before {color: black;}#sk-container-id-1 div.sk-estimator:hover label.sk-toggleable__label-arrow:before {color: black;}#sk-container-id-1 div.sk-toggleable__content {max-height: 0;max-width: 0;overflow: hidden;text-align: left;background-color: #f0f8ff;}#sk-container-id-1 div.sk-toggleable__content pre {margin: 0.2em;color: black;border-radius: 0.25em;background-color: #f0f8ff;}#sk-container-id-1 input.sk-toggleable__control:checked~div.sk-toggleable__content {max-height: 200px;max-width: 100%;overflow: auto;}#sk-container-id-1 input.sk-toggleable__control:checked~label.sk-toggleable__label-arrow:before {content: \"▾\";}#sk-container-id-1 div.sk-estimator input.sk-toggleable__control:checked~label.sk-toggleable__label {background-color: #d4ebff;}#sk-container-id-1 div.sk-label input.sk-toggleable__control:checked~label.sk-toggleable__label {background-color: #d4ebff;}#sk-container-id-1 input.sk-hidden--visually {border: 0;clip: rect(1px 1px 1px 1px);clip: rect(1px, 1px, 1px, 1px);height: 1px;margin: -1px;overflow: hidden;padding: 0;position: absolute;width: 1px;}#sk-container-id-1 div.sk-estimator {font-family: monospace;background-color: #f0f8ff;border: 1px dotted black;border-radius: 0.25em;box-sizing: border-box;margin-bottom: 0.5em;}#sk-container-id-1 div.sk-estimator:hover {background-color: #d4ebff;}#sk-container-id-1 div.sk-parallel-item::after {content: \"\";width: 100%;border-bottom: 1px solid gray;flex-grow: 1;}#sk-container-id-1 div.sk-label:hover label.sk-toggleable__label {background-color: #d4ebff;}#sk-container-id-1 div.sk-serial::before {content: \"\";position: absolute;border-left: 1px solid gray;box-sizing: border-box;top: 0;bottom: 0;left: 50%;z-index: 0;}#sk-container-id-1 div.sk-serial {display: flex;flex-direction: column;align-items: center;background-color: white;padding-right: 0.2em;padding-left: 0.2em;position: relative;}#sk-container-id-1 div.sk-item {position: relative;z-index: 1;}#sk-container-id-1 div.sk-parallel {display: flex;align-items: stretch;justify-content: center;background-color: white;position: relative;}#sk-container-id-1 div.sk-item::before, #sk-container-id-1 div.sk-parallel-item::before {content: \"\";position: absolute;border-left: 1px solid gray;box-sizing: border-box;top: 0;bottom: 0;left: 50%;z-index: -1;}#sk-container-id-1 div.sk-parallel-item {display: flex;flex-direction: column;z-index: 1;position: relative;background-color: white;}#sk-container-id-1 div.sk-parallel-item:first-child::after {align-self: flex-end;width: 50%;}#sk-container-id-1 div.sk-parallel-item:last-child::after {align-self: flex-start;width: 50%;}#sk-container-id-1 div.sk-parallel-item:only-child::after {width: 0;}#sk-container-id-1 div.sk-dashed-wrapped {border: 1px dashed gray;margin: 0 0.4em 0.5em 0.4em;box-sizing: border-box;padding-bottom: 0.4em;background-color: white;}#sk-container-id-1 div.sk-label label {font-family: monospace;font-weight: bold;display: inline-block;line-height: 1.2em;}#sk-container-id-1 div.sk-label-container {text-align: center;}#sk-container-id-1 div.sk-container {/* jupyter's `normalize.less` sets `[hidden] { display: none; }` but bootstrap.min.css set `[hidden] { display: none !important; }` so we also need the `!important` here to be able to override the default hidden behavior on the sphinx rendered scikit-learn.org. See: https://github.com/scikit-learn/scikit-learn/issues/21755 */display: inline-block !important;position: relative;}#sk-container-id-1 div.sk-text-repr-fallback {display: none;}</style><div id=\"sk-container-id-1\" class=\"sk-top-container\"><div class=\"sk-text-repr-fallback\"><pre>StandardScaler()</pre><b>In a Jupyter environment, please rerun this cell to show the HTML representation or trust the notebook. <br />On GitHub, the HTML representation is unable to render, please try loading this page with nbviewer.org.</b></div><div class=\"sk-container\" hidden><div class=\"sk-item\"><div class=\"sk-estimator sk-toggleable\"><input class=\"sk-toggleable__control sk-hidden--visually\" id=\"sk-estimator-id-1\" type=\"checkbox\" checked><label for=\"sk-estimator-id-1\" class=\"sk-toggleable__label sk-toggleable__label-arrow\">StandardScaler</label><div class=\"sk-toggleable__content\"><pre>StandardScaler()</pre></div></div></div></div></div>"
      ],
      "text/plain": [
       "StandardScaler()"
      ]
     },
     "execution_count": 19,
     "metadata": {},
     "output_type": "execute_result"
    }
   ],
   "source": [
    "numeric = ['CreditScore', 'Age', 'Tenure', 'Balance', 'EstimatedSalary']\n",
    "scaler = StandardScaler()\n",
    "scaler.fit(features_train[numeric]) "
   ]
  },
  {
   "cell_type": "code",
   "execution_count": 20,
   "metadata": {},
   "outputs": [],
   "source": [
    "features_train[numeric] = scaler.transform(features_train[numeric])\n",
    "features_valid[numeric] = scaler.transform(features_valid[numeric])\n",
    "features_test[numeric] = scaler.transform(features_test[numeric])\n",
    "pd.options.mode.chained_assignment = None"
   ]
  },
  {
   "cell_type": "code",
   "execution_count": 21,
   "metadata": {},
   "outputs": [
    {
     "data": {
      "text/html": [
       "<div>\n",
       "<style scoped>\n",
       "    .dataframe tbody tr th:only-of-type {\n",
       "        vertical-align: middle;\n",
       "    }\n",
       "\n",
       "    .dataframe tbody tr th {\n",
       "        vertical-align: top;\n",
       "    }\n",
       "\n",
       "    .dataframe thead th {\n",
       "        text-align: right;\n",
       "    }\n",
       "</style>\n",
       "<table border=\"1\" class=\"dataframe\">\n",
       "  <thead>\n",
       "    <tr style=\"text-align: right;\">\n",
       "      <th></th>\n",
       "      <th>CreditScore</th>\n",
       "      <th>Geography</th>\n",
       "      <th>Gender</th>\n",
       "      <th>Age</th>\n",
       "      <th>Tenure</th>\n",
       "      <th>Balance</th>\n",
       "      <th>NumOfProducts</th>\n",
       "      <th>HasCrCard</th>\n",
       "      <th>IsActiveMember</th>\n",
       "      <th>EstimatedSalary</th>\n",
       "    </tr>\n",
       "  </thead>\n",
       "  <tbody>\n",
       "    <tr>\n",
       "      <th>492</th>\n",
       "      <td>-0.134048</td>\n",
       "      <td>France</td>\n",
       "      <td>Female</td>\n",
       "      <td>-0.078068</td>\n",
       "      <td>-0.369113</td>\n",
       "      <td>0.076163</td>\n",
       "      <td>2</td>\n",
       "      <td>0</td>\n",
       "      <td>1</td>\n",
       "      <td>0.331571</td>\n",
       "    </tr>\n",
       "    <tr>\n",
       "      <th>6655</th>\n",
       "      <td>-1.010798</td>\n",
       "      <td>France</td>\n",
       "      <td>Male</td>\n",
       "      <td>0.494555</td>\n",
       "      <td>-0.007415</td>\n",
       "      <td>0.136391</td>\n",
       "      <td>1</td>\n",
       "      <td>1</td>\n",
       "      <td>1</td>\n",
       "      <td>-0.727858</td>\n",
       "    </tr>\n",
       "    <tr>\n",
       "      <th>4287</th>\n",
       "      <td>0.639554</td>\n",
       "      <td>Germany</td>\n",
       "      <td>Male</td>\n",
       "      <td>1.353490</td>\n",
       "      <td>-1.454209</td>\n",
       "      <td>0.358435</td>\n",
       "      <td>1</td>\n",
       "      <td>1</td>\n",
       "      <td>1</td>\n",
       "      <td>-0.477006</td>\n",
       "    </tr>\n",
       "  </tbody>\n",
       "</table>\n",
       "</div>"
      ],
      "text/plain": [
       "      CreditScore Geography  Gender       Age    Tenure   Balance  \\\n",
       "492     -0.134048    France  Female -0.078068 -0.369113  0.076163   \n",
       "6655    -1.010798    France    Male  0.494555 -0.007415  0.136391   \n",
       "4287     0.639554   Germany    Male  1.353490 -1.454209  0.358435   \n",
       "\n",
       "      NumOfProducts  HasCrCard  IsActiveMember  EstimatedSalary  \n",
       "492               2          0               1         0.331571  \n",
       "6655              1          1               1        -0.727858  \n",
       "4287              1          1               1        -0.477006  "
      ]
     },
     "execution_count": 21,
     "metadata": {},
     "output_type": "execute_result"
    }
   ],
   "source": [
    "features_train.head(3)"
   ]
  },
  {
   "cell_type": "code",
   "execution_count": 22,
   "metadata": {},
   "outputs": [
    {
     "data": {
      "text/html": [
       "<div>\n",
       "<style scoped>\n",
       "    .dataframe tbody tr th:only-of-type {\n",
       "        vertical-align: middle;\n",
       "    }\n",
       "\n",
       "    .dataframe tbody tr th {\n",
       "        vertical-align: top;\n",
       "    }\n",
       "\n",
       "    .dataframe thead th {\n",
       "        text-align: right;\n",
       "    }\n",
       "</style>\n",
       "<table border=\"1\" class=\"dataframe\">\n",
       "  <thead>\n",
       "    <tr style=\"text-align: right;\">\n",
       "      <th></th>\n",
       "      <th>CreditScore</th>\n",
       "      <th>Geography</th>\n",
       "      <th>Gender</th>\n",
       "      <th>Age</th>\n",
       "      <th>Tenure</th>\n",
       "      <th>Balance</th>\n",
       "      <th>NumOfProducts</th>\n",
       "      <th>HasCrCard</th>\n",
       "      <th>IsActiveMember</th>\n",
       "      <th>EstimatedSalary</th>\n",
       "    </tr>\n",
       "  </thead>\n",
       "  <tbody>\n",
       "    <tr>\n",
       "      <th>2358</th>\n",
       "      <td>0.175393</td>\n",
       "      <td>France</td>\n",
       "      <td>Male</td>\n",
       "      <td>0.399118</td>\n",
       "      <td>-1.454209</td>\n",
       "      <td>1.385698</td>\n",
       "      <td>1</td>\n",
       "      <td>0</td>\n",
       "      <td>1</td>\n",
       "      <td>-1.466761</td>\n",
       "    </tr>\n",
       "    <tr>\n",
       "      <th>8463</th>\n",
       "      <td>-1.299609</td>\n",
       "      <td>Spain</td>\n",
       "      <td>Male</td>\n",
       "      <td>0.971741</td>\n",
       "      <td>-1.092511</td>\n",
       "      <td>-1.232442</td>\n",
       "      <td>1</td>\n",
       "      <td>1</td>\n",
       "      <td>0</td>\n",
       "      <td>0.254415</td>\n",
       "    </tr>\n",
       "    <tr>\n",
       "      <th>163</th>\n",
       "      <td>0.711757</td>\n",
       "      <td>Spain</td>\n",
       "      <td>Female</td>\n",
       "      <td>-0.268942</td>\n",
       "      <td>-1.092511</td>\n",
       "      <td>-1.232442</td>\n",
       "      <td>2</td>\n",
       "      <td>1</td>\n",
       "      <td>1</td>\n",
       "      <td>0.122863</td>\n",
       "    </tr>\n",
       "  </tbody>\n",
       "</table>\n",
       "</div>"
      ],
      "text/plain": [
       "      CreditScore Geography  Gender       Age    Tenure   Balance  \\\n",
       "2358     0.175393    France    Male  0.399118 -1.454209  1.385698   \n",
       "8463    -1.299609     Spain    Male  0.971741 -1.092511 -1.232442   \n",
       "163      0.711757     Spain  Female -0.268942 -1.092511 -1.232442   \n",
       "\n",
       "      NumOfProducts  HasCrCard  IsActiveMember  EstimatedSalary  \n",
       "2358              1          0               1        -1.466761  \n",
       "8463              1          1               0         0.254415  \n",
       "163               2          1               1         0.122863  "
      ]
     },
     "execution_count": 22,
     "metadata": {},
     "output_type": "execute_result"
    }
   ],
   "source": [
    "features_valid.head(3)"
   ]
  },
  {
   "cell_type": "code",
   "execution_count": 23,
   "metadata": {},
   "outputs": [
    {
     "data": {
      "text/html": [
       "<div>\n",
       "<style scoped>\n",
       "    .dataframe tbody tr th:only-of-type {\n",
       "        vertical-align: middle;\n",
       "    }\n",
       "\n",
       "    .dataframe tbody tr th {\n",
       "        vertical-align: top;\n",
       "    }\n",
       "\n",
       "    .dataframe thead th {\n",
       "        text-align: right;\n",
       "    }\n",
       "</style>\n",
       "<table border=\"1\" class=\"dataframe\">\n",
       "  <thead>\n",
       "    <tr style=\"text-align: right;\">\n",
       "      <th></th>\n",
       "      <th>CreditScore</th>\n",
       "      <th>Geography</th>\n",
       "      <th>Gender</th>\n",
       "      <th>Age</th>\n",
       "      <th>Tenure</th>\n",
       "      <th>Balance</th>\n",
       "      <th>NumOfProducts</th>\n",
       "      <th>HasCrCard</th>\n",
       "      <th>IsActiveMember</th>\n",
       "      <th>EstimatedSalary</th>\n",
       "    </tr>\n",
       "  </thead>\n",
       "  <tbody>\n",
       "    <tr>\n",
       "      <th>7867</th>\n",
       "      <td>-0.123733</td>\n",
       "      <td>Spain</td>\n",
       "      <td>Female</td>\n",
       "      <td>0.685430</td>\n",
       "      <td>-0.730812</td>\n",
       "      <td>-1.232442</td>\n",
       "      <td>1</td>\n",
       "      <td>1</td>\n",
       "      <td>1</td>\n",
       "      <td>0.980212</td>\n",
       "    </tr>\n",
       "    <tr>\n",
       "      <th>1402</th>\n",
       "      <td>1.083087</td>\n",
       "      <td>France</td>\n",
       "      <td>Male</td>\n",
       "      <td>-0.937002</td>\n",
       "      <td>1.077681</td>\n",
       "      <td>0.858518</td>\n",
       "      <td>1</td>\n",
       "      <td>1</td>\n",
       "      <td>0</td>\n",
       "      <td>-0.390486</td>\n",
       "    </tr>\n",
       "    <tr>\n",
       "      <th>8606</th>\n",
       "      <td>1.598822</td>\n",
       "      <td>Spain</td>\n",
       "      <td>Male</td>\n",
       "      <td>0.303681</td>\n",
       "      <td>-0.007415</td>\n",
       "      <td>-1.232442</td>\n",
       "      <td>2</td>\n",
       "      <td>1</td>\n",
       "      <td>1</td>\n",
       "      <td>-0.435169</td>\n",
       "    </tr>\n",
       "  </tbody>\n",
       "</table>\n",
       "</div>"
      ],
      "text/plain": [
       "      CreditScore Geography  Gender       Age    Tenure   Balance  \\\n",
       "7867    -0.123733     Spain  Female  0.685430 -0.730812 -1.232442   \n",
       "1402     1.083087    France    Male -0.937002  1.077681  0.858518   \n",
       "8606     1.598822     Spain    Male  0.303681 -0.007415 -1.232442   \n",
       "\n",
       "      NumOfProducts  HasCrCard  IsActiveMember  EstimatedSalary  \n",
       "7867              1          1               1         0.980212  \n",
       "1402              1          1               0        -0.390486  \n",
       "8606              2          1               1        -0.435169  "
      ]
     },
     "execution_count": 23,
     "metadata": {},
     "output_type": "execute_result"
    }
   ],
   "source": [
    "features_test.head(3)"
   ]
  },
  {
   "cell_type": "markdown",
   "metadata": {},
   "source": [
    "Всё прошло успешно. Теперь приступим к следующему этапу. "
   ]
  },
  {
   "cell_type": "markdown",
   "metadata": {},
   "source": [
    "### Преобразуем техникой OHE"
   ]
  },
  {
   "cell_type": "markdown",
   "metadata": {},
   "source": [
    "Преобразуем данные техникой OHE, используя также параметр drop_first=True, дабы избежать дамми ловушки, скинув первый образовавшийся столбец."
   ]
  },
  {
   "cell_type": "code",
   "execution_count": 24,
   "metadata": {
    "scrolled": true
   },
   "outputs": [
    {
     "data": {
      "text/html": [
       "<div>\n",
       "<style scoped>\n",
       "    .dataframe tbody tr th:only-of-type {\n",
       "        vertical-align: middle;\n",
       "    }\n",
       "\n",
       "    .dataframe tbody tr th {\n",
       "        vertical-align: top;\n",
       "    }\n",
       "\n",
       "    .dataframe thead th {\n",
       "        text-align: right;\n",
       "    }\n",
       "</style>\n",
       "<table border=\"1\" class=\"dataframe\">\n",
       "  <thead>\n",
       "    <tr style=\"text-align: right;\">\n",
       "      <th></th>\n",
       "      <th>CreditScore</th>\n",
       "      <th>Age</th>\n",
       "      <th>Tenure</th>\n",
       "      <th>Balance</th>\n",
       "      <th>NumOfProducts</th>\n",
       "      <th>HasCrCard</th>\n",
       "      <th>IsActiveMember</th>\n",
       "      <th>EstimatedSalary</th>\n",
       "      <th>Geography_Germany</th>\n",
       "      <th>Geography_Spain</th>\n",
       "      <th>Gender_Male</th>\n",
       "    </tr>\n",
       "  </thead>\n",
       "  <tbody>\n",
       "    <tr>\n",
       "      <th>492</th>\n",
       "      <td>-0.134048</td>\n",
       "      <td>-0.078068</td>\n",
       "      <td>-0.369113</td>\n",
       "      <td>0.076163</td>\n",
       "      <td>2</td>\n",
       "      <td>0</td>\n",
       "      <td>1</td>\n",
       "      <td>0.331571</td>\n",
       "      <td>0</td>\n",
       "      <td>0</td>\n",
       "      <td>0</td>\n",
       "    </tr>\n",
       "    <tr>\n",
       "      <th>6655</th>\n",
       "      <td>-1.010798</td>\n",
       "      <td>0.494555</td>\n",
       "      <td>-0.007415</td>\n",
       "      <td>0.136391</td>\n",
       "      <td>1</td>\n",
       "      <td>1</td>\n",
       "      <td>1</td>\n",
       "      <td>-0.727858</td>\n",
       "      <td>0</td>\n",
       "      <td>0</td>\n",
       "      <td>1</td>\n",
       "    </tr>\n",
       "    <tr>\n",
       "      <th>4287</th>\n",
       "      <td>0.639554</td>\n",
       "      <td>1.353490</td>\n",
       "      <td>-1.454209</td>\n",
       "      <td>0.358435</td>\n",
       "      <td>1</td>\n",
       "      <td>1</td>\n",
       "      <td>1</td>\n",
       "      <td>-0.477006</td>\n",
       "      <td>1</td>\n",
       "      <td>0</td>\n",
       "      <td>1</td>\n",
       "    </tr>\n",
       "  </tbody>\n",
       "</table>\n",
       "</div>"
      ],
      "text/plain": [
       "      CreditScore       Age    Tenure   Balance  NumOfProducts  HasCrCard  \\\n",
       "492     -0.134048 -0.078068 -0.369113  0.076163              2          0   \n",
       "6655    -1.010798  0.494555 -0.007415  0.136391              1          1   \n",
       "4287     0.639554  1.353490 -1.454209  0.358435              1          1   \n",
       "\n",
       "      IsActiveMember  EstimatedSalary  Geography_Germany  Geography_Spain  \\\n",
       "492                1         0.331571                  0                0   \n",
       "6655               1        -0.727858                  0                0   \n",
       "4287               1        -0.477006                  1                0   \n",
       "\n",
       "      Gender_Male  \n",
       "492             0  \n",
       "6655            1  \n",
       "4287            1  "
      ]
     },
     "execution_count": 24,
     "metadata": {},
     "output_type": "execute_result"
    }
   ],
   "source": [
    "features_train = pd.get_dummies(features_train, drop_first=True)\n",
    "features_train.shape\n",
    "features_train.head(3)"
   ]
  },
  {
   "cell_type": "code",
   "execution_count": 25,
   "metadata": {},
   "outputs": [
    {
     "data": {
      "text/html": [
       "<div>\n",
       "<style scoped>\n",
       "    .dataframe tbody tr th:only-of-type {\n",
       "        vertical-align: middle;\n",
       "    }\n",
       "\n",
       "    .dataframe tbody tr th {\n",
       "        vertical-align: top;\n",
       "    }\n",
       "\n",
       "    .dataframe thead th {\n",
       "        text-align: right;\n",
       "    }\n",
       "</style>\n",
       "<table border=\"1\" class=\"dataframe\">\n",
       "  <thead>\n",
       "    <tr style=\"text-align: right;\">\n",
       "      <th></th>\n",
       "      <th>CreditScore</th>\n",
       "      <th>Age</th>\n",
       "      <th>Tenure</th>\n",
       "      <th>Balance</th>\n",
       "      <th>NumOfProducts</th>\n",
       "      <th>HasCrCard</th>\n",
       "      <th>IsActiveMember</th>\n",
       "      <th>EstimatedSalary</th>\n",
       "      <th>Geography_Germany</th>\n",
       "      <th>Geography_Spain</th>\n",
       "      <th>Gender_Male</th>\n",
       "    </tr>\n",
       "  </thead>\n",
       "  <tbody>\n",
       "    <tr>\n",
       "      <th>2358</th>\n",
       "      <td>0.175393</td>\n",
       "      <td>0.399118</td>\n",
       "      <td>-1.454209</td>\n",
       "      <td>1.385698</td>\n",
       "      <td>1</td>\n",
       "      <td>0</td>\n",
       "      <td>1</td>\n",
       "      <td>-1.466761</td>\n",
       "      <td>0</td>\n",
       "      <td>0</td>\n",
       "      <td>1</td>\n",
       "    </tr>\n",
       "    <tr>\n",
       "      <th>8463</th>\n",
       "      <td>-1.299609</td>\n",
       "      <td>0.971741</td>\n",
       "      <td>-1.092511</td>\n",
       "      <td>-1.232442</td>\n",
       "      <td>1</td>\n",
       "      <td>1</td>\n",
       "      <td>0</td>\n",
       "      <td>0.254415</td>\n",
       "      <td>0</td>\n",
       "      <td>1</td>\n",
       "      <td>1</td>\n",
       "    </tr>\n",
       "    <tr>\n",
       "      <th>163</th>\n",
       "      <td>0.711757</td>\n",
       "      <td>-0.268942</td>\n",
       "      <td>-1.092511</td>\n",
       "      <td>-1.232442</td>\n",
       "      <td>2</td>\n",
       "      <td>1</td>\n",
       "      <td>1</td>\n",
       "      <td>0.122863</td>\n",
       "      <td>0</td>\n",
       "      <td>1</td>\n",
       "      <td>0</td>\n",
       "    </tr>\n",
       "  </tbody>\n",
       "</table>\n",
       "</div>"
      ],
      "text/plain": [
       "      CreditScore       Age    Tenure   Balance  NumOfProducts  HasCrCard  \\\n",
       "2358     0.175393  0.399118 -1.454209  1.385698              1          0   \n",
       "8463    -1.299609  0.971741 -1.092511 -1.232442              1          1   \n",
       "163      0.711757 -0.268942 -1.092511 -1.232442              2          1   \n",
       "\n",
       "      IsActiveMember  EstimatedSalary  Geography_Germany  Geography_Spain  \\\n",
       "2358               1        -1.466761                  0                0   \n",
       "8463               0         0.254415                  0                1   \n",
       "163                1         0.122863                  0                1   \n",
       "\n",
       "      Gender_Male  \n",
       "2358            1  \n",
       "8463            1  \n",
       "163             0  "
      ]
     },
     "execution_count": 25,
     "metadata": {},
     "output_type": "execute_result"
    }
   ],
   "source": [
    "features_valid = pd.get_dummies(features_valid, drop_first=True)\n",
    "features_valid.shape\n",
    "features_valid.head(3)"
   ]
  },
  {
   "cell_type": "code",
   "execution_count": 26,
   "metadata": {},
   "outputs": [
    {
     "data": {
      "text/html": [
       "<div>\n",
       "<style scoped>\n",
       "    .dataframe tbody tr th:only-of-type {\n",
       "        vertical-align: middle;\n",
       "    }\n",
       "\n",
       "    .dataframe tbody tr th {\n",
       "        vertical-align: top;\n",
       "    }\n",
       "\n",
       "    .dataframe thead th {\n",
       "        text-align: right;\n",
       "    }\n",
       "</style>\n",
       "<table border=\"1\" class=\"dataframe\">\n",
       "  <thead>\n",
       "    <tr style=\"text-align: right;\">\n",
       "      <th></th>\n",
       "      <th>CreditScore</th>\n",
       "      <th>Age</th>\n",
       "      <th>Tenure</th>\n",
       "      <th>Balance</th>\n",
       "      <th>NumOfProducts</th>\n",
       "      <th>HasCrCard</th>\n",
       "      <th>IsActiveMember</th>\n",
       "      <th>EstimatedSalary</th>\n",
       "      <th>Geography_Germany</th>\n",
       "      <th>Geography_Spain</th>\n",
       "      <th>Gender_Male</th>\n",
       "    </tr>\n",
       "  </thead>\n",
       "  <tbody>\n",
       "    <tr>\n",
       "      <th>7867</th>\n",
       "      <td>-0.123733</td>\n",
       "      <td>0.685430</td>\n",
       "      <td>-0.730812</td>\n",
       "      <td>-1.232442</td>\n",
       "      <td>1</td>\n",
       "      <td>1</td>\n",
       "      <td>1</td>\n",
       "      <td>0.980212</td>\n",
       "      <td>0</td>\n",
       "      <td>1</td>\n",
       "      <td>0</td>\n",
       "    </tr>\n",
       "    <tr>\n",
       "      <th>1402</th>\n",
       "      <td>1.083087</td>\n",
       "      <td>-0.937002</td>\n",
       "      <td>1.077681</td>\n",
       "      <td>0.858518</td>\n",
       "      <td>1</td>\n",
       "      <td>1</td>\n",
       "      <td>0</td>\n",
       "      <td>-0.390486</td>\n",
       "      <td>0</td>\n",
       "      <td>0</td>\n",
       "      <td>1</td>\n",
       "    </tr>\n",
       "    <tr>\n",
       "      <th>8606</th>\n",
       "      <td>1.598822</td>\n",
       "      <td>0.303681</td>\n",
       "      <td>-0.007415</td>\n",
       "      <td>-1.232442</td>\n",
       "      <td>2</td>\n",
       "      <td>1</td>\n",
       "      <td>1</td>\n",
       "      <td>-0.435169</td>\n",
       "      <td>0</td>\n",
       "      <td>1</td>\n",
       "      <td>1</td>\n",
       "    </tr>\n",
       "  </tbody>\n",
       "</table>\n",
       "</div>"
      ],
      "text/plain": [
       "      CreditScore       Age    Tenure   Balance  NumOfProducts  HasCrCard  \\\n",
       "7867    -0.123733  0.685430 -0.730812 -1.232442              1          1   \n",
       "1402     1.083087 -0.937002  1.077681  0.858518              1          1   \n",
       "8606     1.598822  0.303681 -0.007415 -1.232442              2          1   \n",
       "\n",
       "      IsActiveMember  EstimatedSalary  Geography_Germany  Geography_Spain  \\\n",
       "7867               1         0.980212                  0                1   \n",
       "1402               0        -0.390486                  0                0   \n",
       "8606               1        -0.435169                  0                1   \n",
       "\n",
       "      Gender_Male  \n",
       "7867            0  \n",
       "1402            1  \n",
       "8606            1  "
      ]
     },
     "execution_count": 26,
     "metadata": {},
     "output_type": "execute_result"
    }
   ],
   "source": [
    "features_test = pd.get_dummies(features_test, drop_first=True)\n",
    "features_test.shape\n",
    "features_test.head(3)"
   ]
  },
  {
   "cell_type": "markdown",
   "metadata": {},
   "source": [
    "OHE сработало. Приступаем к следующему этапу."
   ]
  },
  {
   "cell_type": "markdown",
   "metadata": {},
   "source": [
    "## Исследование задачи"
   ]
  },
  {
   "cell_type": "markdown",
   "metadata": {},
   "source": [
    "Создавая модель мы будем стремимся к наибольшему значению F1-меры, минимальный пороговый показатель этой метрики установим на 0.59. Дополнительно будем измерять AUC-ROC, и сравнивать её значение с F1-мерой."
   ]
  },
  {
   "cell_type": "markdown",
   "metadata": {},
   "source": [
    "### Решающее дерево"
   ]
  },
  {
   "cell_type": "markdown",
   "metadata": {},
   "source": [
    "Напишем цикл, который создаст модель решающее дерево и проверим эффективность (через значение F1-меры) у разного значения гиперпараметра глубины (max_depth) от 1 до 15."
   ]
  },
  {
   "cell_type": "code",
   "execution_count": 27,
   "metadata": {},
   "outputs": [
    {
     "name": "stdout",
     "output_type": "stream",
     "text": [
      "max_depth = 1 : 0.0 : 0.6904695296120447\n",
      "max_depth = 2 : 0.5037037037037037 : 0.7396462354498909\n",
      "max_depth = 3 : 0.39382239382239387 : 0.7938649126794771\n",
      "max_depth = 4 : 0.430188679245283 : 0.8064340768598627\n",
      "max_depth = 5 : 0.5488372093023256 : 0.8224509194603883\n",
      "max_depth = 6 : 0.5113043478260869 : 0.8136862819275844\n",
      "max_depth = 7 : 0.5583596214511041 : 0.8231010349393358\n",
      "max_depth = 8 : 0.5398773006134968 : 0.7996889300752322\n",
      "max_depth = 9 : 0.5357142857142857 : 0.7814086047313784\n",
      "max_depth = 10 : 0.5383502170767005 : 0.7580608756054101\n",
      "max_depth = 11 : 0.5131964809384164 : 0.7388991589826408\n",
      "max_depth = 12 : 0.508029197080292 : 0.72204066321316\n",
      "max_depth = 13 : 0.49657064471879286 : 0.6930707862900343\n",
      "max_depth = 14 : 0.5079787234042553 : 0.6940872871428139\n",
      "max_depth = 15 : 0.4993288590604027 : 0.6926694313794369\n"
     ]
    }
   ],
   "source": [
    "for i in range(1,16):\n",
    "    model = DecisionTreeClassifier(random_state=12345, max_depth=i)\n",
    "    model.fit(features_train, target_train)\n",
    "    predicted_valid = model.predict(features_valid)\n",
    "    f1 = f1_score(target_valid, predicted_valid)\n",
    "    probabilities_valid = model.predict_proba(features_valid)\n",
    "    probabilities_one_valid = probabilities_valid[:, 1]\n",
    "    auc_roc= roc_auc_score(target_valid, probabilities_one_valid)\n",
    "    print(f'max_depth = {i} : {f1} : {auc_roc}')"
   ]
  },
  {
   "cell_type": "markdown",
   "metadata": {},
   "source": [
    "На данном этапе не одно из древ не достигло порогового для нас значения f1 ( 0.59)."
   ]
  },
  {
   "cell_type": "markdown",
   "metadata": {},
   "source": [
    "### Случайный лес"
   ]
  },
  {
   "cell_type": "markdown",
   "metadata": {},
   "source": [
    "Напишем циклы, которые создут модель случайный лес и проверим эффективность (через значение F1-меры) у разного значения гиперпараметра количества деревьев (n_estimators и max_depth)."
   ]
  },
  {
   "cell_type": "code",
   "execution_count": 28,
   "metadata": {
    "scrolled": true
   },
   "outputs": [
    {
     "name": "stdout",
     "output_type": "stream",
     "text": [
      "n_estimators = 1 : 0.40211640211640215 : 0.7723220885078975\n",
      "n_estimators = 2 : 0.4659498207885305 : 0.7860349154929354\n",
      "n_estimators = 3 : 0.5016949152542374 : 0.8003485827005701\n",
      "n_estimators = 4 : 0.4931972789115647 : 0.8063553954021417\n",
      "n_estimators = 5 : 0.5051194539249146 : 0.814320502162548\n",
      "n_estimators = 6 : 0.5034722222222222 : 0.8202144586318327\n",
      "n_estimators = 7 : 0.515358361774744 : 0.8273657289002558\n",
      "n_estimators = 8 : 0.5163511187607573 : 0.8273156588817061\n",
      "n_estimators = 9 : 0.5085910652920963 : 0.8309159316440926\n",
      "n_estimators = 10 : 0.5227655986509274 : 0.8305106029224996\n",
      "n_estimators = 11 : 0.5261382799325464 : 0.8330959643565048\n",
      "n_estimators = 12 : 0.5286195286195287 : 0.8330363571915648\n",
      "n_estimators = 13 : 0.525963149078727 : 0.8328464090259553\n",
      "n_estimators = 14 : 0.53 : 0.8334544021083452\n",
      "n_estimators = 15 : 0.5487603305785124 : 0.8354961461980961\n",
      "n_estimators = 16 : 0.5409015025041736 : 0.8366461671003419\n",
      "n_estimators = 17 : 0.5433333333333333 : 0.8382484076939338\n",
      "n_estimators = 18 : 0.5369127516778524 : 0.8406708428771028\n",
      "n_estimators = 19 : 0.5254237288135594 : 0.8409203982076523\n",
      "n_estimators = 20 : 0.5337837837837838 : 0.8425035645084633\n",
      "n_estimators = 21 : 0.5261382799325464 : 0.8432768681282872\n",
      "n_estimators = 22 : 0.5272108843537414 : 0.8438363807165259\n",
      "n_estimators = 23 : 0.5378151260504201 : 0.8436058996787572\n",
      "n_estimators = 24 : 0.5411764705882353 : 0.8443617185301986\n"
     ]
    }
   ],
   "source": [
    "for i in range(1,25):\n",
    "    model = RandomForestClassifier(random_state=12345,max_depth=7, n_estimators=i)\n",
    "    model.fit(features_train, target_train)\n",
    "    predicted_valid = model.predict(features_valid)\n",
    "    f1 = f1_score(target_valid, predicted_valid)\n",
    "    probabilities_valid = model.predict_proba(features_valid)\n",
    "    probabilities_one_valid = probabilities_valid[:, 1]\n",
    "    auc_roc= roc_auc_score(target_valid, probabilities_one_valid)\n",
    "    print(f'n_estimators = {i} : {f1} : {auc_roc}')"
   ]
  },
  {
   "cell_type": "markdown",
   "metadata": {},
   "source": [
    "Лучший показатель f1 (0.548) у n_estimators=15"
   ]
  },
  {
   "cell_type": "code",
   "execution_count": 29,
   "metadata": {},
   "outputs": [
    {
     "name": "stdout",
     "output_type": "stream",
     "text": [
      "max_depth = 1 : 0.0 : 0.7818814882399038\n",
      "max_depth = 2 : 0.22022471910112357 : 0.7873573997924082\n",
      "max_depth = 3 : 0.23660714285714285 : 0.8066152826412809\n",
      "max_depth = 4 : 0.3483606557377049 : 0.8131919398396805\n",
      "max_depth = 5 : 0.4782608695652174 : 0.8261028517657233\n",
      "max_depth = 6 : 0.5034965034965035 : 0.8343477148202486\n",
      "max_depth = 7 : 0.5487603305785124 : 0.8354961461980961\n",
      "max_depth = 8 : 0.534453781512605 : 0.8421093624576589\n",
      "max_depth = 9 : 0.5433715220949265 : 0.836112881664677\n",
      "max_depth = 10 : 0.5436893203883495 : 0.8415999198879702\n",
      "max_depth = 11 : 0.5616883116883117 : 0.8359849249506056\n",
      "max_depth = 12 : 0.5537974683544303 : 0.8336260707433728\n",
      "max_depth = 13 : 0.54858934169279 : 0.8297102773879028\n",
      "max_depth = 14 : 0.5486443381180224 : 0.8180988016575561\n",
      "max_depth = 15 : 0.5479876160990712 : 0.826679054360145\n",
      "max_depth = 16 : 0.5485362095531587 : 0.8178468620404089\n",
      "max_depth = 17 : 0.5425867507886436 : 0.8177045996067518\n",
      "max_depth = 18 : 0.557427258805513 : 0.8205601801884858\n",
      "max_depth = 19 : 0.5423728813559322 : 0.8195722907748773\n",
      "max_depth = 20 : 0.5564142194744977 : 0.8167421425835175\n"
     ]
    }
   ],
   "source": [
    "for i in range(1,21):\n",
    "    model = RandomForestClassifier(random_state=12345,max_depth=i, n_estimators=15)\n",
    "    model.fit(features_train, target_train)\n",
    "    predicted_valid = model.predict(features_valid)\n",
    "    f1 = f1_score(target_valid, predicted_valid)\n",
    "    probabilities_valid = model.predict_proba(features_valid)\n",
    "    probabilities_one_valid = probabilities_valid[:, 1]\n",
    "    auc_roc= roc_auc_score(target_valid, probabilities_one_valid)\n",
    "    print(f'max_depth = {i} : {f1} : {auc_roc}')"
   ]
  },
  {
   "cell_type": "markdown",
   "metadata": {},
   "source": [
    "На данном этапе лучший лес (f1=0.56) имеет гиперпараметры max_depth=11 и n_estimators=15. У этих гиперпараметров auc_roc=0.835. Лучший же auc_roc (0.84) имеет max_depth=8. "
   ]
  },
  {
   "cell_type": "markdown",
   "metadata": {},
   "source": [
    "### Логистическая регрессия"
   ]
  },
  {
   "cell_type": "markdown",
   "metadata": {},
   "source": [
    "Напишем цикл, который создаст модель логистической регрессии и проверим эффективность (через значение  f1) у разного значения гиперпараметра максимального количества итераций обучения (max_iter) от 100 до 1500."
   ]
  },
  {
   "cell_type": "code",
   "execution_count": 30,
   "metadata": {},
   "outputs": [
    {
     "name": "stdout",
     "output_type": "stream",
     "text": [
      "max_iter = 100 : 0.30131826741996237 : 0.7703773054064493\n",
      "max_iter = 200 : 0.30131826741996237 : 0.7703773054064493\n",
      "max_iter = 300 : 0.30131826741996237 : 0.7703773054064493\n",
      "max_iter = 400 : 0.30131826741996237 : 0.7703773054064493\n",
      "max_iter = 500 : 0.30131826741996237 : 0.7703773054064493\n",
      "max_iter = 600 : 0.30131826741996237 : 0.7703773054064493\n",
      "max_iter = 700 : 0.30131826741996237 : 0.7703773054064493\n",
      "max_iter = 800 : 0.30131826741996237 : 0.7703773054064493\n",
      "max_iter = 900 : 0.30131826741996237 : 0.7703773054064493\n",
      "max_iter = 1000 : 0.30131826741996237 : 0.7703773054064493\n",
      "max_iter = 1100 : 0.30131826741996237 : 0.7703773054064493\n",
      "max_iter = 1200 : 0.30131826741996237 : 0.7703773054064493\n",
      "max_iter = 1300 : 0.30131826741996237 : 0.7703773054064493\n",
      "max_iter = 1400 : 0.30131826741996237 : 0.7703773054064493\n",
      "max_iter = 1500 : 0.30131826741996237 : 0.7703773054064493\n",
      "max_iter = 1600 : 0.30131826741996237 : 0.7703773054064493\n"
     ]
    }
   ],
   "source": [
    "for i in range(100,1700,100):\n",
    "    model = LogisticRegression(random_state=12345, solver='liblinear', max_iter=i)\n",
    "    model.fit(features_train, target_train)\n",
    "    predicted_valid = model.predict(features_valid)\n",
    "    f1 = f1_score(target_valid, predicted_valid)\n",
    "    probabilities_valid = model.predict_proba(features_valid)\n",
    "    probabilities_one_valid = probabilities_valid[:, 1]\n",
    "    auc_roc= roc_auc_score(target_valid, probabilities_one_valid)\n",
    "    print(f'max_iter = {i} : {f1} : {auc_roc}')"
   ]
  },
  {
   "cell_type": "markdown",
   "metadata": {},
   "source": [
    "Очевидно что пока на данном этапе логистическая регрессия слабо справляется с поставленной задачей.  "
   ]
  },
  {
   "cell_type": "markdown",
   "metadata": {},
   "source": [
    "## Борьба с дисбалансом"
   ]
  },
  {
   "cell_type": "markdown",
   "metadata": {},
   "source": [
    "На прошлых этапах ни одна из моделей не достигла порогового для нас значения f1 ( 0.59). Возможно это связано с дисбалансом классов. "
   ]
  },
  {
   "cell_type": "code",
   "execution_count": 31,
   "metadata": {},
   "outputs": [
    {
     "data": {
      "text/plain": [
       "0    7963\n",
       "1    2037\n",
       "Name: Exited, dtype: int64"
      ]
     },
     "execution_count": 31,
     "metadata": {},
     "output_type": "execute_result"
    }
   ],
   "source": [
    "data['Exited'].value_counts()"
   ]
  },
  {
   "cell_type": "markdown",
   "metadata": {},
   "source": [
    "Классы соотнесены друг к другу примерно 4:1. Попробуем разные техники для устранения дисбаланса. "
   ]
  },
  {
   "cell_type": "markdown",
   "metadata": {},
   "source": [
    "### Придание большего веса"
   ]
  },
  {
   "cell_type": "markdown",
   "metadata": {},
   "source": [
    "Попробуем придадим объектам редкого класса больший вес через введение параметра class_weight='balanced' в наши модели. "
   ]
  },
  {
   "cell_type": "markdown",
   "metadata": {},
   "source": [
    "Проверим решающее дерево."
   ]
  },
  {
   "cell_type": "code",
   "execution_count": 32,
   "metadata": {
    "scrolled": true
   },
   "outputs": [
    {
     "name": "stdout",
     "output_type": "stream",
     "text": [
      "max_depth = 1 : 0.4750733137829912 : 0.6898591522430575\n",
      "max_depth = 2 : 0.49761677788369874 : 0.7381902311009524\n",
      "max_depth = 3 : 0.49761677788369874 : 0.79092270301803\n",
      "max_depth = 4 : 0.5170454545454546 : 0.8064610987746356\n",
      "max_depth = 5 : 0.5489078822412156 : 0.818801371441651\n",
      "max_depth = 6 : 0.5587044534412956 : 0.8090671240258203\n",
      "max_depth = 7 : 0.5535353535353534 : 0.8058801276070185\n",
      "max_depth = 8 : 0.541622760800843 : 0.7895803496635772\n",
      "max_depth = 9 : 0.5145631067961165 : 0.7543366199399478\n",
      "max_depth = 10 : 0.4925816023738872 : 0.7259858627700007\n",
      "max_depth = 11 : 0.47782258064516125 : 0.7169605432358584\n",
      "max_depth = 12 : 0.48370136698212407 : 0.7144379680155901\n",
      "max_depth = 13 : 0.47982551799345696 : 0.7099253082485191\n",
      "max_depth = 14 : 0.484304932735426 : 0.700245104662234\n",
      "max_depth = 15 : 0.4836759371221282 : 0.6977137870577744\n"
     ]
    }
   ],
   "source": [
    "for i in range(1,16):\n",
    "    model = DecisionTreeClassifier(random_state=12345, \n",
    "                                   max_depth=i, class_weight='balanced')\n",
    "    model.fit(features_train, target_train)\n",
    "    predicted_valid = model.predict(features_valid)\n",
    "    f1 = f1_score(target_valid, predicted_valid)\n",
    "    probabilities_valid = model.predict_proba(features_valid)\n",
    "    probabilities_one_valid = probabilities_valid[:, 1]\n",
    "    auc_roc= roc_auc_score(target_valid, probabilities_one_valid)\n",
    "    print(f'max_depth = {i} : {f1} : {auc_roc}')"
   ]
  },
  {
   "cell_type": "markdown",
   "metadata": {},
   "source": [
    "Пороговое значения f1 ( 0.59) не достигнуто. "
   ]
  },
  {
   "cell_type": "markdown",
   "metadata": {},
   "source": [
    "Проверим случайный лес."
   ]
  },
  {
   "cell_type": "code",
   "execution_count": 33,
   "metadata": {
    "scrolled": true
   },
   "outputs": [
    {
     "name": "stdout",
     "output_type": "stream",
     "text": [
      "n_estimators = 1 : 0.5208333333333333 : 0.7844771815824988\n",
      "n_estimators = 2 : 0.512118018967334 : 0.7889485137152115\n",
      "n_estimators = 3 : 0.5441020191285867 : 0.8071366466439578\n",
      "n_estimators = 4 : 0.5550755939524837 : 0.8158361136764268\n",
      "n_estimators = 5 : 0.5590200445434298 : 0.8157192836331442\n",
      "n_estimators = 6 : 0.564885496183206 : 0.8216458253525962\n",
      "n_estimators = 7 : 0.553980370774264 : 0.8264517523711731\n",
      "n_estimators = 8 : 0.5620915032679739 : 0.8338120450979862\n",
      "n_estimators = 9 : 0.5609492988133764 : 0.8383636482128183\n",
      "n_estimators = 10 : 0.5655021834061135 : 0.8351353241596582\n",
      "n_estimators = 11 : 0.5685840707964601 : 0.8352036737087896\n",
      "n_estimators = 12 : 0.5701657458563536 : 0.8343763262594199\n",
      "n_estimators = 13 : 0.5717439293598233 : 0.8363997908185892\n",
      "n_estimators = 14 : 0.5635964912280701 : 0.8374449031105402\n",
      "n_estimators = 15 : 0.5593035908596301 : 0.8388564007763237\n",
      "n_estimators = 16 : 0.5676567656765676 : 0.8402249812833502\n",
      "n_estimators = 17 : 0.5726970033296338 : 0.8418526542673166\n",
      "n_estimators = 18 : 0.5736607142857142 : 0.8431719595179926\n",
      "n_estimators = 19 : 0.5739910313901346 : 0.8429287622850367\n",
      "n_estimators = 20 : 0.5723830734966593 : 0.8425440973806227\n"
     ]
    }
   ],
   "source": [
    "for i in range(1,21):\n",
    "    model = RandomForestClassifier(random_state=12345,max_depth=7, \n",
    "                                   n_estimators=i, class_weight='balanced')\n",
    "    model.fit(features_train, target_train)\n",
    "    predicted_valid = model.predict(features_valid)\n",
    "    f1 = f1_score(target_valid, predicted_valid)\n",
    "    probabilities_valid = model.predict_proba(features_valid)\n",
    "    probabilities_one_valid = probabilities_valid[:, 1]\n",
    "    auc_roc= roc_auc_score(target_valid, probabilities_one_valid)\n",
    "    print(f'n_estimators = {i} : {f1} : {auc_roc}')"
   ]
  },
  {
   "cell_type": "markdown",
   "metadata": {},
   "source": [
    "Лучший n_estimators = 18 (F1=0.57)"
   ]
  },
  {
   "cell_type": "code",
   "execution_count": 34,
   "metadata": {
    "scrolled": true
   },
   "outputs": [
    {
     "name": "stdout",
     "output_type": "stream",
     "text": [
      "max_depth = 1 : 0.5175983436853002 : 0.7697065261103226\n",
      "max_depth = 2 : 0.5142857142857142 : 0.8056027555994971\n",
      "max_depth = 3 : 0.5330739299610894 : 0.819457050255993\n",
      "max_depth = 4 : 0.5471698113207547 : 0.8252619933589671\n",
      "max_depth = 5 : 0.5686486486486485 : 0.8387872564649931\n",
      "max_depth = 6 : 0.5609756097560975 : 0.8370650067793215\n",
      "max_depth = 7 : 0.5736607142857142 : 0.8431719595179926\n",
      "max_depth = 8 : 0.5879629629629629 : 0.8485334253138117\n",
      "max_depth = 9 : 0.5717761557177615 : 0.8461197325148344\n",
      "max_depth = 10 : 0.5813060179257363 : 0.8427070236314591\n",
      "max_depth = 11 : 0.576271186440678 : 0.8388619641117181\n",
      "max_depth = 12 : 0.5511596180081855 : 0.831643139056363\n",
      "max_depth = 13 : 0.5517241379310345 : 0.8187044104533483\n",
      "max_depth = 14 : 0.5663189269746648 : 0.8146630446704042\n"
     ]
    }
   ],
   "source": [
    "for i in range(1,15):\n",
    "    model = RandomForestClassifier(random_state=12345,max_depth=i, \n",
    "                                   n_estimators=18, class_weight='balanced')\n",
    "    model.fit(features_train, target_train)\n",
    "    predicted_valid = model.predict(features_valid)\n",
    "    f1 = f1_score(target_valid, predicted_valid)\n",
    "    probabilities_valid = model.predict_proba(features_valid)\n",
    "    probabilities_one_valid = probabilities_valid[:, 1]\n",
    "    auc_roc= roc_auc_score(target_valid, probabilities_one_valid)\n",
    "    print(f'max_depth = {i} : {f1} : {auc_roc}')"
   ]
  },
  {
   "cell_type": "markdown",
   "metadata": {},
   "source": [
    "Лучший max_depth = 8 (F1=0.588). Но пороговое значения f1 ( 0.59) не достигнуто."
   ]
  },
  {
   "cell_type": "markdown",
   "metadata": {},
   "source": [
    "Проверим логистическую регрессию.  "
   ]
  },
  {
   "cell_type": "code",
   "execution_count": 35,
   "metadata": {},
   "outputs": [
    {
     "name": "stdout",
     "output_type": "stream",
     "text": [
      "max_iter = 100 : 0.4741532976827095 : 0.7725581328810607\n",
      "max_iter = 200 : 0.4741532976827095 : 0.7725581328810607\n",
      "max_iter = 300 : 0.4741532976827095 : 0.7725581328810607\n",
      "max_iter = 400 : 0.4741532976827095 : 0.7725581328810607\n",
      "max_iter = 500 : 0.4741532976827095 : 0.7725581328810607\n",
      "max_iter = 600 : 0.4741532976827095 : 0.7725581328810607\n",
      "max_iter = 700 : 0.4741532976827095 : 0.7725581328810607\n",
      "max_iter = 800 : 0.4741532976827095 : 0.7725581328810607\n",
      "max_iter = 900 : 0.4741532976827095 : 0.7725581328810607\n",
      "max_iter = 1000 : 0.4741532976827095 : 0.7725581328810607\n",
      "max_iter = 1100 : 0.4741532976827095 : 0.7725581328810607\n",
      "max_iter = 1200 : 0.4741532976827095 : 0.7725581328810607\n",
      "max_iter = 1300 : 0.4741532976827095 : 0.7725581328810607\n",
      "max_iter = 1400 : 0.4741532976827095 : 0.7725581328810607\n",
      "max_iter = 1500 : 0.4741532976827095 : 0.7725581328810607\n",
      "max_iter = 1600 : 0.4741532976827095 : 0.7725581328810607\n"
     ]
    }
   ],
   "source": [
    "for i in range(100,1700,100):\n",
    "    model = LogisticRegression(random_state=12345, solver='liblinear', \n",
    "                               max_iter=i, class_weight='balanced')\n",
    "    model.fit(features_train, target_train)\n",
    "    predicted_valid = model.predict(features_valid)\n",
    "    f1 = f1_score(target_valid, predicted_valid)\n",
    "    probabilities_valid = model.predict_proba(features_valid)\n",
    "    probabilities_one_valid = probabilities_valid[:, 1]\n",
    "    auc_roc= roc_auc_score(target_valid, probabilities_one_valid)\n",
    "    print(f'max_iter = {i} : {f1} : {auc_roc}')"
   ]
  },
  {
   "cell_type": "markdown",
   "metadata": {},
   "source": [
    "Пороговое значения f1 ( 0.59) не достигнуто. "
   ]
  },
  {
   "cell_type": "markdown",
   "metadata": {},
   "source": [
    "### Техника upsampled"
   ]
  },
  {
   "cell_type": "markdown",
   "metadata": {},
   "source": [
    "Увеличим количество положительных объектов в 3.9 раза чтобы выровнять баланс объектов. "
   ]
  },
  {
   "cell_type": "code",
   "execution_count": 36,
   "metadata": {},
   "outputs": [],
   "source": [
    "def upsample(features, target, repeat):\n",
    "    features_zeros = features[target == 0]\n",
    "    features_ones = features[target == 1]\n",
    "    target_zeros = target[target == 0]\n",
    "    target_ones = target[target == 1]\n",
    "\n",
    "    features_upsampled = pd.concat([features_zeros] + [features_ones] * repeat)\n",
    "    target_upsampled = pd.concat([target_zeros] + [target_ones] * repeat)\n",
    "    \n",
    "    features_upsampled, target_upsampled = shuffle(\n",
    "        features_upsampled, target_upsampled, random_state=12345)\n",
    "    \n",
    "    return features_upsampled, target_upsampled\n",
    "\n",
    "features_upsampled, target_upsampled = upsample(features_train, target_train, 4)"
   ]
  },
  {
   "cell_type": "markdown",
   "metadata": {},
   "source": [
    "features_upsampled и target_upsampled - новые наборы обучающих данных. "
   ]
  },
  {
   "cell_type": "markdown",
   "metadata": {},
   "source": [
    "Проверим решающее дерево. "
   ]
  },
  {
   "cell_type": "code",
   "execution_count": 37,
   "metadata": {},
   "outputs": [
    {
     "name": "stdout",
     "output_type": "stream",
     "text": [
      "max_depth = 1 : 0.4750733137829912 : 0.6898591522430575\n",
      "max_depth = 2 : 0.49761677788369874 : 0.7381902311009524\n",
      "max_depth = 3 : 0.49761677788369874 : 0.79092270301803\n",
      "max_depth = 4 : 0.5170454545454546 : 0.8064610987746356\n",
      "max_depth = 5 : 0.5489078822412156 : 0.818801371441651\n",
      "max_depth = 6 : 0.5587044534412956 : 0.809054407830633\n",
      "max_depth = 7 : 0.5549949545913219 : 0.8083621699551278\n",
      "max_depth = 8 : 0.545068928950159 : 0.7867486119478191\n",
      "max_depth = 9 : 0.5136186770428015 : 0.7499757597529243\n",
      "max_depth = 10 : 0.48538011695906436 : 0.7229689454618284\n",
      "max_depth = 11 : 0.48790746582544686 : 0.7196047170726048\n",
      "max_depth = 12 : 0.48144220572640506 : 0.7078668741525848\n",
      "max_depth = 13 : 0.47859495060373214 : 0.7092759875317706\n",
      "max_depth = 14 : 0.4865470852017937 : 0.702836824193833\n",
      "max_depth = 15 : 0.46245530393325385 : 0.685878983149452\n",
      "max_depth = 16 : 0.47699757869249393 : 0.6896159550101015\n",
      "max_depth = 17 : 0.4671532846715329 : 0.674895369556475\n",
      "max_depth = 18 : 0.48431618569636137 : 0.6840001653105373\n",
      "max_depth = 19 : 0.47848101265822784 : 0.6781292569450295\n",
      "max_depth = 20 : 0.47164948453608246 : 0.6716495607349324\n"
     ]
    }
   ],
   "source": [
    "for i in range(1,21):\n",
    "    model = DecisionTreeClassifier(random_state=12345, max_depth=i)\n",
    "    model.fit(features_upsampled, target_upsampled)\n",
    "    predicted_valid = model.predict(features_valid)\n",
    "    f1 = f1_score(target_valid, predicted_valid)\n",
    "    probabilities_valid = model.predict_proba(features_valid)\n",
    "    probabilities_one_valid = probabilities_valid[:, 1]\n",
    "    auc_roc= roc_auc_score(target_valid, probabilities_one_valid)\n",
    "    print(f'max_depth = {i} : {f1} : {auc_roc}')"
   ]
  },
  {
   "cell_type": "markdown",
   "metadata": {},
   "source": [
    "Пороговое значения f1 ( 0.59) не достигнуто. Лучший показатель у max_depth = 6 (f1=0.55)."
   ]
  },
  {
   "cell_type": "markdown",
   "metadata": {},
   "source": [
    "Проверим случайный лес."
   ]
  },
  {
   "cell_type": "code",
   "execution_count": 38,
   "metadata": {},
   "outputs": [
    {
     "name": "stdout",
     "output_type": "stream",
     "text": [
      "n_estimators = 1 : 0.5511811023622047 : 0.7926211098377255\n",
      "n_estimators = 2 : 0.513170731707317 : 0.7968134804385181\n",
      "n_estimators = 3 : 0.53220696937698 : 0.8073083152789853\n",
      "n_estimators = 4 : 0.5251282051282051 : 0.8147846432868822\n",
      "n_estimators = 5 : 0.5561613958560523 : 0.8214304447966123\n",
      "n_estimators = 6 : 0.5590200445434298 : 0.8270287497277939\n",
      "n_estimators = 7 : 0.5720524017467249 : 0.8306989615637105\n",
      "n_estimators = 8 : 0.5595744680851064 : 0.8334933454561061\n",
      "n_estimators = 9 : 0.5621621621621622 : 0.840507121864067\n",
      "n_estimators = 10 : 0.5585392051557464 : 0.8387522869282282\n",
      "n_estimators = 11 : 0.5664864864864865 : 0.8385877711529933\n",
      "n_estimators = 12 : 0.5654008438818565 : 0.837490999318094\n",
      "n_estimators = 13 : 0.5659163987138264 : 0.8362591179093304\n",
      "n_estimators = 14 : 0.55863539445629 : 0.8353324251850605\n",
      "n_estimators = 15 : 0.5529661016949152 : 0.8352767918311161\n"
     ]
    }
   ],
   "source": [
    "for i in range(1,16):\n",
    "    model = RandomForestClassifier(random_state=12345,max_depth=6, \n",
    "                                   n_estimators=i)\n",
    "    model.fit(features_upsampled, target_upsampled)\n",
    "    predicted_valid = model.predict(features_valid)\n",
    "    f1 = f1_score(target_valid, predicted_valid)\n",
    "    probabilities_valid = model.predict_proba(features_valid)\n",
    "    probabilities_one_valid = probabilities_valid[:, 1]\n",
    "    auc_roc= roc_auc_score(target_valid, probabilities_one_valid)\n",
    "    print(f'n_estimators = {i} : {f1} : {auc_roc}')"
   ]
  },
  {
   "cell_type": "markdown",
   "metadata": {},
   "source": [
    "Лучший n_estimators = 7 (F1=0.57)."
   ]
  },
  {
   "cell_type": "code",
   "execution_count": 39,
   "metadata": {},
   "outputs": [
    {
     "name": "stdout",
     "output_type": "stream",
     "text": [
      "max_depth = 1 : 0.4224643755238894 : 0.7499733754663269\n",
      "max_depth = 2 : 0.5076765609007166 : 0.8048914434312111\n",
      "max_depth = 3 : 0.50355871886121 : 0.8050925182676091\n",
      "max_depth = 4 : 0.5561497326203209 : 0.8146884770607786\n",
      "max_depth = 5 : 0.5570680628272251 : 0.8292000400560148\n",
      "max_depth = 6 : 0.5720524017467249 : 0.8306989615637105\n",
      "max_depth = 7 : 0.5579399141630901 : 0.8365587432584297\n",
      "max_depth = 8 : 0.5551982851018221 : 0.838484452067097\n",
      "max_depth = 9 : 0.5541125541125542 : 0.8357377539066536\n",
      "max_depth = 10 : 0.5578831312017641 : 0.8285236974244936\n",
      "max_depth = 11 : 0.5407925407925408 : 0.8194022116642481\n",
      "max_depth = 12 : 0.5586854460093897 : 0.8185708904038822\n",
      "max_depth = 13 : 0.5502392344497609 : 0.8082159337104744\n",
      "max_depth = 14 : 0.5612745098039216 : 0.8255075748785206\n",
      "max_depth = 15 : 0.5538461538461539 : 0.8161778614220838\n"
     ]
    }
   ],
   "source": [
    "for i in range(1,16):\n",
    "    model = RandomForestClassifier(random_state=12345,max_depth=i, \n",
    "                                   n_estimators=7)\n",
    "    model.fit(features_upsampled, target_upsampled)\n",
    "    predicted_valid = model.predict(features_valid)\n",
    "    f1 = f1_score(target_valid, predicted_valid)\n",
    "    probabilities_valid = model.predict_proba(features_valid)\n",
    "    probabilities_one_valid = probabilities_valid[:, 1]\n",
    "    auc_roc= roc_auc_score(target_valid, probabilities_one_valid)\n",
    "    print(f'max_depth = {i} : {f1} : {auc_roc}')"
   ]
  },
  {
   "cell_type": "markdown",
   "metadata": {},
   "source": [
    "На данном этапе лучший лес (f1=0.57) имеет гиперпараметры max_depth=6 и n_estimators=7. У этих гиперпараметров auc_roc=0.83. Пороговое значения f1 (0.59) не достигнуто."
   ]
  },
  {
   "cell_type": "markdown",
   "metadata": {},
   "source": [
    "Проверим логистическую регрессию. "
   ]
  },
  {
   "cell_type": "code",
   "execution_count": 40,
   "metadata": {},
   "outputs": [
    {
     "name": "stdout",
     "output_type": "stream",
     "text": [
      "max_iter = 100 : 0.4771126760563381 : 0.7725692595518495\n",
      "max_iter = 200 : 0.4771126760563381 : 0.7725692595518495\n",
      "max_iter = 300 : 0.4771126760563381 : 0.7725692595518495\n",
      "max_iter = 400 : 0.4771126760563381 : 0.7725692595518495\n",
      "max_iter = 500 : 0.4771126760563381 : 0.7725692595518495\n",
      "max_iter = 600 : 0.4771126760563381 : 0.7725692595518495\n",
      "max_iter = 700 : 0.4771126760563381 : 0.7725692595518495\n",
      "max_iter = 800 : 0.4771126760563381 : 0.7725692595518495\n",
      "max_iter = 900 : 0.4771126760563381 : 0.7725692595518495\n",
      "max_iter = 1000 : 0.4771126760563381 : 0.7725692595518495\n",
      "max_iter = 1100 : 0.4771126760563381 : 0.7725692595518495\n",
      "max_iter = 1200 : 0.4771126760563381 : 0.7725692595518495\n",
      "max_iter = 1300 : 0.4771126760563381 : 0.7725692595518495\n",
      "max_iter = 1400 : 0.4771126760563381 : 0.7725692595518495\n",
      "max_iter = 1500 : 0.4771126760563381 : 0.7725692595518495\n",
      "max_iter = 1600 : 0.4771126760563381 : 0.7725692595518495\n"
     ]
    }
   ],
   "source": [
    "for i in range(100,1700,100):\n",
    "    model = LogisticRegression(random_state=12345, solver='liblinear', \n",
    "                               max_iter=i)\n",
    "    model.fit(features_upsampled, target_upsampled)\n",
    "    predicted_valid = model.predict(features_valid)\n",
    "    f1 = f1_score(target_valid, predicted_valid)\n",
    "    probabilities_valid = model.predict_proba(features_valid)\n",
    "    probabilities_one_valid = probabilities_valid[:, 1]\n",
    "    auc_roc= roc_auc_score(target_valid, probabilities_one_valid)\n",
    "    print(f'max_iter = {i} : {f1} : {auc_roc}')"
   ]
  },
  {
   "cell_type": "markdown",
   "metadata": {},
   "source": [
    "Пороговое значения f1 ( 0.59) не достигнуто."
   ]
  },
  {
   "cell_type": "markdown",
   "metadata": {},
   "source": [
    "## Изменение порога случайного леса"
   ]
  },
  {
   "cell_type": "markdown",
   "metadata": {},
   "source": [
    "Попробуем ещё одну технику. Изменим порог вероятности классов модели и посмотрим на значения F1 меры. Работу также будем продолжать со сбалансированной выборкой.  "
   ]
  },
  {
   "cell_type": "markdown",
   "metadata": {},
   "source": [
    "Так как на прошлых этапах ни модель решающего дерева, ни модель логистической регрессии не показали заметного прогресса, мы решили сосредоточить наши усилия на модели случайного леса. "
   ]
  },
  {
   "cell_type": "markdown",
   "metadata": {},
   "source": [
    "Напишем цикл который создаст 4 списка, куда поместим значения гиперпараметров, f1 меры и значение порога вероятности класса. "
   ]
  },
  {
   "cell_type": "code",
   "execution_count": 41,
   "metadata": {
    "scrolled": true
   },
   "outputs": [
    {
     "name": "stdout",
     "output_type": "stream",
     "text": [
      "выполнено\n"
     ]
    }
   ],
   "source": [
    "max_depth_list=[]\n",
    "n_estimators_list=[]\n",
    "threshold_list=[]\n",
    "f1_list=[]\n",
    "for i in range(7,17):\n",
    "    for e in range(7,17):\n",
    "        for threshold in np.arange(0.4, 0.7, 0.05):\n",
    "            model = RandomForestClassifier(random_state=12345,max_depth=i, \n",
    "                                   n_estimators=e)\n",
    "            model.fit(features_upsampled, target_upsampled)\n",
    "            probabilities_valid = model.predict_proba(features_valid)\n",
    "            probabilities_one_valid = probabilities_valid[:, 1]\n",
    "            predicted_valid = probabilities_one_valid > threshold\n",
    "            f1 = f1_score(target_valid, predicted_valid)\n",
    "            max_depth_list.append(i)\n",
    "            n_estimators_list.append(e)\n",
    "            threshold_list.append(threshold)\n",
    "            f1_list.append(f1)\n",
    "print('выполнено')"
   ]
  },
  {
   "cell_type": "markdown",
   "metadata": {},
   "source": [
    "Теперь соберём из этих списков новый датафрейм. И выведем значения, где f1 мера больше 0.6"
   ]
  },
  {
   "cell_type": "code",
   "execution_count": 42,
   "metadata": {},
   "outputs": [
    {
     "name": "stdout",
     "output_type": "stream",
     "text": [
      "          f1  max_depth  n_estimators  threshold\n",
      "10  0.609819          7             8       0.60\n",
      "16  0.610825          7             9       0.60\n",
      "28  0.606771          7            11       0.60\n",
      "34  0.610966          7            12       0.60\n",
      "39  0.607565          7            13       0.55\n",
      "45  0.610849          7            14       0.55\n",
      "51  0.612676          7            15       0.55\n",
      "52  0.600529          7            15       0.60\n",
      "57  0.602100          7            16       0.55\n",
      "58  0.602378          7            16       0.60\n"
     ]
    }
   ],
   "source": [
    "dict = {'f1': f1_list, 'max_depth': max_depth_list, \n",
    "        'n_estimators': n_estimators_list, 'threshold': threshold_list} \n",
    "df = pd.DataFrame(dict)\n",
    "print(df[df['f1']>=0.6])"
   ]
  },
  {
   "cell_type": "markdown",
   "metadata": {},
   "source": [
    "Мы считаем что нужно сосредоточиться на более низких значениях max_depth и n_estimators, чтобы не было переобучения модели. Но и значение f1 меры для нас важно. Поэтому мы считаем правильным использовать значения геперпараметров max_depth=7 и n_estimators=9, и значение порога вероятности класса = 0.6"
   ]
  },
  {
   "cell_type": "markdown",
   "metadata": {},
   "source": [
    "## Тестирование модели"
   ]
  },
  {
   "cell_type": "markdown",
   "metadata": {},
   "source": [
    "Проверим нашу модель на тестовой выборке. В качестве обучающей выборки будем также использовать сбалансированную выборку."
   ]
  },
  {
   "cell_type": "code",
   "execution_count": 43,
   "metadata": {},
   "outputs": [
    {
     "name": "stdout",
     "output_type": "stream",
     "text": [
      "f1= 0.6375757575757576\n",
      "auc_roc= 0.8629224724604754\n"
     ]
    }
   ],
   "source": [
    "model = RandomForestClassifier(random_state=12345,max_depth=7, \n",
    "                                   n_estimators=9)\n",
    "model.fit(features_upsampled, target_upsampled)\n",
    "probabilities_test = model.predict_proba(features_test)\n",
    "probabilities_one_test = probabilities_test[:, 1]\n",
    "predicted_test = probabilities_one_test > 0.6\n",
    "auc_roc= roc_auc_score(target_test, probabilities_one_test)\n",
    "f1 = f1_score(target_test, predicted_test)\n",
    "print('f1=', f1)\n",
    "print('auc_roc=', auc_roc)"
   ]
  },
  {
   "cell_type": "markdown",
   "metadata": {},
   "source": [
    "Наша модель достигла показателя выше минимума f1=0.59. Показатель auc_roc также оказался высоким."
   ]
  },
  {
   "cell_type": "markdown",
   "metadata": {},
   "source": [
    "## Вывод"
   ]
  },
  {
   "cell_type": "markdown",
   "metadata": {},
   "source": [
    "В нашем исследовании нам были предоставлены данные о клиентах банка, где в том числе был указан факт отказа части клиентов от услуг этого банка. Наша цель была создать модель, которая сможет в будущем на основе новых данных о других клиентах предсказывать откажется ли данный клиент от услуг банка.\n",
    "\n",
    "Нам был установлен минимальный порог F1 меры для нашей модели равный 0,59. \n",
    "\n",
    "Для создания модели мы провели предобработку данных. Отказались от части данных, которые посчитали излишними для модели, хранящихся в столбцах: \n",
    "\n",
    "    RowNumber — индекс строки в данных\n",
    "    CustomerId — уникальный идентификатор клиента\n",
    "    Surname — фамилия.\n",
    "    \n",
    "Данные в столбце Tenure (сколько лет человек является клиентом банка) содержали пропуски. Мы решили не удалять эти данные, а заполнить их медианным значением. Таким образом в будущем наша модель также сможет обрабатывать подобные данные, их не придётся исключать.\n",
    "\n",
    "Также для финальной модели данные были сбалансированы техникой upsampled. Категориальные данные из столбцов Geography и Gender были обработаны техникой OHE(используя параметр drop_first=True). Количественные признаки CreditScore, Age, Tenure, Balance и EstimatedSalary были  масштабируемы. \n",
    "\n",
    "Наше исследование пришло к тому, что наиболее эффективной, с точки зрения  F1 меры получилась модель Случайный лес с значениями геперпараметров max_depth=7 и n_estimators=9, и значением  порога вероятности класса = 0.6. \n",
    "\n",
    "В качестве обучающих данных для этой модели мы использовали сбалансированные выборки хранящиеся в features_upsampled и target_upsampled.\n",
    "\n",
    "Проверка финальной модели на тестовой выборке показала следующие результаты:\n",
    "\n",
    "\tF1 = 0.636\n",
    "    AUC ROC = 0.862\n",
    "    \n",
    "Наша модель достигла показателя выше минимума F1=0.59. Показатель AUC ROC также оказался высоким."
   ]
  }
 ],
 "metadata": {
  "ExecuteTimeLog": [
   {
    "duration": 1375,
    "start_time": "2023-02-10T14:50:19.716Z"
   },
   {
    "duration": 217,
    "start_time": "2023-02-10T14:50:24.701Z"
   },
   {
    "duration": 14,
    "start_time": "2023-02-10T14:50:28.863Z"
   },
   {
    "duration": 1101,
    "start_time": "2023-02-10T17:38:15.432Z"
   },
   {
    "duration": 100,
    "start_time": "2023-02-10T17:38:18.512Z"
   },
   {
    "duration": 13,
    "start_time": "2023-02-10T17:38:22.552Z"
   },
   {
    "duration": 104,
    "start_time": "2023-02-10T17:38:28.472Z"
   },
   {
    "duration": 6,
    "start_time": "2023-02-10T17:38:46.241Z"
   },
   {
    "duration": 6,
    "start_time": "2023-02-10T17:38:49.432Z"
   },
   {
    "duration": 5,
    "start_time": "2023-02-10T17:38:51.713Z"
   },
   {
    "duration": 18,
    "start_time": "2023-02-10T17:38:54.583Z"
   },
   {
    "duration": 3,
    "start_time": "2023-02-10T17:39:45.672Z"
   },
   {
    "duration": 17,
    "start_time": "2023-02-10T17:39:48.683Z"
   },
   {
    "duration": 8,
    "start_time": "2023-02-10T17:40:50.794Z"
   },
   {
    "duration": 6,
    "start_time": "2023-02-10T17:40:52.943Z"
   },
   {
    "duration": 7,
    "start_time": "2023-02-10T17:40:55.572Z"
   },
   {
    "duration": 21,
    "start_time": "2023-02-10T17:40:58.332Z"
   },
   {
    "duration": 9,
    "start_time": "2023-02-10T17:41:51.103Z"
   },
   {
    "duration": 5,
    "start_time": "2023-02-10T17:41:53.621Z"
   },
   {
    "duration": 4,
    "start_time": "2023-02-10T17:41:55.711Z"
   },
   {
    "duration": 16,
    "start_time": "2023-02-10T17:42:00.493Z"
   },
   {
    "duration": 11,
    "start_time": "2023-02-10T17:42:37.723Z"
   },
   {
    "duration": 5,
    "start_time": "2023-02-10T17:42:39.872Z"
   },
   {
    "duration": 7,
    "start_time": "2023-02-10T17:42:41.933Z"
   },
   {
    "duration": 89,
    "start_time": "2023-02-10T17:42:44.753Z"
   },
   {
    "duration": 11,
    "start_time": "2023-02-10T17:43:33.093Z"
   },
   {
    "duration": 6,
    "start_time": "2023-02-10T17:43:35.831Z"
   },
   {
    "duration": 4,
    "start_time": "2023-02-10T17:43:37.833Z"
   },
   {
    "duration": 187,
    "start_time": "2023-02-10T17:43:40.253Z"
   },
   {
    "duration": 7,
    "start_time": "2023-02-10T17:46:21.304Z"
   },
   {
    "duration": 34,
    "start_time": "2023-02-10T17:47:09.731Z"
   },
   {
    "duration": 36,
    "start_time": "2023-02-10T17:47:55.074Z"
   },
   {
    "duration": 37,
    "start_time": "2023-02-10T17:48:05.024Z"
   },
   {
    "duration": 1077,
    "start_time": "2023-02-10T17:49:40.715Z"
   },
   {
    "duration": 56,
    "start_time": "2023-02-10T17:49:43.384Z"
   },
   {
    "duration": 46,
    "start_time": "2023-02-10T17:50:00.096Z"
   },
   {
    "duration": 13,
    "start_time": "2023-02-10T17:50:11.415Z"
   },
   {
    "duration": 3,
    "start_time": "2023-02-10T18:19:59.683Z"
   },
   {
    "duration": 996,
    "start_time": "2023-02-10T18:20:22.695Z"
   },
   {
    "duration": 54,
    "start_time": "2023-02-10T18:20:26.284Z"
   },
   {
    "duration": 12,
    "start_time": "2023-02-10T18:20:29.445Z"
   },
   {
    "duration": 12,
    "start_time": "2023-02-10T18:20:32.794Z"
   },
   {
    "duration": 4,
    "start_time": "2023-02-10T18:32:33.174Z"
   },
   {
    "duration": 5,
    "start_time": "2023-02-10T18:32:40.161Z"
   },
   {
    "duration": 5,
    "start_time": "2023-02-10T18:32:45.893Z"
   },
   {
    "duration": 92,
    "start_time": "2023-02-10T18:32:58.323Z"
   },
   {
    "duration": 5,
    "start_time": "2023-02-10T18:33:30.763Z"
   },
   {
    "duration": 43,
    "start_time": "2023-02-10T18:41:14.583Z"
   },
   {
    "duration": 19,
    "start_time": "2023-02-10T18:45:10.992Z"
   },
   {
    "duration": 19,
    "start_time": "2023-02-10T18:46:02.581Z"
   },
   {
    "duration": 13,
    "start_time": "2023-02-10T18:48:17.441Z"
   },
   {
    "duration": 12,
    "start_time": "2023-02-10T18:48:41.159Z"
   },
   {
    "duration": 1139,
    "start_time": "2023-02-10T18:49:08.310Z"
   },
   {
    "duration": 60,
    "start_time": "2023-02-10T18:49:12.279Z"
   },
   {
    "duration": 13,
    "start_time": "2023-02-10T18:49:15.219Z"
   },
   {
    "duration": 12,
    "start_time": "2023-02-10T18:49:18.008Z"
   },
   {
    "duration": 5,
    "start_time": "2023-02-10T18:49:24.306Z"
   },
   {
    "duration": 6,
    "start_time": "2023-02-10T18:49:34.150Z"
   },
   {
    "duration": 106,
    "start_time": "2023-02-10T18:51:18.759Z"
   },
   {
    "duration": 337,
    "start_time": "2023-02-10T18:53:11.317Z"
   },
   {
    "duration": 343,
    "start_time": "2023-02-10T18:53:24.958Z"
   },
   {
    "duration": 10,
    "start_time": "2023-02-10T18:55:13.527Z"
   },
   {
    "duration": 12,
    "start_time": "2023-02-10T18:55:51.737Z"
   },
   {
    "duration": 13,
    "start_time": "2023-02-10T18:55:56.907Z"
   },
   {
    "duration": 12,
    "start_time": "2023-02-10T18:57:35.487Z"
   },
   {
    "duration": 11,
    "start_time": "2023-02-10T18:58:00.588Z"
   },
   {
    "duration": 10,
    "start_time": "2023-02-10T18:58:08.287Z"
   },
   {
    "duration": 3,
    "start_time": "2023-02-10T18:59:40.407Z"
   },
   {
    "duration": 6,
    "start_time": "2023-02-10T18:59:54.135Z"
   },
   {
    "duration": 5,
    "start_time": "2023-02-10T18:59:59.557Z"
   },
   {
    "duration": 10,
    "start_time": "2023-02-10T19:04:34.756Z"
   },
   {
    "duration": 12,
    "start_time": "2023-02-10T19:04:52.366Z"
   },
   {
    "duration": 11,
    "start_time": "2023-02-10T19:05:25.556Z"
   },
   {
    "duration": 10,
    "start_time": "2023-02-10T19:06:19.416Z"
   },
   {
    "duration": 10,
    "start_time": "2023-02-10T19:06:28.557Z"
   },
   {
    "duration": 7,
    "start_time": "2023-02-10T19:08:39.858Z"
   },
   {
    "duration": 7,
    "start_time": "2023-02-10T19:09:06.187Z"
   },
   {
    "duration": 7,
    "start_time": "2023-02-10T19:09:15.037Z"
   },
   {
    "duration": 10,
    "start_time": "2023-02-10T19:15:40.065Z"
   },
   {
    "duration": 1059,
    "start_time": "2023-02-11T15:10:19.959Z"
   },
   {
    "duration": 102,
    "start_time": "2023-02-11T15:10:22.379Z"
   },
   {
    "duration": 13,
    "start_time": "2023-02-11T15:10:28.999Z"
   },
   {
    "duration": 12,
    "start_time": "2023-02-11T15:10:31.789Z"
   },
   {
    "duration": 5,
    "start_time": "2023-02-11T15:10:40.519Z"
   },
   {
    "duration": 6,
    "start_time": "2023-02-11T15:11:04.610Z"
   },
   {
    "duration": 6,
    "start_time": "2023-02-11T15:11:06.990Z"
   },
   {
    "duration": 12,
    "start_time": "2023-02-11T15:11:11.299Z"
   },
   {
    "duration": 11,
    "start_time": "2023-02-11T15:11:21.979Z"
   },
   {
    "duration": 11,
    "start_time": "2023-02-11T15:11:27.629Z"
   },
   {
    "duration": 7,
    "start_time": "2023-02-11T15:11:34.719Z"
   },
   {
    "duration": 10,
    "start_time": "2023-02-11T15:11:54.307Z"
   },
   {
    "duration": 11,
    "start_time": "2023-02-11T15:11:56.609Z"
   },
   {
    "duration": 6,
    "start_time": "2023-02-11T15:11:59.159Z"
   },
   {
    "duration": 12,
    "start_time": "2023-02-11T15:13:42.939Z"
   },
   {
    "duration": 11,
    "start_time": "2023-02-11T15:16:58.649Z"
   },
   {
    "duration": 13,
    "start_time": "2023-02-11T15:17:17.399Z"
   },
   {
    "duration": 15,
    "start_time": "2023-02-11T15:17:52.939Z"
   },
   {
    "duration": 5,
    "start_time": "2023-02-11T15:22:33.939Z"
   },
   {
    "duration": 96,
    "start_time": "2023-02-11T15:29:24.409Z"
   },
   {
    "duration": 1030,
    "start_time": "2023-02-11T15:29:42.768Z"
   },
   {
    "duration": 51,
    "start_time": "2023-02-11T15:29:44.509Z"
   },
   {
    "duration": 11,
    "start_time": "2023-02-11T15:29:45.089Z"
   },
   {
    "duration": 13,
    "start_time": "2023-02-11T15:29:45.569Z"
   },
   {
    "duration": 5,
    "start_time": "2023-02-11T15:29:47.549Z"
   },
   {
    "duration": 6,
    "start_time": "2023-02-11T15:29:48.549Z"
   },
   {
    "duration": 4,
    "start_time": "2023-02-11T15:45:41.009Z"
   },
   {
    "duration": 12,
    "start_time": "2023-02-11T15:53:10.699Z"
   },
   {
    "duration": 5,
    "start_time": "2023-02-11T15:59:36.849Z"
   },
   {
    "duration": 6,
    "start_time": "2023-02-11T16:00:00.090Z"
   },
   {
    "duration": 5,
    "start_time": "2023-02-11T16:00:50.510Z"
   },
   {
    "duration": 104,
    "start_time": "2023-02-11T16:07:45.200Z"
   },
   {
    "duration": 15,
    "start_time": "2023-02-11T16:09:14.680Z"
   },
   {
    "duration": 11,
    "start_time": "2023-02-11T16:09:19.400Z"
   },
   {
    "duration": 12,
    "start_time": "2023-02-11T16:09:47.870Z"
   },
   {
    "duration": 1000,
    "start_time": "2023-02-11T17:07:26.490Z"
   },
   {
    "duration": 58,
    "start_time": "2023-02-11T17:07:28.267Z"
   },
   {
    "duration": 12,
    "start_time": "2023-02-11T17:07:29.099Z"
   },
   {
    "duration": 12,
    "start_time": "2023-02-11T17:07:29.811Z"
   },
   {
    "duration": 6,
    "start_time": "2023-02-11T17:07:33.068Z"
   },
   {
    "duration": 6,
    "start_time": "2023-02-11T17:07:33.911Z"
   },
   {
    "duration": 6,
    "start_time": "2023-02-11T17:07:35.378Z"
   },
   {
    "duration": 3,
    "start_time": "2023-02-11T17:07:43.959Z"
   },
   {
    "duration": 6,
    "start_time": "2023-02-11T17:15:44.759Z"
   },
   {
    "duration": 10,
    "start_time": "2023-02-11T17:16:07.849Z"
   },
   {
    "duration": 6,
    "start_time": "2023-02-11T17:16:13.239Z"
   },
   {
    "duration": 5,
    "start_time": "2023-02-11T17:16:13.740Z"
   },
   {
    "duration": 12,
    "start_time": "2023-02-11T17:16:16.619Z"
   },
   {
    "duration": 11,
    "start_time": "2023-02-11T17:16:18.929Z"
   },
   {
    "duration": 4,
    "start_time": "2023-02-11T17:22:41.489Z"
   },
   {
    "duration": 5,
    "start_time": "2023-02-11T17:22:46.338Z"
   },
   {
    "duration": 4,
    "start_time": "2023-02-11T17:26:53.759Z"
   },
   {
    "duration": 5,
    "start_time": "2023-02-11T17:26:56.748Z"
   },
   {
    "duration": 24,
    "start_time": "2023-02-11T17:31:39.867Z"
   },
   {
    "duration": 5,
    "start_time": "2023-02-11T17:37:10.947Z"
   },
   {
    "duration": 5,
    "start_time": "2023-02-11T17:37:38.010Z"
   },
   {
    "duration": 6,
    "start_time": "2023-02-11T17:38:06.987Z"
   },
   {
    "duration": 304,
    "start_time": "2023-02-11T17:42:34.840Z"
   },
   {
    "duration": 481,
    "start_time": "2023-02-11T17:48:01.030Z"
   },
   {
    "duration": 2470,
    "start_time": "2023-02-11T17:49:01.756Z"
   },
   {
    "duration": 1808,
    "start_time": "2023-02-11T17:49:30.364Z"
   },
   {
    "duration": 2325,
    "start_time": "2023-02-11T17:49:55.481Z"
   },
   {
    "duration": 3493,
    "start_time": "2023-02-11T17:50:07.197Z"
   },
   {
    "duration": 3428,
    "start_time": "2023-02-11T17:50:25.063Z"
   },
   {
    "duration": 3524,
    "start_time": "2023-02-11T17:50:59.729Z"
   },
   {
    "duration": 3637,
    "start_time": "2023-02-11T17:52:22.430Z"
   },
   {
    "duration": 9131,
    "start_time": "2023-02-11T17:57:26.319Z"
   },
   {
    "duration": 2229,
    "start_time": "2023-02-11T17:59:07.009Z"
   },
   {
    "duration": 207,
    "start_time": "2023-02-11T18:03:34.763Z"
   },
   {
    "duration": 3,
    "start_time": "2023-02-11T18:03:58.879Z"
   },
   {
    "duration": 4148,
    "start_time": "2023-02-11T18:04:11.909Z"
   },
   {
    "duration": 1171,
    "start_time": "2023-02-12T11:31:44.090Z"
   },
   {
    "duration": 107,
    "start_time": "2023-02-12T11:31:46.016Z"
   },
   {
    "duration": 14,
    "start_time": "2023-02-12T11:31:46.611Z"
   },
   {
    "duration": 11,
    "start_time": "2023-02-12T11:31:47.040Z"
   },
   {
    "duration": 7,
    "start_time": "2023-02-12T11:31:48.836Z"
   },
   {
    "duration": 8,
    "start_time": "2023-02-12T11:31:49.515Z"
   },
   {
    "duration": 6,
    "start_time": "2023-02-12T11:31:50.629Z"
   },
   {
    "duration": 5,
    "start_time": "2023-02-12T11:31:51.280Z"
   },
   {
    "duration": 5,
    "start_time": "2023-02-12T11:31:52.350Z"
   },
   {
    "duration": 16,
    "start_time": "2023-02-12T11:31:53.130Z"
   },
   {
    "duration": 5,
    "start_time": "2023-02-12T11:31:54.059Z"
   },
   {
    "duration": 7,
    "start_time": "2023-02-12T11:31:54.549Z"
   },
   {
    "duration": 12,
    "start_time": "2023-02-12T11:31:55.421Z"
   },
   {
    "duration": 10,
    "start_time": "2023-02-12T11:31:56.040Z"
   },
   {
    "duration": 4,
    "start_time": "2023-02-12T11:32:00.001Z"
   },
   {
    "duration": 5,
    "start_time": "2023-02-12T11:32:00.489Z"
   },
   {
    "duration": 14,
    "start_time": "2023-02-12T11:32:01.010Z"
   },
   {
    "duration": 28,
    "start_time": "2023-02-12T11:32:02.958Z"
   },
   {
    "duration": 10,
    "start_time": "2023-02-12T11:32:42.360Z"
   },
   {
    "duration": 4,
    "start_time": "2023-02-12T11:32:49.960Z"
   },
   {
    "duration": 5,
    "start_time": "2023-02-12T11:32:51.050Z"
   },
   {
    "duration": 6,
    "start_time": "2023-02-12T11:32:52.150Z"
   },
   {
    "duration": 407,
    "start_time": "2023-02-12T11:32:56.590Z"
   },
   {
    "duration": 4247,
    "start_time": "2023-02-12T11:33:27.500Z"
   },
   {
    "duration": 4408,
    "start_time": "2023-02-12T11:34:14.060Z"
   },
   {
    "duration": 2156,
    "start_time": "2023-02-12T11:35:12.390Z"
   },
   {
    "duration": 1252,
    "start_time": "2023-02-12T13:38:16.462Z"
   },
   {
    "duration": 188,
    "start_time": "2023-02-12T13:38:18.971Z"
   },
   {
    "duration": 14,
    "start_time": "2023-02-12T13:38:19.771Z"
   },
   {
    "duration": 15,
    "start_time": "2023-02-12T13:38:20.312Z"
   },
   {
    "duration": 6,
    "start_time": "2023-02-12T13:38:22.702Z"
   },
   {
    "duration": 9,
    "start_time": "2023-02-12T13:38:23.732Z"
   },
   {
    "duration": 9,
    "start_time": "2023-02-12T13:38:25.121Z"
   },
   {
    "duration": 7,
    "start_time": "2023-02-12T13:38:25.982Z"
   },
   {
    "duration": 6,
    "start_time": "2023-02-12T13:38:27.342Z"
   },
   {
    "duration": 15,
    "start_time": "2023-02-12T13:38:28.452Z"
   },
   {
    "duration": 6,
    "start_time": "2023-02-12T13:38:29.432Z"
   },
   {
    "duration": 6,
    "start_time": "2023-02-12T13:38:29.871Z"
   },
   {
    "duration": 15,
    "start_time": "2023-02-12T13:38:30.792Z"
   },
   {
    "duration": 14,
    "start_time": "2023-02-12T13:38:31.231Z"
   },
   {
    "duration": 6,
    "start_time": "2023-02-12T13:38:32.371Z"
   },
   {
    "duration": 5,
    "start_time": "2023-02-12T13:38:33.003Z"
   },
   {
    "duration": 5,
    "start_time": "2023-02-12T13:38:33.461Z"
   },
   {
    "duration": 28,
    "start_time": "2023-02-12T13:38:35.481Z"
   },
   {
    "duration": 6,
    "start_time": "2023-02-12T13:38:41.192Z"
   },
   {
    "duration": 9,
    "start_time": "2023-02-12T13:38:42.122Z"
   },
   {
    "duration": 9,
    "start_time": "2023-02-12T13:38:43.072Z"
   },
   {
    "duration": 398,
    "start_time": "2023-02-12T13:38:54.413Z"
   },
   {
    "duration": 398,
    "start_time": "2023-02-12T13:40:37.023Z"
   },
   {
    "duration": 4024,
    "start_time": "2023-02-12T13:40:41.682Z"
   },
   {
    "duration": 1935,
    "start_time": "2023-02-12T13:41:53.552Z"
   },
   {
    "duration": 2710,
    "start_time": "2023-02-12T13:42:10.580Z"
   },
   {
    "duration": 2171,
    "start_time": "2023-02-12T13:45:00.633Z"
   },
   {
    "duration": 2383,
    "start_time": "2023-02-12T13:49:19.482Z"
   },
   {
    "duration": 3107,
    "start_time": "2023-02-12T13:52:21.831Z"
   },
   {
    "duration": 466,
    "start_time": "2023-02-12T13:53:32.953Z"
   },
   {
    "duration": 2544,
    "start_time": "2023-02-12T13:53:46.641Z"
   },
   {
    "duration": 3,
    "start_time": "2023-02-12T13:56:47.362Z"
   },
   {
    "duration": 167,
    "start_time": "2023-02-12T13:58:12.969Z"
   },
   {
    "duration": 6,
    "start_time": "2023-02-12T13:58:30.940Z"
   },
   {
    "duration": 16,
    "start_time": "2023-02-12T13:58:36.570Z"
   },
   {
    "duration": 19,
    "start_time": "2023-02-12T13:59:29.248Z"
   },
   {
    "duration": 575,
    "start_time": "2023-02-12T14:02:05.158Z"
   },
   {
    "duration": 3027,
    "start_time": "2023-02-12T14:02:13.972Z"
   },
   {
    "duration": 5391,
    "start_time": "2023-02-12T14:02:37.559Z"
   },
   {
    "duration": 2695,
    "start_time": "2023-02-12T14:02:49.473Z"
   },
   {
    "duration": 6647,
    "start_time": "2023-02-12T14:04:43.458Z"
   },
   {
    "duration": 6549,
    "start_time": "2023-02-12T14:05:13.782Z"
   },
   {
    "duration": 6303,
    "start_time": "2023-02-12T14:05:42.269Z"
   },
   {
    "duration": 4852,
    "start_time": "2023-02-12T14:06:06.203Z"
   },
   {
    "duration": 5706,
    "start_time": "2023-02-12T14:06:31.142Z"
   },
   {
    "duration": 3261,
    "start_time": "2023-02-12T14:06:47.211Z"
   },
   {
    "duration": 3705,
    "start_time": "2023-02-12T14:07:08.202Z"
   },
   {
    "duration": 4173,
    "start_time": "2023-02-12T14:07:15.592Z"
   },
   {
    "duration": 2364,
    "start_time": "2023-02-12T14:07:39.162Z"
   },
   {
    "duration": 2456,
    "start_time": "2023-02-12T14:08:21.882Z"
   },
   {
    "duration": 1994,
    "start_time": "2023-02-12T14:08:32.790Z"
   },
   {
    "duration": 1531,
    "start_time": "2023-02-12T14:09:04.750Z"
   },
   {
    "duration": 4,
    "start_time": "2023-02-12T14:11:31.112Z"
   },
   {
    "duration": 30,
    "start_time": "2023-02-12T14:14:53.097Z"
   },
   {
    "duration": 4,
    "start_time": "2023-02-12T14:15:13.185Z"
   },
   {
    "duration": 298,
    "start_time": "2023-02-12T14:15:18.294Z"
   },
   {
    "duration": 458,
    "start_time": "2023-02-12T14:15:37.204Z"
   },
   {
    "duration": 4,
    "start_time": "2023-02-12T14:46:31.988Z"
   },
   {
    "duration": 1188,
    "start_time": "2023-02-12T14:46:42.306Z"
   },
   {
    "duration": 70,
    "start_time": "2023-02-12T14:46:49.168Z"
   },
   {
    "duration": 14,
    "start_time": "2023-02-12T14:46:49.998Z"
   },
   {
    "duration": 13,
    "start_time": "2023-02-12T14:46:50.679Z"
   },
   {
    "duration": 6,
    "start_time": "2023-02-12T14:46:53.139Z"
   },
   {
    "duration": 7,
    "start_time": "2023-02-12T14:46:54.038Z"
   },
   {
    "duration": 8,
    "start_time": "2023-02-12T14:46:55.318Z"
   },
   {
    "duration": 4,
    "start_time": "2023-02-12T14:46:56.239Z"
   },
   {
    "duration": 5,
    "start_time": "2023-02-12T14:46:57.828Z"
   },
   {
    "duration": 1376,
    "start_time": "2023-02-12T14:47:29.759Z"
   },
   {
    "duration": 1238,
    "start_time": "2023-02-12T14:47:54.628Z"
   },
   {
    "duration": 62,
    "start_time": "2023-02-12T14:47:59.282Z"
   },
   {
    "duration": 15,
    "start_time": "2023-02-12T14:47:59.695Z"
   },
   {
    "duration": 14,
    "start_time": "2023-02-12T14:48:00.115Z"
   },
   {
    "duration": 6,
    "start_time": "2023-02-12T14:48:02.406Z"
   },
   {
    "duration": 7,
    "start_time": "2023-02-12T14:48:03.297Z"
   },
   {
    "duration": 8,
    "start_time": "2023-02-12T14:48:09.372Z"
   },
   {
    "duration": 4,
    "start_time": "2023-02-12T14:48:14.499Z"
   },
   {
    "duration": 5,
    "start_time": "2023-02-12T14:48:15.708Z"
   },
   {
    "duration": 12,
    "start_time": "2023-02-12T14:48:16.551Z"
   },
   {
    "duration": 6,
    "start_time": "2023-02-12T14:48:17.359Z"
   },
   {
    "duration": 6,
    "start_time": "2023-02-12T14:48:17.738Z"
   },
   {
    "duration": 12,
    "start_time": "2023-02-12T14:48:18.628Z"
   },
   {
    "duration": 14,
    "start_time": "2023-02-12T14:48:19.107Z"
   },
   {
    "duration": 5,
    "start_time": "2023-02-12T14:48:19.996Z"
   },
   {
    "duration": 6,
    "start_time": "2023-02-12T14:48:20.390Z"
   },
   {
    "duration": 6,
    "start_time": "2023-02-12T14:48:20.798Z"
   },
   {
    "duration": 29,
    "start_time": "2023-02-12T14:48:21.651Z"
   },
   {
    "duration": 6,
    "start_time": "2023-02-12T14:48:23.501Z"
   },
   {
    "duration": 8,
    "start_time": "2023-02-12T14:48:24.417Z"
   },
   {
    "duration": 8,
    "start_time": "2023-02-12T14:48:28.667Z"
   },
   {
    "duration": 372,
    "start_time": "2023-02-12T14:48:32.957Z"
   },
   {
    "duration": 4094,
    "start_time": "2023-02-12T14:48:45.317Z"
   },
   {
    "duration": 1815,
    "start_time": "2023-02-12T14:49:24.890Z"
   },
   {
    "duration": 2003,
    "start_time": "2023-02-12T14:49:35.592Z"
   },
   {
    "duration": 2618,
    "start_time": "2023-02-12T14:50:01.418Z"
   },
   {
    "duration": 6,
    "start_time": "2023-02-12T14:52:31.837Z"
   },
   {
    "duration": 371,
    "start_time": "2023-02-12T14:58:05.137Z"
   },
   {
    "duration": 92,
    "start_time": "2023-02-12T14:58:38.452Z"
   },
   {
    "duration": 1629,
    "start_time": "2023-02-12T14:59:29.138Z"
   },
   {
    "duration": 2028,
    "start_time": "2023-02-12T15:00:43.493Z"
   },
   {
    "duration": 2277,
    "start_time": "2023-02-12T15:02:01.849Z"
   },
   {
    "duration": 1758,
    "start_time": "2023-02-12T15:02:39.903Z"
   },
   {
    "duration": 2316,
    "start_time": "2023-02-12T15:02:58.803Z"
   },
   {
    "duration": 15,
    "start_time": "2023-02-12T15:08:05.048Z"
   },
   {
    "duration": 464,
    "start_time": "2023-02-12T15:09:49.087Z"
   },
   {
    "duration": 1689,
    "start_time": "2023-02-12T15:11:08.428Z"
   },
   {
    "duration": 2082,
    "start_time": "2023-02-12T15:11:19.601Z"
   },
   {
    "duration": 1944,
    "start_time": "2023-02-12T15:12:30.816Z"
   },
   {
    "duration": 1561,
    "start_time": "2023-02-12T15:13:21.032Z"
   },
   {
    "duration": 1743,
    "start_time": "2023-02-12T15:13:36.315Z"
   },
   {
    "duration": 1919,
    "start_time": "2023-02-12T15:13:45.129Z"
   },
   {
    "duration": 1001,
    "start_time": "2023-02-12T15:13:59.603Z"
   },
   {
    "duration": 1181,
    "start_time": "2023-02-12T15:14:08.317Z"
   },
   {
    "duration": 9334,
    "start_time": "2023-02-12T15:14:15.595Z"
   },
   {
    "duration": 2409,
    "start_time": "2023-02-12T15:14:45.132Z"
   },
   {
    "duration": 47141,
    "start_time": "2023-02-12T15:15:11.155Z"
   },
   {
    "duration": 11421,
    "start_time": "2023-02-12T15:16:39.995Z"
   },
   {
    "duration": 41441,
    "start_time": "2023-02-12T15:17:10.428Z"
   },
   {
    "duration": 45422,
    "start_time": "2023-02-12T15:17:59.111Z"
   },
   {
    "duration": 50031,
    "start_time": "2023-02-12T15:18:59.257Z"
   },
   {
    "duration": 49605,
    "start_time": "2023-02-12T15:20:06.880Z"
   },
   {
    "duration": 4059,
    "start_time": "2023-02-12T15:21:11.719Z"
   },
   {
    "duration": 756,
    "start_time": "2023-02-12T15:21:34.638Z"
   },
   {
    "duration": 7630,
    "start_time": "2023-02-12T15:21:52.038Z"
   },
   {
    "duration": 7581,
    "start_time": "2023-02-12T15:25:24.500Z"
   },
   {
    "duration": 47956,
    "start_time": "2023-02-12T15:25:43.639Z"
   },
   {
    "duration": 13068,
    "start_time": "2023-02-12T15:26:58.029Z"
   },
   {
    "duration": 3019,
    "start_time": "2023-02-12T15:29:28.229Z"
   },
   {
    "duration": 405,
    "start_time": "2023-02-12T15:43:33.589Z"
   },
   {
    "duration": 808,
    "start_time": "2023-02-12T15:43:49.339Z"
   },
   {
    "duration": 785,
    "start_time": "2023-02-12T15:44:31.360Z"
   },
   {
    "duration": 1170,
    "start_time": "2023-02-12T15:44:44.240Z"
   },
   {
    "duration": 1299,
    "start_time": "2023-02-12T15:45:37.793Z"
   },
   {
    "duration": 73,
    "start_time": "2023-02-12T15:47:18.460Z"
   },
   {
    "duration": 21257,
    "start_time": "2023-02-12T15:48:03.885Z"
   },
   {
    "duration": 5122,
    "start_time": "2023-02-12T15:49:00.693Z"
   },
   {
    "duration": 3666,
    "start_time": "2023-02-12T15:49:22.411Z"
   },
   {
    "duration": 88,
    "start_time": "2023-02-12T15:59:38.184Z"
   },
   {
    "duration": 1742,
    "start_time": "2023-02-12T16:00:59.816Z"
   },
   {
    "duration": 1937,
    "start_time": "2023-02-12T16:01:35.816Z"
   },
   {
    "duration": 90,
    "start_time": "2023-02-12T16:01:52.795Z"
   },
   {
    "duration": 99,
    "start_time": "2023-02-12T16:02:01.926Z"
   },
   {
    "duration": 107,
    "start_time": "2023-02-12T16:02:09.316Z"
   },
   {
    "duration": 98,
    "start_time": "2023-02-12T16:02:16.298Z"
   },
   {
    "duration": 112,
    "start_time": "2023-02-12T16:02:20.734Z"
   },
   {
    "duration": 108,
    "start_time": "2023-02-12T16:02:26.236Z"
   },
   {
    "duration": 100,
    "start_time": "2023-02-12T16:02:31.498Z"
   },
   {
    "duration": 107,
    "start_time": "2023-02-12T16:02:37.377Z"
   },
   {
    "duration": 92,
    "start_time": "2023-02-12T16:02:43.216Z"
   },
   {
    "duration": 1628,
    "start_time": "2023-02-12T16:03:34.000Z"
   },
   {
    "duration": 77,
    "start_time": "2023-02-12T16:04:09.819Z"
   },
   {
    "duration": 2518,
    "start_time": "2023-02-12T16:05:59.056Z"
   },
   {
    "duration": 1484,
    "start_time": "2023-02-12T16:06:56.504Z"
   },
   {
    "duration": 1530,
    "start_time": "2023-02-12T16:07:06.288Z"
   },
   {
    "duration": 2500,
    "start_time": "2023-02-12T16:07:11.224Z"
   },
   {
    "duration": 1613,
    "start_time": "2023-02-12T16:07:22.880Z"
   },
   {
    "duration": 2996,
    "start_time": "2023-02-12T16:08:28.656Z"
   },
   {
    "duration": 1109,
    "start_time": "2023-02-12T16:09:18.096Z"
   },
   {
    "duration": 3451,
    "start_time": "2023-02-12T16:09:41.596Z"
   },
   {
    "duration": 2846,
    "start_time": "2023-02-12T16:10:38.437Z"
   },
   {
    "duration": 74,
    "start_time": "2023-02-12T16:12:19.907Z"
   },
   {
    "duration": 3802,
    "start_time": "2023-02-12T16:12:44.916Z"
   },
   {
    "duration": 3382,
    "start_time": "2023-02-12T16:13:00.017Z"
   },
   {
    "duration": 99,
    "start_time": "2023-02-12T16:13:17.291Z"
   },
   {
    "duration": 1325,
    "start_time": "2023-02-12T16:13:58.506Z"
   },
   {
    "duration": 1851,
    "start_time": "2023-02-12T16:14:17.968Z"
   },
   {
    "duration": 1224,
    "start_time": "2023-02-12T16:14:41.312Z"
   },
   {
    "duration": 2006,
    "start_time": "2023-02-12T16:15:12.957Z"
   },
   {
    "duration": 1271,
    "start_time": "2023-02-12T16:15:29.084Z"
   },
   {
    "duration": 1443,
    "start_time": "2023-02-12T16:16:35.420Z"
   },
   {
    "duration": 4305,
    "start_time": "2023-02-12T16:16:55.607Z"
   },
   {
    "duration": 794,
    "start_time": "2023-02-12T16:18:08.058Z"
   },
   {
    "duration": 1420,
    "start_time": "2023-02-12T16:19:14.036Z"
   },
   {
    "duration": 784,
    "start_time": "2023-02-12T16:19:19.028Z"
   },
   {
    "duration": 1157,
    "start_time": "2023-02-12T16:19:26.808Z"
   },
   {
    "duration": 3632,
    "start_time": "2023-02-12T16:19:47.566Z"
   },
   {
    "duration": 3493,
    "start_time": "2023-02-12T16:20:18.036Z"
   },
   {
    "duration": 1114,
    "start_time": "2023-02-12T16:22:28.803Z"
   },
   {
    "duration": 882,
    "start_time": "2023-02-12T16:23:06.880Z"
   },
   {
    "duration": 1526,
    "start_time": "2023-02-12T16:23:19.644Z"
   },
   {
    "duration": 4777,
    "start_time": "2023-02-12T16:23:47.527Z"
   },
   {
    "duration": 1297,
    "start_time": "2023-02-12T16:24:25.035Z"
   },
   {
    "duration": 896,
    "start_time": "2023-02-12T16:24:38.308Z"
   },
   {
    "duration": 1254,
    "start_time": "2023-02-12T16:25:00.967Z"
   },
   {
    "duration": 3183,
    "start_time": "2023-02-12T16:25:20.998Z"
   },
   {
    "duration": 3450,
    "start_time": "2023-02-12T16:25:38.160Z"
   },
   {
    "duration": 88874,
    "start_time": "2023-02-12T16:41:47.037Z"
   },
   {
    "duration": 85210,
    "start_time": "2023-02-12T16:45:37.627Z"
   },
   {
    "duration": 63871,
    "start_time": "2023-02-12T16:47:54.396Z"
   },
   {
    "duration": 9,
    "start_time": "2023-02-12T16:55:49.607Z"
   },
   {
    "duration": 9,
    "start_time": "2023-02-12T16:56:22.936Z"
   },
   {
    "duration": 76,
    "start_time": "2023-02-12T16:57:15.316Z"
   },
   {
    "duration": 5,
    "start_time": "2023-02-12T17:12:52.756Z"
   },
   {
    "duration": 1049,
    "start_time": "2023-02-12T17:13:54.797Z"
   },
   {
    "duration": 66,
    "start_time": "2023-02-12T17:13:58.348Z"
   },
   {
    "duration": 13,
    "start_time": "2023-02-12T17:14:00.148Z"
   },
   {
    "duration": 14,
    "start_time": "2023-02-12T17:14:00.625Z"
   },
   {
    "duration": 6,
    "start_time": "2023-02-12T17:14:02.588Z"
   },
   {
    "duration": 7,
    "start_time": "2023-02-12T17:14:03.398Z"
   },
   {
    "duration": 7,
    "start_time": "2023-02-12T17:14:04.557Z"
   },
   {
    "duration": 4,
    "start_time": "2023-02-12T17:14:05.348Z"
   },
   {
    "duration": 6,
    "start_time": "2023-02-12T17:14:06.546Z"
   },
   {
    "duration": 12,
    "start_time": "2023-02-12T17:14:07.388Z"
   },
   {
    "duration": 6,
    "start_time": "2023-02-12T17:14:08.319Z"
   },
   {
    "duration": 6,
    "start_time": "2023-02-12T17:14:08.758Z"
   },
   {
    "duration": 13,
    "start_time": "2023-02-12T17:14:09.648Z"
   },
   {
    "duration": 15,
    "start_time": "2023-02-12T17:14:10.098Z"
   },
   {
    "duration": 5,
    "start_time": "2023-02-12T17:14:11.038Z"
   },
   {
    "duration": 5,
    "start_time": "2023-02-12T17:14:11.488Z"
   },
   {
    "duration": 4,
    "start_time": "2023-02-12T17:14:11.978Z"
   },
   {
    "duration": 27,
    "start_time": "2023-02-12T17:14:12.915Z"
   },
   {
    "duration": 5,
    "start_time": "2023-02-12T17:14:14.857Z"
   },
   {
    "duration": 6,
    "start_time": "2023-02-12T17:14:15.938Z"
   },
   {
    "duration": 7,
    "start_time": "2023-02-12T17:14:16.758Z"
   },
   {
    "duration": 375,
    "start_time": "2023-02-12T17:14:21.826Z"
   },
   {
    "duration": 1791,
    "start_time": "2023-02-12T17:14:26.068Z"
   },
   {
    "duration": 1960,
    "start_time": "2023-02-12T17:14:39.136Z"
   },
   {
    "duration": 2242,
    "start_time": "2023-02-12T17:15:13.507Z"
   },
   {
    "duration": 5,
    "start_time": "2023-02-12T17:15:20.758Z"
   },
   {
    "duration": 408,
    "start_time": "2023-02-12T17:15:24.328Z"
   },
   {
    "duration": 1786,
    "start_time": "2023-02-12T17:15:31.508Z"
   },
   {
    "duration": 1348,
    "start_time": "2023-02-12T17:15:53.256Z"
   },
   {
    "duration": 2316,
    "start_time": "2023-02-12T17:16:02.547Z"
   },
   {
    "duration": 1500,
    "start_time": "2023-02-12T17:16:20.688Z"
   },
   {
    "duration": 2869,
    "start_time": "2023-02-12T17:16:37.185Z"
   },
   {
    "duration": 13,
    "start_time": "2023-02-12T17:16:50.395Z"
   },
   {
    "duration": 881,
    "start_time": "2023-02-12T17:16:59.332Z"
   },
   {
    "duration": 651,
    "start_time": "2023-02-12T17:17:11.879Z"
   },
   {
    "duration": 835,
    "start_time": "2023-02-12T17:18:03.337Z"
   },
   {
    "duration": 876,
    "start_time": "2023-02-12T17:18:11.716Z"
   },
   {
    "duration": 935,
    "start_time": "2023-02-12T17:19:01.735Z"
   },
   {
    "duration": 3002,
    "start_time": "2023-02-12T17:19:47.546Z"
   },
   {
    "duration": 60912,
    "start_time": "2023-02-12T17:24:35.919Z"
   },
   {
    "duration": 61007,
    "start_time": "2023-02-12T17:25:56.281Z"
   },
   {
    "duration": 101,
    "start_time": "2023-02-12T17:28:22.099Z"
   },
   {
    "duration": 9,
    "start_time": "2023-02-12T17:28:50.167Z"
   },
   {
    "duration": 72,
    "start_time": "2023-02-12T17:34:22.396Z"
   },
   {
    "duration": 92,
    "start_time": "2023-02-12T17:37:26.738Z"
   },
   {
    "duration": 1387,
    "start_time": "2023-02-13T10:59:06.315Z"
   },
   {
    "duration": 213,
    "start_time": "2023-02-13T10:59:07.704Z"
   },
   {
    "duration": 11,
    "start_time": "2023-02-13T10:59:07.919Z"
   },
   {
    "duration": 15,
    "start_time": "2023-02-13T10:59:07.932Z"
   },
   {
    "duration": 14,
    "start_time": "2023-02-13T10:59:07.948Z"
   },
   {
    "duration": 16,
    "start_time": "2023-02-13T10:59:07.963Z"
   },
   {
    "duration": 11,
    "start_time": "2023-02-13T10:59:07.981Z"
   },
   {
    "duration": 8,
    "start_time": "2023-02-13T10:59:07.993Z"
   },
   {
    "duration": 7,
    "start_time": "2023-02-13T10:59:08.002Z"
   },
   {
    "duration": 13,
    "start_time": "2023-02-13T10:59:08.011Z"
   },
   {
    "duration": 4,
    "start_time": "2023-02-13T10:59:08.025Z"
   },
   {
    "duration": 11,
    "start_time": "2023-02-13T10:59:08.031Z"
   },
   {
    "duration": 12,
    "start_time": "2023-02-13T10:59:08.043Z"
   },
   {
    "duration": 16,
    "start_time": "2023-02-13T10:59:08.056Z"
   },
   {
    "duration": 13,
    "start_time": "2023-02-13T10:59:08.074Z"
   },
   {
    "duration": 7,
    "start_time": "2023-02-13T10:59:08.088Z"
   },
   {
    "duration": 6,
    "start_time": "2023-02-13T10:59:08.096Z"
   },
   {
    "duration": 27,
    "start_time": "2023-02-13T10:59:08.103Z"
   },
   {
    "duration": 4,
    "start_time": "2023-02-13T10:59:08.131Z"
   },
   {
    "duration": 8,
    "start_time": "2023-02-13T10:59:08.137Z"
   },
   {
    "duration": 34,
    "start_time": "2023-02-13T10:59:08.146Z"
   },
   {
    "duration": 357,
    "start_time": "2023-02-13T10:59:08.181Z"
   },
   {
    "duration": 1716,
    "start_time": "2023-02-13T10:59:08.539Z"
   },
   {
    "duration": 1894,
    "start_time": "2023-02-13T10:59:10.257Z"
   },
   {
    "duration": 2416,
    "start_time": "2023-02-13T10:59:12.152Z"
   },
   {
    "duration": 12,
    "start_time": "2023-02-13T10:59:14.570Z"
   },
   {
    "duration": 468,
    "start_time": "2023-02-13T10:59:14.587Z"
   },
   {
    "duration": 1264,
    "start_time": "2023-02-13T10:59:15.068Z"
   },
   {
    "duration": 1376,
    "start_time": "2023-02-13T10:59:16.333Z"
   },
   {
    "duration": 2271,
    "start_time": "2023-02-13T10:59:17.710Z"
   },
   {
    "duration": 96,
    "start_time": "2023-02-13T10:59:19.985Z"
   },
   {
    "duration": 704,
    "start_time": "2023-02-13T10:59:20.083Z"
   },
   {
    "duration": 912,
    "start_time": "2023-02-13T10:59:20.788Z"
   },
   {
    "duration": 961,
    "start_time": "2023-02-13T10:59:21.702Z"
   },
   {
    "duration": 2915,
    "start_time": "2023-02-13T10:59:22.667Z"
   },
   {
    "duration": 58521,
    "start_time": "2023-02-13T10:59:25.584Z"
   },
   {
    "duration": 9,
    "start_time": "2023-02-13T11:00:24.106Z"
   },
   {
    "duration": 81,
    "start_time": "2023-02-13T11:00:24.117Z"
   },
   {
    "duration": 3,
    "start_time": "2023-02-13T11:16:28.698Z"
   },
   {
    "duration": 1145,
    "start_time": "2023-02-14T15:32:04.789Z"
   },
   {
    "duration": 213,
    "start_time": "2023-02-14T15:32:08.549Z"
   },
   {
    "duration": 12,
    "start_time": "2023-02-14T15:32:11.068Z"
   },
   {
    "duration": 13,
    "start_time": "2023-02-14T15:32:11.239Z"
   },
   {
    "duration": 6,
    "start_time": "2023-02-14T15:32:18.331Z"
   },
   {
    "duration": 8,
    "start_time": "2023-02-14T15:32:23.830Z"
   },
   {
    "duration": 8,
    "start_time": "2023-02-14T15:32:26.670Z"
   },
   {
    "duration": 4,
    "start_time": "2023-02-14T15:32:27.530Z"
   },
   {
    "duration": 5,
    "start_time": "2023-02-14T15:32:29.080Z"
   },
   {
    "duration": 12,
    "start_time": "2023-02-14T15:32:32.679Z"
   },
   {
    "duration": 7,
    "start_time": "2023-02-14T15:32:36.239Z"
   },
   {
    "duration": 7,
    "start_time": "2023-02-14T15:32:36.629Z"
   },
   {
    "duration": 15,
    "start_time": "2023-02-14T15:32:38.020Z"
   },
   {
    "duration": 16,
    "start_time": "2023-02-14T15:32:41.398Z"
   },
   {
    "duration": 7,
    "start_time": "2023-02-14T15:32:54.279Z"
   },
   {
    "duration": 6,
    "start_time": "2023-02-14T15:32:54.719Z"
   },
   {
    "duration": 6,
    "start_time": "2023-02-14T15:32:55.119Z"
   },
   {
    "duration": 6,
    "start_time": "2023-02-14T15:32:59.630Z"
   },
   {
    "duration": 7,
    "start_time": "2023-02-14T15:33:01.017Z"
   },
   {
    "duration": 6,
    "start_time": "2023-02-14T15:33:04.155Z"
   },
   {
    "duration": 27,
    "start_time": "2023-02-14T15:33:09.063Z"
   },
   {
    "duration": 118,
    "start_time": "2023-02-14T15:34:39.739Z"
   },
   {
    "duration": 10,
    "start_time": "2023-02-14T15:37:32.429Z"
   },
   {
    "duration": 26,
    "start_time": "2023-02-14T15:40:15.539Z"
   },
   {
    "duration": 10,
    "start_time": "2023-02-14T15:42:54.690Z"
   },
   {
    "duration": 11,
    "start_time": "2023-02-14T15:43:05.429Z"
   },
   {
    "duration": 16,
    "start_time": "2023-02-14T15:43:10.280Z"
   },
   {
    "duration": 9,
    "start_time": "2023-02-14T15:43:32.270Z"
   },
   {
    "duration": 8,
    "start_time": "2023-02-14T15:43:38.381Z"
   },
   {
    "duration": 10,
    "start_time": "2023-02-14T15:44:17.270Z"
   },
   {
    "duration": 9,
    "start_time": "2023-02-14T15:44:23.730Z"
   },
   {
    "duration": 18,
    "start_time": "2023-02-14T15:44:38.920Z"
   },
   {
    "duration": 17,
    "start_time": "2023-02-14T15:44:45.821Z"
   },
   {
    "duration": 9,
    "start_time": "2023-02-14T15:44:52.859Z"
   },
   {
    "duration": 16,
    "start_time": "2023-02-14T15:44:55.440Z"
   },
   {
    "duration": 1046,
    "start_time": "2023-02-14T15:45:12.452Z"
   },
   {
    "duration": 57,
    "start_time": "2023-02-14T15:45:17.649Z"
   },
   {
    "duration": 13,
    "start_time": "2023-02-14T15:45:18.879Z"
   },
   {
    "duration": 13,
    "start_time": "2023-02-14T15:45:19.239Z"
   },
   {
    "duration": 5,
    "start_time": "2023-02-14T15:45:21.447Z"
   },
   {
    "duration": 6,
    "start_time": "2023-02-14T15:45:22.391Z"
   },
   {
    "duration": 6,
    "start_time": "2023-02-14T15:45:23.329Z"
   },
   {
    "duration": 4,
    "start_time": "2023-02-14T15:45:23.919Z"
   },
   {
    "duration": 5,
    "start_time": "2023-02-14T15:45:25.160Z"
   },
   {
    "duration": 12,
    "start_time": "2023-02-14T15:45:26.120Z"
   },
   {
    "duration": 6,
    "start_time": "2023-02-14T15:45:26.789Z"
   },
   {
    "duration": 7,
    "start_time": "2023-02-14T15:45:27.109Z"
   },
   {
    "duration": 16,
    "start_time": "2023-02-14T15:45:27.810Z"
   },
   {
    "duration": 16,
    "start_time": "2023-02-14T15:45:32.179Z"
   },
   {
    "duration": 6,
    "start_time": "2023-02-14T15:45:42.600Z"
   },
   {
    "duration": 4,
    "start_time": "2023-02-14T15:45:43.059Z"
   },
   {
    "duration": 5,
    "start_time": "2023-02-14T15:45:43.472Z"
   },
   {
    "duration": 6,
    "start_time": "2023-02-14T15:45:50.379Z"
   },
   {
    "duration": 7,
    "start_time": "2023-02-14T15:45:53.829Z"
   },
   {
    "duration": 6,
    "start_time": "2023-02-14T15:45:56.881Z"
   },
   {
    "duration": 11,
    "start_time": "2023-02-14T15:46:03.639Z"
   },
   {
    "duration": 19,
    "start_time": "2023-02-14T15:46:43.568Z"
   },
   {
    "duration": 16,
    "start_time": "2023-02-14T15:49:29.837Z"
   },
   {
    "duration": 13,
    "start_time": "2023-02-14T15:49:33.260Z"
   },
   {
    "duration": 7,
    "start_time": "2023-02-14T15:49:35.569Z"
   },
   {
    "duration": 11,
    "start_time": "2023-02-14T15:49:43.099Z"
   },
   {
    "duration": 11,
    "start_time": "2023-02-14T15:49:46.439Z"
   },
   {
    "duration": 10,
    "start_time": "2023-02-14T15:49:48.049Z"
   },
   {
    "duration": 13,
    "start_time": "2023-02-14T15:50:09.259Z"
   },
   {
    "duration": 14,
    "start_time": "2023-02-14T15:50:23.659Z"
   },
   {
    "duration": 13,
    "start_time": "2023-02-14T15:50:26.087Z"
   },
   {
    "duration": 12,
    "start_time": "2023-02-14T15:50:28.511Z"
   },
   {
    "duration": 1134,
    "start_time": "2023-02-14T15:50:44.819Z"
   },
   {
    "duration": 57,
    "start_time": "2023-02-14T15:50:48.849Z"
   },
   {
    "duration": 17,
    "start_time": "2023-02-14T15:50:49.179Z"
   },
   {
    "duration": 13,
    "start_time": "2023-02-14T15:50:49.539Z"
   },
   {
    "duration": 6,
    "start_time": "2023-02-14T15:50:51.748Z"
   },
   {
    "duration": 7,
    "start_time": "2023-02-14T15:50:52.626Z"
   },
   {
    "duration": 6,
    "start_time": "2023-02-14T15:50:53.548Z"
   },
   {
    "duration": 4,
    "start_time": "2023-02-14T15:50:54.188Z"
   },
   {
    "duration": 5,
    "start_time": "2023-02-14T15:50:55.446Z"
   },
   {
    "duration": 16,
    "start_time": "2023-02-14T15:50:56.398Z"
   },
   {
    "duration": 6,
    "start_time": "2023-02-14T15:50:57.098Z"
   },
   {
    "duration": 8,
    "start_time": "2023-02-14T15:50:57.458Z"
   },
   {
    "duration": 12,
    "start_time": "2023-02-14T15:50:58.149Z"
   },
   {
    "duration": 10,
    "start_time": "2023-02-14T15:50:59.029Z"
   },
   {
    "duration": 4,
    "start_time": "2023-02-14T15:51:00.699Z"
   },
   {
    "duration": 5,
    "start_time": "2023-02-14T15:51:01.128Z"
   },
   {
    "duration": 4,
    "start_time": "2023-02-14T15:51:01.620Z"
   },
   {
    "duration": 5,
    "start_time": "2023-02-14T15:51:07.146Z"
   },
   {
    "duration": 6,
    "start_time": "2023-02-14T15:51:07.946Z"
   },
   {
    "duration": 7,
    "start_time": "2023-02-14T15:51:08.968Z"
   },
   {
    "duration": 16,
    "start_time": "2023-02-14T15:51:13.318Z"
   },
   {
    "duration": 9,
    "start_time": "2023-02-14T15:51:30.068Z"
   },
   {
    "duration": 11,
    "start_time": "2023-02-14T15:51:34.659Z"
   },
   {
    "duration": 16,
    "start_time": "2023-02-14T15:51:38.849Z"
   },
   {
    "duration": 10,
    "start_time": "2023-02-14T15:51:42.567Z"
   },
   {
    "duration": 11,
    "start_time": "2023-02-14T15:51:47.509Z"
   },
   {
    "duration": 13,
    "start_time": "2023-02-14T15:51:51.288Z"
   },
   {
    "duration": 5,
    "start_time": "2023-02-14T15:56:03.209Z"
   },
   {
    "duration": 7,
    "start_time": "2023-02-14T15:56:11.549Z"
   },
   {
    "duration": 98,
    "start_time": "2023-02-14T15:56:13.519Z"
   },
   {
    "duration": 9,
    "start_time": "2023-02-14T15:56:21.468Z"
   },
   {
    "duration": 7,
    "start_time": "2023-02-14T15:56:24.439Z"
   },
   {
    "duration": 1092,
    "start_time": "2023-02-14T15:56:48.737Z"
   },
   {
    "duration": 58,
    "start_time": "2023-02-14T15:56:54.067Z"
   },
   {
    "duration": 15,
    "start_time": "2023-02-14T15:56:54.429Z"
   },
   {
    "duration": 13,
    "start_time": "2023-02-14T15:56:54.799Z"
   },
   {
    "duration": 5,
    "start_time": "2023-02-14T15:56:56.940Z"
   },
   {
    "duration": 7,
    "start_time": "2023-02-14T15:56:57.859Z"
   },
   {
    "duration": 6,
    "start_time": "2023-02-14T15:56:58.799Z"
   },
   {
    "duration": 4,
    "start_time": "2023-02-14T15:56:59.519Z"
   },
   {
    "duration": 5,
    "start_time": "2023-02-14T15:57:00.877Z"
   },
   {
    "duration": 11,
    "start_time": "2023-02-14T15:57:01.959Z"
   },
   {
    "duration": 5,
    "start_time": "2023-02-14T15:57:02.839Z"
   },
   {
    "duration": 5,
    "start_time": "2023-02-14T15:57:03.216Z"
   },
   {
    "duration": 11,
    "start_time": "2023-02-14T15:57:07.727Z"
   },
   {
    "duration": 11,
    "start_time": "2023-02-14T15:57:12.376Z"
   },
   {
    "duration": 5,
    "start_time": "2023-02-14T15:57:15.839Z"
   },
   {
    "duration": 4,
    "start_time": "2023-02-14T15:57:16.199Z"
   },
   {
    "duration": 5,
    "start_time": "2023-02-14T15:57:16.660Z"
   },
   {
    "duration": 5,
    "start_time": "2023-02-14T15:57:23.027Z"
   },
   {
    "duration": 6,
    "start_time": "2023-02-14T15:57:26.917Z"
   },
   {
    "duration": 7,
    "start_time": "2023-02-14T15:57:27.717Z"
   },
   {
    "duration": 8,
    "start_time": "2023-02-14T15:57:38.879Z"
   },
   {
    "duration": 6,
    "start_time": "2023-02-14T15:57:47.126Z"
   },
   {
    "duration": 102,
    "start_time": "2023-02-14T15:57:50.829Z"
   },
   {
    "duration": 4,
    "start_time": "2023-02-14T15:57:58.629Z"
   },
   {
    "duration": 16,
    "start_time": "2023-02-14T15:58:25.299Z"
   },
   {
    "duration": 1078,
    "start_time": "2023-02-14T16:04:38.699Z"
   },
   {
    "duration": 57,
    "start_time": "2023-02-14T16:04:42.720Z"
   },
   {
    "duration": 12,
    "start_time": "2023-02-14T16:04:43.120Z"
   },
   {
    "duration": 14,
    "start_time": "2023-02-14T16:04:43.449Z"
   },
   {
    "duration": 7,
    "start_time": "2023-02-14T16:04:45.862Z"
   },
   {
    "duration": 6,
    "start_time": "2023-02-14T16:04:46.848Z"
   },
   {
    "duration": 6,
    "start_time": "2023-02-14T16:04:47.829Z"
   },
   {
    "duration": 4,
    "start_time": "2023-02-14T16:04:48.588Z"
   },
   {
    "duration": 5,
    "start_time": "2023-02-14T16:04:49.978Z"
   },
   {
    "duration": 12,
    "start_time": "2023-02-14T16:04:51.020Z"
   },
   {
    "duration": 5,
    "start_time": "2023-02-14T16:04:51.718Z"
   },
   {
    "duration": 5,
    "start_time": "2023-02-14T16:04:52.020Z"
   },
   {
    "duration": 11,
    "start_time": "2023-02-14T16:04:52.640Z"
   },
   {
    "duration": 11,
    "start_time": "2023-02-14T16:04:53.339Z"
   },
   {
    "duration": 5,
    "start_time": "2023-02-14T16:04:54.712Z"
   },
   {
    "duration": 4,
    "start_time": "2023-02-14T16:04:55.080Z"
   },
   {
    "duration": 4,
    "start_time": "2023-02-14T16:04:55.479Z"
   },
   {
    "duration": 5,
    "start_time": "2023-02-14T16:04:58.820Z"
   },
   {
    "duration": 6,
    "start_time": "2023-02-14T16:04:59.779Z"
   },
   {
    "duration": 6,
    "start_time": "2023-02-14T16:05:00.670Z"
   },
   {
    "duration": 4,
    "start_time": "2023-02-14T16:05:10.299Z"
   },
   {
    "duration": 9,
    "start_time": "2023-02-14T16:05:11.527Z"
   },
   {
    "duration": 21,
    "start_time": "2023-02-14T16:05:16.878Z"
   },
   {
    "duration": 11,
    "start_time": "2023-02-14T16:05:19.399Z"
   },
   {
    "duration": 11,
    "start_time": "2023-02-14T16:05:26.479Z"
   },
   {
    "duration": 11,
    "start_time": "2023-02-14T16:05:29.726Z"
   },
   {
    "duration": 343,
    "start_time": "2023-02-14T16:05:38.350Z"
   },
   {
    "duration": 1630,
    "start_time": "2023-02-14T16:05:51.949Z"
   },
   {
    "duration": 1835,
    "start_time": "2023-02-14T16:06:00.959Z"
   },
   {
    "duration": 2601,
    "start_time": "2023-02-14T16:06:23.599Z"
   },
   {
    "duration": 5,
    "start_time": "2023-02-14T16:06:30.578Z"
   },
   {
    "duration": 371,
    "start_time": "2023-02-14T16:06:35.920Z"
   },
   {
    "duration": 1310,
    "start_time": "2023-02-14T16:06:43.889Z"
   },
   {
    "duration": 1441,
    "start_time": "2023-02-14T16:06:48.599Z"
   },
   {
    "duration": 2991,
    "start_time": "2023-02-14T16:07:18.200Z"
   },
   {
    "duration": 113,
    "start_time": "2023-02-14T16:07:34.939Z"
   },
   {
    "duration": 4,
    "start_time": "2023-02-14T16:57:57.498Z"
   },
   {
    "duration": 1112,
    "start_time": "2023-02-14T16:58:07.330Z"
   },
   {
    "duration": 59,
    "start_time": "2023-02-14T16:58:11.322Z"
   },
   {
    "duration": 13,
    "start_time": "2023-02-14T16:58:13.677Z"
   },
   {
    "duration": 13,
    "start_time": "2023-02-14T16:58:16.636Z"
   },
   {
    "duration": 6,
    "start_time": "2023-02-14T16:58:21.724Z"
   },
   {
    "duration": 6,
    "start_time": "2023-02-14T16:58:24.798Z"
   },
   {
    "duration": 6,
    "start_time": "2023-02-14T16:58:28.668Z"
   },
   {
    "duration": 5,
    "start_time": "2023-02-14T16:58:32.058Z"
   },
   {
    "duration": 5,
    "start_time": "2023-02-14T16:58:37.757Z"
   },
   {
    "duration": 11,
    "start_time": "2023-02-14T16:58:41.897Z"
   },
   {
    "duration": 5,
    "start_time": "2023-02-14T16:58:46.024Z"
   },
   {
    "duration": 5,
    "start_time": "2023-02-14T16:58:46.386Z"
   },
   {
    "duration": 4,
    "start_time": "2023-02-14T16:58:51.268Z"
   },
   {
    "duration": 4,
    "start_time": "2023-02-14T16:58:51.638Z"
   },
   {
    "duration": 3,
    "start_time": "2023-02-14T16:58:52.058Z"
   },
   {
    "duration": 4,
    "start_time": "2023-02-14T16:58:57.397Z"
   },
   {
    "duration": 6,
    "start_time": "2023-02-14T16:58:58.437Z"
   },
   {
    "duration": 5,
    "start_time": "2023-02-14T16:58:59.438Z"
   },
   {
    "duration": 11,
    "start_time": "2023-02-14T16:59:11.135Z"
   },
   {
    "duration": 25,
    "start_time": "2023-02-14T16:59:14.896Z"
   },
   {
    "duration": 11,
    "start_time": "2023-02-14T16:59:33.228Z"
   },
   {
    "duration": 11,
    "start_time": "2023-02-14T16:59:50.944Z"
   },
   {
    "duration": 12,
    "start_time": "2023-02-14T16:59:58.214Z"
   },
   {
    "duration": 12,
    "start_time": "2023-02-14T17:02:45.937Z"
   },
   {
    "duration": 78,
    "start_time": "2023-02-14T17:02:55.947Z"
   },
   {
    "duration": 11,
    "start_time": "2023-02-14T17:03:03.368Z"
   },
   {
    "duration": 10,
    "start_time": "2023-02-14T17:04:25.277Z"
   },
   {
    "duration": 15,
    "start_time": "2023-02-14T17:04:56.598Z"
   },
   {
    "duration": 16,
    "start_time": "2023-02-14T17:06:01.527Z"
   },
   {
    "duration": 16,
    "start_time": "2023-02-14T17:06:24.731Z"
   },
   {
    "duration": 27,
    "start_time": "2023-02-14T17:07:46.579Z"
   },
   {
    "duration": 1080,
    "start_time": "2023-02-14T17:08:09.918Z"
   },
   {
    "duration": 55,
    "start_time": "2023-02-14T17:08:11.001Z"
   },
   {
    "duration": 12,
    "start_time": "2023-02-14T17:08:16.179Z"
   },
   {
    "duration": 15,
    "start_time": "2023-02-14T17:08:16.579Z"
   },
   {
    "duration": 6,
    "start_time": "2023-02-14T17:08:19.157Z"
   },
   {
    "duration": 6,
    "start_time": "2023-02-14T17:08:20.260Z"
   },
   {
    "duration": 6,
    "start_time": "2023-02-14T17:08:21.319Z"
   },
   {
    "duration": 4,
    "start_time": "2023-02-14T17:08:22.069Z"
   },
   {
    "duration": 6,
    "start_time": "2023-02-14T17:08:23.648Z"
   },
   {
    "duration": 12,
    "start_time": "2023-02-14T17:08:30.059Z"
   },
   {
    "duration": 5,
    "start_time": "2023-02-14T17:08:40.218Z"
   },
   {
    "duration": 5,
    "start_time": "2023-02-14T17:08:40.628Z"
   },
   {
    "duration": 6,
    "start_time": "2023-02-14T17:08:50.216Z"
   },
   {
    "duration": 5,
    "start_time": "2023-02-14T17:08:50.612Z"
   },
   {
    "duration": 5,
    "start_time": "2023-02-14T17:08:50.999Z"
   },
   {
    "duration": 4,
    "start_time": "2023-02-14T17:08:56.888Z"
   },
   {
    "duration": 6,
    "start_time": "2023-02-14T17:08:58.119Z"
   },
   {
    "duration": 6,
    "start_time": "2023-02-14T17:08:59.198Z"
   },
   {
    "duration": 9,
    "start_time": "2023-02-14T17:09:08.559Z"
   },
   {
    "duration": 23,
    "start_time": "2023-02-14T17:09:09.279Z"
   },
   {
    "duration": 11,
    "start_time": "2023-02-14T17:09:17.939Z"
   },
   {
    "duration": 11,
    "start_time": "2023-02-14T17:09:22.379Z"
   },
   {
    "duration": 12,
    "start_time": "2023-02-14T17:09:27.151Z"
   },
   {
    "duration": 18,
    "start_time": "2023-02-14T17:09:31.471Z"
   },
   {
    "duration": 15,
    "start_time": "2023-02-14T17:09:53.477Z"
   },
   {
    "duration": 16,
    "start_time": "2023-02-14T17:09:57.469Z"
   },
   {
    "duration": 341,
    "start_time": "2023-02-14T17:10:02.939Z"
   },
   {
    "duration": 1633,
    "start_time": "2023-02-14T17:10:11.139Z"
   },
   {
    "duration": 1847,
    "start_time": "2023-02-14T17:10:23.559Z"
   },
   {
    "duration": 3005,
    "start_time": "2023-02-14T17:10:28.387Z"
   },
   {
    "duration": 6,
    "start_time": "2023-02-14T17:10:34.558Z"
   },
   {
    "duration": 358,
    "start_time": "2023-02-14T17:10:38.943Z"
   },
   {
    "duration": 1313,
    "start_time": "2023-02-14T17:10:44.152Z"
   },
   {
    "duration": 1505,
    "start_time": "2023-02-14T17:10:49.670Z"
   },
   {
    "duration": 3012,
    "start_time": "2023-02-14T17:10:55.879Z"
   },
   {
    "duration": 12,
    "start_time": "2023-02-14T17:11:04.400Z"
   },
   {
    "duration": 608,
    "start_time": "2023-02-14T17:11:09.496Z"
   },
   {
    "duration": 861,
    "start_time": "2023-02-14T17:11:29.872Z"
   },
   {
    "duration": 838,
    "start_time": "2023-02-14T17:11:37.615Z"
   },
   {
    "duration": 3006,
    "start_time": "2023-02-14T17:11:43.100Z"
   },
   {
    "duration": 56724,
    "start_time": "2023-02-14T17:11:52.429Z"
   },
   {
    "duration": 9,
    "start_time": "2023-02-14T17:12:59.432Z"
   },
   {
    "duration": 82,
    "start_time": "2023-02-14T17:13:16.467Z"
   },
   {
    "duration": 908,
    "start_time": "2023-02-15T09:50:40.915Z"
   },
   {
    "duration": 51,
    "start_time": "2023-02-15T09:50:41.825Z"
   },
   {
    "duration": 11,
    "start_time": "2023-02-15T09:50:41.878Z"
   },
   {
    "duration": 16,
    "start_time": "2023-02-15T09:50:41.891Z"
   },
   {
    "duration": 5,
    "start_time": "2023-02-15T09:50:41.909Z"
   },
   {
    "duration": 11,
    "start_time": "2023-02-15T09:50:41.915Z"
   },
   {
    "duration": 15,
    "start_time": "2023-02-15T09:50:41.928Z"
   },
   {
    "duration": 14,
    "start_time": "2023-02-15T09:50:41.944Z"
   },
   {
    "duration": 8,
    "start_time": "2023-02-15T09:50:41.960Z"
   },
   {
    "duration": 12,
    "start_time": "2023-02-15T09:50:41.970Z"
   },
   {
    "duration": 5,
    "start_time": "2023-02-15T09:50:41.983Z"
   },
   {
    "duration": 9,
    "start_time": "2023-02-15T09:50:41.993Z"
   },
   {
    "duration": 9,
    "start_time": "2023-02-15T09:50:42.003Z"
   },
   {
    "duration": 14,
    "start_time": "2023-02-15T09:50:42.013Z"
   },
   {
    "duration": 5,
    "start_time": "2023-02-15T09:50:42.029Z"
   },
   {
    "duration": 7,
    "start_time": "2023-02-15T09:50:42.036Z"
   },
   {
    "duration": 9,
    "start_time": "2023-02-15T09:50:42.045Z"
   },
   {
    "duration": 5,
    "start_time": "2023-02-15T09:50:42.056Z"
   },
   {
    "duration": 18,
    "start_time": "2023-02-15T09:50:42.062Z"
   },
   {
    "duration": 24,
    "start_time": "2023-02-15T09:50:42.082Z"
   },
   {
    "duration": 12,
    "start_time": "2023-02-15T09:50:42.108Z"
   },
   {
    "duration": 18,
    "start_time": "2023-02-15T09:50:42.121Z"
   },
   {
    "duration": 14,
    "start_time": "2023-02-15T09:50:42.141Z"
   },
   {
    "duration": 21,
    "start_time": "2023-02-15T09:50:42.156Z"
   },
   {
    "duration": 29,
    "start_time": "2023-02-15T09:50:42.178Z"
   },
   {
    "duration": 15,
    "start_time": "2023-02-15T09:50:42.209Z"
   },
   {
    "duration": 380,
    "start_time": "2023-02-15T09:50:42.226Z"
   },
   {
    "duration": 1791,
    "start_time": "2023-02-15T09:50:42.609Z"
   },
   {
    "duration": 1812,
    "start_time": "2023-02-15T09:50:44.402Z"
   },
   {
    "duration": 2688,
    "start_time": "2023-02-15T09:50:46.215Z"
   },
   {
    "duration": 96,
    "start_time": "2023-02-15T09:50:48.905Z"
   },
   {
    "duration": 442,
    "start_time": "2023-02-15T09:50:49.004Z"
   },
   {
    "duration": 1198,
    "start_time": "2023-02-15T09:50:49.447Z"
   },
   {
    "duration": 1376,
    "start_time": "2023-02-15T09:50:50.647Z"
   },
   {
    "duration": 2683,
    "start_time": "2023-02-15T09:50:52.024Z"
   },
   {
    "duration": 89,
    "start_time": "2023-02-15T09:50:54.709Z"
   },
   {
    "duration": 716,
    "start_time": "2023-02-15T09:50:54.801Z"
   },
   {
    "duration": 839,
    "start_time": "2023-02-15T09:50:55.518Z"
   },
   {
    "duration": 832,
    "start_time": "2023-02-15T09:50:56.358Z"
   },
   {
    "duration": 3200,
    "start_time": "2023-02-15T09:50:57.194Z"
   },
   {
    "duration": 56892,
    "start_time": "2023-02-15T09:51:00.396Z"
   },
   {
    "duration": 9,
    "start_time": "2023-02-15T09:51:57.289Z"
   },
   {
    "duration": 71,
    "start_time": "2023-02-15T09:51:57.299Z"
   }
  ],
  "kernelspec": {
   "display_name": "Python 3 (ipykernel)",
   "language": "python",
   "name": "python3"
  },
  "language_info": {
   "codemirror_mode": {
    "name": "ipython",
    "version": 3
   },
   "file_extension": ".py",
   "mimetype": "text/x-python",
   "name": "python",
   "nbconvert_exporter": "python",
   "pygments_lexer": "ipython3",
   "version": "3.9.12"
  },
  "toc": {
   "base_numbering": 1,
   "nav_menu": {},
   "number_sections": true,
   "sideBar": true,
   "skip_h1_title": true,
   "title_cell": "Содержание",
   "title_sidebar": "Contents",
   "toc_cell": true,
   "toc_position": {
    "height": "calc(100% - 180px)",
    "left": "10px",
    "top": "150px",
    "width": "186.391px"
   },
   "toc_section_display": true,
   "toc_window_display": true
  }
 },
 "nbformat": 4,
 "nbformat_minor": 2
}
