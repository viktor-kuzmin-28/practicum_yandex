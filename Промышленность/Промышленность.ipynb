{
 "cells": [
  {
   "cell_type": "markdown",
   "metadata": {},
   "source": [
    "Тетрадка с проектом состоит из 3 частей:\n",
    "\n",
    "    В первой части содержится первоначальная информация от заказчика. Нами проводится первичный анализ данных и формируются уточняющие по данным и целям проекта вопросы к заказчику. После в рамках учебной программы тимлид, в роли заказчика, отвечает на поставленные нами вопросы. Эти ответы будут отдельно выписаны нами в конце первой части. \n",
    "\n",
    "    Во второй части, учитывая наш анализ данных и ответы заказчика, мы проводим сбор и предобработку данных для моделей из ранее предоставленных заказчиком файлов. Обучаем модели и тестируем лучшую. \n",
    "\n",
    "    В третьей части формируется отчёт для заказчика по проделанной работе. Приводятся гиперпараметры и результаты метрики лучшей модели."
   ]
  },
  {
   "cell_type": "markdown",
   "metadata": {},
   "source": [
    "# Выпускной проект: Промышленность."
   ]
  },
  {
   "cell_type": "markdown",
   "metadata": {},
   "source": [
    "Чтобы оптимизировать производственные расходы, металлургический комбинат ООО «Так закаляем сталь» решил уменьшить потребление электроэнергии на этапе обработки стали. Нам предстоит построить модель, которая предскажет температуру стали.\n",
    "\n",
    "Заказчик также сообщил нам описание этапа обработки:\n",
    "\n",
    "    Сталь обрабатывают в металлическом ковше вместимостью около 100 тонн. Чтобы ковш выдерживал высокие температуры, изнутри его облицовывают огнеупорным кирпичом. Расплавленную сталь заливают в ковш и подогревают до нужной температуры графитовыми электродами. Они установлены в крышке ковша.\n",
    "\n",
    "    Из сплава выводится сера (десульфурация), добавлением примесей корректируется химический состав и отбираются пробы. Сталь легируют — изменяют её состав — подавая куски сплава из бункера для сыпучих материалов или проволоку через специальный трайб-аппарат (англ. tribe, «масса»).\n",
    "\n",
    "    Перед тем как первый раз ввести легирующие добавки, измеряют температуру стали и производят её химический анализ. Потом температуру на несколько минут повышают, добавляют легирующие материалы и продувают сплав инертным газом. Затем его перемешивают и снова проводят измерения. Такой цикл повторяется до достижения целевого химического состава и оптимальной температуры плавки.\n",
    "\n",
    "    Тогда расплавленная сталь отправляется на доводку металла или поступает в машину непрерывной разливки. Оттуда готовый продукт выходит в виде заготовок-слябов (англ. slab, «плита»)."
   ]
  },
  {
   "cell_type": "markdown",
   "metadata": {},
   "source": [
    "Заказчик предоставил нам следующие данные:\n",
    "\n",
    "    data_arc_new.csv — данные об электродах;\n",
    "    \n",
    "    data_bulk_new.csv — данные о подаче сыпучих материалов (объём);\n",
    "    \n",
    "    data_bulk_time_new.csv — данные о подаче сыпучих материалов (время);\n",
    "    \n",
    "    data_gas_new.csv — данные о продувке сплава газом;\n",
    "    \n",
    "    data_temp_new.csv — результаты измерения температуры;\n",
    "    \n",
    "    data_wire_new.csv — данные о проволочных материалах (объём);\n",
    "    \n",
    "    data_wire_time_new.csv — данные о проволочных материалах (время).\n",
    "\n",
    "Во всех файлах столбец key содержит номер партии. В файлах может быть несколько строк с одинаковым значением key: они соответствуют разным итерациям обработки."
   ]
  },
  {
   "cell_type": "code",
   "execution_count": 1,
   "metadata": {},
   "outputs": [],
   "source": [
    "import pandas as pd\n",
    "import numpy as np\n",
    "import seaborn as sns\n",
    "import matplotlib.pyplot as plt\n",
    "import time"
   ]
  },
  {
   "cell_type": "code",
   "execution_count": 2,
   "metadata": {},
   "outputs": [],
   "source": [
    "from sklearn.model_selection import train_test_split, RandomizedSearchCV\n",
    "from sklearn.model_selection import cross_val_score\n",
    "from sklearn.preprocessing import StandardScaler\n",
    "from sklearn.linear_model import LinearRegression\n",
    "from sklearn.ensemble import RandomForestRegressor\n",
    "from sklearn.metrics import mean_absolute_error\n",
    "\n",
    "from catboost import CatBoostRegressor\n",
    "from tqdm import tqdm"
   ]
  },
  {
   "cell_type": "markdown",
   "metadata": {},
   "source": [
    "## Анализ данных и формирование вопросов"
   ]
  },
  {
   "cell_type": "markdown",
   "metadata": {},
   "source": [
    "### Данные об электродах"
   ]
  },
  {
   "cell_type": "code",
   "execution_count": 3,
   "metadata": {
    "scrolled": false
   },
   "outputs": [
    {
     "name": "stdout",
     "output_type": "stream",
     "text": [
      "<class 'pandas.core.frame.DataFrame'>\n",
      "RangeIndex: 14876 entries, 0 to 14875\n",
      "Data columns (total 5 columns):\n",
      " #   Column                Non-Null Count  Dtype  \n",
      "---  ------                --------------  -----  \n",
      " 0   key                   14876 non-null  int64  \n",
      " 1   Начало нагрева дугой  14876 non-null  object \n",
      " 2   Конец нагрева дугой   14876 non-null  object \n",
      " 3   Активная мощность     14876 non-null  float64\n",
      " 4   Реактивная мощность   14876 non-null  float64\n",
      "dtypes: float64(2), int64(1), object(2)\n",
      "memory usage: 581.2+ KB\n"
     ]
    },
    {
     "data": {
      "text/html": [
       "<div>\n",
       "<style scoped>\n",
       "    .dataframe tbody tr th:only-of-type {\n",
       "        vertical-align: middle;\n",
       "    }\n",
       "\n",
       "    .dataframe tbody tr th {\n",
       "        vertical-align: top;\n",
       "    }\n",
       "\n",
       "    .dataframe thead th {\n",
       "        text-align: right;\n",
       "    }\n",
       "</style>\n",
       "<table border=\"1\" class=\"dataframe\">\n",
       "  <thead>\n",
       "    <tr style=\"text-align: right;\">\n",
       "      <th></th>\n",
       "      <th>key</th>\n",
       "      <th>Начало нагрева дугой</th>\n",
       "      <th>Конец нагрева дугой</th>\n",
       "      <th>Активная мощность</th>\n",
       "      <th>Реактивная мощность</th>\n",
       "    </tr>\n",
       "  </thead>\n",
       "  <tbody>\n",
       "    <tr>\n",
       "      <th>0</th>\n",
       "      <td>1</td>\n",
       "      <td>2019-05-03 11:02:14</td>\n",
       "      <td>2019-05-03 11:06:02</td>\n",
       "      <td>0.305130</td>\n",
       "      <td>0.211253</td>\n",
       "    </tr>\n",
       "    <tr>\n",
       "      <th>1</th>\n",
       "      <td>1</td>\n",
       "      <td>2019-05-03 11:07:28</td>\n",
       "      <td>2019-05-03 11:10:33</td>\n",
       "      <td>0.765658</td>\n",
       "      <td>0.477438</td>\n",
       "    </tr>\n",
       "    <tr>\n",
       "      <th>2</th>\n",
       "      <td>1</td>\n",
       "      <td>2019-05-03 11:11:44</td>\n",
       "      <td>2019-05-03 11:14:36</td>\n",
       "      <td>0.580313</td>\n",
       "      <td>0.430460</td>\n",
       "    </tr>\n",
       "    <tr>\n",
       "      <th>3</th>\n",
       "      <td>1</td>\n",
       "      <td>2019-05-03 11:18:14</td>\n",
       "      <td>2019-05-03 11:24:19</td>\n",
       "      <td>0.518496</td>\n",
       "      <td>0.379979</td>\n",
       "    </tr>\n",
       "    <tr>\n",
       "      <th>4</th>\n",
       "      <td>1</td>\n",
       "      <td>2019-05-03 11:26:09</td>\n",
       "      <td>2019-05-03 11:28:37</td>\n",
       "      <td>0.867133</td>\n",
       "      <td>0.643691</td>\n",
       "    </tr>\n",
       "    <tr>\n",
       "      <th>5</th>\n",
       "      <td>2</td>\n",
       "      <td>2019-05-03 11:34:14</td>\n",
       "      <td>2019-05-03 11:36:31</td>\n",
       "      <td>0.381124</td>\n",
       "      <td>0.220351</td>\n",
       "    </tr>\n",
       "    <tr>\n",
       "      <th>6</th>\n",
       "      <td>2</td>\n",
       "      <td>2019-05-03 11:38:50</td>\n",
       "      <td>2019-05-03 11:44:28</td>\n",
       "      <td>0.261665</td>\n",
       "      <td>0.205527</td>\n",
       "    </tr>\n",
       "  </tbody>\n",
       "</table>\n",
       "</div>"
      ],
      "text/plain": [
       "   key Начало нагрева дугой  Конец нагрева дугой  Активная мощность  \\\n",
       "0    1  2019-05-03 11:02:14  2019-05-03 11:06:02           0.305130   \n",
       "1    1  2019-05-03 11:07:28  2019-05-03 11:10:33           0.765658   \n",
       "2    1  2019-05-03 11:11:44  2019-05-03 11:14:36           0.580313   \n",
       "3    1  2019-05-03 11:18:14  2019-05-03 11:24:19           0.518496   \n",
       "4    1  2019-05-03 11:26:09  2019-05-03 11:28:37           0.867133   \n",
       "5    2  2019-05-03 11:34:14  2019-05-03 11:36:31           0.381124   \n",
       "6    2  2019-05-03 11:38:50  2019-05-03 11:44:28           0.261665   \n",
       "\n",
       "   Реактивная мощность  \n",
       "0             0.211253  \n",
       "1             0.477438  \n",
       "2             0.430460  \n",
       "3             0.379979  \n",
       "4             0.643691  \n",
       "5             0.220351  \n",
       "6             0.205527  "
      ]
     },
     "execution_count": 3,
     "metadata": {},
     "output_type": "execute_result"
    }
   ],
   "source": [
    "#данные об электродах\n",
    "electrodes = pd.read_csv('/datasets/data_arc_new.csv')\n",
    "electrodes.info()\n",
    "electrodes.head(7) "
   ]
  },
  {
   "cell_type": "code",
   "execution_count": 4,
   "metadata": {
    "scrolled": true
   },
   "outputs": [
    {
     "data": {
      "text/plain": [
       "0"
      ]
     },
     "execution_count": 4,
     "metadata": {},
     "output_type": "execute_result"
    }
   ],
   "source": [
    "#проверим наши данные на явные дубликаты\n",
    "electrodes.duplicated().sum()"
   ]
  },
  {
   "cell_type": "code",
   "execution_count": 5,
   "metadata": {},
   "outputs": [
    {
     "data": {
      "text/plain": [
       "<AxesSubplot:>"
      ]
     },
     "execution_count": 5,
     "metadata": {},
     "output_type": "execute_result"
    },
    {
     "data": {
      "image/png": "[encoded data removed]",
      "text/plain": [
       "<Figure size 432x288 with 1 Axes>"
      ]
     },
     "metadata": {
      "needs_background": "light"
     },
     "output_type": "display_data"
    }
   ],
   "source": [
    "electrodes['Активная мощность'].hist(bins=100)"
   ]
  },
  {
   "cell_type": "code",
   "execution_count": 6,
   "metadata": {},
   "outputs": [
    {
     "data": {
      "text/plain": [
       "<AxesSubplot:>"
      ]
     },
     "execution_count": 6,
     "metadata": {},
     "output_type": "execute_result"
    },
    {
     "data": {
      "image/png": "[encoded data removed]",
      "text/plain": [
       "<Figure size 432x288 with 1 Axes>"
      ]
     },
     "metadata": {
      "needs_background": "light"
     },
     "output_type": "display_data"
    }
   ],
   "source": [
    "# почему график не строится нормально без range???\n",
    "electrodes['Реактивная мощность'].hist(bins=100, range=(0, 2))"
   ]
  },
  {
   "cell_type": "code",
   "execution_count": 7,
   "metadata": {
    "scrolled": true
   },
   "outputs": [
    {
     "data": {
      "text/html": [
       "<div>\n",
       "<style scoped>\n",
       "    .dataframe tbody tr th:only-of-type {\n",
       "        vertical-align: middle;\n",
       "    }\n",
       "\n",
       "    .dataframe tbody tr th {\n",
       "        vertical-align: top;\n",
       "    }\n",
       "\n",
       "    .dataframe thead th {\n",
       "        text-align: right;\n",
       "    }\n",
       "</style>\n",
       "<table border=\"1\" class=\"dataframe\">\n",
       "  <thead>\n",
       "    <tr style=\"text-align: right;\">\n",
       "      <th></th>\n",
       "      <th>key</th>\n",
       "      <th>Активная мощность</th>\n",
       "      <th>Реактивная мощность</th>\n",
       "    </tr>\n",
       "  </thead>\n",
       "  <tbody>\n",
       "    <tr>\n",
       "      <th>count</th>\n",
       "      <td>14876.000000</td>\n",
       "      <td>14876.000000</td>\n",
       "      <td>14876.000000</td>\n",
       "    </tr>\n",
       "    <tr>\n",
       "      <th>mean</th>\n",
       "      <td>1615.220422</td>\n",
       "      <td>0.662752</td>\n",
       "      <td>0.438986</td>\n",
       "    </tr>\n",
       "    <tr>\n",
       "      <th>std</th>\n",
       "      <td>934.571502</td>\n",
       "      <td>0.258885</td>\n",
       "      <td>5.873485</td>\n",
       "    </tr>\n",
       "    <tr>\n",
       "      <th>min</th>\n",
       "      <td>1.000000</td>\n",
       "      <td>0.223120</td>\n",
       "      <td>-715.479924</td>\n",
       "    </tr>\n",
       "    <tr>\n",
       "      <th>25%</th>\n",
       "      <td>806.000000</td>\n",
       "      <td>0.467115</td>\n",
       "      <td>0.337175</td>\n",
       "    </tr>\n",
       "    <tr>\n",
       "      <th>50%</th>\n",
       "      <td>1617.000000</td>\n",
       "      <td>0.599587</td>\n",
       "      <td>0.441639</td>\n",
       "    </tr>\n",
       "    <tr>\n",
       "      <th>75%</th>\n",
       "      <td>2429.000000</td>\n",
       "      <td>0.830070</td>\n",
       "      <td>0.608201</td>\n",
       "    </tr>\n",
       "    <tr>\n",
       "      <th>max</th>\n",
       "      <td>3241.000000</td>\n",
       "      <td>1.463773</td>\n",
       "      <td>1.270284</td>\n",
       "    </tr>\n",
       "  </tbody>\n",
       "</table>\n",
       "</div>"
      ],
      "text/plain": [
       "                key  Активная мощность  Реактивная мощность\n",
       "count  14876.000000       14876.000000         14876.000000\n",
       "mean    1615.220422           0.662752             0.438986\n",
       "std      934.571502           0.258885             5.873485\n",
       "min        1.000000           0.223120          -715.479924\n",
       "25%      806.000000           0.467115             0.337175\n",
       "50%     1617.000000           0.599587             0.441639\n",
       "75%     2429.000000           0.830070             0.608201\n",
       "max     3241.000000           1.463773             1.270284"
      ]
     },
     "execution_count": 7,
     "metadata": {},
     "output_type": "execute_result"
    }
   ],
   "source": [
    "electrodes.describe()"
   ]
  },
  {
   "cell_type": "markdown",
   "metadata": {},
   "source": [
    "Посмотрим как много отрицательных значений мощностей в данных."
   ]
  },
  {
   "cell_type": "code",
   "execution_count": 8,
   "metadata": {
    "scrolled": true
   },
   "outputs": [
    {
     "data": {
      "text/html": [
       "<div>\n",
       "<style scoped>\n",
       "    .dataframe tbody tr th:only-of-type {\n",
       "        vertical-align: middle;\n",
       "    }\n",
       "\n",
       "    .dataframe tbody tr th {\n",
       "        vertical-align: top;\n",
       "    }\n",
       "\n",
       "    .dataframe thead th {\n",
       "        text-align: right;\n",
       "    }\n",
       "</style>\n",
       "<table border=\"1\" class=\"dataframe\">\n",
       "  <thead>\n",
       "    <tr style=\"text-align: right;\">\n",
       "      <th></th>\n",
       "      <th>key</th>\n",
       "      <th>Начало нагрева дугой</th>\n",
       "      <th>Конец нагрева дугой</th>\n",
       "      <th>Активная мощность</th>\n",
       "      <th>Реактивная мощность</th>\n",
       "    </tr>\n",
       "  </thead>\n",
       "  <tbody>\n",
       "    <tr>\n",
       "      <th>9780</th>\n",
       "      <td>2116</td>\n",
       "      <td>2019-07-28 02:22:08</td>\n",
       "      <td>2019-07-28 02:23:57</td>\n",
       "      <td>0.705344</td>\n",
       "      <td>-715.479924</td>\n",
       "    </tr>\n",
       "  </tbody>\n",
       "</table>\n",
       "</div>"
      ],
      "text/plain": [
       "       key Начало нагрева дугой  Конец нагрева дугой  Активная мощность  \\\n",
       "9780  2116  2019-07-28 02:22:08  2019-07-28 02:23:57           0.705344   \n",
       "\n",
       "      Реактивная мощность  \n",
       "9780          -715.479924  "
      ]
     },
     "execution_count": 8,
     "metadata": {},
     "output_type": "execute_result"
    }
   ],
   "source": [
    "electrodes[electrodes['Реактивная мощность']<0]"
   ]
  },
  {
   "cell_type": "markdown",
   "metadata": {},
   "source": [
    "Всего одна строчка у партии 2116. "
   ]
  },
  {
   "cell_type": "markdown",
   "metadata": {},
   "source": [
    "Перейдем к построению диаграммы размаха. "
   ]
  },
  {
   "cell_type": "code",
   "execution_count": 9,
   "metadata": {},
   "outputs": [
    {
     "data": {
      "text/plain": [
       "<AxesSubplot:>"
      ]
     },
     "execution_count": 9,
     "metadata": {},
     "output_type": "execute_result"
    },
    {
     "data": {
      "image/png": "[encoded data removed]",
      "text/plain": [
       "<Figure size 432x288 with 1 Axes>"
      ]
     },
     "metadata": {
      "needs_background": "light"
     },
     "output_type": "display_data"
    }
   ],
   "source": [
    "plt.grid(True)\n",
    "plt.ylim(0, 1.75)\n",
    "electrodes[['Активная мощность', 'Реактивная мощность']].boxplot()"
   ]
  },
  {
   "cell_type": "code",
   "execution_count": 10,
   "metadata": {
    "scrolled": false
   },
   "outputs": [
    {
     "name": "stdout",
     "output_type": "stream",
     "text": [
      "Начало нагрева дугой: c  2019-05-03 11:02:14 по 2019-09-06 17:24:54\n",
      "Конец нагрева дугой: c  2019-05-03 11:06:02 по 2019-09-06 17:26:15\n"
     ]
    }
   ],
   "source": [
    "#узнаем какой промежуток времени указан в данных\n",
    "electrodes['Начало нагрева дугой'] = pd.to_datetime(electrodes['Начало нагрева дугой'])\n",
    "electrodes['Конец нагрева дугой'] = pd.to_datetime(electrodes['Конец нагрева дугой'])\n",
    "print('Начало нагрева дугой: c ', electrodes['Начало нагрева дугой'].min(), 'по',\n",
    "electrodes['Начало нагрева дугой'].max())\n",
    "print('Конец нагрева дугой: c ', electrodes['Конец нагрева дугой'].min(), 'по',\n",
    "electrodes['Конец нагрева дугой'].max())"
   ]
  },
  {
   "cell_type": "markdown",
   "metadata": {},
   "source": [
    "Проверим данные на хронологическую последовательность. "
   ]
  },
  {
   "cell_type": "code",
   "execution_count": 11,
   "metadata": {},
   "outputs": [
    {
     "data": {
      "text/plain": [
       "True"
      ]
     },
     "execution_count": 11,
     "metadata": {},
     "output_type": "execute_result"
    }
   ],
   "source": [
    "electrodes['Начало нагрева дугой'].is_monotonic"
   ]
  },
  {
   "cell_type": "code",
   "execution_count": 12,
   "metadata": {},
   "outputs": [
    {
     "data": {
      "text/plain": [
       "True"
      ]
     },
     "execution_count": 12,
     "metadata": {},
     "output_type": "execute_result"
    }
   ],
   "source": [
    "electrodes['Конец нагрева дугой'].is_monotonic"
   ]
  },
  {
   "cell_type": "markdown",
   "metadata": {},
   "source": [
    "Подведём итог. "
   ]
  },
  {
   "cell_type": "markdown",
   "metadata": {},
   "source": [
    "Данные об электродах не содержат пропусков и явных дубликатов. По времени данные содержат информацию за 2019 год с 3 мая 11 часа по 6 сентября 17 часа. \n",
    "\n",
    "Указанные две мощности содержат выбросы. Часть выбросов в “Реактивной  мощности” явно является ошибочными данными, так как содержат отрицательные показатели. Данные с такими показателями мы предлагаем сразу удалить, возможно нужно будет удалить все данные партии в которых встречаются ошибочные показателями. \n",
    "\n",
    "Другие выбросы, те что не отрицательные, скорее всего нужно будет оставить, так как в будущем уже готовой модели всё равно придётся встретиться с такими показателями, поэтому стоит её заранее обучать и на них тоже. \n",
    "\n",
    "К заказчику у нас есть несколько вопросов:\n",
    "\n",
    "    На нагрев дуги влияют обе мощности? И как-то они связаны друг с другом?\n",
    "    \n",
    "    Отрицательные значения мощностея явялются не нормальными? \n",
    "    \n",
    "    Показатели мощностей в большинстве своём пребывают в диапазоне от 0 до 1. Нас смущает что встречаются показатели больше 1, такое может быть?"
   ]
  },
  {
   "cell_type": "markdown",
   "metadata": {},
   "source": [
    "### Данные о подаче сыпучих материалов"
   ]
  },
  {
   "cell_type": "markdown",
   "metadata": {},
   "source": [
    "Два следующих датафрейма связаны, поэтому проанализируем их вместе. "
   ]
  },
  {
   "cell_type": "code",
   "execution_count": 13,
   "metadata": {
    "scrolled": true
   },
   "outputs": [
    {
     "name": "stdout",
     "output_type": "stream",
     "text": [
      "<class 'pandas.core.frame.DataFrame'>\n",
      "RangeIndex: 3129 entries, 0 to 3128\n",
      "Data columns (total 16 columns):\n",
      " #   Column   Non-Null Count  Dtype  \n",
      "---  ------   --------------  -----  \n",
      " 0   key      3129 non-null   int64  \n",
      " 1   Bulk 1   252 non-null    float64\n",
      " 2   Bulk 2   22 non-null     float64\n",
      " 3   Bulk 3   1298 non-null   float64\n",
      " 4   Bulk 4   1014 non-null   float64\n",
      " 5   Bulk 5   77 non-null     float64\n",
      " 6   Bulk 6   576 non-null    float64\n",
      " 7   Bulk 7   25 non-null     float64\n",
      " 8   Bulk 8   1 non-null      float64\n",
      " 9   Bulk 9   19 non-null     float64\n",
      " 10  Bulk 10  176 non-null    float64\n",
      " 11  Bulk 11  177 non-null    float64\n",
      " 12  Bulk 12  2450 non-null   float64\n",
      " 13  Bulk 13  18 non-null     float64\n",
      " 14  Bulk 14  2806 non-null   float64\n",
      " 15  Bulk 15  2248 non-null   float64\n",
      "dtypes: float64(15), int64(1)\n",
      "memory usage: 391.2 KB\n"
     ]
    },
    {
     "data": {
      "text/html": [
       "<div>\n",
       "<style scoped>\n",
       "    .dataframe tbody tr th:only-of-type {\n",
       "        vertical-align: middle;\n",
       "    }\n",
       "\n",
       "    .dataframe tbody tr th {\n",
       "        vertical-align: top;\n",
       "    }\n",
       "\n",
       "    .dataframe thead th {\n",
       "        text-align: right;\n",
       "    }\n",
       "</style>\n",
       "<table border=\"1\" class=\"dataframe\">\n",
       "  <thead>\n",
       "    <tr style=\"text-align: right;\">\n",
       "      <th></th>\n",
       "      <th>key</th>\n",
       "      <th>Bulk 1</th>\n",
       "      <th>Bulk 2</th>\n",
       "      <th>Bulk 3</th>\n",
       "      <th>Bulk 4</th>\n",
       "      <th>Bulk 5</th>\n",
       "      <th>Bulk 6</th>\n",
       "      <th>Bulk 7</th>\n",
       "      <th>Bulk 8</th>\n",
       "      <th>Bulk 9</th>\n",
       "      <th>Bulk 10</th>\n",
       "      <th>Bulk 11</th>\n",
       "      <th>Bulk 12</th>\n",
       "      <th>Bulk 13</th>\n",
       "      <th>Bulk 14</th>\n",
       "      <th>Bulk 15</th>\n",
       "    </tr>\n",
       "  </thead>\n",
       "  <tbody>\n",
       "    <tr>\n",
       "      <th>0</th>\n",
       "      <td>1</td>\n",
       "      <td>NaN</td>\n",
       "      <td>NaN</td>\n",
       "      <td>NaN</td>\n",
       "      <td>43.0</td>\n",
       "      <td>NaN</td>\n",
       "      <td>NaN</td>\n",
       "      <td>NaN</td>\n",
       "      <td>NaN</td>\n",
       "      <td>NaN</td>\n",
       "      <td>NaN</td>\n",
       "      <td>NaN</td>\n",
       "      <td>206.0</td>\n",
       "      <td>NaN</td>\n",
       "      <td>150.0</td>\n",
       "      <td>154.0</td>\n",
       "    </tr>\n",
       "    <tr>\n",
       "      <th>1</th>\n",
       "      <td>2</td>\n",
       "      <td>NaN</td>\n",
       "      <td>NaN</td>\n",
       "      <td>NaN</td>\n",
       "      <td>73.0</td>\n",
       "      <td>NaN</td>\n",
       "      <td>NaN</td>\n",
       "      <td>NaN</td>\n",
       "      <td>NaN</td>\n",
       "      <td>NaN</td>\n",
       "      <td>NaN</td>\n",
       "      <td>NaN</td>\n",
       "      <td>206.0</td>\n",
       "      <td>NaN</td>\n",
       "      <td>149.0</td>\n",
       "      <td>154.0</td>\n",
       "    </tr>\n",
       "    <tr>\n",
       "      <th>2</th>\n",
       "      <td>3</td>\n",
       "      <td>NaN</td>\n",
       "      <td>NaN</td>\n",
       "      <td>NaN</td>\n",
       "      <td>34.0</td>\n",
       "      <td>NaN</td>\n",
       "      <td>NaN</td>\n",
       "      <td>NaN</td>\n",
       "      <td>NaN</td>\n",
       "      <td>NaN</td>\n",
       "      <td>NaN</td>\n",
       "      <td>NaN</td>\n",
       "      <td>205.0</td>\n",
       "      <td>NaN</td>\n",
       "      <td>152.0</td>\n",
       "      <td>153.0</td>\n",
       "    </tr>\n",
       "    <tr>\n",
       "      <th>3</th>\n",
       "      <td>4</td>\n",
       "      <td>NaN</td>\n",
       "      <td>NaN</td>\n",
       "      <td>NaN</td>\n",
       "      <td>81.0</td>\n",
       "      <td>NaN</td>\n",
       "      <td>NaN</td>\n",
       "      <td>NaN</td>\n",
       "      <td>NaN</td>\n",
       "      <td>NaN</td>\n",
       "      <td>NaN</td>\n",
       "      <td>NaN</td>\n",
       "      <td>207.0</td>\n",
       "      <td>NaN</td>\n",
       "      <td>153.0</td>\n",
       "      <td>154.0</td>\n",
       "    </tr>\n",
       "    <tr>\n",
       "      <th>4</th>\n",
       "      <td>5</td>\n",
       "      <td>NaN</td>\n",
       "      <td>NaN</td>\n",
       "      <td>NaN</td>\n",
       "      <td>78.0</td>\n",
       "      <td>NaN</td>\n",
       "      <td>NaN</td>\n",
       "      <td>NaN</td>\n",
       "      <td>NaN</td>\n",
       "      <td>NaN</td>\n",
       "      <td>NaN</td>\n",
       "      <td>NaN</td>\n",
       "      <td>203.0</td>\n",
       "      <td>NaN</td>\n",
       "      <td>151.0</td>\n",
       "      <td>152.0</td>\n",
       "    </tr>\n",
       "    <tr>\n",
       "      <th>5</th>\n",
       "      <td>6</td>\n",
       "      <td>NaN</td>\n",
       "      <td>NaN</td>\n",
       "      <td>NaN</td>\n",
       "      <td>117.0</td>\n",
       "      <td>NaN</td>\n",
       "      <td>NaN</td>\n",
       "      <td>NaN</td>\n",
       "      <td>NaN</td>\n",
       "      <td>NaN</td>\n",
       "      <td>NaN</td>\n",
       "      <td>NaN</td>\n",
       "      <td>204.0</td>\n",
       "      <td>NaN</td>\n",
       "      <td>201.0</td>\n",
       "      <td>154.0</td>\n",
       "    </tr>\n",
       "    <tr>\n",
       "      <th>6</th>\n",
       "      <td>7</td>\n",
       "      <td>NaN</td>\n",
       "      <td>NaN</td>\n",
       "      <td>NaN</td>\n",
       "      <td>117.0</td>\n",
       "      <td>NaN</td>\n",
       "      <td>NaN</td>\n",
       "      <td>NaN</td>\n",
       "      <td>NaN</td>\n",
       "      <td>NaN</td>\n",
       "      <td>NaN</td>\n",
       "      <td>NaN</td>\n",
       "      <td>204.0</td>\n",
       "      <td>NaN</td>\n",
       "      <td>152.0</td>\n",
       "      <td>154.0</td>\n",
       "    </tr>\n",
       "  </tbody>\n",
       "</table>\n",
       "</div>"
      ],
      "text/plain": [
       "   key  Bulk 1  Bulk 2  Bulk 3  Bulk 4  Bulk 5  Bulk 6  Bulk 7  Bulk 8  \\\n",
       "0    1     NaN     NaN     NaN    43.0     NaN     NaN     NaN     NaN   \n",
       "1    2     NaN     NaN     NaN    73.0     NaN     NaN     NaN     NaN   \n",
       "2    3     NaN     NaN     NaN    34.0     NaN     NaN     NaN     NaN   \n",
       "3    4     NaN     NaN     NaN    81.0     NaN     NaN     NaN     NaN   \n",
       "4    5     NaN     NaN     NaN    78.0     NaN     NaN     NaN     NaN   \n",
       "5    6     NaN     NaN     NaN   117.0     NaN     NaN     NaN     NaN   \n",
       "6    7     NaN     NaN     NaN   117.0     NaN     NaN     NaN     NaN   \n",
       "\n",
       "   Bulk 9  Bulk 10  Bulk 11  Bulk 12  Bulk 13  Bulk 14  Bulk 15  \n",
       "0     NaN      NaN      NaN    206.0      NaN    150.0    154.0  \n",
       "1     NaN      NaN      NaN    206.0      NaN    149.0    154.0  \n",
       "2     NaN      NaN      NaN    205.0      NaN    152.0    153.0  \n",
       "3     NaN      NaN      NaN    207.0      NaN    153.0    154.0  \n",
       "4     NaN      NaN      NaN    203.0      NaN    151.0    152.0  \n",
       "5     NaN      NaN      NaN    204.0      NaN    201.0    154.0  \n",
       "6     NaN      NaN      NaN    204.0      NaN    152.0    154.0  "
      ]
     },
     "execution_count": 13,
     "metadata": {},
     "output_type": "execute_result"
    }
   ],
   "source": [
    "#данные о подаче сыпучих материалов (объём)\n",
    "bulk_volume = pd.read_csv('/datasets/data_bulk_new.csv') \n",
    "bulk_volume.info()\n",
    "bulk_volume.head(7) "
   ]
  },
  {
   "cell_type": "code",
   "execution_count": 14,
   "metadata": {
    "scrolled": true
   },
   "outputs": [
    {
     "name": "stdout",
     "output_type": "stream",
     "text": [
      "<class 'pandas.core.frame.DataFrame'>\n",
      "RangeIndex: 3129 entries, 0 to 3128\n",
      "Data columns (total 16 columns):\n",
      " #   Column   Non-Null Count  Dtype \n",
      "---  ------   --------------  ----- \n",
      " 0   key      3129 non-null   int64 \n",
      " 1   Bulk 1   252 non-null    object\n",
      " 2   Bulk 2   22 non-null     object\n",
      " 3   Bulk 3   1298 non-null   object\n",
      " 4   Bulk 4   1014 non-null   object\n",
      " 5   Bulk 5   77 non-null     object\n",
      " 6   Bulk 6   576 non-null    object\n",
      " 7   Bulk 7   25 non-null     object\n",
      " 8   Bulk 8   1 non-null      object\n",
      " 9   Bulk 9   19 non-null     object\n",
      " 10  Bulk 10  176 non-null    object\n",
      " 11  Bulk 11  177 non-null    object\n",
      " 12  Bulk 12  2450 non-null   object\n",
      " 13  Bulk 13  18 non-null     object\n",
      " 14  Bulk 14  2806 non-null   object\n",
      " 15  Bulk 15  2248 non-null   object\n",
      "dtypes: int64(1), object(15)\n",
      "memory usage: 391.2+ KB\n"
     ]
    },
    {
     "data": {
      "text/html": [
       "<div>\n",
       "<style scoped>\n",
       "    .dataframe tbody tr th:only-of-type {\n",
       "        vertical-align: middle;\n",
       "    }\n",
       "\n",
       "    .dataframe tbody tr th {\n",
       "        vertical-align: top;\n",
       "    }\n",
       "\n",
       "    .dataframe thead th {\n",
       "        text-align: right;\n",
       "    }\n",
       "</style>\n",
       "<table border=\"1\" class=\"dataframe\">\n",
       "  <thead>\n",
       "    <tr style=\"text-align: right;\">\n",
       "      <th></th>\n",
       "      <th>key</th>\n",
       "      <th>Bulk 1</th>\n",
       "      <th>Bulk 2</th>\n",
       "      <th>Bulk 3</th>\n",
       "      <th>Bulk 4</th>\n",
       "      <th>Bulk 5</th>\n",
       "      <th>Bulk 6</th>\n",
       "      <th>Bulk 7</th>\n",
       "      <th>Bulk 8</th>\n",
       "      <th>Bulk 9</th>\n",
       "      <th>Bulk 10</th>\n",
       "      <th>Bulk 11</th>\n",
       "      <th>Bulk 12</th>\n",
       "      <th>Bulk 13</th>\n",
       "      <th>Bulk 14</th>\n",
       "      <th>Bulk 15</th>\n",
       "    </tr>\n",
       "  </thead>\n",
       "  <tbody>\n",
       "    <tr>\n",
       "      <th>0</th>\n",
       "      <td>1</td>\n",
       "      <td>NaN</td>\n",
       "      <td>NaN</td>\n",
       "      <td>NaN</td>\n",
       "      <td>2019-05-03 11:28:48</td>\n",
       "      <td>NaN</td>\n",
       "      <td>NaN</td>\n",
       "      <td>NaN</td>\n",
       "      <td>NaN</td>\n",
       "      <td>NaN</td>\n",
       "      <td>NaN</td>\n",
       "      <td>NaN</td>\n",
       "      <td>2019-05-03 11:24:31</td>\n",
       "      <td>NaN</td>\n",
       "      <td>2019-05-03 11:14:50</td>\n",
       "      <td>2019-05-03 11:10:43</td>\n",
       "    </tr>\n",
       "    <tr>\n",
       "      <th>1</th>\n",
       "      <td>2</td>\n",
       "      <td>NaN</td>\n",
       "      <td>NaN</td>\n",
       "      <td>NaN</td>\n",
       "      <td>2019-05-03 11:36:50</td>\n",
       "      <td>NaN</td>\n",
       "      <td>NaN</td>\n",
       "      <td>NaN</td>\n",
       "      <td>NaN</td>\n",
       "      <td>NaN</td>\n",
       "      <td>NaN</td>\n",
       "      <td>NaN</td>\n",
       "      <td>2019-05-03 11:53:30</td>\n",
       "      <td>NaN</td>\n",
       "      <td>2019-05-03 11:48:37</td>\n",
       "      <td>2019-05-03 11:44:39</td>\n",
       "    </tr>\n",
       "    <tr>\n",
       "      <th>2</th>\n",
       "      <td>3</td>\n",
       "      <td>NaN</td>\n",
       "      <td>NaN</td>\n",
       "      <td>NaN</td>\n",
       "      <td>2019-05-03 12:32:39</td>\n",
       "      <td>NaN</td>\n",
       "      <td>NaN</td>\n",
       "      <td>NaN</td>\n",
       "      <td>NaN</td>\n",
       "      <td>NaN</td>\n",
       "      <td>NaN</td>\n",
       "      <td>NaN</td>\n",
       "      <td>2019-05-03 12:27:13</td>\n",
       "      <td>NaN</td>\n",
       "      <td>2019-05-03 12:21:01</td>\n",
       "      <td>2019-05-03 12:16:16</td>\n",
       "    </tr>\n",
       "    <tr>\n",
       "      <th>3</th>\n",
       "      <td>4</td>\n",
       "      <td>NaN</td>\n",
       "      <td>NaN</td>\n",
       "      <td>NaN</td>\n",
       "      <td>2019-05-03 12:43:22</td>\n",
       "      <td>NaN</td>\n",
       "      <td>NaN</td>\n",
       "      <td>NaN</td>\n",
       "      <td>NaN</td>\n",
       "      <td>NaN</td>\n",
       "      <td>NaN</td>\n",
       "      <td>NaN</td>\n",
       "      <td>2019-05-03 12:58:00</td>\n",
       "      <td>NaN</td>\n",
       "      <td>2019-05-03 12:51:11</td>\n",
       "      <td>2019-05-03 12:46:36</td>\n",
       "    </tr>\n",
       "    <tr>\n",
       "      <th>4</th>\n",
       "      <td>5</td>\n",
       "      <td>NaN</td>\n",
       "      <td>NaN</td>\n",
       "      <td>NaN</td>\n",
       "      <td>2019-05-03 13:30:47</td>\n",
       "      <td>NaN</td>\n",
       "      <td>NaN</td>\n",
       "      <td>NaN</td>\n",
       "      <td>NaN</td>\n",
       "      <td>NaN</td>\n",
       "      <td>NaN</td>\n",
       "      <td>NaN</td>\n",
       "      <td>2019-05-03 13:30:47</td>\n",
       "      <td>NaN</td>\n",
       "      <td>2019-05-03 13:34:12</td>\n",
       "      <td>2019-05-03 13:30:47</td>\n",
       "    </tr>\n",
       "    <tr>\n",
       "      <th>5</th>\n",
       "      <td>6</td>\n",
       "      <td>NaN</td>\n",
       "      <td>NaN</td>\n",
       "      <td>NaN</td>\n",
       "      <td>2019-05-03 13:57:27</td>\n",
       "      <td>NaN</td>\n",
       "      <td>NaN</td>\n",
       "      <td>NaN</td>\n",
       "      <td>NaN</td>\n",
       "      <td>NaN</td>\n",
       "      <td>NaN</td>\n",
       "      <td>NaN</td>\n",
       "      <td>2019-05-03 13:48:52</td>\n",
       "      <td>NaN</td>\n",
       "      <td>2019-05-03 14:09:42</td>\n",
       "      <td>2019-05-03 14:03:15</td>\n",
       "    </tr>\n",
       "    <tr>\n",
       "      <th>6</th>\n",
       "      <td>7</td>\n",
       "      <td>NaN</td>\n",
       "      <td>NaN</td>\n",
       "      <td>NaN</td>\n",
       "      <td>2019-05-03 14:18:58</td>\n",
       "      <td>NaN</td>\n",
       "      <td>NaN</td>\n",
       "      <td>NaN</td>\n",
       "      <td>NaN</td>\n",
       "      <td>NaN</td>\n",
       "      <td>NaN</td>\n",
       "      <td>NaN</td>\n",
       "      <td>2019-05-03 14:41:26</td>\n",
       "      <td>NaN</td>\n",
       "      <td>2019-05-03 14:30:50</td>\n",
       "      <td>2019-05-03 14:27:16</td>\n",
       "    </tr>\n",
       "  </tbody>\n",
       "</table>\n",
       "</div>"
      ],
      "text/plain": [
       "   key Bulk 1 Bulk 2 Bulk 3               Bulk 4 Bulk 5 Bulk 6 Bulk 7 Bulk 8  \\\n",
       "0    1    NaN    NaN    NaN  2019-05-03 11:28:48    NaN    NaN    NaN    NaN   \n",
       "1    2    NaN    NaN    NaN  2019-05-03 11:36:50    NaN    NaN    NaN    NaN   \n",
       "2    3    NaN    NaN    NaN  2019-05-03 12:32:39    NaN    NaN    NaN    NaN   \n",
       "3    4    NaN    NaN    NaN  2019-05-03 12:43:22    NaN    NaN    NaN    NaN   \n",
       "4    5    NaN    NaN    NaN  2019-05-03 13:30:47    NaN    NaN    NaN    NaN   \n",
       "5    6    NaN    NaN    NaN  2019-05-03 13:57:27    NaN    NaN    NaN    NaN   \n",
       "6    7    NaN    NaN    NaN  2019-05-03 14:18:58    NaN    NaN    NaN    NaN   \n",
       "\n",
       "  Bulk 9 Bulk 10 Bulk 11              Bulk 12 Bulk 13              Bulk 14  \\\n",
       "0    NaN     NaN     NaN  2019-05-03 11:24:31     NaN  2019-05-03 11:14:50   \n",
       "1    NaN     NaN     NaN  2019-05-03 11:53:30     NaN  2019-05-03 11:48:37   \n",
       "2    NaN     NaN     NaN  2019-05-03 12:27:13     NaN  2019-05-03 12:21:01   \n",
       "3    NaN     NaN     NaN  2019-05-03 12:58:00     NaN  2019-05-03 12:51:11   \n",
       "4    NaN     NaN     NaN  2019-05-03 13:30:47     NaN  2019-05-03 13:34:12   \n",
       "5    NaN     NaN     NaN  2019-05-03 13:48:52     NaN  2019-05-03 14:09:42   \n",
       "6    NaN     NaN     NaN  2019-05-03 14:41:26     NaN  2019-05-03 14:30:50   \n",
       "\n",
       "               Bulk 15  \n",
       "0  2019-05-03 11:10:43  \n",
       "1  2019-05-03 11:44:39  \n",
       "2  2019-05-03 12:16:16  \n",
       "3  2019-05-03 12:46:36  \n",
       "4  2019-05-03 13:30:47  \n",
       "5  2019-05-03 14:03:15  \n",
       "6  2019-05-03 14:27:16  "
      ]
     },
     "execution_count": 14,
     "metadata": {},
     "output_type": "execute_result"
    }
   ],
   "source": [
    "#данные о подаче сыпучих материалов (время)\n",
    "bulk_time = pd.read_csv('/datasets/data_bulk_time_new.csv') \n",
    "bulk_time.info()\n",
    "bulk_time.head(7)"
   ]
  },
  {
   "cell_type": "markdown",
   "metadata": {},
   "source": [
    "Разумно предположить что две таблицы связаны следующим образом: в первой таблице указывается объём того или иного сыпучего материала который был использован для определённой партии, во второй же таблице в столбце с номером этого же этой же партии и этого же сыпучего материала указывается время его подачи."
   ]
  },
  {
   "cell_type": "markdown",
   "metadata": {},
   "source": [
    "Но на всякий случай проверим совпадает ли количество значений в датафреймах сыпучих материалов."
   ]
  },
  {
   "cell_type": "code",
   "execution_count": 15,
   "metadata": {},
   "outputs": [
    {
     "data": {
      "text/html": [
       "<div>\n",
       "<style scoped>\n",
       "    .dataframe tbody tr th:only-of-type {\n",
       "        vertical-align: middle;\n",
       "    }\n",
       "\n",
       "    .dataframe tbody tr th {\n",
       "        vertical-align: top;\n",
       "    }\n",
       "\n",
       "    .dataframe thead th {\n",
       "        text-align: right;\n",
       "    }\n",
       "</style>\n",
       "<table border=\"1\" class=\"dataframe\">\n",
       "  <thead>\n",
       "    <tr style=\"text-align: right;\">\n",
       "      <th></th>\n",
       "      <th>key</th>\n",
       "      <th>Bulk 1</th>\n",
       "      <th>Bulk 2</th>\n",
       "      <th>Bulk 3</th>\n",
       "      <th>Bulk 4</th>\n",
       "      <th>Bulk 5</th>\n",
       "      <th>Bulk 6</th>\n",
       "      <th>Bulk 7</th>\n",
       "      <th>Bulk 8</th>\n",
       "      <th>Bulk 9</th>\n",
       "      <th>Bulk 10</th>\n",
       "      <th>Bulk 11</th>\n",
       "      <th>Bulk 12</th>\n",
       "      <th>Bulk 13</th>\n",
       "      <th>Bulk 14</th>\n",
       "      <th>Bulk 15</th>\n",
       "    </tr>\n",
       "  </thead>\n",
       "  <tbody>\n",
       "    <tr>\n",
       "      <th>0</th>\n",
       "      <td>3129</td>\n",
       "      <td>252</td>\n",
       "      <td>22</td>\n",
       "      <td>1298</td>\n",
       "      <td>1014</td>\n",
       "      <td>77</td>\n",
       "      <td>576</td>\n",
       "      <td>25</td>\n",
       "      <td>1</td>\n",
       "      <td>19</td>\n",
       "      <td>176</td>\n",
       "      <td>177</td>\n",
       "      <td>2450</td>\n",
       "      <td>18</td>\n",
       "      <td>2806</td>\n",
       "      <td>2248</td>\n",
       "    </tr>\n",
       "    <tr>\n",
       "      <th>1</th>\n",
       "      <td>3129</td>\n",
       "      <td>252</td>\n",
       "      <td>22</td>\n",
       "      <td>1298</td>\n",
       "      <td>1014</td>\n",
       "      <td>77</td>\n",
       "      <td>576</td>\n",
       "      <td>25</td>\n",
       "      <td>1</td>\n",
       "      <td>19</td>\n",
       "      <td>176</td>\n",
       "      <td>177</td>\n",
       "      <td>2450</td>\n",
       "      <td>18</td>\n",
       "      <td>2806</td>\n",
       "      <td>2248</td>\n",
       "    </tr>\n",
       "  </tbody>\n",
       "</table>\n",
       "</div>"
      ],
      "text/plain": [
       "    key  Bulk 1  Bulk 2  Bulk 3  Bulk 4  Bulk 5  Bulk 6  Bulk 7  Bulk 8  \\\n",
       "0  3129     252      22    1298    1014      77     576      25       1   \n",
       "1  3129     252      22    1298    1014      77     576      25       1   \n",
       "\n",
       "   Bulk 9  Bulk 10  Bulk 11  Bulk 12  Bulk 13  Bulk 14  Bulk 15  \n",
       "0      19      176      177     2450       18     2806     2248  \n",
       "1      19      176      177     2450       18     2806     2248  "
      ]
     },
     "execution_count": 15,
     "metadata": {},
     "output_type": "execute_result"
    }
   ],
   "source": [
    "v_c = bulk_volume.count()\n",
    "t_c = bulk_time.count()\n",
    "df_1 = pd.DataFrame([v_c, t_c])\n",
    "df_1"
   ]
  },
  {
   "cell_type": "markdown",
   "metadata": {},
   "source": [
    "Совпадает"
   ]
  },
  {
   "cell_type": "markdown",
   "metadata": {},
   "source": [
    "Проверим таблицу с объёмом сыпучих материалов, ящик с усами для каждого вида материалов строить не будем, так как мы уже решили использовать все выбросы для обучения модели, кроме явно ошибочных показателей. Добавим также столбец general с общей суммой добавок по партиям."
   ]
  },
  {
   "cell_type": "code",
   "execution_count": 16,
   "metadata": {},
   "outputs": [],
   "source": [
    "bulk_volume['general bulk']=bulk_volume.drop('key', axis=1).sum(axis=1)"
   ]
  },
  {
   "cell_type": "code",
   "execution_count": 17,
   "metadata": {},
   "outputs": [
    {
     "data": {
      "image/png": "[encoded data removed]",
      "text/plain": [
       "<Figure size 864x1008 with 20 Axes>"
      ]
     },
     "metadata": {
      "needs_background": "light"
     },
     "output_type": "display_data"
    }
   ],
   "source": [
    "bulk_volume.hist(figsize=(12,14))\n",
    "plt.subplots_adjust(hspace=0.7, wspace=0.7)\n",
    "plt.show()"
   ]
  },
  {
   "cell_type": "code",
   "execution_count": 18,
   "metadata": {},
   "outputs": [
    {
     "data": {
      "text/html": [
       "<div>\n",
       "<style scoped>\n",
       "    .dataframe tbody tr th:only-of-type {\n",
       "        vertical-align: middle;\n",
       "    }\n",
       "\n",
       "    .dataframe tbody tr th {\n",
       "        vertical-align: top;\n",
       "    }\n",
       "\n",
       "    .dataframe thead th {\n",
       "        text-align: right;\n",
       "    }\n",
       "</style>\n",
       "<table border=\"1\" class=\"dataframe\">\n",
       "  <thead>\n",
       "    <tr style=\"text-align: right;\">\n",
       "      <th></th>\n",
       "      <th>key</th>\n",
       "      <th>Bulk 1</th>\n",
       "      <th>Bulk 2</th>\n",
       "      <th>Bulk 3</th>\n",
       "      <th>Bulk 4</th>\n",
       "      <th>Bulk 5</th>\n",
       "      <th>Bulk 6</th>\n",
       "      <th>Bulk 7</th>\n",
       "      <th>Bulk 8</th>\n",
       "      <th>Bulk 9</th>\n",
       "      <th>Bulk 10</th>\n",
       "      <th>Bulk 11</th>\n",
       "      <th>Bulk 12</th>\n",
       "      <th>Bulk 13</th>\n",
       "      <th>Bulk 14</th>\n",
       "      <th>Bulk 15</th>\n",
       "      <th>general bulk</th>\n",
       "    </tr>\n",
       "  </thead>\n",
       "  <tbody>\n",
       "    <tr>\n",
       "      <th>count</th>\n",
       "      <td>3129.000000</td>\n",
       "      <td>252.000000</td>\n",
       "      <td>22.000000</td>\n",
       "      <td>1298.000000</td>\n",
       "      <td>1014.000000</td>\n",
       "      <td>77.000000</td>\n",
       "      <td>576.000000</td>\n",
       "      <td>25.000000</td>\n",
       "      <td>1.0</td>\n",
       "      <td>19.000000</td>\n",
       "      <td>176.000000</td>\n",
       "      <td>177.000000</td>\n",
       "      <td>2450.000000</td>\n",
       "      <td>18.000000</td>\n",
       "      <td>2806.000000</td>\n",
       "      <td>2248.000000</td>\n",
       "      <td>3129.000000</td>\n",
       "    </tr>\n",
       "    <tr>\n",
       "      <th>mean</th>\n",
       "      <td>1624.383509</td>\n",
       "      <td>39.242063</td>\n",
       "      <td>253.045455</td>\n",
       "      <td>113.879045</td>\n",
       "      <td>104.394477</td>\n",
       "      <td>107.025974</td>\n",
       "      <td>118.925347</td>\n",
       "      <td>305.600000</td>\n",
       "      <td>49.0</td>\n",
       "      <td>76.315789</td>\n",
       "      <td>83.284091</td>\n",
       "      <td>76.819209</td>\n",
       "      <td>260.471020</td>\n",
       "      <td>181.111111</td>\n",
       "      <td>170.284747</td>\n",
       "      <td>160.513345</td>\n",
       "      <td>595.503356</td>\n",
       "    </tr>\n",
       "    <tr>\n",
       "      <th>std</th>\n",
       "      <td>933.337642</td>\n",
       "      <td>18.277654</td>\n",
       "      <td>21.180578</td>\n",
       "      <td>75.483494</td>\n",
       "      <td>48.184126</td>\n",
       "      <td>81.790646</td>\n",
       "      <td>72.057776</td>\n",
       "      <td>191.022904</td>\n",
       "      <td>NaN</td>\n",
       "      <td>21.720581</td>\n",
       "      <td>26.060347</td>\n",
       "      <td>59.655365</td>\n",
       "      <td>120.649269</td>\n",
       "      <td>46.088009</td>\n",
       "      <td>65.868652</td>\n",
       "      <td>51.765319</td>\n",
       "      <td>276.557794</td>\n",
       "    </tr>\n",
       "    <tr>\n",
       "      <th>min</th>\n",
       "      <td>1.000000</td>\n",
       "      <td>10.000000</td>\n",
       "      <td>228.000000</td>\n",
       "      <td>6.000000</td>\n",
       "      <td>12.000000</td>\n",
       "      <td>11.000000</td>\n",
       "      <td>17.000000</td>\n",
       "      <td>47.000000</td>\n",
       "      <td>49.0</td>\n",
       "      <td>63.000000</td>\n",
       "      <td>24.000000</td>\n",
       "      <td>8.000000</td>\n",
       "      <td>53.000000</td>\n",
       "      <td>151.000000</td>\n",
       "      <td>16.000000</td>\n",
       "      <td>1.000000</td>\n",
       "      <td>19.000000</td>\n",
       "    </tr>\n",
       "    <tr>\n",
       "      <th>25%</th>\n",
       "      <td>816.000000</td>\n",
       "      <td>27.000000</td>\n",
       "      <td>242.000000</td>\n",
       "      <td>58.000000</td>\n",
       "      <td>72.000000</td>\n",
       "      <td>70.000000</td>\n",
       "      <td>69.750000</td>\n",
       "      <td>155.000000</td>\n",
       "      <td>49.0</td>\n",
       "      <td>66.000000</td>\n",
       "      <td>64.000000</td>\n",
       "      <td>25.000000</td>\n",
       "      <td>204.000000</td>\n",
       "      <td>153.250000</td>\n",
       "      <td>119.000000</td>\n",
       "      <td>105.000000</td>\n",
       "      <td>429.000000</td>\n",
       "    </tr>\n",
       "    <tr>\n",
       "      <th>50%</th>\n",
       "      <td>1622.000000</td>\n",
       "      <td>31.000000</td>\n",
       "      <td>251.500000</td>\n",
       "      <td>97.500000</td>\n",
       "      <td>102.000000</td>\n",
       "      <td>86.000000</td>\n",
       "      <td>100.000000</td>\n",
       "      <td>298.000000</td>\n",
       "      <td>49.0</td>\n",
       "      <td>68.000000</td>\n",
       "      <td>86.500000</td>\n",
       "      <td>64.000000</td>\n",
       "      <td>208.000000</td>\n",
       "      <td>155.500000</td>\n",
       "      <td>151.000000</td>\n",
       "      <td>160.000000</td>\n",
       "      <td>591.000000</td>\n",
       "    </tr>\n",
       "    <tr>\n",
       "      <th>75%</th>\n",
       "      <td>2431.000000</td>\n",
       "      <td>46.000000</td>\n",
       "      <td>257.750000</td>\n",
       "      <td>152.000000</td>\n",
       "      <td>133.000000</td>\n",
       "      <td>132.000000</td>\n",
       "      <td>157.000000</td>\n",
       "      <td>406.000000</td>\n",
       "      <td>49.0</td>\n",
       "      <td>70.500000</td>\n",
       "      <td>102.000000</td>\n",
       "      <td>106.000000</td>\n",
       "      <td>316.000000</td>\n",
       "      <td>203.500000</td>\n",
       "      <td>205.750000</td>\n",
       "      <td>205.000000</td>\n",
       "      <td>772.000000</td>\n",
       "    </tr>\n",
       "    <tr>\n",
       "      <th>max</th>\n",
       "      <td>3241.000000</td>\n",
       "      <td>185.000000</td>\n",
       "      <td>325.000000</td>\n",
       "      <td>454.000000</td>\n",
       "      <td>281.000000</td>\n",
       "      <td>603.000000</td>\n",
       "      <td>503.000000</td>\n",
       "      <td>772.000000</td>\n",
       "      <td>49.0</td>\n",
       "      <td>147.000000</td>\n",
       "      <td>159.000000</td>\n",
       "      <td>313.000000</td>\n",
       "      <td>1849.000000</td>\n",
       "      <td>305.000000</td>\n",
       "      <td>636.000000</td>\n",
       "      <td>405.000000</td>\n",
       "      <td>3235.000000</td>\n",
       "    </tr>\n",
       "  </tbody>\n",
       "</table>\n",
       "</div>"
      ],
      "text/plain": [
       "               key      Bulk 1      Bulk 2       Bulk 3       Bulk 4  \\\n",
       "count  3129.000000  252.000000   22.000000  1298.000000  1014.000000   \n",
       "mean   1624.383509   39.242063  253.045455   113.879045   104.394477   \n",
       "std     933.337642   18.277654   21.180578    75.483494    48.184126   \n",
       "min       1.000000   10.000000  228.000000     6.000000    12.000000   \n",
       "25%     816.000000   27.000000  242.000000    58.000000    72.000000   \n",
       "50%    1622.000000   31.000000  251.500000    97.500000   102.000000   \n",
       "75%    2431.000000   46.000000  257.750000   152.000000   133.000000   \n",
       "max    3241.000000  185.000000  325.000000   454.000000   281.000000   \n",
       "\n",
       "           Bulk 5      Bulk 6      Bulk 7  Bulk 8      Bulk 9     Bulk 10  \\\n",
       "count   77.000000  576.000000   25.000000     1.0   19.000000  176.000000   \n",
       "mean   107.025974  118.925347  305.600000    49.0   76.315789   83.284091   \n",
       "std     81.790646   72.057776  191.022904     NaN   21.720581   26.060347   \n",
       "min     11.000000   17.000000   47.000000    49.0   63.000000   24.000000   \n",
       "25%     70.000000   69.750000  155.000000    49.0   66.000000   64.000000   \n",
       "50%     86.000000  100.000000  298.000000    49.0   68.000000   86.500000   \n",
       "75%    132.000000  157.000000  406.000000    49.0   70.500000  102.000000   \n",
       "max    603.000000  503.000000  772.000000    49.0  147.000000  159.000000   \n",
       "\n",
       "          Bulk 11      Bulk 12     Bulk 13      Bulk 14      Bulk 15  \\\n",
       "count  177.000000  2450.000000   18.000000  2806.000000  2248.000000   \n",
       "mean    76.819209   260.471020  181.111111   170.284747   160.513345   \n",
       "std     59.655365   120.649269   46.088009    65.868652    51.765319   \n",
       "min      8.000000    53.000000  151.000000    16.000000     1.000000   \n",
       "25%     25.000000   204.000000  153.250000   119.000000   105.000000   \n",
       "50%     64.000000   208.000000  155.500000   151.000000   160.000000   \n",
       "75%    106.000000   316.000000  203.500000   205.750000   205.000000   \n",
       "max    313.000000  1849.000000  305.000000   636.000000   405.000000   \n",
       "\n",
       "       general bulk  \n",
       "count   3129.000000  \n",
       "mean     595.503356  \n",
       "std      276.557794  \n",
       "min       19.000000  \n",
       "25%      429.000000  \n",
       "50%      591.000000  \n",
       "75%      772.000000  \n",
       "max     3235.000000  "
      ]
     },
     "execution_count": 18,
     "metadata": {},
     "output_type": "execute_result"
    }
   ],
   "source": [
    "bulk_volume.describe()"
   ]
  },
  {
   "cell_type": "markdown",
   "metadata": {},
   "source": [
    "Отрицательных показателей нет. Но у 12 вида сыпучих материалов слишком большой максимальный показатель 1849. "
   ]
  },
  {
   "cell_type": "markdown",
   "metadata": {},
   "source": [
    "Проверим таблицу с временем подачи сыпучих материалов, посмотрим на диапазон времени. "
   ]
  },
  {
   "cell_type": "code",
   "execution_count": 19,
   "metadata": {},
   "outputs": [],
   "source": [
    "bulk_time = bulk_time.drop(['key'], axis=1) \n",
    "bulk_time = bulk_time.apply(pd.to_datetime)"
   ]
  },
  {
   "cell_type": "code",
   "execution_count": 20,
   "metadata": {
    "scrolled": true
   },
   "outputs": [
    {
     "data": {
      "text/html": [
       "<div>\n",
       "<style scoped>\n",
       "    .dataframe tbody tr th:only-of-type {\n",
       "        vertical-align: middle;\n",
       "    }\n",
       "\n",
       "    .dataframe tbody tr th {\n",
       "        vertical-align: top;\n",
       "    }\n",
       "\n",
       "    .dataframe thead th {\n",
       "        text-align: right;\n",
       "    }\n",
       "</style>\n",
       "<table border=\"1\" class=\"dataframe\">\n",
       "  <thead>\n",
       "    <tr style=\"text-align: right;\">\n",
       "      <th></th>\n",
       "      <th>Bulk 1</th>\n",
       "      <th>Bulk 2</th>\n",
       "      <th>Bulk 3</th>\n",
       "      <th>Bulk 4</th>\n",
       "      <th>Bulk 5</th>\n",
       "      <th>Bulk 6</th>\n",
       "      <th>Bulk 7</th>\n",
       "      <th>Bulk 8</th>\n",
       "      <th>Bulk 9</th>\n",
       "      <th>Bulk 10</th>\n",
       "      <th>Bulk 11</th>\n",
       "      <th>Bulk 12</th>\n",
       "      <th>Bulk 13</th>\n",
       "      <th>Bulk 14</th>\n",
       "      <th>Bulk 15</th>\n",
       "    </tr>\n",
       "  </thead>\n",
       "  <tbody>\n",
       "    <tr>\n",
       "      <th>0</th>\n",
       "      <td>2019-05-03 17:42:46</td>\n",
       "      <td>2019-05-07 15:39:35</td>\n",
       "      <td>2019-05-03 20:40:25</td>\n",
       "      <td>2019-05-03 11:28:48</td>\n",
       "      <td>2019-05-07 15:19:17</td>\n",
       "      <td>2019-05-03 19:09:15</td>\n",
       "      <td>2019-05-07 18:11:01</td>\n",
       "      <td>2019-07-08 17:14:53</td>\n",
       "      <td>2019-05-14 11:57:58</td>\n",
       "      <td>2019-05-06 07:54:02</td>\n",
       "      <td>2019-05-05 23:43:24</td>\n",
       "      <td>2019-05-03 11:24:31</td>\n",
       "      <td>2019-05-05 02:10:21</td>\n",
       "      <td>2019-05-03 11:14:50</td>\n",
       "      <td>2019-05-03 11:10:43</td>\n",
       "    </tr>\n",
       "    <tr>\n",
       "      <th>1</th>\n",
       "      <td>2019-09-05 09:11:32</td>\n",
       "      <td>2019-08-13 11:47:39</td>\n",
       "      <td>2019-09-06 12:26:52</td>\n",
       "      <td>2019-09-05 03:35:21</td>\n",
       "      <td>2019-09-02 18:16:52</td>\n",
       "      <td>2019-09-06 16:24:28</td>\n",
       "      <td>2019-09-05 19:07:49</td>\n",
       "      <td>2019-07-08 17:14:53</td>\n",
       "      <td>2019-08-16 09:11:56</td>\n",
       "      <td>2019-09-04 10:03:22</td>\n",
       "      <td>2019-09-06 05:03:14</td>\n",
       "      <td>2019-09-06 15:01:44</td>\n",
       "      <td>2019-09-01 01:53:02</td>\n",
       "      <td>2019-09-06 17:26:33</td>\n",
       "      <td>2019-09-06 17:23:15</td>\n",
       "    </tr>\n",
       "  </tbody>\n",
       "</table>\n",
       "</div>"
      ],
      "text/plain": [
       "               Bulk 1              Bulk 2              Bulk 3  \\\n",
       "0 2019-05-03 17:42:46 2019-05-07 15:39:35 2019-05-03 20:40:25   \n",
       "1 2019-09-05 09:11:32 2019-08-13 11:47:39 2019-09-06 12:26:52   \n",
       "\n",
       "               Bulk 4              Bulk 5              Bulk 6  \\\n",
       "0 2019-05-03 11:28:48 2019-05-07 15:19:17 2019-05-03 19:09:15   \n",
       "1 2019-09-05 03:35:21 2019-09-02 18:16:52 2019-09-06 16:24:28   \n",
       "\n",
       "               Bulk 7              Bulk 8              Bulk 9  \\\n",
       "0 2019-05-07 18:11:01 2019-07-08 17:14:53 2019-05-14 11:57:58   \n",
       "1 2019-09-05 19:07:49 2019-07-08 17:14:53 2019-08-16 09:11:56   \n",
       "\n",
       "              Bulk 10             Bulk 11             Bulk 12  \\\n",
       "0 2019-05-06 07:54:02 2019-05-05 23:43:24 2019-05-03 11:24:31   \n",
       "1 2019-09-04 10:03:22 2019-09-06 05:03:14 2019-09-06 15:01:44   \n",
       "\n",
       "              Bulk 13             Bulk 14             Bulk 15  \n",
       "0 2019-05-05 02:10:21 2019-05-03 11:14:50 2019-05-03 11:10:43  \n",
       "1 2019-09-01 01:53:02 2019-09-06 17:26:33 2019-09-06 17:23:15  "
      ]
     },
     "execution_count": 20,
     "metadata": {},
     "output_type": "execute_result"
    }
   ],
   "source": [
    "t_n = bulk_time.min()\n",
    "t_m = bulk_time.max()\n",
    "df_2 = pd.DataFrame([t_n, t_m])\n",
    "df_2"
   ]
  },
  {
   "cell_type": "markdown",
   "metadata": {},
   "source": [
    "Посмотрим есть ли партии с пустыми значениями в столбцах сыпучих материалов."
   ]
  },
  {
   "cell_type": "code",
   "execution_count": 21,
   "metadata": {},
   "outputs": [
    {
     "data": {
      "text/plain": [
       "Int64Index([], dtype='int64')"
      ]
     },
     "execution_count": 21,
     "metadata": {},
     "output_type": "execute_result"
    }
   ],
   "source": [
    "nan_2 = bulk_time[bulk_time.isnull().all(axis=1)].index\n",
    "nan_2"
   ]
  },
  {
   "cell_type": "markdown",
   "metadata": {},
   "source": [
    "Их нет, ура!"
   ]
  },
  {
   "cell_type": "markdown",
   "metadata": {},
   "source": [
    "Проверим данные на хронологическую последовательность. Но прежде заполним все пропуски в таблице. "
   ]
  },
  {
   "cell_type": "code",
   "execution_count": 22,
   "metadata": {},
   "outputs": [
    {
     "name": "stdout",
     "output_type": "stream",
     "text": [
      "Столбец Bulk 1 является монотонно возрастающим\n",
      "Столбец Bulk 2 является монотонно возрастающим\n",
      "Столбец Bulk 3 является монотонно возрастающим\n",
      "Столбец Bulk 4 является монотонно возрастающим\n",
      "Столбец Bulk 5 является монотонно возрастающим\n",
      "Столбец Bulk 6 является монотонно возрастающим\n",
      "Столбец Bulk 7 является монотонно возрастающим\n",
      "Столбец Bulk 8 является монотонно возрастающим\n",
      "Столбец Bulk 9 является монотонно возрастающим\n",
      "Столбец Bulk 10 является монотонно возрастающим\n",
      "Столбец Bulk 11 является монотонно возрастающим\n",
      "Столбец Bulk 12 является монотонно возрастающим\n",
      "Столбец Bulk 13 является монотонно возрастающим\n",
      "Столбец Bulk 14 является монотонно возрастающим\n",
      "Столбец Bulk 15 является монотонно возрастающим\n"
     ]
    }
   ],
   "source": [
    "# заполняем пропуски вперед и назад\n",
    "bulk_time = bulk_time.fillna(method='ffill').fillna(method='bfill')\n",
    "for col in bulk_time.columns:\n",
    "    if bulk_time[col].is_monotonic:\n",
    "        print(f'Столбец {col} является монотонно возрастающим')\n",
    "    else:\n",
    "        print(f'Столбец {col} не является монотонно возрастающим')"
   ]
  },
  {
   "cell_type": "markdown",
   "metadata": {},
   "source": [
    "Подведём итог."
   ]
  },
  {
   "cell_type": "markdown",
   "metadata": {},
   "source": [
    "В данных о сыпучих материалах есть явный дисбаланс классов, некоторые виды сыпучих материалов используются намного чаще чем другие, как например 14, а некоторые использованы лишь один раз, как например 8. В будущей модели нужно учитывать возможность подачи всех видов сыпучих материалов, поэтому скорее всего все виды материалов которые подаются редко придётся в объеденить в одну группу - “другое”.  \n",
    "\n",
    "Также можем указать что диапазону времени подачи сыпучих материалов совпадает с диапазоном времени нагрева электродов. \n",
    "\n",
    "К заказчику у нас есть следующие вопросы:\n",
    "\n",
    "    У 12 вида сыпучих материалов максимальный показатель объёма равен 1849, возможны ли подобные показатели?\n",
    "\n",
    "    Устраивает ли заказчика то, что нам придётся объединить редкоиспользуемые виды сыпучих материалов в одну группу для предсказания температуры? "
   ]
  },
  {
   "cell_type": "markdown",
   "metadata": {},
   "source": [
    "### Данные о продувке сплава газом"
   ]
  },
  {
   "cell_type": "code",
   "execution_count": 23,
   "metadata": {
    "scrolled": false
   },
   "outputs": [
    {
     "name": "stdout",
     "output_type": "stream",
     "text": [
      "<class 'pandas.core.frame.DataFrame'>\n",
      "RangeIndex: 3239 entries, 0 to 3238\n",
      "Data columns (total 2 columns):\n",
      " #   Column  Non-Null Count  Dtype  \n",
      "---  ------  --------------  -----  \n",
      " 0   key     3239 non-null   int64  \n",
      " 1   Газ 1   3239 non-null   float64\n",
      "dtypes: float64(1), int64(1)\n",
      "memory usage: 50.7 KB\n"
     ]
    },
    {
     "data": {
      "text/html": [
       "<div>\n",
       "<style scoped>\n",
       "    .dataframe tbody tr th:only-of-type {\n",
       "        vertical-align: middle;\n",
       "    }\n",
       "\n",
       "    .dataframe tbody tr th {\n",
       "        vertical-align: top;\n",
       "    }\n",
       "\n",
       "    .dataframe thead th {\n",
       "        text-align: right;\n",
       "    }\n",
       "</style>\n",
       "<table border=\"1\" class=\"dataframe\">\n",
       "  <thead>\n",
       "    <tr style=\"text-align: right;\">\n",
       "      <th></th>\n",
       "      <th>key</th>\n",
       "      <th>Газ 1</th>\n",
       "    </tr>\n",
       "  </thead>\n",
       "  <tbody>\n",
       "    <tr>\n",
       "      <th>0</th>\n",
       "      <td>1</td>\n",
       "      <td>29.749986</td>\n",
       "    </tr>\n",
       "    <tr>\n",
       "      <th>1</th>\n",
       "      <td>2</td>\n",
       "      <td>12.555561</td>\n",
       "    </tr>\n",
       "    <tr>\n",
       "      <th>2</th>\n",
       "      <td>3</td>\n",
       "      <td>28.554793</td>\n",
       "    </tr>\n",
       "    <tr>\n",
       "      <th>3</th>\n",
       "      <td>4</td>\n",
       "      <td>18.841219</td>\n",
       "    </tr>\n",
       "    <tr>\n",
       "      <th>4</th>\n",
       "      <td>5</td>\n",
       "      <td>5.413692</td>\n",
       "    </tr>\n",
       "  </tbody>\n",
       "</table>\n",
       "</div>"
      ],
      "text/plain": [
       "   key      Газ 1\n",
       "0    1  29.749986\n",
       "1    2  12.555561\n",
       "2    3  28.554793\n",
       "3    4  18.841219\n",
       "4    5   5.413692"
      ]
     },
     "execution_count": 23,
     "metadata": {},
     "output_type": "execute_result"
    }
   ],
   "source": [
    "gas = pd.read_csv('/datasets/data_gas_new.csv') \n",
    "gas.info()\n",
    "gas.head()"
   ]
  },
  {
   "cell_type": "code",
   "execution_count": 24,
   "metadata": {},
   "outputs": [
    {
     "data": {
      "text/html": [
       "<div>\n",
       "<style scoped>\n",
       "    .dataframe tbody tr th:only-of-type {\n",
       "        vertical-align: middle;\n",
       "    }\n",
       "\n",
       "    .dataframe tbody tr th {\n",
       "        vertical-align: top;\n",
       "    }\n",
       "\n",
       "    .dataframe thead th {\n",
       "        text-align: right;\n",
       "    }\n",
       "</style>\n",
       "<table border=\"1\" class=\"dataframe\">\n",
       "  <thead>\n",
       "    <tr style=\"text-align: right;\">\n",
       "      <th></th>\n",
       "      <th>key</th>\n",
       "      <th>Газ 1</th>\n",
       "    </tr>\n",
       "  </thead>\n",
       "  <tbody>\n",
       "    <tr>\n",
       "      <th>count</th>\n",
       "      <td>3239.000000</td>\n",
       "      <td>3239.000000</td>\n",
       "    </tr>\n",
       "    <tr>\n",
       "      <th>mean</th>\n",
       "      <td>1621.861377</td>\n",
       "      <td>11.002062</td>\n",
       "    </tr>\n",
       "    <tr>\n",
       "      <th>std</th>\n",
       "      <td>935.386334</td>\n",
       "      <td>6.220327</td>\n",
       "    </tr>\n",
       "    <tr>\n",
       "      <th>min</th>\n",
       "      <td>1.000000</td>\n",
       "      <td>0.008399</td>\n",
       "    </tr>\n",
       "    <tr>\n",
       "      <th>25%</th>\n",
       "      <td>812.500000</td>\n",
       "      <td>7.043089</td>\n",
       "    </tr>\n",
       "    <tr>\n",
       "      <th>50%</th>\n",
       "      <td>1622.000000</td>\n",
       "      <td>9.836267</td>\n",
       "    </tr>\n",
       "    <tr>\n",
       "      <th>75%</th>\n",
       "      <td>2431.500000</td>\n",
       "      <td>13.769915</td>\n",
       "    </tr>\n",
       "    <tr>\n",
       "      <th>max</th>\n",
       "      <td>3241.000000</td>\n",
       "      <td>77.995040</td>\n",
       "    </tr>\n",
       "  </tbody>\n",
       "</table>\n",
       "</div>"
      ],
      "text/plain": [
       "               key        Газ 1\n",
       "count  3239.000000  3239.000000\n",
       "mean   1621.861377    11.002062\n",
       "std     935.386334     6.220327\n",
       "min       1.000000     0.008399\n",
       "25%     812.500000     7.043089\n",
       "50%    1622.000000     9.836267\n",
       "75%    2431.500000    13.769915\n",
       "max    3241.000000    77.995040"
      ]
     },
     "execution_count": 24,
     "metadata": {},
     "output_type": "execute_result"
    }
   ],
   "source": [
    "gas.describe()"
   ]
  },
  {
   "cell_type": "markdown",
   "metadata": {},
   "source": [
    "Итог.\n",
    "\n",
    "В данных о газе нет пропусков.\n",
    "К заказчику у нас есть следующие вопросы:\n",
    "\n",
    "    Минимальное значение 0.008399, возможно ли такое значение, или это ошибочные данные?\n",
    "    \n",
    "    Газ подаётся в сплав один раз в самом первом цикле, или на протяжении каждого цикла подаётся какой-то объём газа и в этой таблице указан финальный объём газа потраченный на каждую партию?"
   ]
  },
  {
   "cell_type": "markdown",
   "metadata": {},
   "source": [
    "### Результаты измерения температуры"
   ]
  },
  {
   "cell_type": "code",
   "execution_count": 25,
   "metadata": {
    "scrolled": true
   },
   "outputs": [
    {
     "name": "stdout",
     "output_type": "stream",
     "text": [
      "<class 'pandas.core.frame.DataFrame'>\n",
      "RangeIndex: 18092 entries, 0 to 18091\n",
      "Data columns (total 3 columns):\n",
      " #   Column        Non-Null Count  Dtype  \n",
      "---  ------        --------------  -----  \n",
      " 0   key           18092 non-null  int64  \n",
      " 1   Время замера  18092 non-null  object \n",
      " 2   Температура   14665 non-null  float64\n",
      "dtypes: float64(1), int64(1), object(1)\n",
      "memory usage: 424.2+ KB\n"
     ]
    },
    {
     "data": {
      "text/html": [
       "<div>\n",
       "<style scoped>\n",
       "    .dataframe tbody tr th:only-of-type {\n",
       "        vertical-align: middle;\n",
       "    }\n",
       "\n",
       "    .dataframe tbody tr th {\n",
       "        vertical-align: top;\n",
       "    }\n",
       "\n",
       "    .dataframe thead th {\n",
       "        text-align: right;\n",
       "    }\n",
       "</style>\n",
       "<table border=\"1\" class=\"dataframe\">\n",
       "  <thead>\n",
       "    <tr style=\"text-align: right;\">\n",
       "      <th></th>\n",
       "      <th>key</th>\n",
       "      <th>Время замера</th>\n",
       "      <th>Температура</th>\n",
       "    </tr>\n",
       "  </thead>\n",
       "  <tbody>\n",
       "    <tr>\n",
       "      <th>0</th>\n",
       "      <td>1</td>\n",
       "      <td>2019-05-03 11:02:04</td>\n",
       "      <td>1571.0</td>\n",
       "    </tr>\n",
       "    <tr>\n",
       "      <th>1</th>\n",
       "      <td>1</td>\n",
       "      <td>2019-05-03 11:07:18</td>\n",
       "      <td>1604.0</td>\n",
       "    </tr>\n",
       "    <tr>\n",
       "      <th>2</th>\n",
       "      <td>1</td>\n",
       "      <td>2019-05-03 11:11:34</td>\n",
       "      <td>1618.0</td>\n",
       "    </tr>\n",
       "    <tr>\n",
       "      <th>3</th>\n",
       "      <td>1</td>\n",
       "      <td>2019-05-03 11:18:04</td>\n",
       "      <td>1601.0</td>\n",
       "    </tr>\n",
       "    <tr>\n",
       "      <th>4</th>\n",
       "      <td>1</td>\n",
       "      <td>2019-05-03 11:25:59</td>\n",
       "      <td>1606.0</td>\n",
       "    </tr>\n",
       "    <tr>\n",
       "      <th>5</th>\n",
       "      <td>1</td>\n",
       "      <td>2019-05-03 11:30:38</td>\n",
       "      <td>1613.0</td>\n",
       "    </tr>\n",
       "    <tr>\n",
       "      <th>6</th>\n",
       "      <td>2</td>\n",
       "      <td>2019-05-03 11:34:04</td>\n",
       "      <td>1581.0</td>\n",
       "    </tr>\n",
       "  </tbody>\n",
       "</table>\n",
       "</div>"
      ],
      "text/plain": [
       "   key         Время замера  Температура\n",
       "0    1  2019-05-03 11:02:04       1571.0\n",
       "1    1  2019-05-03 11:07:18       1604.0\n",
       "2    1  2019-05-03 11:11:34       1618.0\n",
       "3    1  2019-05-03 11:18:04       1601.0\n",
       "4    1  2019-05-03 11:25:59       1606.0\n",
       "5    1  2019-05-03 11:30:38       1613.0\n",
       "6    2  2019-05-03 11:34:04       1581.0"
      ]
     },
     "execution_count": 25,
     "metadata": {},
     "output_type": "execute_result"
    }
   ],
   "source": [
    "#результаты измерения температуры\n",
    "temp = pd.read_csv('/datasets/data_temp_new.csv') \n",
    "temp.info()\n",
    "temp.head(7)"
   ]
  },
  {
   "cell_type": "code",
   "execution_count": 26,
   "metadata": {},
   "outputs": [
    {
     "data": {
      "text/plain": [
       "count    14665.000000\n",
       "mean      1590.722741\n",
       "std         20.394381\n",
       "min       1191.000000\n",
       "25%       1580.000000\n",
       "50%       1590.000000\n",
       "75%       1599.000000\n",
       "max       1705.000000\n",
       "Name: Температура, dtype: float64"
      ]
     },
     "execution_count": 26,
     "metadata": {},
     "output_type": "execute_result"
    }
   ],
   "source": [
    "temp['Температура'].describe()"
   ]
  },
  {
   "cell_type": "code",
   "execution_count": 27,
   "metadata": {},
   "outputs": [
    {
     "name": "stdout",
     "output_type": "stream",
     "text": [
      "Время замера: c  2019-05-03 11:02:04 по 2019-09-06 17:30:05\n"
     ]
    }
   ],
   "source": [
    "temp['Время замера'] = pd.to_datetime(temp['Время замера'])\n",
    "print('Время замера: c ', temp['Время замера'].min(), 'по',\n",
    "temp['Время замера'].max())"
   ]
  },
  {
   "cell_type": "markdown",
   "metadata": {},
   "source": [
    "У нас встречается слишком маленькая минимальная температура, нас это смущает. В интернете находим данные что минимум плавления стали начинается в 1350. Проверим как много строк содержат температуру меньше 1350. "
   ]
  },
  {
   "cell_type": "code",
   "execution_count": 28,
   "metadata": {
    "scrolled": true
   },
   "outputs": [
    {
     "data": {
      "text/html": [
       "<div>\n",
       "<style scoped>\n",
       "    .dataframe tbody tr th:only-of-type {\n",
       "        vertical-align: middle;\n",
       "    }\n",
       "\n",
       "    .dataframe tbody tr th {\n",
       "        vertical-align: top;\n",
       "    }\n",
       "\n",
       "    .dataframe thead th {\n",
       "        text-align: right;\n",
       "    }\n",
       "</style>\n",
       "<table border=\"1\" class=\"dataframe\">\n",
       "  <thead>\n",
       "    <tr style=\"text-align: right;\">\n",
       "      <th></th>\n",
       "      <th>key</th>\n",
       "      <th>Время замера</th>\n",
       "      <th>Температура</th>\n",
       "    </tr>\n",
       "  </thead>\n",
       "  <tbody>\n",
       "    <tr>\n",
       "      <th>4883</th>\n",
       "      <td>867</td>\n",
       "      <td>2019-06-06 08:03:39</td>\n",
       "      <td>1191.0</td>\n",
       "    </tr>\n",
       "    <tr>\n",
       "      <th>6784</th>\n",
       "      <td>1214</td>\n",
       "      <td>2019-06-18 08:01:03</td>\n",
       "      <td>1208.0</td>\n",
       "    </tr>\n",
       "    <tr>\n",
       "      <th>9050</th>\n",
       "      <td>1619</td>\n",
       "      <td>2019-07-03 02:34:41</td>\n",
       "      <td>1218.0</td>\n",
       "    </tr>\n",
       "    <tr>\n",
       "      <th>11495</th>\n",
       "      <td>2052</td>\n",
       "      <td>2019-07-25 08:49:15</td>\n",
       "      <td>1227.0</td>\n",
       "    </tr>\n",
       "    <tr>\n",
       "      <th>14283</th>\n",
       "      <td>2561</td>\n",
       "      <td>2019-08-12 18:49:29</td>\n",
       "      <td>1204.0</td>\n",
       "    </tr>\n",
       "  </tbody>\n",
       "</table>\n",
       "</div>"
      ],
      "text/plain": [
       "        key        Время замера  Температура\n",
       "4883    867 2019-06-06 08:03:39       1191.0\n",
       "6784   1214 2019-06-18 08:01:03       1208.0\n",
       "9050   1619 2019-07-03 02:34:41       1218.0\n",
       "11495  2052 2019-07-25 08:49:15       1227.0\n",
       "14283  2561 2019-08-12 18:49:29       1204.0"
      ]
     },
     "execution_count": 28,
     "metadata": {},
     "output_type": "execute_result"
    }
   ],
   "source": [
    "temp[temp['Температура']<1350]"
   ]
  },
  {
   "cell_type": "markdown",
   "metadata": {},
   "source": [
    "Возможно партии 867, 1214, 1619, 2052 и 2561 содержат ошибочные значения, и всю информацию об этих партиях следует исключить из финальной таблицы данных для моделей. "
   ]
  },
  {
   "cell_type": "markdown",
   "metadata": {},
   "source": [
    "Проверим данные на хронологическую последовательность. "
   ]
  },
  {
   "cell_type": "code",
   "execution_count": 29,
   "metadata": {
    "scrolled": true
   },
   "outputs": [
    {
     "data": {
      "text/plain": [
       "False"
      ]
     },
     "execution_count": 29,
     "metadata": {},
     "output_type": "execute_result"
    }
   ],
   "source": [
    "temp['Время замера'].is_monotonic"
   ]
  },
  {
   "cell_type": "markdown",
   "metadata": {},
   "source": [
    "Найдём ошибку. "
   ]
  },
  {
   "cell_type": "code",
   "execution_count": 30,
   "metadata": {
    "scrolled": true
   },
   "outputs": [
    {
     "name": "stdout",
     "output_type": "stream",
     "text": [
      "      key        Время замера  Температура                prev\n",
      "1105  195 2019-05-11 00:01:36       1583.0 2019-05-11 00:08:20\n"
     ]
    }
   ],
   "source": [
    "temp['prev'] = temp['Время замера'].shift(1)\n",
    "wrong_date_rows = temp[temp['Время замера'] < temp['prev']]\n",
    "print(wrong_date_rows)"
   ]
  },
  {
   "cell_type": "markdown",
   "metadata": {},
   "source": [
    "Посмотрим на данные рядом с этой строкой. "
   ]
  },
  {
   "cell_type": "code",
   "execution_count": 31,
   "metadata": {},
   "outputs": [
    {
     "data": {
      "text/html": [
       "<div>\n",
       "<style scoped>\n",
       "    .dataframe tbody tr th:only-of-type {\n",
       "        vertical-align: middle;\n",
       "    }\n",
       "\n",
       "    .dataframe tbody tr th {\n",
       "        vertical-align: top;\n",
       "    }\n",
       "\n",
       "    .dataframe thead th {\n",
       "        text-align: right;\n",
       "    }\n",
       "</style>\n",
       "<table border=\"1\" class=\"dataframe\">\n",
       "  <thead>\n",
       "    <tr style=\"text-align: right;\">\n",
       "      <th></th>\n",
       "      <th>key</th>\n",
       "      <th>Время замера</th>\n",
       "      <th>Температура</th>\n",
       "      <th>prev</th>\n",
       "    </tr>\n",
       "  </thead>\n",
       "  <tbody>\n",
       "    <tr>\n",
       "      <th>1103</th>\n",
       "      <td>194</td>\n",
       "      <td>2019-05-10 23:51:31</td>\n",
       "      <td>1599.0</td>\n",
       "      <td>2019-05-10 23:47:07</td>\n",
       "    </tr>\n",
       "    <tr>\n",
       "      <th>1104</th>\n",
       "      <td>194</td>\n",
       "      <td>2019-05-11 00:08:20</td>\n",
       "      <td>1603.0</td>\n",
       "      <td>2019-05-10 23:51:31</td>\n",
       "    </tr>\n",
       "    <tr>\n",
       "      <th>1105</th>\n",
       "      <td>195</td>\n",
       "      <td>2019-05-11 00:01:36</td>\n",
       "      <td>1583.0</td>\n",
       "      <td>2019-05-11 00:08:20</td>\n",
       "    </tr>\n",
       "    <tr>\n",
       "      <th>1106</th>\n",
       "      <td>196</td>\n",
       "      <td>2019-05-11 01:11:43</td>\n",
       "      <td>1624.0</td>\n",
       "      <td>2019-05-11 00:01:36</td>\n",
       "    </tr>\n",
       "  </tbody>\n",
       "</table>\n",
       "</div>"
      ],
      "text/plain": [
       "      key        Время замера  Температура                prev\n",
       "1103  194 2019-05-10 23:51:31       1599.0 2019-05-10 23:47:07\n",
       "1104  194 2019-05-11 00:08:20       1603.0 2019-05-10 23:51:31\n",
       "1105  195 2019-05-11 00:01:36       1583.0 2019-05-11 00:08:20\n",
       "1106  196 2019-05-11 01:11:43       1624.0 2019-05-11 00:01:36"
      ]
     },
     "execution_count": 31,
     "metadata": {},
     "output_type": "execute_result"
    }
   ],
   "source": [
    "temp[1103:1107]"
   ]
  },
  {
   "cell_type": "markdown",
   "metadata": {},
   "source": [
    "Партия 195 явно ошибочна, сразу удалим её."
   ]
  },
  {
   "cell_type": "code",
   "execution_count": 32,
   "metadata": {},
   "outputs": [],
   "source": [
    "temp = temp[temp['key'] != 195]"
   ]
  },
  {
   "cell_type": "code",
   "execution_count": 33,
   "metadata": {},
   "outputs": [
    {
     "data": {
      "text/plain": [
       "True"
      ]
     },
     "execution_count": 33,
     "metadata": {},
     "output_type": "execute_result"
    }
   ],
   "source": [
    "temp['Время замера'].is_monotonic"
   ]
  },
  {
   "cell_type": "markdown",
   "metadata": {},
   "source": [
    "Подведём итог.\n",
    "\n",
    "В данных есть немало пропусков значений температуры. Однако пока мы не знаем какая из этих температур является целевой, поэтому не может сказать что следует сделать с пропусками.\n",
    "\n",
    "Есть в данных и минимальное значение температуры расплавленной стали = 1191, которое скорее всего является ошибочным. \n",
    "\n",
    "Также можем указать что диапазону времени данная таблица совпадает с прочими исследуемыми таблицами.\n",
    "\n",
    "Вопрос к заказчику: какая должна быть минимальная температура расплавленной стали в наших данных?"
   ]
  },
  {
   "cell_type": "markdown",
   "metadata": {},
   "source": [
    "### Данные о проволочных материалах"
   ]
  },
  {
   "cell_type": "code",
   "execution_count": 34,
   "metadata": {},
   "outputs": [
    {
     "name": "stdout",
     "output_type": "stream",
     "text": [
      "<class 'pandas.core.frame.DataFrame'>\n",
      "RangeIndex: 3081 entries, 0 to 3080\n",
      "Data columns (total 10 columns):\n",
      " #   Column  Non-Null Count  Dtype  \n",
      "---  ------  --------------  -----  \n",
      " 0   key     3081 non-null   int64  \n",
      " 1   Wire 1  3055 non-null   float64\n",
      " 2   Wire 2  1079 non-null   float64\n",
      " 3   Wire 3  63 non-null     float64\n",
      " 4   Wire 4  14 non-null     float64\n",
      " 5   Wire 5  1 non-null      float64\n",
      " 6   Wire 6  73 non-null     float64\n",
      " 7   Wire 7  11 non-null     float64\n",
      " 8   Wire 8  19 non-null     float64\n",
      " 9   Wire 9  29 non-null     float64\n",
      "dtypes: float64(9), int64(1)\n",
      "memory usage: 240.8 KB\n"
     ]
    },
    {
     "data": {
      "text/html": [
       "<div>\n",
       "<style scoped>\n",
       "    .dataframe tbody tr th:only-of-type {\n",
       "        vertical-align: middle;\n",
       "    }\n",
       "\n",
       "    .dataframe tbody tr th {\n",
       "        vertical-align: top;\n",
       "    }\n",
       "\n",
       "    .dataframe thead th {\n",
       "        text-align: right;\n",
       "    }\n",
       "</style>\n",
       "<table border=\"1\" class=\"dataframe\">\n",
       "  <thead>\n",
       "    <tr style=\"text-align: right;\">\n",
       "      <th></th>\n",
       "      <th>key</th>\n",
       "      <th>Wire 1</th>\n",
       "      <th>Wire 2</th>\n",
       "      <th>Wire 3</th>\n",
       "      <th>Wire 4</th>\n",
       "      <th>Wire 5</th>\n",
       "      <th>Wire 6</th>\n",
       "      <th>Wire 7</th>\n",
       "      <th>Wire 8</th>\n",
       "      <th>Wire 9</th>\n",
       "    </tr>\n",
       "  </thead>\n",
       "  <tbody>\n",
       "    <tr>\n",
       "      <th>0</th>\n",
       "      <td>1</td>\n",
       "      <td>60.059998</td>\n",
       "      <td>NaN</td>\n",
       "      <td>NaN</td>\n",
       "      <td>NaN</td>\n",
       "      <td>NaN</td>\n",
       "      <td>NaN</td>\n",
       "      <td>NaN</td>\n",
       "      <td>NaN</td>\n",
       "      <td>NaN</td>\n",
       "    </tr>\n",
       "    <tr>\n",
       "      <th>1</th>\n",
       "      <td>2</td>\n",
       "      <td>96.052315</td>\n",
       "      <td>NaN</td>\n",
       "      <td>NaN</td>\n",
       "      <td>NaN</td>\n",
       "      <td>NaN</td>\n",
       "      <td>NaN</td>\n",
       "      <td>NaN</td>\n",
       "      <td>NaN</td>\n",
       "      <td>NaN</td>\n",
       "    </tr>\n",
       "    <tr>\n",
       "      <th>2</th>\n",
       "      <td>3</td>\n",
       "      <td>91.160157</td>\n",
       "      <td>NaN</td>\n",
       "      <td>NaN</td>\n",
       "      <td>NaN</td>\n",
       "      <td>NaN</td>\n",
       "      <td>NaN</td>\n",
       "      <td>NaN</td>\n",
       "      <td>NaN</td>\n",
       "      <td>NaN</td>\n",
       "    </tr>\n",
       "    <tr>\n",
       "      <th>3</th>\n",
       "      <td>4</td>\n",
       "      <td>89.063515</td>\n",
       "      <td>NaN</td>\n",
       "      <td>NaN</td>\n",
       "      <td>NaN</td>\n",
       "      <td>NaN</td>\n",
       "      <td>NaN</td>\n",
       "      <td>NaN</td>\n",
       "      <td>NaN</td>\n",
       "      <td>NaN</td>\n",
       "    </tr>\n",
       "    <tr>\n",
       "      <th>4</th>\n",
       "      <td>5</td>\n",
       "      <td>89.238236</td>\n",
       "      <td>9.11456</td>\n",
       "      <td>NaN</td>\n",
       "      <td>NaN</td>\n",
       "      <td>NaN</td>\n",
       "      <td>NaN</td>\n",
       "      <td>NaN</td>\n",
       "      <td>NaN</td>\n",
       "      <td>NaN</td>\n",
       "    </tr>\n",
       "  </tbody>\n",
       "</table>\n",
       "</div>"
      ],
      "text/plain": [
       "   key     Wire 1   Wire 2  Wire 3  Wire 4  Wire 5  Wire 6  Wire 7  Wire 8  \\\n",
       "0    1  60.059998      NaN     NaN     NaN     NaN     NaN     NaN     NaN   \n",
       "1    2  96.052315      NaN     NaN     NaN     NaN     NaN     NaN     NaN   \n",
       "2    3  91.160157      NaN     NaN     NaN     NaN     NaN     NaN     NaN   \n",
       "3    4  89.063515      NaN     NaN     NaN     NaN     NaN     NaN     NaN   \n",
       "4    5  89.238236  9.11456     NaN     NaN     NaN     NaN     NaN     NaN   \n",
       "\n",
       "   Wire 9  \n",
       "0     NaN  \n",
       "1     NaN  \n",
       "2     NaN  \n",
       "3     NaN  \n",
       "4     NaN  "
      ]
     },
     "execution_count": 34,
     "metadata": {},
     "output_type": "execute_result"
    }
   ],
   "source": [
    "#данные о проволочных материалах (объём)\n",
    "wire_volume = pd.read_csv('/datasets/data_wire_new.csv') \n",
    "wire_volume.info()\n",
    "wire_volume.head()"
   ]
  },
  {
   "cell_type": "code",
   "execution_count": 35,
   "metadata": {},
   "outputs": [
    {
     "name": "stdout",
     "output_type": "stream",
     "text": [
      "<class 'pandas.core.frame.DataFrame'>\n",
      "RangeIndex: 3081 entries, 0 to 3080\n",
      "Data columns (total 10 columns):\n",
      " #   Column  Non-Null Count  Dtype \n",
      "---  ------  --------------  ----- \n",
      " 0   key     3081 non-null   int64 \n",
      " 1   Wire 1  3055 non-null   object\n",
      " 2   Wire 2  1079 non-null   object\n",
      " 3   Wire 3  63 non-null     object\n",
      " 4   Wire 4  14 non-null     object\n",
      " 5   Wire 5  1 non-null      object\n",
      " 6   Wire 6  73 non-null     object\n",
      " 7   Wire 7  11 non-null     object\n",
      " 8   Wire 8  19 non-null     object\n",
      " 9   Wire 9  29 non-null     object\n",
      "dtypes: int64(1), object(9)\n",
      "memory usage: 240.8+ KB\n"
     ]
    },
    {
     "data": {
      "text/html": [
       "<div>\n",
       "<style scoped>\n",
       "    .dataframe tbody tr th:only-of-type {\n",
       "        vertical-align: middle;\n",
       "    }\n",
       "\n",
       "    .dataframe tbody tr th {\n",
       "        vertical-align: top;\n",
       "    }\n",
       "\n",
       "    .dataframe thead th {\n",
       "        text-align: right;\n",
       "    }\n",
       "</style>\n",
       "<table border=\"1\" class=\"dataframe\">\n",
       "  <thead>\n",
       "    <tr style=\"text-align: right;\">\n",
       "      <th></th>\n",
       "      <th>key</th>\n",
       "      <th>Wire 1</th>\n",
       "      <th>Wire 2</th>\n",
       "      <th>Wire 3</th>\n",
       "      <th>Wire 4</th>\n",
       "      <th>Wire 5</th>\n",
       "      <th>Wire 6</th>\n",
       "      <th>Wire 7</th>\n",
       "      <th>Wire 8</th>\n",
       "      <th>Wire 9</th>\n",
       "    </tr>\n",
       "  </thead>\n",
       "  <tbody>\n",
       "    <tr>\n",
       "      <th>0</th>\n",
       "      <td>1</td>\n",
       "      <td>2019-05-03 11:06:19</td>\n",
       "      <td>NaN</td>\n",
       "      <td>NaN</td>\n",
       "      <td>NaN</td>\n",
       "      <td>NaN</td>\n",
       "      <td>NaN</td>\n",
       "      <td>NaN</td>\n",
       "      <td>NaN</td>\n",
       "      <td>NaN</td>\n",
       "    </tr>\n",
       "    <tr>\n",
       "      <th>1</th>\n",
       "      <td>2</td>\n",
       "      <td>2019-05-03 11:36:50</td>\n",
       "      <td>NaN</td>\n",
       "      <td>NaN</td>\n",
       "      <td>NaN</td>\n",
       "      <td>NaN</td>\n",
       "      <td>NaN</td>\n",
       "      <td>NaN</td>\n",
       "      <td>NaN</td>\n",
       "      <td>NaN</td>\n",
       "    </tr>\n",
       "    <tr>\n",
       "      <th>2</th>\n",
       "      <td>3</td>\n",
       "      <td>2019-05-03 12:11:46</td>\n",
       "      <td>NaN</td>\n",
       "      <td>NaN</td>\n",
       "      <td>NaN</td>\n",
       "      <td>NaN</td>\n",
       "      <td>NaN</td>\n",
       "      <td>NaN</td>\n",
       "      <td>NaN</td>\n",
       "      <td>NaN</td>\n",
       "    </tr>\n",
       "    <tr>\n",
       "      <th>3</th>\n",
       "      <td>4</td>\n",
       "      <td>2019-05-03 12:43:22</td>\n",
       "      <td>NaN</td>\n",
       "      <td>NaN</td>\n",
       "      <td>NaN</td>\n",
       "      <td>NaN</td>\n",
       "      <td>NaN</td>\n",
       "      <td>NaN</td>\n",
       "      <td>NaN</td>\n",
       "      <td>NaN</td>\n",
       "    </tr>\n",
       "    <tr>\n",
       "      <th>4</th>\n",
       "      <td>5</td>\n",
       "      <td>2019-05-03 13:20:44</td>\n",
       "      <td>2019-05-03 13:15:34</td>\n",
       "      <td>NaN</td>\n",
       "      <td>NaN</td>\n",
       "      <td>NaN</td>\n",
       "      <td>NaN</td>\n",
       "      <td>NaN</td>\n",
       "      <td>NaN</td>\n",
       "      <td>NaN</td>\n",
       "    </tr>\n",
       "  </tbody>\n",
       "</table>\n",
       "</div>"
      ],
      "text/plain": [
       "   key               Wire 1               Wire 2 Wire 3 Wire 4 Wire 5 Wire 6  \\\n",
       "0    1  2019-05-03 11:06:19                  NaN    NaN    NaN    NaN    NaN   \n",
       "1    2  2019-05-03 11:36:50                  NaN    NaN    NaN    NaN    NaN   \n",
       "2    3  2019-05-03 12:11:46                  NaN    NaN    NaN    NaN    NaN   \n",
       "3    4  2019-05-03 12:43:22                  NaN    NaN    NaN    NaN    NaN   \n",
       "4    5  2019-05-03 13:20:44  2019-05-03 13:15:34    NaN    NaN    NaN    NaN   \n",
       "\n",
       "  Wire 7 Wire 8 Wire 9  \n",
       "0    NaN    NaN    NaN  \n",
       "1    NaN    NaN    NaN  \n",
       "2    NaN    NaN    NaN  \n",
       "3    NaN    NaN    NaN  \n",
       "4    NaN    NaN    NaN  "
      ]
     },
     "execution_count": 35,
     "metadata": {},
     "output_type": "execute_result"
    }
   ],
   "source": [
    "#данные о проволочных материалах (время)\n",
    "wire_time = pd.read_csv('/datasets/data_wire_time_new.csv') \n",
    "wire_time.info()\n",
    "wire_time.head()"
   ]
  },
  {
   "cell_type": "markdown",
   "metadata": {},
   "source": [
    "Устройство данных по проволочным материалам такое же как и у данных по сыпучим материалам."
   ]
  },
  {
   "cell_type": "markdown",
   "metadata": {},
   "source": [
    "Но на всякий случай проверим совпадает ли количество значений в датафреймах проволочных  материалов."
   ]
  },
  {
   "cell_type": "code",
   "execution_count": 36,
   "metadata": {},
   "outputs": [
    {
     "data": {
      "text/html": [
       "<div>\n",
       "<style scoped>\n",
       "    .dataframe tbody tr th:only-of-type {\n",
       "        vertical-align: middle;\n",
       "    }\n",
       "\n",
       "    .dataframe tbody tr th {\n",
       "        vertical-align: top;\n",
       "    }\n",
       "\n",
       "    .dataframe thead th {\n",
       "        text-align: right;\n",
       "    }\n",
       "</style>\n",
       "<table border=\"1\" class=\"dataframe\">\n",
       "  <thead>\n",
       "    <tr style=\"text-align: right;\">\n",
       "      <th></th>\n",
       "      <th>key</th>\n",
       "      <th>Wire 1</th>\n",
       "      <th>Wire 2</th>\n",
       "      <th>Wire 3</th>\n",
       "      <th>Wire 4</th>\n",
       "      <th>Wire 5</th>\n",
       "      <th>Wire 6</th>\n",
       "      <th>Wire 7</th>\n",
       "      <th>Wire 8</th>\n",
       "      <th>Wire 9</th>\n",
       "    </tr>\n",
       "  </thead>\n",
       "  <tbody>\n",
       "    <tr>\n",
       "      <th>0</th>\n",
       "      <td>3081</td>\n",
       "      <td>3055</td>\n",
       "      <td>1079</td>\n",
       "      <td>63</td>\n",
       "      <td>14</td>\n",
       "      <td>1</td>\n",
       "      <td>73</td>\n",
       "      <td>11</td>\n",
       "      <td>19</td>\n",
       "      <td>29</td>\n",
       "    </tr>\n",
       "    <tr>\n",
       "      <th>1</th>\n",
       "      <td>3081</td>\n",
       "      <td>3055</td>\n",
       "      <td>1079</td>\n",
       "      <td>63</td>\n",
       "      <td>14</td>\n",
       "      <td>1</td>\n",
       "      <td>73</td>\n",
       "      <td>11</td>\n",
       "      <td>19</td>\n",
       "      <td>29</td>\n",
       "    </tr>\n",
       "  </tbody>\n",
       "</table>\n",
       "</div>"
      ],
      "text/plain": [
       "    key  Wire 1  Wire 2  Wire 3  Wire 4  Wire 5  Wire 6  Wire 7  Wire 8  \\\n",
       "0  3081    3055    1079      63      14       1      73      11      19   \n",
       "1  3081    3055    1079      63      14       1      73      11      19   \n",
       "\n",
       "   Wire 9  \n",
       "0      29  \n",
       "1      29  "
      ]
     },
     "execution_count": 36,
     "metadata": {},
     "output_type": "execute_result"
    }
   ],
   "source": [
    "w_c = wire_volume.count()\n",
    "tw_c = wire_time.count()\n",
    "df_3 = pd.DataFrame([w_c, tw_c])\n",
    "df_3"
   ]
  },
  {
   "cell_type": "markdown",
   "metadata": {},
   "source": [
    "Cовпадает"
   ]
  },
  {
   "cell_type": "markdown",
   "metadata": {},
   "source": [
    "Проверим таблицу с объёмом проволочных материалов, ящик с усами для каждого вида материалов строить не будем, так как мы уже решили использовать все выбросы для обучения модели, кроме явно ошибочных показателей. Добавим также столбец general с общей суммой добавок по партиям."
   ]
  },
  {
   "cell_type": "code",
   "execution_count": 37,
   "metadata": {},
   "outputs": [],
   "source": [
    "wire_volume['general wire']=wire_volume.drop('key', axis=1).sum(axis=1)"
   ]
  },
  {
   "cell_type": "code",
   "execution_count": 38,
   "metadata": {},
   "outputs": [
    {
     "data": {
      "image/png": "[encoded data removed]",
      "text/plain": [
       "<Figure size 864x1008 with 12 Axes>"
      ]
     },
     "metadata": {
      "needs_background": "light"
     },
     "output_type": "display_data"
    }
   ],
   "source": [
    "wire_volume.hist(figsize=(12,14))\n",
    "plt.subplots_adjust(hspace=0.7, wspace=0.7)\n",
    "plt.show()"
   ]
  },
  {
   "cell_type": "code",
   "execution_count": 39,
   "metadata": {},
   "outputs": [
    {
     "data": {
      "text/html": [
       "<div>\n",
       "<style scoped>\n",
       "    .dataframe tbody tr th:only-of-type {\n",
       "        vertical-align: middle;\n",
       "    }\n",
       "\n",
       "    .dataframe tbody tr th {\n",
       "        vertical-align: top;\n",
       "    }\n",
       "\n",
       "    .dataframe thead th {\n",
       "        text-align: right;\n",
       "    }\n",
       "</style>\n",
       "<table border=\"1\" class=\"dataframe\">\n",
       "  <thead>\n",
       "    <tr style=\"text-align: right;\">\n",
       "      <th></th>\n",
       "      <th>key</th>\n",
       "      <th>Wire 1</th>\n",
       "      <th>Wire 2</th>\n",
       "      <th>Wire 3</th>\n",
       "      <th>Wire 4</th>\n",
       "      <th>Wire 5</th>\n",
       "      <th>Wire 6</th>\n",
       "      <th>Wire 7</th>\n",
       "      <th>Wire 8</th>\n",
       "      <th>Wire 9</th>\n",
       "      <th>general wire</th>\n",
       "    </tr>\n",
       "  </thead>\n",
       "  <tbody>\n",
       "    <tr>\n",
       "      <th>count</th>\n",
       "      <td>3081.000000</td>\n",
       "      <td>3055.000000</td>\n",
       "      <td>1079.000000</td>\n",
       "      <td>63.000000</td>\n",
       "      <td>14.000000</td>\n",
       "      <td>1.000</td>\n",
       "      <td>73.000000</td>\n",
       "      <td>11.000000</td>\n",
       "      <td>19.000000</td>\n",
       "      <td>29.000000</td>\n",
       "      <td>3081.000000</td>\n",
       "    </tr>\n",
       "    <tr>\n",
       "      <th>mean</th>\n",
       "      <td>1623.426485</td>\n",
       "      <td>100.895853</td>\n",
       "      <td>50.577323</td>\n",
       "      <td>189.482681</td>\n",
       "      <td>57.442841</td>\n",
       "      <td>15.132</td>\n",
       "      <td>48.016974</td>\n",
       "      <td>10.039007</td>\n",
       "      <td>53.625193</td>\n",
       "      <td>34.155752</td>\n",
       "      <td>123.723326</td>\n",
       "    </tr>\n",
       "    <tr>\n",
       "      <th>std</th>\n",
       "      <td>932.996726</td>\n",
       "      <td>42.012518</td>\n",
       "      <td>39.320216</td>\n",
       "      <td>99.513444</td>\n",
       "      <td>28.824667</td>\n",
       "      <td>NaN</td>\n",
       "      <td>33.919845</td>\n",
       "      <td>8.610584</td>\n",
       "      <td>16.881728</td>\n",
       "      <td>19.931616</td>\n",
       "      <td>66.082966</td>\n",
       "    </tr>\n",
       "    <tr>\n",
       "      <th>min</th>\n",
       "      <td>1.000000</td>\n",
       "      <td>1.918800</td>\n",
       "      <td>0.030160</td>\n",
       "      <td>0.144144</td>\n",
       "      <td>24.148801</td>\n",
       "      <td>15.132</td>\n",
       "      <td>0.034320</td>\n",
       "      <td>0.234208</td>\n",
       "      <td>45.076721</td>\n",
       "      <td>4.622800</td>\n",
       "      <td>1.918800</td>\n",
       "    </tr>\n",
       "    <tr>\n",
       "      <th>25%</th>\n",
       "      <td>823.000000</td>\n",
       "      <td>72.115684</td>\n",
       "      <td>20.193680</td>\n",
       "      <td>95.135044</td>\n",
       "      <td>40.807002</td>\n",
       "      <td>15.132</td>\n",
       "      <td>25.053600</td>\n",
       "      <td>6.762756</td>\n",
       "      <td>46.094879</td>\n",
       "      <td>22.058401</td>\n",
       "      <td>86.112000</td>\n",
       "    </tr>\n",
       "    <tr>\n",
       "      <th>50%</th>\n",
       "      <td>1619.000000</td>\n",
       "      <td>100.158234</td>\n",
       "      <td>40.142956</td>\n",
       "      <td>235.194977</td>\n",
       "      <td>45.234282</td>\n",
       "      <td>15.132</td>\n",
       "      <td>42.076324</td>\n",
       "      <td>9.017009</td>\n",
       "      <td>46.279999</td>\n",
       "      <td>30.066399</td>\n",
       "      <td>114.179523</td>\n",
       "    </tr>\n",
       "    <tr>\n",
       "      <th>75%</th>\n",
       "      <td>2434.000000</td>\n",
       "      <td>126.060483</td>\n",
       "      <td>70.227558</td>\n",
       "      <td>276.252014</td>\n",
       "      <td>76.124619</td>\n",
       "      <td>15.132</td>\n",
       "      <td>64.212723</td>\n",
       "      <td>11.886057</td>\n",
       "      <td>48.089603</td>\n",
       "      <td>43.862003</td>\n",
       "      <td>150.181198</td>\n",
       "    </tr>\n",
       "    <tr>\n",
       "      <th>max</th>\n",
       "      <td>3241.000000</td>\n",
       "      <td>330.314424</td>\n",
       "      <td>282.780152</td>\n",
       "      <td>385.008668</td>\n",
       "      <td>113.231044</td>\n",
       "      <td>15.132</td>\n",
       "      <td>180.454575</td>\n",
       "      <td>32.847674</td>\n",
       "      <td>102.762401</td>\n",
       "      <td>90.053604</td>\n",
       "      <td>663.851766</td>\n",
       "    </tr>\n",
       "  </tbody>\n",
       "</table>\n",
       "</div>"
      ],
      "text/plain": [
       "               key       Wire 1       Wire 2      Wire 3      Wire 4  Wire 5  \\\n",
       "count  3081.000000  3055.000000  1079.000000   63.000000   14.000000   1.000   \n",
       "mean   1623.426485   100.895853    50.577323  189.482681   57.442841  15.132   \n",
       "std     932.996726    42.012518    39.320216   99.513444   28.824667     NaN   \n",
       "min       1.000000     1.918800     0.030160    0.144144   24.148801  15.132   \n",
       "25%     823.000000    72.115684    20.193680   95.135044   40.807002  15.132   \n",
       "50%    1619.000000   100.158234    40.142956  235.194977   45.234282  15.132   \n",
       "75%    2434.000000   126.060483    70.227558  276.252014   76.124619  15.132   \n",
       "max    3241.000000   330.314424   282.780152  385.008668  113.231044  15.132   \n",
       "\n",
       "           Wire 6     Wire 7      Wire 8     Wire 9  general wire  \n",
       "count   73.000000  11.000000   19.000000  29.000000   3081.000000  \n",
       "mean    48.016974  10.039007   53.625193  34.155752    123.723326  \n",
       "std     33.919845   8.610584   16.881728  19.931616     66.082966  \n",
       "min      0.034320   0.234208   45.076721   4.622800      1.918800  \n",
       "25%     25.053600   6.762756   46.094879  22.058401     86.112000  \n",
       "50%     42.076324   9.017009   46.279999  30.066399    114.179523  \n",
       "75%     64.212723  11.886057   48.089603  43.862003    150.181198  \n",
       "max    180.454575  32.847674  102.762401  90.053604    663.851766  "
      ]
     },
     "execution_count": 39,
     "metadata": {},
     "output_type": "execute_result"
    }
   ],
   "source": [
    "wire_volume.describe()"
   ]
  },
  {
   "cell_type": "markdown",
   "metadata": {},
   "source": [
    "Неадекватных значений не найдено. Также можем отметить что некоторые добавки используются в большом количестве, а некоторые в маленьком. "
   ]
  },
  {
   "cell_type": "markdown",
   "metadata": {},
   "source": [
    "Проверим таблицу с временем подачи сыпучих материалов, посмотрим на диапазон времени."
   ]
  },
  {
   "cell_type": "code",
   "execution_count": 40,
   "metadata": {
    "scrolled": true
   },
   "outputs": [
    {
     "data": {
      "text/html": [
       "<div>\n",
       "<style scoped>\n",
       "    .dataframe tbody tr th:only-of-type {\n",
       "        vertical-align: middle;\n",
       "    }\n",
       "\n",
       "    .dataframe tbody tr th {\n",
       "        vertical-align: top;\n",
       "    }\n",
       "\n",
       "    .dataframe thead th {\n",
       "        text-align: right;\n",
       "    }\n",
       "</style>\n",
       "<table border=\"1\" class=\"dataframe\">\n",
       "  <thead>\n",
       "    <tr style=\"text-align: right;\">\n",
       "      <th></th>\n",
       "      <th>Wire 1</th>\n",
       "      <th>Wire 2</th>\n",
       "      <th>Wire 3</th>\n",
       "      <th>Wire 4</th>\n",
       "      <th>Wire 5</th>\n",
       "      <th>Wire 6</th>\n",
       "      <th>Wire 7</th>\n",
       "      <th>Wire 8</th>\n",
       "      <th>Wire 9</th>\n",
       "    </tr>\n",
       "  </thead>\n",
       "  <tbody>\n",
       "    <tr>\n",
       "      <th>0</th>\n",
       "      <td>2019-05-03 11:06:19</td>\n",
       "      <td>2019-05-03 13:15:34</td>\n",
       "      <td>2019-05-04 04:34:27</td>\n",
       "      <td>2019-05-07 15:19:17</td>\n",
       "      <td>2019-08-13 06:14:30</td>\n",
       "      <td>2019-05-07 14:46:05</td>\n",
       "      <td>2019-07-27 05:49:05</td>\n",
       "      <td>2019-05-14 11:29:24</td>\n",
       "      <td>2019-05-04 17:21:27</td>\n",
       "    </tr>\n",
       "    <tr>\n",
       "      <th>1</th>\n",
       "      <td>2019-09-06 17:10:06</td>\n",
       "      <td>2019-09-06 07:35:40</td>\n",
       "      <td>2019-09-02 07:14:44</td>\n",
       "      <td>2019-08-13 03:16:45</td>\n",
       "      <td>2019-08-13 06:14:30</td>\n",
       "      <td>2019-08-18 19:10:56</td>\n",
       "      <td>2019-08-13 10:25:22</td>\n",
       "      <td>2019-08-16 08:56:23</td>\n",
       "      <td>2019-09-03 12:55:23</td>\n",
       "    </tr>\n",
       "  </tbody>\n",
       "</table>\n",
       "</div>"
      ],
      "text/plain": [
       "               Wire 1              Wire 2              Wire 3  \\\n",
       "0 2019-05-03 11:06:19 2019-05-03 13:15:34 2019-05-04 04:34:27   \n",
       "1 2019-09-06 17:10:06 2019-09-06 07:35:40 2019-09-02 07:14:44   \n",
       "\n",
       "               Wire 4              Wire 5              Wire 6  \\\n",
       "0 2019-05-07 15:19:17 2019-08-13 06:14:30 2019-05-07 14:46:05   \n",
       "1 2019-08-13 03:16:45 2019-08-13 06:14:30 2019-08-18 19:10:56   \n",
       "\n",
       "               Wire 7              Wire 8              Wire 9  \n",
       "0 2019-07-27 05:49:05 2019-05-14 11:29:24 2019-05-04 17:21:27  \n",
       "1 2019-08-13 10:25:22 2019-08-16 08:56:23 2019-09-03 12:55:23  "
      ]
     },
     "execution_count": 40,
     "metadata": {},
     "output_type": "execute_result"
    }
   ],
   "source": [
    "wire_time = wire_time.drop(['key'], axis=1) \n",
    "wire_time = wire_time.apply(pd.to_datetime)\n",
    "tt_n = wire_time.min()\n",
    "tt_m = wire_time.max()\n",
    "df_4 = pd.DataFrame([tt_n, tt_m])\n",
    "df_4"
   ]
  },
  {
   "cell_type": "markdown",
   "metadata": {},
   "source": [
    "Проверим данные на хронологическую последовательность."
   ]
  },
  {
   "cell_type": "code",
   "execution_count": 41,
   "metadata": {},
   "outputs": [
    {
     "name": "stdout",
     "output_type": "stream",
     "text": [
      "Столбец Wire 1 является монотонно возрастающим\n",
      "Столбец Wire 2 является монотонно возрастающим\n",
      "Столбец Wire 3 является монотонно возрастающим\n",
      "Столбец Wire 4 является монотонно возрастающим\n",
      "Столбец Wire 5 является монотонно возрастающим\n",
      "Столбец Wire 6 является монотонно возрастающим\n",
      "Столбец Wire 7 является монотонно возрастающим\n",
      "Столбец Wire 8 является монотонно возрастающим\n",
      "Столбец Wire 9 является монотонно возрастающим\n"
     ]
    }
   ],
   "source": [
    "# заполняем пропуски вперед и назад\n",
    "wire_time = wire_time.fillna(method='ffill').fillna(method='bfill')\n",
    "for col in wire_time.columns:\n",
    "    if wire_time[col].is_monotonic:\n",
    "        print(f'Столбец {col} является монотонно возрастающим')\n",
    "    else:\n",
    "        print(f'Столбец {col} не является монотонно возрастающим')"
   ]
  },
  {
   "cell_type": "markdown",
   "metadata": {},
   "source": [
    "Подведём итог.\n",
    "\n",
    "В данных не обнаружено аномальных значений. Но наблюдается явный дисбаланс классов. Скорее всего редкоиспользуемые виды материалов также придётся объединить в класс “другое” \n",
    "\n",
    "Также можем указать что по диапазону времени данные таблицы совпадают с прочими исследуемыми таблицами. \n",
    "\n",
    "К заказчику у нас есть следующий вопрос: устраивает ли заказчика то, что нам придётся объединить редкоиспользуемые виды проволочных материалов в одну группу для предсказания температуры?"
   ]
  },
  {
   "cell_type": "markdown",
   "metadata": {},
   "source": [
    "### Общий итог"
   ]
  },
  {
   "cell_type": "markdown",
   "metadata": {},
   "source": [
    "Мы попытались, для себя, на основе данных выстроить цепь событий со сталью опираясь на время в данных. Если мы правильно понимаем, то у нас есть замер температуры в начале перед добавлением сыпучих или проволочных материалов, потом делается новый замер температуры и цикл может продолжаться пока сталь не достигнет нужных производителю показателей, после делается финальный замер температуры. То есть либо два либо больше двух замеров температуры для каждой партии. Главный наш вопрос к заказчику следующий: **какой из этих замеров температуры наша модель должна предсказывать?** "
   ]
  },
  {
   "cell_type": "markdown",
   "metadata": {},
   "source": [
    "Если важен самый последний замер температуры, то для обучения модели нам нужно будет создать общий датафрейм, где одна строчка будет содержать события и их значения для одной партии, при этом события благодаря указанию даты и времени в первичных данных будут выстроены хронологически. Где последний замер температуры в партии будет целевым значением. "
   ]
  },
  {
   "cell_type": "markdown",
   "metadata": {},
   "source": [
    "Если важен каждый замер температуры (кроме самого первого для каждой партии), то тогда каждый цикл: первичный замер температуры, потом нагревание дугой, после добавление материалов и второй замер температуры, нужно будет сделать отдельной строкой. Где второй замер температуры будет целевым значением. Тут может возникнуть ошибка: модель заметит что последний замер температуры совпадает со значением первичного замера температуры у следующей строчки, поэтому в общей таблице строки нужно будет перемешать.  В таком случае также не понятно что делать со значением газа, так как оно указано для каждой партии и нам неизвестно когда он добавляется."
   ]
  },
  {
   "cell_type": "markdown",
   "metadata": {},
   "source": [
    "В любом случае общий механизм работы такой:\n",
    " \n",
    "    Создать общую таблицу исходя из того какой замер температуры является целевым. \n",
    "\n",
    "    Извлечь неадекватные реальности данные. \n",
    "    \n",
    "    Провести проверку на мультиколлинеарность.\n",
    "\n",
    "    Количественные и качественные признаки обработать специальными методами для работы моделей. \n",
    "\n",
    "    Разделить данные на выборки.\n",
    "\n",
    "    Выбрать для модели несколько метрик качества, исходя из которых будем выбирать лучшую модель.\n",
    "\n",
    "    Создать несколько моделей с автоматическим подбором лучших гиперпараметров. \n",
    "\n",
    "    Выбрать лучшую модель и протестировать её.\n",
    "\n",
    "    Провести анализ важности факторов у лучшей модели. \n"
   ]
  },
  {
   "cell_type": "markdown",
   "metadata": {},
   "source": [
    "### Ответы заказчика."
   ]
  },
  {
   "cell_type": "markdown",
   "metadata": {},
   "source": [
    "Заказчик сообщил нам следующее: \n",
    "\t\n",
    "\tПомимо указанных мощностей существует также полная мощность, которая рассчитывается как корень из суммы квадратов активной и реактивной мощностей. Также полную мощность можно умножить на время работы электродов и получится ещё одна физическая величина - работа. Какую из величин в конечном итоге использовать для модели, заказчик оставляет этот выбор за нами. \n",
    "\n",
    "    Отрицательных мощностей в данных заказчика быть не должно, всю партию с таким показателем следует удалить из данных. \n",
    "\n",
    "    Объединять или необъединять данные по добавкам, по мнению заказчика это также наш выбор. Для него важно лишь то, чтобы в будущем модель могла принимать к работе указанные в данных виды добавок. \n",
    "\n",
    "    Количество газа в данных указано сразу на всю партию, без разделения на циклы.\n",
    "\n",
    "    Минимальной температурой стоит считать 1350 градусов, партии где в данных встречается значение ниже следует удалить из анализа. \n",
    "\n",
    "    Целевой температурой следует считать последнюю температуру, замеряемую после окончания всех циклов нагрева и добавок. \n",
    "\n",
    "    Метрикой качества выбрана средняя абсолютная ошибка или MAE <= 6.8"
   ]
  },
  {
   "cell_type": "markdown",
   "metadata": {},
   "source": [
    "## Построение моделей"
   ]
  },
  {
   "cell_type": "markdown",
   "metadata": {},
   "source": [
    "### Подготовка общей таблицы"
   ]
  },
  {
   "cell_type": "markdown",
   "metadata": {},
   "source": [
    "Удалим из данные по партиям, которые по нашему общему с заказчиком мнению являются ошибочными: отрицательные значения реактивной мощности и значения температуры меньше 1350. В таблице electrodes это номер партии 2116. В таблице temp это партии 867, 1214, 1619, 2052 и 2561."
   ]
  },
  {
   "cell_type": "code",
   "execution_count": 42,
   "metadata": {},
   "outputs": [
    {
     "name": "stdout",
     "output_type": "stream",
     "text": [
      "14876\n",
      "14872\n"
     ]
    }
   ],
   "source": [
    "print(electrodes.shape[0])\n",
    "electrodes = electrodes[electrodes['key'] != 2116]\n",
    "print(electrodes.shape[0])"
   ]
  },
  {
   "cell_type": "code",
   "execution_count": 43,
   "metadata": {
    "scrolled": true
   },
   "outputs": [
    {
     "name": "stdout",
     "output_type": "stream",
     "text": [
      "18091\n",
      "18064\n"
     ]
    }
   ],
   "source": [
    "print(temp.shape[0])\n",
    "values = [867, 1214, 1619, 2052, 2561]\n",
    "temp = temp[temp['key'].isin(values) == False]\n",
    "print(temp.shape[0])"
   ]
  },
  {
   "cell_type": "markdown",
   "metadata": {},
   "source": [
    "В нашей финальной таблице мы соберем данные сгруппировав их по партиям, взяв только те партии, данные о которых есть во всех таблицах."
   ]
  },
  {
   "cell_type": "markdown",
   "metadata": {},
   "source": [
    "По таблице electrodes посчитаем для каждой партии как Полную мощность, так и Работу (полная мощность умноженная на время). Потом добавим к этой таблице сгруппированную по партиям таблицу temp. И проведём анализ на мультиколлинеарность, дабы выбрать какую из мощностей или работу использовать далее. "
   ]
  },
  {
   "cell_type": "code",
   "execution_count": 44,
   "metadata": {
    "scrolled": true
   },
   "outputs": [
    {
     "data": {
      "text/html": [
       "<div>\n",
       "<style scoped>\n",
       "    .dataframe tbody tr th:only-of-type {\n",
       "        vertical-align: middle;\n",
       "    }\n",
       "\n",
       "    .dataframe tbody tr th {\n",
       "        vertical-align: top;\n",
       "    }\n",
       "\n",
       "    .dataframe thead th {\n",
       "        text-align: right;\n",
       "    }\n",
       "</style>\n",
       "<table border=\"1\" class=\"dataframe\">\n",
       "  <thead>\n",
       "    <tr style=\"text-align: right;\">\n",
       "      <th></th>\n",
       "      <th>key</th>\n",
       "      <th>Время нагрева дугой</th>\n",
       "      <th>Активная мощность</th>\n",
       "      <th>Реактивная мощность</th>\n",
       "      <th>Полная мощность</th>\n",
       "      <th>Работа</th>\n",
       "    </tr>\n",
       "  </thead>\n",
       "  <tbody>\n",
       "    <tr>\n",
       "      <th>0</th>\n",
       "      <td>1</td>\n",
       "      <td>1098</td>\n",
       "      <td>3.036730</td>\n",
       "      <td>2.142821</td>\n",
       "      <td>3.718736</td>\n",
       "      <td>770.282114</td>\n",
       "    </tr>\n",
       "    <tr>\n",
       "      <th>1</th>\n",
       "      <td>2</td>\n",
       "      <td>811</td>\n",
       "      <td>2.139408</td>\n",
       "      <td>1.453357</td>\n",
       "      <td>2.588349</td>\n",
       "      <td>481.760005</td>\n",
       "    </tr>\n",
       "    <tr>\n",
       "      <th>2</th>\n",
       "      <td>3</td>\n",
       "      <td>655</td>\n",
       "      <td>4.063641</td>\n",
       "      <td>2.937457</td>\n",
       "      <td>5.019223</td>\n",
       "      <td>722.837668</td>\n",
       "    </tr>\n",
       "    <tr>\n",
       "      <th>3</th>\n",
       "      <td>4</td>\n",
       "      <td>741</td>\n",
       "      <td>2.706489</td>\n",
       "      <td>2.056992</td>\n",
       "      <td>3.400038</td>\n",
       "      <td>683.455597</td>\n",
       "    </tr>\n",
       "    <tr>\n",
       "      <th>4</th>\n",
       "      <td>5</td>\n",
       "      <td>869</td>\n",
       "      <td>2.252950</td>\n",
       "      <td>1.687991</td>\n",
       "      <td>2.816980</td>\n",
       "      <td>512.169934</td>\n",
       "    </tr>\n",
       "  </tbody>\n",
       "</table>\n",
       "</div>"
      ],
      "text/plain": [
       "   key  Время нагрева дугой  Активная мощность  Реактивная мощность  \\\n",
       "0    1                 1098           3.036730             2.142821   \n",
       "1    2                  811           2.139408             1.453357   \n",
       "2    3                  655           4.063641             2.937457   \n",
       "3    4                  741           2.706489             2.056992   \n",
       "4    5                  869           2.252950             1.687991   \n",
       "\n",
       "   Полная мощность      Работа  \n",
       "0         3.718736  770.282114  \n",
       "1         2.588349  481.760005  \n",
       "2         5.019223  722.837668  \n",
       "3         3.400038  683.455597  \n",
       "4         2.816980  512.169934  "
      ]
     },
     "execution_count": 44,
     "metadata": {},
     "output_type": "execute_result"
    }
   ],
   "source": [
    "electrodes['Время нагрева дугой'] = electrodes['Конец нагрева дугой'] - electrodes['Начало нагрева дугой']\n",
    "electrodes['Время нагрева дугой'] = electrodes['Время нагрева дугой'].dt.total_seconds().astype('int64')\n",
    "\n",
    "electrodes['Полная мощность'] = np.sqrt(electrodes['Активная мощность']**2 + electrodes['Реактивная мощность']**2)\n",
    "electrodes['Работа'] = electrodes['Полная мощность'] * electrodes['Время нагрева дугой']\n",
    "\n",
    "electrodes = electrodes[['key','Время нагрева дугой','Активная мощность','Реактивная мощность','Полная мощность','Работа']]\n",
    "electrodes = electrodes.groupby('key').sum().reset_index()\n",
    "electrodes.head()"
   ]
  },
  {
   "cell_type": "code",
   "execution_count": 45,
   "metadata": {},
   "outputs": [
    {
     "name": "stdout",
     "output_type": "stream",
     "text": [
      "3210\n",
      "3210\n",
      "2472\n"
     ]
    },
    {
     "data": {
      "text/html": [
       "<div>\n",
       "<style scoped>\n",
       "    .dataframe tbody tr th:only-of-type {\n",
       "        vertical-align: middle;\n",
       "    }\n",
       "\n",
       "    .dataframe tbody tr th {\n",
       "        vertical-align: top;\n",
       "    }\n",
       "\n",
       "    .dataframe thead th {\n",
       "        text-align: right;\n",
       "    }\n",
       "</style>\n",
       "<table border=\"1\" class=\"dataframe\">\n",
       "  <thead>\n",
       "    <tr style=\"text-align: right;\">\n",
       "      <th></th>\n",
       "      <th>key</th>\n",
       "      <th>first</th>\n",
       "      <th>last</th>\n",
       "    </tr>\n",
       "  </thead>\n",
       "  <tbody>\n",
       "    <tr>\n",
       "      <th>0</th>\n",
       "      <td>1</td>\n",
       "      <td>1571.0</td>\n",
       "      <td>1613.0</td>\n",
       "    </tr>\n",
       "    <tr>\n",
       "      <th>1</th>\n",
       "      <td>2</td>\n",
       "      <td>1581.0</td>\n",
       "      <td>1602.0</td>\n",
       "    </tr>\n",
       "    <tr>\n",
       "      <th>2</th>\n",
       "      <td>3</td>\n",
       "      <td>1596.0</td>\n",
       "      <td>1599.0</td>\n",
       "    </tr>\n",
       "    <tr>\n",
       "      <th>3</th>\n",
       "      <td>4</td>\n",
       "      <td>1601.0</td>\n",
       "      <td>1625.0</td>\n",
       "    </tr>\n",
       "    <tr>\n",
       "      <th>4</th>\n",
       "      <td>5</td>\n",
       "      <td>1576.0</td>\n",
       "      <td>1602.0</td>\n",
       "    </tr>\n",
       "  </tbody>\n",
       "</table>\n",
       "</div>"
      ],
      "text/plain": [
       "   key   first    last\n",
       "0    1  1571.0  1613.0\n",
       "1    2  1581.0  1602.0\n",
       "2    3  1596.0  1599.0\n",
       "3    4  1601.0  1625.0\n",
       "4    5  1576.0  1602.0"
      ]
     },
     "execution_count": 45,
     "metadata": {},
     "output_type": "execute_result"
    }
   ],
   "source": [
    "# чтобы методы groupby() и agg() адекватно сработали, надо закрыть все пропуски\n",
    "temp = temp.fillna(0)\n",
    "temp = temp.groupby('key').agg({'Температура': ['first', 'last']}).reset_index()\n",
    "temp.columns = ['key', 'first','last']\n",
    "\n",
    "# теперь же все пропуски надо удалить \n",
    "print(temp.shape[0])\n",
    "temp = temp[temp['first'] != 0]\n",
    "print(temp.shape[0])\n",
    "temp = temp[temp['last'] != 0]\n",
    "print(temp.shape[0])\n",
    "temp.head()"
   ]
  },
  {
   "cell_type": "code",
   "execution_count": 46,
   "metadata": {},
   "outputs": [],
   "source": [
    "merged_df = pd.merge(temp, electrodes, on='key')"
   ]
  },
  {
   "cell_type": "code",
   "execution_count": 47,
   "metadata": {},
   "outputs": [
    {
     "name": "stdout",
     "output_type": "stream",
     "text": [
      "                          key     first      last  Время нагрева дугой  \\\n",
      "key                  1.000000 -0.014680 -0.080506            -0.032949   \n",
      "first               -0.014680  1.000000  0.437374            -0.361745   \n",
      "last                -0.080506  0.437374  1.000000             0.207568   \n",
      "Время нагрева дугой -0.032949 -0.361745  0.207568             1.000000   \n",
      "Активная мощность   -0.025653 -0.190133  0.044948             0.716324   \n",
      "Реактивная мощность -0.023605 -0.187954  0.042296             0.708939   \n",
      "Полная мощность     -0.024911 -0.189719  0.044012             0.714933   \n",
      "Работа              -0.024849 -0.329798  0.181944             0.900017   \n",
      "\n",
      "                     Активная мощность  Реактивная мощность  Полная мощность  \\\n",
      "key                          -0.025653            -0.023605        -0.024911   \n",
      "first                        -0.190133            -0.187954        -0.189719   \n",
      "last                          0.044948             0.042296         0.044012   \n",
      "Время нагрева дугой           0.716324             0.708939         0.714933   \n",
      "Активная мощность             1.000000             0.992536         0.999044   \n",
      "Реактивная мощность           0.992536             1.000000         0.996915   \n",
      "Полная мощность               0.999044             0.996915         1.000000   \n",
      "Работа                        0.815328             0.812010         0.815544   \n",
      "\n",
      "                       Работа  \n",
      "key                 -0.024849  \n",
      "first               -0.329798  \n",
      "last                 0.181944  \n",
      "Время нагрева дугой  0.900017  \n",
      "Активная мощность    0.815328  \n",
      "Реактивная мощность  0.812010  \n",
      "Полная мощность      0.815544  \n",
      "Работа               1.000000  \n"
     ]
    },
    {
     "data": {
      "image/png": "[encoded data removed]",
      "text/plain": [
       "<Figure size 432x288 with 2 Axes>"
      ]
     },
     "metadata": {
      "needs_background": "light"
     },
     "output_type": "display_data"
    }
   ],
   "source": [
    "print(merged_df.corr())  \n",
    "merged_df_plot = sns.heatmap(merged_df.corr(), cmap=\"YlGnBu\", annot=True)\n",
    "plt.show()"
   ]
  },
  {
   "cell_type": "markdown",
   "metadata": {},
   "source": [
    "Мы видим что у нас имеется сильная корреляция между признаками Времени нагрева дугой, мощностями и работой. Из них нам нужно оставить один либо выбрать несколько не очень сильно коррелирующих друг с другом. С одной стороны хочется оставить Время нагрева дугой, так как у этого признака самая большая корреляция с температурой last. С другой стороны у Работы эта корреляция чуть меньше, но по логике этот признак должен быть наиболее сильно связан с температурой last. Мы также можем взять Время нагрева дугой и Полную мощность, хотя они и коррелируют друг с другом, вместе они и составляют Работу и в тоже время хорошо коррелируют с целевой температурой. Поэтому мы выбираем Время нагрева дугой и Полную мощность. "
   ]
  },
  {
   "cell_type": "code",
   "execution_count": 48,
   "metadata": {},
   "outputs": [],
   "source": [
    "merged_df = merged_df[['key', 'Время нагрева дугой', 'Полная мощность', 'first', 'last']]"
   ]
  },
  {
   "cell_type": "markdown",
   "metadata": {},
   "source": [
    "Добавим данные по газу."
   ]
  },
  {
   "cell_type": "code",
   "execution_count": 49,
   "metadata": {
    "scrolled": true
   },
   "outputs": [
    {
     "data": {
      "text/html": [
       "<div>\n",
       "<style scoped>\n",
       "    .dataframe tbody tr th:only-of-type {\n",
       "        vertical-align: middle;\n",
       "    }\n",
       "\n",
       "    .dataframe tbody tr th {\n",
       "        vertical-align: top;\n",
       "    }\n",
       "\n",
       "    .dataframe thead th {\n",
       "        text-align: right;\n",
       "    }\n",
       "</style>\n",
       "<table border=\"1\" class=\"dataframe\">\n",
       "  <thead>\n",
       "    <tr style=\"text-align: right;\">\n",
       "      <th></th>\n",
       "      <th>key</th>\n",
       "      <th>Время нагрева дугой</th>\n",
       "      <th>Полная мощность</th>\n",
       "      <th>first</th>\n",
       "      <th>last</th>\n",
       "      <th>Газ 1</th>\n",
       "    </tr>\n",
       "  </thead>\n",
       "  <tbody>\n",
       "    <tr>\n",
       "      <th>0</th>\n",
       "      <td>1</td>\n",
       "      <td>1098</td>\n",
       "      <td>3.718736</td>\n",
       "      <td>1571.0</td>\n",
       "      <td>1613.0</td>\n",
       "      <td>29.749986</td>\n",
       "    </tr>\n",
       "    <tr>\n",
       "      <th>1</th>\n",
       "      <td>2</td>\n",
       "      <td>811</td>\n",
       "      <td>2.588349</td>\n",
       "      <td>1581.0</td>\n",
       "      <td>1602.0</td>\n",
       "      <td>12.555561</td>\n",
       "    </tr>\n",
       "    <tr>\n",
       "      <th>2</th>\n",
       "      <td>3</td>\n",
       "      <td>655</td>\n",
       "      <td>5.019223</td>\n",
       "      <td>1596.0</td>\n",
       "      <td>1599.0</td>\n",
       "      <td>28.554793</td>\n",
       "    </tr>\n",
       "  </tbody>\n",
       "</table>\n",
       "</div>"
      ],
      "text/plain": [
       "   key  Время нагрева дугой  Полная мощность   first    last      Газ 1\n",
       "0    1                 1098         3.718736  1571.0  1613.0  29.749986\n",
       "1    2                  811         2.588349  1581.0  1602.0  12.555561\n",
       "2    3                  655         5.019223  1596.0  1599.0  28.554793"
      ]
     },
     "execution_count": 49,
     "metadata": {},
     "output_type": "execute_result"
    }
   ],
   "source": [
    "merged_df = pd.merge(merged_df, gas, on='key')\n",
    "merged_df.head(3)"
   ]
  },
  {
   "cell_type": "markdown",
   "metadata": {},
   "source": [
    "Добавим данные по добавкам сыпучих и проволочных материалов."
   ]
  },
  {
   "cell_type": "code",
   "execution_count": 50,
   "metadata": {
    "scrolled": true
   },
   "outputs": [
    {
     "data": {
      "text/html": [
       "<div>\n",
       "<style scoped>\n",
       "    .dataframe tbody tr th:only-of-type {\n",
       "        vertical-align: middle;\n",
       "    }\n",
       "\n",
       "    .dataframe tbody tr th {\n",
       "        vertical-align: top;\n",
       "    }\n",
       "\n",
       "    .dataframe thead th {\n",
       "        text-align: right;\n",
       "    }\n",
       "</style>\n",
       "<table border=\"1\" class=\"dataframe\">\n",
       "  <thead>\n",
       "    <tr style=\"text-align: right;\">\n",
       "      <th></th>\n",
       "      <th>key</th>\n",
       "      <th>Время нагрева дугой</th>\n",
       "      <th>Полная мощность</th>\n",
       "      <th>first</th>\n",
       "      <th>last</th>\n",
       "      <th>Газ 1</th>\n",
       "      <th>Bulk 1</th>\n",
       "      <th>Bulk 2</th>\n",
       "      <th>Bulk 3</th>\n",
       "      <th>Bulk 4</th>\n",
       "      <th>...</th>\n",
       "      <th>Wire 1</th>\n",
       "      <th>Wire 2</th>\n",
       "      <th>Wire 3</th>\n",
       "      <th>Wire 4</th>\n",
       "      <th>Wire 5</th>\n",
       "      <th>Wire 6</th>\n",
       "      <th>Wire 7</th>\n",
       "      <th>Wire 8</th>\n",
       "      <th>Wire 9</th>\n",
       "      <th>general wire</th>\n",
       "    </tr>\n",
       "  </thead>\n",
       "  <tbody>\n",
       "    <tr>\n",
       "      <th>0</th>\n",
       "      <td>1</td>\n",
       "      <td>1098</td>\n",
       "      <td>3.718736</td>\n",
       "      <td>1571.0</td>\n",
       "      <td>1613.0</td>\n",
       "      <td>29.749986</td>\n",
       "      <td>NaN</td>\n",
       "      <td>NaN</td>\n",
       "      <td>NaN</td>\n",
       "      <td>43.0</td>\n",
       "      <td>...</td>\n",
       "      <td>60.059998</td>\n",
       "      <td>NaN</td>\n",
       "      <td>NaN</td>\n",
       "      <td>NaN</td>\n",
       "      <td>NaN</td>\n",
       "      <td>NaN</td>\n",
       "      <td>NaN</td>\n",
       "      <td>NaN</td>\n",
       "      <td>NaN</td>\n",
       "      <td>60.059998</td>\n",
       "    </tr>\n",
       "    <tr>\n",
       "      <th>1</th>\n",
       "      <td>2</td>\n",
       "      <td>811</td>\n",
       "      <td>2.588349</td>\n",
       "      <td>1581.0</td>\n",
       "      <td>1602.0</td>\n",
       "      <td>12.555561</td>\n",
       "      <td>NaN</td>\n",
       "      <td>NaN</td>\n",
       "      <td>NaN</td>\n",
       "      <td>73.0</td>\n",
       "      <td>...</td>\n",
       "      <td>96.052315</td>\n",
       "      <td>NaN</td>\n",
       "      <td>NaN</td>\n",
       "      <td>NaN</td>\n",
       "      <td>NaN</td>\n",
       "      <td>NaN</td>\n",
       "      <td>NaN</td>\n",
       "      <td>NaN</td>\n",
       "      <td>NaN</td>\n",
       "      <td>96.052315</td>\n",
       "    </tr>\n",
       "    <tr>\n",
       "      <th>2</th>\n",
       "      <td>3</td>\n",
       "      <td>655</td>\n",
       "      <td>5.019223</td>\n",
       "      <td>1596.0</td>\n",
       "      <td>1599.0</td>\n",
       "      <td>28.554793</td>\n",
       "      <td>NaN</td>\n",
       "      <td>NaN</td>\n",
       "      <td>NaN</td>\n",
       "      <td>34.0</td>\n",
       "      <td>...</td>\n",
       "      <td>91.160157</td>\n",
       "      <td>NaN</td>\n",
       "      <td>NaN</td>\n",
       "      <td>NaN</td>\n",
       "      <td>NaN</td>\n",
       "      <td>NaN</td>\n",
       "      <td>NaN</td>\n",
       "      <td>NaN</td>\n",
       "      <td>NaN</td>\n",
       "      <td>91.160157</td>\n",
       "    </tr>\n",
       "  </tbody>\n",
       "</table>\n",
       "<p>3 rows × 32 columns</p>\n",
       "</div>"
      ],
      "text/plain": [
       "   key  Время нагрева дугой  Полная мощность   first    last      Газ 1  \\\n",
       "0    1                 1098         3.718736  1571.0  1613.0  29.749986   \n",
       "1    2                  811         2.588349  1581.0  1602.0  12.555561   \n",
       "2    3                  655         5.019223  1596.0  1599.0  28.554793   \n",
       "\n",
       "   Bulk 1  Bulk 2  Bulk 3  Bulk 4  ...     Wire 1  Wire 2  Wire 3  Wire 4  \\\n",
       "0     NaN     NaN     NaN    43.0  ...  60.059998     NaN     NaN     NaN   \n",
       "1     NaN     NaN     NaN    73.0  ...  96.052315     NaN     NaN     NaN   \n",
       "2     NaN     NaN     NaN    34.0  ...  91.160157     NaN     NaN     NaN   \n",
       "\n",
       "   Wire 5  Wire 6  Wire 7  Wire 8  Wire 9  general wire  \n",
       "0     NaN     NaN     NaN     NaN     NaN     60.059998  \n",
       "1     NaN     NaN     NaN     NaN     NaN     96.052315  \n",
       "2     NaN     NaN     NaN     NaN     NaN     91.160157  \n",
       "\n",
       "[3 rows x 32 columns]"
      ]
     },
     "execution_count": 50,
     "metadata": {},
     "output_type": "execute_result"
    }
   ],
   "source": [
    "merged_df = pd.merge(merged_df, bulk_volume, on='key')\n",
    "merged_df = pd.merge(merged_df, wire_volume, on='key')\n",
    "merged_df.head(3)"
   ]
  },
  {
   "cell_type": "code",
   "execution_count": 51,
   "metadata": {},
   "outputs": [
    {
     "name": "stdout",
     "output_type": "stream",
     "text": [
      "<class 'pandas.core.frame.DataFrame'>\n",
      "Int64Index: 2324 entries, 0 to 2323\n",
      "Data columns (total 32 columns):\n",
      " #   Column               Non-Null Count  Dtype  \n",
      "---  ------               --------------  -----  \n",
      " 0   key                  2324 non-null   int64  \n",
      " 1   Время нагрева дугой  2324 non-null   int64  \n",
      " 2   Полная мощность      2324 non-null   float64\n",
      " 3   first                2324 non-null   float64\n",
      " 4   last                 2324 non-null   float64\n",
      " 5   Газ 1                2324 non-null   float64\n",
      " 6   Bulk 1               199 non-null    float64\n",
      " 7   Bulk 2               13 non-null     float64\n",
      " 8   Bulk 3               958 non-null    float64\n",
      " 9   Bulk 4               811 non-null    float64\n",
      " 10  Bulk 5               53 non-null     float64\n",
      " 11  Bulk 6               437 non-null    float64\n",
      " 12  Bulk 7               13 non-null     float64\n",
      " 13  Bulk 8               1 non-null      float64\n",
      " 14  Bulk 9               13 non-null     float64\n",
      " 15  Bulk 10              143 non-null    float64\n",
      " 16  Bulk 11              130 non-null    float64\n",
      " 17  Bulk 12              1809 non-null   float64\n",
      " 18  Bulk 13              14 non-null     float64\n",
      " 19  Bulk 14              2064 non-null   float64\n",
      " 20  Bulk 15              1696 non-null   float64\n",
      " 21  general bulk         2324 non-null   float64\n",
      " 22  Wire 1               2301 non-null   float64\n",
      " 23  Wire 2               809 non-null    float64\n",
      " 24  Wire 3               39 non-null     float64\n",
      " 25  Wire 4               12 non-null     float64\n",
      " 26  Wire 5               0 non-null      float64\n",
      " 27  Wire 6               45 non-null     float64\n",
      " 28  Wire 7               4 non-null      float64\n",
      " 29  Wire 8               13 non-null     float64\n",
      " 30  Wire 9               24 non-null     float64\n",
      " 31  general wire         2324 non-null   float64\n",
      "dtypes: float64(30), int64(2)\n",
      "memory usage: 599.2 KB\n"
     ]
    }
   ],
   "source": [
    "merged_df.info()"
   ]
  },
  {
   "cell_type": "markdown",
   "metadata": {},
   "source": [
    "По понятным причинам столбцы с добавками содержат пустые значения. Есть также полностью пустой столбец Wire 5. Удалим его."
   ]
  },
  {
   "cell_type": "code",
   "execution_count": 52,
   "metadata": {},
   "outputs": [
    {
     "name": "stdout",
     "output_type": "stream",
     "text": [
      "32\n",
      "31\n"
     ]
    }
   ],
   "source": [
    "print(merged_df.shape[1])\n",
    "merged_df = merged_df.drop('Wire 5', axis=1)\n",
    "print(merged_df.shape[1])"
   ]
  },
  {
   "cell_type": "markdown",
   "metadata": {},
   "source": [
    "Проверим всю таблицу на мультиколлинеарность. Так как таблица имеет много столбцов, смотреть её всю будет не удобно. Выведем только те столбцы, что могут нас заинтересовать своей коллинеарностью. "
   ]
  },
  {
   "cell_type": "code",
   "execution_count": 53,
   "metadata": {},
   "outputs": [
    {
     "name": "stdout",
     "output_type": "stream",
     "text": [
      "           Column 1             Column 2  Корреляция\n",
      "2            Wire 6               Bulk 4    0.697244\n",
      "4           Bulk 11               Bulk 1    0.709720\n",
      "6   Полная мощность  Время нагрева дугой    0.719234\n",
      "8            Bulk 9               Wire 8    0.751087\n",
      "10           Bulk 9               Bulk 4    0.789128\n",
      "12          Bulk 12         general bulk    0.821542\n",
      "14           Bulk 4               Wire 8    0.824822\n",
      "16          Bulk 13               Bulk 6    0.844690\n",
      "18           Wire 3         general wire    0.928918\n",
      "20     general wire               Wire 7    0.941477\n",
      "22          Bulk 12               Bulk 9    0.946954\n",
      "24           Wire 8              Bulk 12    0.970067\n",
      "26           Wire 2               Bulk 7    1.000000\n"
     ]
    }
   ],
   "source": [
    "# получение матрицы корреляции\n",
    "corr_matrix = merged_df.corr()\n",
    "\n",
    "# создадим новый датафрейм с парами столбцов, у которых корреляция больше 0.69 и не равна 1\n",
    "corr_pairs = corr_matrix[(corr_matrix > 0.69) & (corr_matrix != 1)].stack().reset_index()\n",
    "corr_pairs.columns = ['Column 1', 'Column 2', 'Корреляция']\n",
    "corr_pairs = corr_pairs[corr_pairs['Column 1'] != 'key']\n",
    "corr_pairs = corr_pairs[corr_pairs['Column 2'] != 'key']\n",
    "corr_pairs = corr_pairs.sort_values(by=['Корреляция'], ascending=[True]).reset_index(drop=True)\n",
    "corr_pairs.index = corr_pairs.index + 1\n",
    "\n",
    "# удалим дублирующиеся пары\n",
    "corr_pairs = corr_pairs.drop(corr_pairs.index[::2])\n",
    "print(corr_pairs)"
   ]
  },
  {
   "cell_type": "markdown",
   "metadata": {},
   "source": [
    "Итого. Мы однозначно убираем из таблицы general wire\n",
    "и general bulk. Также часть упоминаемых тут признаков wire и bulk относятся к немногочисленным. Объединим  wire и bulk, которые встречаются редко."
   ]
  },
  {
   "cell_type": "code",
   "execution_count": 54,
   "metadata": {
    "scrolled": true
   },
   "outputs": [
    {
     "name": "stdout",
     "output_type": "stream",
     "text": [
      "31\n",
      "29\n"
     ]
    }
   ],
   "source": [
    "print(merged_df.shape[1])\n",
    "merged_df = merged_df.drop('general wire', axis=1)\n",
    "merged_df = merged_df.drop('general bulk', axis=1)\n",
    "print(merged_df.shape[1])"
   ]
  },
  {
   "cell_type": "code",
   "execution_count": 55,
   "metadata": {},
   "outputs": [],
   "source": [
    "# чтобы сложение сработали, надо закрыть все пропуски\n",
    "merged_df = merged_df.fillna(0)"
   ]
  },
  {
   "cell_type": "markdown",
   "metadata": {},
   "source": [
    "Пропуски в данных сосредоточены в столбцах с добавками, а значит каждый пропуск фактически является нулевым значением, т.к. эту добавку просто не добавляли."
   ]
  },
  {
   "cell_type": "code",
   "execution_count": 56,
   "metadata": {},
   "outputs": [
    {
     "name": "stdout",
     "output_type": "stream",
     "text": [
      "29\n",
      "30\n"
     ]
    }
   ],
   "source": [
    "print(merged_df.shape[1])\n",
    "merged_df['Bulk 2578913'] = merged_df[['Bulk 2', \n",
    "                                       'Bulk 5', 'Bulk 7', 'Bulk 8', 'Bulk 9', 'Bulk 13']].sum(axis=1)\n",
    "print(merged_df.shape[1])"
   ]
  },
  {
   "cell_type": "code",
   "execution_count": 57,
   "metadata": {},
   "outputs": [
    {
     "name": "stdout",
     "output_type": "stream",
     "text": [
      "30\n",
      "24\n"
     ]
    }
   ],
   "source": [
    "print(merged_df.shape[1])\n",
    "merged_df = merged_df.drop('Bulk 2', axis=1)\n",
    "merged_df = merged_df.drop('Bulk 5', axis=1)\n",
    "merged_df = merged_df.drop('Bulk 7', axis=1)\n",
    "merged_df = merged_df.drop('Bulk 8', axis=1)\n",
    "merged_df = merged_df.drop('Bulk 9', axis=1)\n",
    "merged_df = merged_df.drop('Bulk 13', axis=1)\n",
    "print(merged_df.shape[1])"
   ]
  },
  {
   "cell_type": "code",
   "execution_count": 58,
   "metadata": {},
   "outputs": [
    {
     "name": "stdout",
     "output_type": "stream",
     "text": [
      "24\n",
      "25\n"
     ]
    }
   ],
   "source": [
    "print(merged_df.shape[1])\n",
    "merged_df['Wire 346789'] = merged_df[['Wire 3',\n",
    "                                      'Wire 4', 'Wire 6', 'Wire 7', 'Wire 8', 'Wire 9']].sum(axis=1)\n",
    "print(merged_df.shape[1])"
   ]
  },
  {
   "cell_type": "code",
   "execution_count": 59,
   "metadata": {
    "scrolled": true
   },
   "outputs": [
    {
     "name": "stdout",
     "output_type": "stream",
     "text": [
      "25\n",
      "19\n"
     ]
    }
   ],
   "source": [
    "print(merged_df.shape[1])\n",
    "merged_df = merged_df.drop('Wire 3', axis=1)\n",
    "merged_df = merged_df.drop('Wire 4', axis=1)\n",
    "merged_df = merged_df.drop('Wire 6', axis=1)\n",
    "merged_df = merged_df.drop('Wire 7', axis=1)\n",
    "merged_df = merged_df.drop('Wire 8', axis=1)\n",
    "merged_df = merged_df.drop('Wire 9', axis=1)\n",
    "print(merged_df.shape[1])"
   ]
  },
  {
   "cell_type": "code",
   "execution_count": 60,
   "metadata": {},
   "outputs": [
    {
     "data": {
      "text/html": [
       "<div>\n",
       "<style scoped>\n",
       "    .dataframe tbody tr th:only-of-type {\n",
       "        vertical-align: middle;\n",
       "    }\n",
       "\n",
       "    .dataframe tbody tr th {\n",
       "        vertical-align: top;\n",
       "    }\n",
       "\n",
       "    .dataframe thead th {\n",
       "        text-align: right;\n",
       "    }\n",
       "</style>\n",
       "<table border=\"1\" class=\"dataframe\">\n",
       "  <thead>\n",
       "    <tr style=\"text-align: right;\">\n",
       "      <th></th>\n",
       "      <th>key</th>\n",
       "      <th>Время нагрева дугой</th>\n",
       "      <th>Полная мощность</th>\n",
       "      <th>first</th>\n",
       "      <th>last</th>\n",
       "      <th>Газ 1</th>\n",
       "      <th>Bulk 1</th>\n",
       "      <th>Bulk 3</th>\n",
       "      <th>Bulk 4</th>\n",
       "      <th>Bulk 6</th>\n",
       "      <th>Bulk 10</th>\n",
       "      <th>Bulk 11</th>\n",
       "      <th>Bulk 12</th>\n",
       "      <th>Bulk 14</th>\n",
       "      <th>Bulk 15</th>\n",
       "      <th>Wire 1</th>\n",
       "      <th>Wire 2</th>\n",
       "      <th>Bulk 2578913</th>\n",
       "      <th>Wire 346789</th>\n",
       "    </tr>\n",
       "  </thead>\n",
       "  <tbody>\n",
       "    <tr>\n",
       "      <th>0</th>\n",
       "      <td>1</td>\n",
       "      <td>1098</td>\n",
       "      <td>3.718736</td>\n",
       "      <td>1571.0</td>\n",
       "      <td>1613.0</td>\n",
       "      <td>29.749986</td>\n",
       "      <td>0.0</td>\n",
       "      <td>0.0</td>\n",
       "      <td>43.0</td>\n",
       "      <td>0.0</td>\n",
       "      <td>0.0</td>\n",
       "      <td>0.0</td>\n",
       "      <td>206.0</td>\n",
       "      <td>150.0</td>\n",
       "      <td>154.0</td>\n",
       "      <td>60.059998</td>\n",
       "      <td>0.00000</td>\n",
       "      <td>0.0</td>\n",
       "      <td>0.0</td>\n",
       "    </tr>\n",
       "    <tr>\n",
       "      <th>1</th>\n",
       "      <td>2</td>\n",
       "      <td>811</td>\n",
       "      <td>2.588349</td>\n",
       "      <td>1581.0</td>\n",
       "      <td>1602.0</td>\n",
       "      <td>12.555561</td>\n",
       "      <td>0.0</td>\n",
       "      <td>0.0</td>\n",
       "      <td>73.0</td>\n",
       "      <td>0.0</td>\n",
       "      <td>0.0</td>\n",
       "      <td>0.0</td>\n",
       "      <td>206.0</td>\n",
       "      <td>149.0</td>\n",
       "      <td>154.0</td>\n",
       "      <td>96.052315</td>\n",
       "      <td>0.00000</td>\n",
       "      <td>0.0</td>\n",
       "      <td>0.0</td>\n",
       "    </tr>\n",
       "    <tr>\n",
       "      <th>2</th>\n",
       "      <td>3</td>\n",
       "      <td>655</td>\n",
       "      <td>5.019223</td>\n",
       "      <td>1596.0</td>\n",
       "      <td>1599.0</td>\n",
       "      <td>28.554793</td>\n",
       "      <td>0.0</td>\n",
       "      <td>0.0</td>\n",
       "      <td>34.0</td>\n",
       "      <td>0.0</td>\n",
       "      <td>0.0</td>\n",
       "      <td>0.0</td>\n",
       "      <td>205.0</td>\n",
       "      <td>152.0</td>\n",
       "      <td>153.0</td>\n",
       "      <td>91.160157</td>\n",
       "      <td>0.00000</td>\n",
       "      <td>0.0</td>\n",
       "      <td>0.0</td>\n",
       "    </tr>\n",
       "    <tr>\n",
       "      <th>3</th>\n",
       "      <td>4</td>\n",
       "      <td>741</td>\n",
       "      <td>3.400038</td>\n",
       "      <td>1601.0</td>\n",
       "      <td>1625.0</td>\n",
       "      <td>18.841219</td>\n",
       "      <td>0.0</td>\n",
       "      <td>0.0</td>\n",
       "      <td>81.0</td>\n",
       "      <td>0.0</td>\n",
       "      <td>0.0</td>\n",
       "      <td>0.0</td>\n",
       "      <td>207.0</td>\n",
       "      <td>153.0</td>\n",
       "      <td>154.0</td>\n",
       "      <td>89.063515</td>\n",
       "      <td>0.00000</td>\n",
       "      <td>0.0</td>\n",
       "      <td>0.0</td>\n",
       "    </tr>\n",
       "    <tr>\n",
       "      <th>4</th>\n",
       "      <td>5</td>\n",
       "      <td>869</td>\n",
       "      <td>2.816980</td>\n",
       "      <td>1576.0</td>\n",
       "      <td>1602.0</td>\n",
       "      <td>5.413692</td>\n",
       "      <td>0.0</td>\n",
       "      <td>0.0</td>\n",
       "      <td>78.0</td>\n",
       "      <td>0.0</td>\n",
       "      <td>0.0</td>\n",
       "      <td>0.0</td>\n",
       "      <td>203.0</td>\n",
       "      <td>151.0</td>\n",
       "      <td>152.0</td>\n",
       "      <td>89.238236</td>\n",
       "      <td>9.11456</td>\n",
       "      <td>0.0</td>\n",
       "      <td>0.0</td>\n",
       "    </tr>\n",
       "  </tbody>\n",
       "</table>\n",
       "</div>"
      ],
      "text/plain": [
       "   key  Время нагрева дугой  Полная мощность   first    last      Газ 1  \\\n",
       "0    1                 1098         3.718736  1571.0  1613.0  29.749986   \n",
       "1    2                  811         2.588349  1581.0  1602.0  12.555561   \n",
       "2    3                  655         5.019223  1596.0  1599.0  28.554793   \n",
       "3    4                  741         3.400038  1601.0  1625.0  18.841219   \n",
       "4    5                  869         2.816980  1576.0  1602.0   5.413692   \n",
       "\n",
       "   Bulk 1  Bulk 3  Bulk 4  Bulk 6  Bulk 10  Bulk 11  Bulk 12  Bulk 14  \\\n",
       "0     0.0     0.0    43.0     0.0      0.0      0.0    206.0    150.0   \n",
       "1     0.0     0.0    73.0     0.0      0.0      0.0    206.0    149.0   \n",
       "2     0.0     0.0    34.0     0.0      0.0      0.0    205.0    152.0   \n",
       "3     0.0     0.0    81.0     0.0      0.0      0.0    207.0    153.0   \n",
       "4     0.0     0.0    78.0     0.0      0.0      0.0    203.0    151.0   \n",
       "\n",
       "   Bulk 15     Wire 1   Wire 2  Bulk 2578913  Wire 346789  \n",
       "0    154.0  60.059998  0.00000           0.0          0.0  \n",
       "1    154.0  96.052315  0.00000           0.0          0.0  \n",
       "2    153.0  91.160157  0.00000           0.0          0.0  \n",
       "3    154.0  89.063515  0.00000           0.0          0.0  \n",
       "4    152.0  89.238236  9.11456           0.0          0.0  "
      ]
     },
     "execution_count": 60,
     "metadata": {},
     "output_type": "execute_result"
    }
   ],
   "source": [
    "merged_df.head()"
   ]
  },
  {
   "cell_type": "code",
   "execution_count": 61,
   "metadata": {},
   "outputs": [],
   "source": [
    "merged_df = merged_df.drop('key', axis=1)"
   ]
  },
  {
   "cell_type": "code",
   "execution_count": 62,
   "metadata": {
    "scrolled": true
   },
   "outputs": [
    {
     "name": "stdout",
     "output_type": "stream",
     "text": [
      "<class 'pandas.core.frame.DataFrame'>\n",
      "Int64Index: 2324 entries, 0 to 2323\n",
      "Data columns (total 18 columns):\n",
      " #   Column               Non-Null Count  Dtype  \n",
      "---  ------               --------------  -----  \n",
      " 0   Время нагрева дугой  2324 non-null   int64  \n",
      " 1   Полная мощность      2324 non-null   float64\n",
      " 2   first                2324 non-null   float64\n",
      " 3   last                 2324 non-null   float64\n",
      " 4   Газ 1                2324 non-null   float64\n",
      " 5   Bulk 1               2324 non-null   float64\n",
      " 6   Bulk 3               2324 non-null   float64\n",
      " 7   Bulk 4               2324 non-null   float64\n",
      " 8   Bulk 6               2324 non-null   float64\n",
      " 9   Bulk 10              2324 non-null   float64\n",
      " 10  Bulk 11              2324 non-null   float64\n",
      " 11  Bulk 12              2324 non-null   float64\n",
      " 12  Bulk 14              2324 non-null   float64\n",
      " 13  Bulk 15              2324 non-null   float64\n",
      " 14  Wire 1               2324 non-null   float64\n",
      " 15  Wire 2               2324 non-null   float64\n",
      " 16  Bulk 2578913         2324 non-null   float64\n",
      " 17  Wire 346789          2324 non-null   float64\n",
      "dtypes: float64(17), int64(1)\n",
      "memory usage: 345.0 KB\n"
     ]
    }
   ],
   "source": [
    "merged_df.info()"
   ]
  },
  {
   "cell_type": "code",
   "execution_count": 63,
   "metadata": {},
   "outputs": [
    {
     "data": {
      "text/html": [
       "<div>\n",
       "<style scoped>\n",
       "    .dataframe tbody tr th:only-of-type {\n",
       "        vertical-align: middle;\n",
       "    }\n",
       "\n",
       "    .dataframe tbody tr th {\n",
       "        vertical-align: top;\n",
       "    }\n",
       "\n",
       "    .dataframe thead th {\n",
       "        text-align: right;\n",
       "    }\n",
       "</style>\n",
       "<table border=\"1\" class=\"dataframe\">\n",
       "  <thead>\n",
       "    <tr style=\"text-align: right;\">\n",
       "      <th></th>\n",
       "      <th>Время нагрева дугой</th>\n",
       "      <th>Полная мощность</th>\n",
       "      <th>first</th>\n",
       "      <th>last</th>\n",
       "      <th>Газ 1</th>\n",
       "      <th>Bulk 1</th>\n",
       "      <th>Bulk 3</th>\n",
       "      <th>Bulk 4</th>\n",
       "      <th>Bulk 6</th>\n",
       "      <th>Bulk 10</th>\n",
       "      <th>Bulk 11</th>\n",
       "      <th>Bulk 12</th>\n",
       "      <th>Bulk 14</th>\n",
       "      <th>Bulk 15</th>\n",
       "      <th>Wire 1</th>\n",
       "      <th>Wire 2</th>\n",
       "      <th>Bulk 2578913</th>\n",
       "      <th>Wire 346789</th>\n",
       "    </tr>\n",
       "  </thead>\n",
       "  <tbody>\n",
       "    <tr>\n",
       "      <th>0</th>\n",
       "      <td>1098</td>\n",
       "      <td>3.718736</td>\n",
       "      <td>1571.0</td>\n",
       "      <td>1613.0</td>\n",
       "      <td>29.749986</td>\n",
       "      <td>0.0</td>\n",
       "      <td>0.0</td>\n",
       "      <td>43.0</td>\n",
       "      <td>0.0</td>\n",
       "      <td>0.0</td>\n",
       "      <td>0.0</td>\n",
       "      <td>206.0</td>\n",
       "      <td>150.0</td>\n",
       "      <td>154.0</td>\n",
       "      <td>60.059998</td>\n",
       "      <td>0.00000</td>\n",
       "      <td>0.0</td>\n",
       "      <td>0.0</td>\n",
       "    </tr>\n",
       "    <tr>\n",
       "      <th>1</th>\n",
       "      <td>811</td>\n",
       "      <td>2.588349</td>\n",
       "      <td>1581.0</td>\n",
       "      <td>1602.0</td>\n",
       "      <td>12.555561</td>\n",
       "      <td>0.0</td>\n",
       "      <td>0.0</td>\n",
       "      <td>73.0</td>\n",
       "      <td>0.0</td>\n",
       "      <td>0.0</td>\n",
       "      <td>0.0</td>\n",
       "      <td>206.0</td>\n",
       "      <td>149.0</td>\n",
       "      <td>154.0</td>\n",
       "      <td>96.052315</td>\n",
       "      <td>0.00000</td>\n",
       "      <td>0.0</td>\n",
       "      <td>0.0</td>\n",
       "    </tr>\n",
       "    <tr>\n",
       "      <th>2</th>\n",
       "      <td>655</td>\n",
       "      <td>5.019223</td>\n",
       "      <td>1596.0</td>\n",
       "      <td>1599.0</td>\n",
       "      <td>28.554793</td>\n",
       "      <td>0.0</td>\n",
       "      <td>0.0</td>\n",
       "      <td>34.0</td>\n",
       "      <td>0.0</td>\n",
       "      <td>0.0</td>\n",
       "      <td>0.0</td>\n",
       "      <td>205.0</td>\n",
       "      <td>152.0</td>\n",
       "      <td>153.0</td>\n",
       "      <td>91.160157</td>\n",
       "      <td>0.00000</td>\n",
       "      <td>0.0</td>\n",
       "      <td>0.0</td>\n",
       "    </tr>\n",
       "    <tr>\n",
       "      <th>3</th>\n",
       "      <td>741</td>\n",
       "      <td>3.400038</td>\n",
       "      <td>1601.0</td>\n",
       "      <td>1625.0</td>\n",
       "      <td>18.841219</td>\n",
       "      <td>0.0</td>\n",
       "      <td>0.0</td>\n",
       "      <td>81.0</td>\n",
       "      <td>0.0</td>\n",
       "      <td>0.0</td>\n",
       "      <td>0.0</td>\n",
       "      <td>207.0</td>\n",
       "      <td>153.0</td>\n",
       "      <td>154.0</td>\n",
       "      <td>89.063515</td>\n",
       "      <td>0.00000</td>\n",
       "      <td>0.0</td>\n",
       "      <td>0.0</td>\n",
       "    </tr>\n",
       "    <tr>\n",
       "      <th>4</th>\n",
       "      <td>869</td>\n",
       "      <td>2.816980</td>\n",
       "      <td>1576.0</td>\n",
       "      <td>1602.0</td>\n",
       "      <td>5.413692</td>\n",
       "      <td>0.0</td>\n",
       "      <td>0.0</td>\n",
       "      <td>78.0</td>\n",
       "      <td>0.0</td>\n",
       "      <td>0.0</td>\n",
       "      <td>0.0</td>\n",
       "      <td>203.0</td>\n",
       "      <td>151.0</td>\n",
       "      <td>152.0</td>\n",
       "      <td>89.238236</td>\n",
       "      <td>9.11456</td>\n",
       "      <td>0.0</td>\n",
       "      <td>0.0</td>\n",
       "    </tr>\n",
       "    <tr>\n",
       "      <th>...</th>\n",
       "      <td>...</td>\n",
       "      <td>...</td>\n",
       "      <td>...</td>\n",
       "      <td>...</td>\n",
       "      <td>...</td>\n",
       "      <td>...</td>\n",
       "      <td>...</td>\n",
       "      <td>...</td>\n",
       "      <td>...</td>\n",
       "      <td>...</td>\n",
       "      <td>...</td>\n",
       "      <td>...</td>\n",
       "      <td>...</td>\n",
       "      <td>...</td>\n",
       "      <td>...</td>\n",
       "      <td>...</td>\n",
       "      <td>...</td>\n",
       "      <td>...</td>\n",
       "    </tr>\n",
       "    <tr>\n",
       "      <th>2319</th>\n",
       "      <td>723</td>\n",
       "      <td>3.868721</td>\n",
       "      <td>1570.0</td>\n",
       "      <td>1591.0</td>\n",
       "      <td>7.125735</td>\n",
       "      <td>0.0</td>\n",
       "      <td>21.0</td>\n",
       "      <td>0.0</td>\n",
       "      <td>0.0</td>\n",
       "      <td>90.0</td>\n",
       "      <td>0.0</td>\n",
       "      <td>256.0</td>\n",
       "      <td>129.0</td>\n",
       "      <td>223.0</td>\n",
       "      <td>89.150879</td>\n",
       "      <td>0.00000</td>\n",
       "      <td>0.0</td>\n",
       "      <td>0.0</td>\n",
       "    </tr>\n",
       "    <tr>\n",
       "      <th>2320</th>\n",
       "      <td>940</td>\n",
       "      <td>5.070316</td>\n",
       "      <td>1554.0</td>\n",
       "      <td>1591.0</td>\n",
       "      <td>9.412616</td>\n",
       "      <td>0.0</td>\n",
       "      <td>0.0</td>\n",
       "      <td>63.0</td>\n",
       "      <td>0.0</td>\n",
       "      <td>122.0</td>\n",
       "      <td>0.0</td>\n",
       "      <td>256.0</td>\n",
       "      <td>129.0</td>\n",
       "      <td>226.0</td>\n",
       "      <td>114.179527</td>\n",
       "      <td>0.00000</td>\n",
       "      <td>0.0</td>\n",
       "      <td>0.0</td>\n",
       "    </tr>\n",
       "    <tr>\n",
       "      <th>2321</th>\n",
       "      <td>569</td>\n",
       "      <td>4.360918</td>\n",
       "      <td>1571.0</td>\n",
       "      <td>1589.0</td>\n",
       "      <td>6.271699</td>\n",
       "      <td>0.0</td>\n",
       "      <td>0.0</td>\n",
       "      <td>85.0</td>\n",
       "      <td>0.0</td>\n",
       "      <td>0.0</td>\n",
       "      <td>0.0</td>\n",
       "      <td>230.0</td>\n",
       "      <td>124.0</td>\n",
       "      <td>226.0</td>\n",
       "      <td>94.086723</td>\n",
       "      <td>9.04800</td>\n",
       "      <td>0.0</td>\n",
       "      <td>0.0</td>\n",
       "    </tr>\n",
       "    <tr>\n",
       "      <th>2322</th>\n",
       "      <td>750</td>\n",
       "      <td>3.909917</td>\n",
       "      <td>1591.0</td>\n",
       "      <td>1594.0</td>\n",
       "      <td>14.953657</td>\n",
       "      <td>0.0</td>\n",
       "      <td>90.0</td>\n",
       "      <td>0.0</td>\n",
       "      <td>0.0</td>\n",
       "      <td>101.0</td>\n",
       "      <td>0.0</td>\n",
       "      <td>206.0</td>\n",
       "      <td>129.0</td>\n",
       "      <td>207.0</td>\n",
       "      <td>118.110717</td>\n",
       "      <td>0.00000</td>\n",
       "      <td>0.0</td>\n",
       "      <td>0.0</td>\n",
       "    </tr>\n",
       "    <tr>\n",
       "      <th>2323</th>\n",
       "      <td>883</td>\n",
       "      <td>2.169252</td>\n",
       "      <td>1569.0</td>\n",
       "      <td>1603.0</td>\n",
       "      <td>11.336151</td>\n",
       "      <td>0.0</td>\n",
       "      <td>47.0</td>\n",
       "      <td>0.0</td>\n",
       "      <td>0.0</td>\n",
       "      <td>0.0</td>\n",
       "      <td>0.0</td>\n",
       "      <td>233.0</td>\n",
       "      <td>126.0</td>\n",
       "      <td>227.0</td>\n",
       "      <td>110.160958</td>\n",
       "      <td>50.00528</td>\n",
       "      <td>0.0</td>\n",
       "      <td>0.0</td>\n",
       "    </tr>\n",
       "  </tbody>\n",
       "</table>\n",
       "<p>2324 rows × 18 columns</p>\n",
       "</div>"
      ],
      "text/plain": [
       "      Время нагрева дугой  Полная мощность   first    last      Газ 1  Bulk 1  \\\n",
       "0                    1098         3.718736  1571.0  1613.0  29.749986     0.0   \n",
       "1                     811         2.588349  1581.0  1602.0  12.555561     0.0   \n",
       "2                     655         5.019223  1596.0  1599.0  28.554793     0.0   \n",
       "3                     741         3.400038  1601.0  1625.0  18.841219     0.0   \n",
       "4                     869         2.816980  1576.0  1602.0   5.413692     0.0   \n",
       "...                   ...              ...     ...     ...        ...     ...   \n",
       "2319                  723         3.868721  1570.0  1591.0   7.125735     0.0   \n",
       "2320                  940         5.070316  1554.0  1591.0   9.412616     0.0   \n",
       "2321                  569         4.360918  1571.0  1589.0   6.271699     0.0   \n",
       "2322                  750         3.909917  1591.0  1594.0  14.953657     0.0   \n",
       "2323                  883         2.169252  1569.0  1603.0  11.336151     0.0   \n",
       "\n",
       "      Bulk 3  Bulk 4  Bulk 6  Bulk 10  Bulk 11  Bulk 12  Bulk 14  Bulk 15  \\\n",
       "0        0.0    43.0     0.0      0.0      0.0    206.0    150.0    154.0   \n",
       "1        0.0    73.0     0.0      0.0      0.0    206.0    149.0    154.0   \n",
       "2        0.0    34.0     0.0      0.0      0.0    205.0    152.0    153.0   \n",
       "3        0.0    81.0     0.0      0.0      0.0    207.0    153.0    154.0   \n",
       "4        0.0    78.0     0.0      0.0      0.0    203.0    151.0    152.0   \n",
       "...      ...     ...     ...      ...      ...      ...      ...      ...   \n",
       "2319    21.0     0.0     0.0     90.0      0.0    256.0    129.0    223.0   \n",
       "2320     0.0    63.0     0.0    122.0      0.0    256.0    129.0    226.0   \n",
       "2321     0.0    85.0     0.0      0.0      0.0    230.0    124.0    226.0   \n",
       "2322    90.0     0.0     0.0    101.0      0.0    206.0    129.0    207.0   \n",
       "2323    47.0     0.0     0.0      0.0      0.0    233.0    126.0    227.0   \n",
       "\n",
       "          Wire 1    Wire 2  Bulk 2578913  Wire 346789  \n",
       "0      60.059998   0.00000           0.0          0.0  \n",
       "1      96.052315   0.00000           0.0          0.0  \n",
       "2      91.160157   0.00000           0.0          0.0  \n",
       "3      89.063515   0.00000           0.0          0.0  \n",
       "4      89.238236   9.11456           0.0          0.0  \n",
       "...          ...       ...           ...          ...  \n",
       "2319   89.150879   0.00000           0.0          0.0  \n",
       "2320  114.179527   0.00000           0.0          0.0  \n",
       "2321   94.086723   9.04800           0.0          0.0  \n",
       "2322  118.110717   0.00000           0.0          0.0  \n",
       "2323  110.160958  50.00528           0.0          0.0  \n",
       "\n",
       "[2324 rows x 18 columns]"
      ]
     },
     "execution_count": 63,
     "metadata": {},
     "output_type": "execute_result"
    }
   ],
   "source": [
    "merged_df"
   ]
  },
  {
   "cell_type": "markdown",
   "metadata": {},
   "source": [
    "Таблица готова. Теперь можем создавать модели."
   ]
  },
  {
   "cell_type": "markdown",
   "metadata": {},
   "source": [
    "### Создание выборок для моделей"
   ]
  },
  {
   "cell_type": "code",
   "execution_count": 64,
   "metadata": {},
   "outputs": [],
   "source": [
    "features = merged_df.drop('last', axis=1)\n",
    "target = merged_df['last']"
   ]
  },
  {
   "cell_type": "markdown",
   "metadata": {},
   "source": [
    "Для удобства дальнейшей работы с кодом моделей, мы назовём обучающий набор features - X, а обучающий набор target - y. "
   ]
  },
  {
   "cell_type": "code",
   "execution_count": 65,
   "metadata": {},
   "outputs": [],
   "source": [
    "# разделение данных на обучающую и тестовую выборки\n",
    "X, features_test, y, target_test = train_test_split(features, target, \n",
    "                                                    test_size=0.25, random_state=50623)"
   ]
  },
  {
   "cell_type": "code",
   "execution_count": 66,
   "metadata": {},
   "outputs": [],
   "source": [
    "# масштабирование признаков\n",
    "scaler = StandardScaler()\n",
    "X_scaled = scaler.fit_transform(X)\n",
    "features_test = scaler.transform(features_test)"
   ]
  },
  {
   "cell_type": "markdown",
   "metadata": {},
   "source": [
    "Мы будем создавать и настраивать гиперпараметры трёх моделей: CatBoostRegressor, LinearRegression и RandomForestRegressor. После на основании метрики MAE выберем и протестируем лучшую модель. "
   ]
  },
  {
   "cell_type": "markdown",
   "metadata": {},
   "source": [
    "### Создадим CatBoostRegressor"
   ]
  },
  {
   "cell_type": "code",
   "execution_count": 67,
   "metadata": {},
   "outputs": [
    {
     "name": "stderr",
     "output_type": "stream",
     "text": [
      "100%|██████████| 5/5 [45:57<00:00, 551.57s/it]"
     ]
    },
    {
     "name": "stdout",
     "output_type": "stream",
     "text": [
      "Лучшая метрика качества: 6.124086924633574\n",
      "Лучшие параметры: {'learning_rate': 0.03, 'l2_leaf_reg': 7, 'iterations': 1000, 'depth': 6}\n"
     ]
    },
    {
     "name": "stderr",
     "output_type": "stream",
     "text": [
      "\n"
     ]
    }
   ],
   "source": [
    "# задание параметров для поиска\n",
    "params_C = {\n",
    "    'depth': [4, 6, 8],\n",
    "    'learning_rate': [0.03, 0.1, 0.15],\n",
    "    'iterations': [100, 300, 500, 700, 1000],\n",
    "    'l2_leaf_reg': [1, 3, 5, 7, 9, 11]\n",
    "}\n",
    "\n",
    "# создание модели с автоматическим подбором гиперпараметров\n",
    "model_C = CatBoostRegressor()\n",
    "search_C = RandomizedSearchCV(model_C, params_C, n_iter=20,\n",
    "                              scoring='neg_mean_absolute_error', cv=5, random_state=50623)\n",
    "\n",
    "# выполнение поиска с помощью tqdm для отображения прогресс-бара\n",
    "for i in tqdm(range(5)):\n",
    "    search_C.fit(X_scaled, y, verbose=False)\n",
    "\n",
    "# вывод метрики качества лучшей модели на валидационных данных\n",
    "print('Лучшая метрика качества:', abs(search_C.best_score_))\n",
    "\n",
    "# вывод параметров лучшей модели\n",
    "print('Лучшие параметры:', search_C.best_params_)"
   ]
  },
  {
   "cell_type": "markdown",
   "metadata": {},
   "source": [
    "### Создадим LinearRegression"
   ]
  },
  {
   "cell_type": "code",
   "execution_count": 68,
   "metadata": {},
   "outputs": [
    {
     "name": "stdout",
     "output_type": "stream",
     "text": [
      "6.305146994187477\n"
     ]
    }
   ],
   "source": [
    "model_L = LinearRegression()\n",
    "scores = cross_val_score(model_L, X_scaled, y, cv=100, \n",
    "                         scoring='neg_mean_absolute_error')\n",
    "\n",
    "avg_score = -scores.mean()\n",
    "print(avg_score)"
   ]
  },
  {
   "cell_type": "markdown",
   "metadata": {},
   "source": [
    "### Создадим RandomForestRegressor"
   ]
  },
  {
   "cell_type": "code",
   "execution_count": 69,
   "metadata": {},
   "outputs": [
    {
     "name": "stderr",
     "output_type": "stream",
     "text": [
      "100%|██████████| 10/10 [01:50<00:00, 11.03s/it]"
     ]
    },
    {
     "name": "stdout",
     "output_type": "stream",
     "text": [
      "Лучшая метрика качества: 6.325526018910832\n",
      "Лучшие параметры: {'n_estimators': 50, 'min_samples_split': 20, 'max_features': None, 'max_depth': 50}\n"
     ]
    },
    {
     "name": "stderr",
     "output_type": "stream",
     "text": [
      "\n"
     ]
    }
   ],
   "source": [
    "# задание параметров для поиска\n",
    "params_R = {'n_estimators': [1, 50],\n",
    "              'max_depth': [1, 50],\n",
    "              'min_samples_split': [2, 20],\n",
    "              'max_features': ['auto', 'sqrt', 'log2', None]}\n",
    "\n",
    "# создание модели с автоматическим подбором гиперпараметров\n",
    "model_R = RandomForestRegressor()\n",
    "search_R = RandomizedSearchCV(model_R, param_distributions=params_R, n_iter=20,\n",
    "                              cv=5, scoring='neg_mean_absolute_error', random_state=50623)\n",
    "\n",
    "# выполнение поиска с помощью tqdm для отображения прогресс-бара\n",
    "for i in tqdm(range(10)):\n",
    "    search_R.fit(X_scaled, y)\n",
    "\n",
    "# вывод метрики качества лучшей модели на валидационных данных\n",
    "print('Лучшая метрика качества:', abs(search_R.best_score_))\n",
    "\n",
    "# вывод параметров лучшей модели\n",
    "print('Лучшие параметры:', search_R.best_params_)"
   ]
  },
  {
   "cell_type": "markdown",
   "metadata": {},
   "source": [
    "### Тестирование лучшей модели. "
   ]
  },
  {
   "cell_type": "markdown",
   "metadata": {},
   "source": [
    "Лучшей моделью стала CatBoostRegressor"
   ]
  },
  {
   "cell_type": "code",
   "execution_count": 70,
   "metadata": {},
   "outputs": [
    {
     "name": "stdout",
     "output_type": "stream",
     "text": [
      "Средняя абсолютная ошибка на тестовой выборке: 6.274644096139347\n"
     ]
    }
   ],
   "source": [
    "best = CatBoostRegressor(**search_C.best_params_)\n",
    "best.fit(X_scaled, y, verbose=False)\n",
    "\n",
    "y_pred = best.predict(features_test)\n",
    "print('Средняя абсолютная ошибка на тестовой выборке:', mean_absolute_error(target_test, y_pred))"
   ]
  },
  {
   "cell_type": "code",
   "execution_count": 71,
   "metadata": {
    "scrolled": true
   },
   "outputs": [
    {
     "name": "stdout",
     "output_type": "stream",
     "text": [
      "                Feature  Importance\n",
      "0   Время нагрева дугой   24.201854\n",
      "2                 first   23.392976\n",
      "13               Wire 1    7.257059\n",
      "7                Bulk 6    6.056967\n",
      "12              Bulk 15    5.861436\n",
      "11              Bulk 14    5.360041\n",
      "14               Wire 2    5.030395\n",
      "10              Bulk 12    4.083077\n",
      "1       Полная мощность    4.060649\n",
      "3                 Газ 1    3.828351\n",
      "4                Bulk 1    2.726456\n",
      "5                Bulk 3    2.285387\n",
      "15         Bulk 2578913    2.051347\n",
      "6                Bulk 4    1.949344\n",
      "16          Wire 346789    0.856621\n",
      "9               Bulk 11    0.717231\n",
      "8               Bulk 10    0.280810\n"
     ]
    }
   ],
   "source": [
    "# получим важность признаков\n",
    "importance = best.feature_importances_\n",
    "df_importance = pd.DataFrame({'Feature': features.columns, 'Importance': importance})\n",
    "\n",
    "# отсортируем по важности признаков\n",
    "df_importance = df_importance.sort_values('Importance', ascending=False)\n",
    "\n",
    "# выведим список важности признаков и их названий\n",
    "print(df_importance)"
   ]
  },
  {
   "cell_type": "markdown",
   "metadata": {},
   "source": [
    "## Отчёт"
   ]
  },
  {
   "cell_type": "markdown",
   "metadata": {},
   "source": [
    "Для выполнения нашего проекта заказчик предоставил нам набор таблиц и информацию о выплавке стали. Мы провели первичный анализ данных, составили вопросы к заказчику. На встрече с заказчиком обсудили наши данные и вопросы, выявили что целевой метрикой является последний замер температуры расплавленной стали, когда закончены все этапы добавок и продувкой газом. Заказчик выбрал целевой метрикой среднюю абсолютную ошибку или MAE <= 6.8 градусов.\n",
    "\n",
    "Мы разработали план выполнения проекта и выполнили все его пункты:\n",
    "\n",
    "    Создали общую таблицу из всех представленных таблиц заказчика, взяв в работу только те партии стали, информация о которых была во всех таблицах.\n",
    "\n",
    "    Убрали из работы неадекватные реальности данные, которые заранее обсудили с заказчиком, удалив партии с температурой, меньшей 1350 градусов, и партии с отрицательными значениями мощности. При этом выбросы мы оставили, так как модели должны учитывать реальные данные.\n",
    "\n",
    "    Провели проверку на мультиколлинеарность и убрали часть данных с высокой корреляцией. Также объединили столбцы с добавками, которые содержали мало значений и коррелировали друг с другом.\n",
    "\n",
    "    Разделили данные на обучающую и тестовую выборки в соотношении 3:1.\n",
    "\n",
    "    Для корректной и эффективной работы моделей были масштабированы признаки с помощью метода StandardScaler().\n",
    "\n",
    "    Мы создали модели CatBoostRegressor и RandomForestRegressor с автоматическим подбором лучших гиперпараметров, а также модель LinearRegression, результаты которой были проверены при использовании кросс-валидации. Все модели достигли показателей метрики MAE < 6.8, но наилучшие результаты продемонстрировала модель CatBoostRegressor, её результаты на тестовой выборке составили 6.27. \n",
    "\n",
    "Гиперпараметры лучшей модели были следующими: \n",
    "\n",
    "    learning_rate = 0.03 \n",
    "    l2_leaf_reg = 7 \n",
    "    iterations = 1000 \n",
    "    depth = 6\n",
    "\n",
    "Список признаков, использованных для создания моделей, включал в себя:\n",
    "\n",
    "    first (начальное измерение температуры)\n",
    "    Время нагрева дугой\n",
    "    Газ 1\n",
    "    Полная мощность\n",
    "    Bulk 1\n",
    "    Bulk 3\n",
    "    Bulk 4\n",
    "    Bulk 6\n",
    "    Bulk 10\n",
    "    Bulk 11\n",
    "    Bulk 12\n",
    "    Bulk 14\n",
    "    Bulk 15    \n",
    "    Bulk 2578913\n",
    "    Wire 1\n",
    "    Wire 2\n",
    "    Wire 346789\n",
    "\n",
    "Признаки Bulk 2578913 и Wire 346789 были объединены из разных столбцов, поскольку они коррелировали друг с другом и содержали небольшое число значений. Кроме того, из общей таблицы был удалён столбец Wire 5, так как он был полностью пустой.\n",
    "\n",
    "В финальной таблице было удалено несколько сотен строк из-за пропущенных значений в столбце с целевой температурой. Учитывая, что только 2324 строки были использованы в финальной таблице, улучшение процесса измерения конечной температуры может увеличить количество данных и улучшить качество будущих моделей.\n",
    "\n",
    "Кроме того, мы провели анализ важности факторов в лучшей модели. Самыми значимыми факторами, которые значительно превышают другие важные факторы, стали Время нагрева дугой и first (начальное измерение температуры). Нам известно что конечная цель заказчика состоит в уменьшение количества используемой электроэнергии на нагрев стали. Поэтому, вероятно, ключ к сокращению затрат заключается в большем контроле за временем нагрева электродами стали. Однако мы должны предупредить заказчика, что значительное изменение времени работы электродов приведет к изменению их значимости в модели. Это означает, что необходимо будет строить новые модели на новых данных и с новыми гиперпараметрами. "
   ]
  }
 ],
 "metadata": {
  "ExecuteTimeLog": [
   {
    "duration": 791,
    "start_time": "2023-06-06T18:21:31.486Z"
   },
   {
    "duration": 93,
    "start_time": "2023-06-06T18:22:35.613Z"
   },
   {
    "duration": 115,
    "start_time": "2023-06-06T18:24:20.553Z"
   },
   {
    "duration": 45,
    "start_time": "2023-06-06T18:24:36.111Z"
   },
   {
    "duration": 40,
    "start_time": "2023-06-06T18:24:57.633Z"
   },
   {
    "duration": 109,
    "start_time": "2023-06-06T18:37:31.205Z"
   },
   {
    "duration": 125,
    "start_time": "2023-06-06T18:46:48.286Z"
   },
   {
    "duration": 104,
    "start_time": "2023-06-06T18:47:11.247Z"
   },
   {
    "duration": 52,
    "start_time": "2023-06-06T18:47:40.327Z"
   },
   {
    "duration": 158,
    "start_time": "2023-06-06T18:48:29.046Z"
   },
   {
    "duration": 69,
    "start_time": "2023-06-06T18:52:21.497Z"
   },
   {
    "duration": 113,
    "start_time": "2023-06-06T18:55:25.252Z"
   },
   {
    "duration": 60,
    "start_time": "2023-06-06T18:56:05.382Z"
   },
   {
    "duration": 56,
    "start_time": "2023-06-06T18:56:53.834Z"
   },
   {
    "duration": 51,
    "start_time": "2023-06-06T18:57:34.313Z"
   },
   {
    "duration": 47,
    "start_time": "2023-06-06T18:58:09.334Z"
   },
   {
    "duration": 58,
    "start_time": "2023-06-06T18:58:37.443Z"
   },
   {
    "duration": 50,
    "start_time": "2023-06-06T18:58:59.154Z"
   },
   {
    "duration": 46,
    "start_time": "2023-06-06T18:59:33.540Z"
   },
   {
    "duration": 49,
    "start_time": "2023-06-06T19:17:41.103Z"
   },
   {
    "duration": 70,
    "start_time": "2023-06-06T19:23:07.098Z"
   },
   {
    "duration": 50,
    "start_time": "2023-06-06T19:33:46.430Z"
   },
   {
    "duration": 49,
    "start_time": "2023-06-06T19:34:04.382Z"
   },
   {
    "duration": 48,
    "start_time": "2023-06-06T19:34:28.931Z"
   },
   {
    "duration": 783,
    "start_time": "2023-06-07T10:30:50.628Z"
   },
   {
    "duration": 188,
    "start_time": "2023-06-07T10:30:57.307Z"
   },
   {
    "duration": 15,
    "start_time": "2023-06-07T10:32:11.288Z"
   },
   {
    "duration": 241,
    "start_time": "2023-06-07T10:34:25.354Z"
   },
   {
    "duration": 223,
    "start_time": "2023-06-07T10:36:08.584Z"
   },
   {
    "duration": 192,
    "start_time": "2023-06-07T10:36:42.424Z"
   },
   {
    "duration": 7,
    "start_time": "2023-06-07T10:37:38.194Z"
   },
   {
    "duration": 252,
    "start_time": "2023-06-07T10:38:20.934Z"
   },
   {
    "duration": 126,
    "start_time": "2023-06-07T10:38:43.654Z"
   },
   {
    "duration": 206,
    "start_time": "2023-06-07T10:39:33.053Z"
   },
   {
    "duration": 119,
    "start_time": "2023-06-07T10:39:43.844Z"
   },
   {
    "duration": 206,
    "start_time": "2023-06-07T10:39:55.079Z"
   },
   {
    "duration": 230,
    "start_time": "2023-06-07T10:40:09.502Z"
   },
   {
    "duration": 310,
    "start_time": "2023-06-07T10:40:29.777Z"
   },
   {
    "duration": 18,
    "start_time": "2023-06-07T10:44:32.334Z"
   },
   {
    "duration": 461,
    "start_time": "2023-06-07T10:49:28.550Z"
   },
   {
    "duration": 57,
    "start_time": "2023-06-07T10:52:30.754Z"
   },
   {
    "duration": 98,
    "start_time": "2023-06-07T10:52:44.074Z"
   },
   {
    "duration": 92,
    "start_time": "2023-06-07T10:53:20.614Z"
   },
   {
    "duration": 86,
    "start_time": "2023-06-07T10:53:47.094Z"
   },
   {
    "duration": 102,
    "start_time": "2023-06-07T10:54:05.364Z"
   },
   {
    "duration": 200,
    "start_time": "2023-06-07T10:54:23.901Z"
   },
   {
    "duration": 86,
    "start_time": "2023-06-07T10:55:11.798Z"
   },
   {
    "duration": 100,
    "start_time": "2023-06-07T10:55:32.108Z"
   },
   {
    "duration": 93,
    "start_time": "2023-06-07T10:55:59.359Z"
   },
   {
    "duration": 115,
    "start_time": "2023-06-07T10:56:07.698Z"
   },
   {
    "duration": 141,
    "start_time": "2023-06-07T11:02:26.467Z"
   },
   {
    "duration": 156,
    "start_time": "2023-06-07T11:02:38.567Z"
   },
   {
    "duration": 129,
    "start_time": "2023-06-07T11:03:18.337Z"
   },
   {
    "duration": 133,
    "start_time": "2023-06-07T11:03:29.905Z"
   },
   {
    "duration": 131,
    "start_time": "2023-06-07T11:03:41.498Z"
   },
   {
    "duration": 123,
    "start_time": "2023-06-07T11:04:02.817Z"
   },
   {
    "duration": 137,
    "start_time": "2023-06-07T11:04:12.366Z"
   },
   {
    "duration": 117,
    "start_time": "2023-06-07T11:04:43.704Z"
   },
   {
    "duration": 135,
    "start_time": "2023-06-07T11:05:21.207Z"
   },
   {
    "duration": 129,
    "start_time": "2023-06-07T11:06:32.087Z"
   },
   {
    "duration": 138,
    "start_time": "2023-06-07T11:06:48.357Z"
   },
   {
    "duration": 133,
    "start_time": "2023-06-07T11:06:53.907Z"
   },
   {
    "duration": 239,
    "start_time": "2023-06-07T11:07:00.877Z"
   },
   {
    "duration": 13,
    "start_time": "2023-06-07T11:58:00.842Z"
   },
   {
    "duration": 16,
    "start_time": "2023-06-07T12:02:59.584Z"
   },
   {
    "duration": 458,
    "start_time": "2023-06-07T12:03:27.723Z"
   },
   {
    "duration": 18,
    "start_time": "2023-06-07T12:03:58.312Z"
   },
   {
    "duration": 30,
    "start_time": "2023-06-07T12:04:47.301Z"
   },
   {
    "duration": 34,
    "start_time": "2023-06-07T12:05:41.432Z"
   },
   {
    "duration": 26,
    "start_time": "2023-06-07T12:06:05.731Z"
   },
   {
    "duration": 28,
    "start_time": "2023-06-07T12:07:07.732Z"
   },
   {
    "duration": 148,
    "start_time": "2023-06-07T12:07:56.042Z"
   },
   {
    "duration": 27,
    "start_time": "2023-06-07T12:10:15.532Z"
   },
   {
    "duration": 102,
    "start_time": "2023-06-07T12:29:57.999Z"
   },
   {
    "duration": 259,
    "start_time": "2023-06-07T12:49:38.708Z"
   },
   {
    "duration": 15,
    "start_time": "2023-06-07T12:54:07.207Z"
   },
   {
    "duration": 9,
    "start_time": "2023-06-07T12:55:13.057Z"
   },
   {
    "duration": 22,
    "start_time": "2023-06-07T12:55:37.375Z"
   },
   {
    "duration": 20,
    "start_time": "2023-06-07T12:55:57.068Z"
   },
   {
    "duration": 13,
    "start_time": "2023-06-07T12:56:18.602Z"
   },
   {
    "duration": 72,
    "start_time": "2023-06-07T12:56:36.378Z"
   },
   {
    "duration": 57,
    "start_time": "2023-06-07T12:56:42.009Z"
   },
   {
    "duration": 14,
    "start_time": "2023-06-07T12:56:45.699Z"
   },
   {
    "duration": 11,
    "start_time": "2023-06-07T12:56:51.298Z"
   },
   {
    "duration": 11,
    "start_time": "2023-06-07T12:56:53.928Z"
   },
   {
    "duration": 7,
    "start_time": "2023-06-07T12:58:28.198Z"
   },
   {
    "duration": 11,
    "start_time": "2023-06-07T12:59:28.758Z"
   },
   {
    "duration": 13,
    "start_time": "2023-06-07T13:00:33.950Z"
   },
   {
    "duration": 13,
    "start_time": "2023-06-07T13:00:38.077Z"
   },
   {
    "duration": 22,
    "start_time": "2023-06-07T13:02:25.403Z"
   },
   {
    "duration": 11,
    "start_time": "2023-06-07T13:10:04.340Z"
   },
   {
    "duration": 15,
    "start_time": "2023-06-07T13:13:29.261Z"
   },
   {
    "duration": 11,
    "start_time": "2023-06-07T13:13:46.820Z"
   },
   {
    "duration": 20,
    "start_time": "2023-06-07T13:16:08.078Z"
   },
   {
    "duration": 61,
    "start_time": "2023-06-07T13:16:53.779Z"
   },
   {
    "duration": 15,
    "start_time": "2023-06-07T13:17:14.405Z"
   },
   {
    "duration": 17,
    "start_time": "2023-06-07T13:17:34.537Z"
   },
   {
    "duration": 11,
    "start_time": "2023-06-07T13:17:43.804Z"
   },
   {
    "duration": 36,
    "start_time": "2023-06-07T13:20:26.414Z"
   },
   {
    "duration": 14,
    "start_time": "2023-06-07T13:20:43.704Z"
   },
   {
    "duration": 63,
    "start_time": "2023-06-07T13:21:50.728Z"
   },
   {
    "duration": 9,
    "start_time": "2023-06-07T13:23:07.192Z"
   },
   {
    "duration": 26,
    "start_time": "2023-06-07T13:24:46.797Z"
   },
   {
    "duration": 1270,
    "start_time": "2023-06-07T13:47:25.803Z"
   },
   {
    "duration": 72,
    "start_time": "2023-06-07T13:47:29.624Z"
   },
   {
    "duration": 20,
    "start_time": "2023-06-07T13:47:32.970Z"
   },
   {
    "duration": 297,
    "start_time": "2023-06-07T13:47:33.922Z"
   },
   {
    "duration": 341,
    "start_time": "2023-06-07T13:47:35.310Z"
   },
   {
    "duration": 29,
    "start_time": "2023-06-07T13:47:35.912Z"
   },
   {
    "duration": 162,
    "start_time": "2023-06-07T13:47:37.059Z"
   },
   {
    "duration": 14,
    "start_time": "2023-06-07T13:47:44.219Z"
   },
   {
    "duration": 52,
    "start_time": "2023-06-07T13:47:48.430Z"
   },
   {
    "duration": 79,
    "start_time": "2023-06-07T13:47:54.370Z"
   },
   {
    "duration": 17,
    "start_time": "2023-06-07T13:47:57.619Z"
   },
   {
    "duration": 56,
    "start_time": "2023-06-07T13:48:07.852Z"
   },
   {
    "duration": 21,
    "start_time": "2023-06-07T13:48:11.319Z"
   },
   {
    "duration": 160,
    "start_time": "2023-06-07T13:50:27.794Z"
   },
   {
    "duration": 10,
    "start_time": "2023-06-07T13:51:42.220Z"
   },
   {
    "duration": 11,
    "start_time": "2023-06-07T13:52:30.499Z"
   },
   {
    "duration": 16,
    "start_time": "2023-06-07T13:53:07.431Z"
   },
   {
    "duration": 8,
    "start_time": "2023-06-07T13:53:19.429Z"
   },
   {
    "duration": 51,
    "start_time": "2023-06-07T13:54:32.505Z"
   },
   {
    "duration": 188,
    "start_time": "2023-06-07T14:18:02.868Z"
   },
   {
    "duration": 19,
    "start_time": "2023-06-07T14:18:44.253Z"
   },
   {
    "duration": 93,
    "start_time": "2023-06-07T14:25:40.293Z"
   },
   {
    "duration": 18,
    "start_time": "2023-06-07T14:27:23.782Z"
   },
   {
    "duration": 9,
    "start_time": "2023-06-07T14:29:28.757Z"
   },
   {
    "duration": 115,
    "start_time": "2023-06-07T14:39:00.728Z"
   },
   {
    "duration": 87,
    "start_time": "2023-06-07T14:39:11.175Z"
   },
   {
    "duration": 40,
    "start_time": "2023-06-07T14:54:14.366Z"
   },
   {
    "duration": 15,
    "start_time": "2023-06-07T14:57:15.155Z"
   },
   {
    "duration": 37,
    "start_time": "2023-06-07T15:01:16.361Z"
   },
   {
    "duration": 1128,
    "start_time": "2023-06-07T15:34:02.152Z"
   },
   {
    "duration": 64,
    "start_time": "2023-06-07T15:34:05.923Z"
   },
   {
    "duration": 16,
    "start_time": "2023-06-07T15:34:10.022Z"
   },
   {
    "duration": 237,
    "start_time": "2023-06-07T15:34:12.214Z"
   },
   {
    "duration": 249,
    "start_time": "2023-06-07T15:34:16.884Z"
   },
   {
    "duration": 20,
    "start_time": "2023-06-07T15:34:19.655Z"
   },
   {
    "duration": 154,
    "start_time": "2023-06-07T15:34:22.882Z"
   },
   {
    "duration": 15,
    "start_time": "2023-06-07T15:34:27.095Z"
   },
   {
    "duration": 50,
    "start_time": "2023-06-07T15:34:31.334Z"
   },
   {
    "duration": 58,
    "start_time": "2023-06-07T15:34:34.784Z"
   },
   {
    "duration": 26,
    "start_time": "2023-06-07T15:34:35.844Z"
   },
   {
    "duration": 60,
    "start_time": "2023-06-07T15:34:36.804Z"
   },
   {
    "duration": 31,
    "start_time": "2023-06-07T15:34:37.634Z"
   },
   {
    "duration": 19,
    "start_time": "2023-06-07T15:34:37.886Z"
   },
   {
    "duration": 6,
    "start_time": "2023-06-07T15:34:38.337Z"
   },
   {
    "duration": 56,
    "start_time": "2023-06-07T15:34:39.425Z"
   },
   {
    "duration": 16,
    "start_time": "2023-06-07T15:34:39.644Z"
   },
   {
    "duration": 47,
    "start_time": "2023-06-07T15:34:40.380Z"
   },
   {
    "duration": 9,
    "start_time": "2023-06-07T15:34:40.653Z"
   },
   {
    "duration": 11,
    "start_time": "2023-06-07T15:34:40.882Z"
   },
   {
    "duration": 44,
    "start_time": "2023-06-07T15:34:41.595Z"
   },
   {
    "duration": 35,
    "start_time": "2023-06-07T15:34:41.855Z"
   },
   {
    "duration": 13,
    "start_time": "2023-06-07T15:34:42.594Z"
   },
   {
    "duration": 35,
    "start_time": "2023-06-07T15:34:43.324Z"
   },
   {
    "duration": 30,
    "start_time": "2023-06-07T15:34:44.065Z"
   },
   {
    "duration": 1095,
    "start_time": "2023-06-08T06:18:59.042Z"
   },
   {
    "duration": 64,
    "start_time": "2023-06-08T06:19:00.138Z"
   },
   {
    "duration": 19,
    "start_time": "2023-06-08T06:19:08.680Z"
   },
   {
    "duration": 233,
    "start_time": "2023-06-08T06:19:09.134Z"
   },
   {
    "duration": 240,
    "start_time": "2023-06-08T06:19:09.593Z"
   },
   {
    "duration": 16,
    "start_time": "2023-06-08T06:19:10.264Z"
   },
   {
    "duration": 138,
    "start_time": "2023-06-08T06:19:11.064Z"
   },
   {
    "duration": 16,
    "start_time": "2023-06-08T06:19:11.611Z"
   },
   {
    "duration": 48,
    "start_time": "2023-06-08T06:23:06.547Z"
   },
   {
    "duration": 1426,
    "start_time": "2023-06-10T11:34:43.256Z"
   },
   {
    "duration": 200,
    "start_time": "2023-06-10T11:34:47.255Z"
   },
   {
    "duration": 20,
    "start_time": "2023-06-10T11:34:51.526Z"
   },
   {
    "duration": 294,
    "start_time": "2023-06-10T11:34:54.965Z"
   },
   {
    "duration": 303,
    "start_time": "2023-06-10T11:35:11.556Z"
   },
   {
    "duration": 27,
    "start_time": "2023-06-10T11:35:15.806Z"
   },
   {
    "duration": 186,
    "start_time": "2023-06-10T11:35:20.914Z"
   },
   {
    "duration": 14,
    "start_time": "2023-06-10T11:35:26.336Z"
   },
   {
    "duration": 116,
    "start_time": "2023-06-10T11:38:19.525Z"
   },
   {
    "duration": 157,
    "start_time": "2023-06-10T11:38:43.505Z"
   },
   {
    "duration": 20,
    "start_time": "2023-06-10T11:38:49.188Z"
   },
   {
    "duration": 55,
    "start_time": "2023-06-10T11:39:24.685Z"
   },
   {
    "duration": 1358,
    "start_time": "2023-06-10T11:46:43.977Z"
   },
   {
    "duration": 53,
    "start_time": "2023-06-10T11:50:42.558Z"
   },
   {
    "duration": 536,
    "start_time": "2023-06-10T11:54:15.750Z"
   },
   {
    "duration": 118,
    "start_time": "2023-06-10T11:55:16.548Z"
   },
   {
    "duration": 1227,
    "start_time": "2023-06-10T11:55:45.917Z"
   },
   {
    "duration": 1138,
    "start_time": "2023-06-10T11:55:58.048Z"
   },
   {
    "duration": 1731,
    "start_time": "2023-06-10T12:01:00.939Z"
   },
   {
    "duration": 1409,
    "start_time": "2023-06-10T12:02:10.500Z"
   },
   {
    "duration": 1581,
    "start_time": "2023-06-10T12:02:22.469Z"
   },
   {
    "duration": 1616,
    "start_time": "2023-06-10T12:02:29.912Z"
   },
   {
    "duration": 1118,
    "start_time": "2023-06-10T12:03:07.976Z"
   },
   {
    "duration": 1318,
    "start_time": "2023-06-10T12:03:19.753Z"
   },
   {
    "duration": 9,
    "start_time": "2023-06-10T12:03:54.712Z"
   },
   {
    "duration": 1135,
    "start_time": "2023-06-10T12:04:21.352Z"
   },
   {
    "duration": 1385,
    "start_time": "2023-06-10T12:08:20.404Z"
   },
   {
    "duration": 63,
    "start_time": "2023-06-10T12:08:36.144Z"
   },
   {
    "duration": 73,
    "start_time": "2023-06-10T12:08:44.984Z"
   },
   {
    "duration": 1103,
    "start_time": "2023-06-10T12:08:50.605Z"
   },
   {
    "duration": 1313,
    "start_time": "2023-06-10T12:09:03.605Z"
   },
   {
    "duration": 1090,
    "start_time": "2023-06-10T12:09:11.276Z"
   },
   {
    "duration": 1396,
    "start_time": "2023-06-10T12:10:39.355Z"
   },
   {
    "duration": 1286,
    "start_time": "2023-06-10T12:10:52.245Z"
   },
   {
    "duration": 1132,
    "start_time": "2023-06-10T12:11:33.254Z"
   },
   {
    "duration": 1376,
    "start_time": "2023-06-10T12:11:43.635Z"
   },
   {
    "duration": 1150,
    "start_time": "2023-06-10T12:11:52.968Z"
   },
   {
    "duration": 1382,
    "start_time": "2023-06-10T12:12:13.094Z"
   },
   {
    "duration": 1437,
    "start_time": "2023-06-10T12:12:41.005Z"
   },
   {
    "duration": 1706,
    "start_time": "2023-06-10T12:12:49.983Z"
   },
   {
    "duration": 28,
    "start_time": "2023-06-10T12:39:40.743Z"
   },
   {
    "duration": 21,
    "start_time": "2023-06-10T12:39:44.973Z"
   },
   {
    "duration": 28,
    "start_time": "2023-06-10T12:41:02.013Z"
   },
   {
    "duration": 21,
    "start_time": "2023-06-10T12:42:28.342Z"
   },
   {
    "duration": 38,
    "start_time": "2023-06-10T12:42:33.342Z"
   },
   {
    "duration": 21,
    "start_time": "2023-06-10T12:42:35.772Z"
   },
   {
    "duration": 6,
    "start_time": "2023-06-10T12:42:52.623Z"
   },
   {
    "duration": 1230,
    "start_time": "2023-06-10T12:43:47.304Z"
   },
   {
    "duration": 73,
    "start_time": "2023-06-10T12:43:52.152Z"
   },
   {
    "duration": 17,
    "start_time": "2023-06-10T12:43:56.742Z"
   },
   {
    "duration": 279,
    "start_time": "2023-06-10T12:43:57.781Z"
   },
   {
    "duration": 288,
    "start_time": "2023-06-10T12:44:01.262Z"
   },
   {
    "duration": 22,
    "start_time": "2023-06-10T12:44:04.138Z"
   },
   {
    "duration": 162,
    "start_time": "2023-06-10T12:44:07.213Z"
   },
   {
    "duration": 18,
    "start_time": "2023-06-10T12:44:13.422Z"
   },
   {
    "duration": 56,
    "start_time": "2023-06-10T12:44:19.342Z"
   },
   {
    "duration": 62,
    "start_time": "2023-06-10T12:44:22.851Z"
   },
   {
    "duration": 17,
    "start_time": "2023-06-10T12:44:25.940Z"
   },
   {
    "duration": 1756,
    "start_time": "2023-06-10T12:44:29.722Z"
   },
   {
    "duration": 54,
    "start_time": "2023-06-10T12:44:46.332Z"
   },
   {
    "duration": 134,
    "start_time": "2023-06-10T12:48:31.542Z"
   },
   {
    "duration": 11,
    "start_time": "2023-06-10T12:49:46.412Z"
   },
   {
    "duration": 13,
    "start_time": "2023-06-10T12:50:48.452Z"
   },
   {
    "duration": 135,
    "start_time": "2023-06-10T12:52:14.150Z"
   },
   {
    "duration": 141,
    "start_time": "2023-06-10T12:52:58.278Z"
   },
   {
    "duration": 28,
    "start_time": "2023-06-10T12:54:42.578Z"
   },
   {
    "duration": 39,
    "start_time": "2023-06-10T12:54:43.417Z"
   },
   {
    "duration": 6,
    "start_time": "2023-06-10T12:54:47.378Z"
   },
   {
    "duration": 136,
    "start_time": "2023-06-10T12:54:52.042Z"
   },
   {
    "duration": 19,
    "start_time": "2023-06-10T12:54:58.158Z"
   },
   {
    "duration": 112,
    "start_time": "2023-06-10T12:56:47.508Z"
   },
   {
    "duration": 10,
    "start_time": "2023-06-10T12:56:54.098Z"
   },
   {
    "duration": 11,
    "start_time": "2023-06-10T12:57:01.667Z"
   },
   {
    "duration": 157,
    "start_time": "2023-06-10T12:57:09.748Z"
   },
   {
    "duration": 103,
    "start_time": "2023-06-10T12:57:15.954Z"
   },
   {
    "duration": 15,
    "start_time": "2023-06-10T12:57:31.298Z"
   },
   {
    "duration": 1316,
    "start_time": "2023-06-10T12:58:23.298Z"
   },
   {
    "duration": 37,
    "start_time": "2023-06-10T12:58:32.867Z"
   },
   {
    "duration": 31,
    "start_time": "2023-06-10T12:59:55.769Z"
   },
   {
    "duration": 1809,
    "start_time": "2023-06-10T14:46:33.658Z"
   },
   {
    "duration": 291,
    "start_time": "2023-06-10T14:46:38.257Z"
   },
   {
    "duration": 15,
    "start_time": "2023-06-10T14:46:42.037Z"
   },
   {
    "duration": 362,
    "start_time": "2023-06-10T14:46:43.044Z"
   },
   {
    "duration": 355,
    "start_time": "2023-06-10T14:46:48.308Z"
   },
   {
    "duration": 30,
    "start_time": "2023-06-10T14:46:54.531Z"
   },
   {
    "duration": 193,
    "start_time": "2023-06-10T14:46:59.202Z"
   },
   {
    "duration": 24,
    "start_time": "2023-06-10T14:47:04.970Z"
   },
   {
    "duration": 122,
    "start_time": "2023-06-10T14:47:09.586Z"
   },
   {
    "duration": 223,
    "start_time": "2023-06-10T14:47:13.858Z"
   },
   {
    "duration": 24,
    "start_time": "2023-06-10T14:47:18.468Z"
   },
   {
    "duration": 7,
    "start_time": "2023-06-10T14:48:53.048Z"
   },
   {
    "duration": 2006,
    "start_time": "2023-06-10T14:48:58.938Z"
   },
   {
    "duration": 111,
    "start_time": "2023-06-10T14:49:11.007Z"
   },
   {
    "duration": 33,
    "start_time": "2023-06-10T14:49:44.840Z"
   },
   {
    "duration": 20,
    "start_time": "2023-06-10T14:49:49.144Z"
   },
   {
    "duration": 8,
    "start_time": "2023-06-10T14:49:59.302Z"
   },
   {
    "duration": 172,
    "start_time": "2023-06-10T14:50:07.329Z"
   },
   {
    "duration": 19,
    "start_time": "2023-06-10T14:50:10.702Z"
   },
   {
    "duration": 142,
    "start_time": "2023-06-10T14:50:15.000Z"
   },
   {
    "duration": 20,
    "start_time": "2023-06-10T14:50:18.503Z"
   },
   {
    "duration": 12,
    "start_time": "2023-06-10T14:50:22.658Z"
   },
   {
    "duration": 166,
    "start_time": "2023-06-10T14:50:27.206Z"
   },
   {
    "duration": 141,
    "start_time": "2023-06-10T14:50:30.428Z"
   },
   {
    "duration": 28,
    "start_time": "2023-06-10T14:50:36.605Z"
   },
   {
    "duration": 7,
    "start_time": "2023-06-10T14:52:19.102Z"
   },
   {
    "duration": 1522,
    "start_time": "2023-06-10T14:52:23.424Z"
   },
   {
    "duration": 50,
    "start_time": "2023-06-10T14:52:31.158Z"
   },
   {
    "duration": 61,
    "start_time": "2023-06-10T14:52:56.092Z"
   },
   {
    "duration": 1773,
    "start_time": "2023-06-13T14:23:29.625Z"
   },
   {
    "duration": 303,
    "start_time": "2023-06-13T14:23:35.048Z"
   },
   {
    "duration": 21,
    "start_time": "2023-06-13T14:23:40.040Z"
   },
   {
    "duration": 307,
    "start_time": "2023-06-13T14:23:42.771Z"
   },
   {
    "duration": 399,
    "start_time": "2023-06-13T14:23:43.853Z"
   },
   {
    "duration": 35,
    "start_time": "2023-06-13T14:23:44.421Z"
   },
   {
    "duration": 219,
    "start_time": "2023-06-13T14:23:44.920Z"
   },
   {
    "duration": 17,
    "start_time": "2023-06-13T14:23:45.392Z"
   },
   {
    "duration": 5,
    "start_time": "2023-06-13T14:28:49.282Z"
   },
   {
    "duration": 4,
    "start_time": "2023-06-13T14:29:05.755Z"
   },
   {
    "duration": 198,
    "start_time": "2023-06-13T14:32:04.812Z"
   },
   {
    "duration": 192,
    "start_time": "2023-06-13T14:33:03.654Z"
   },
   {
    "duration": 111,
    "start_time": "2023-06-13T14:33:10.412Z"
   },
   {
    "duration": 17,
    "start_time": "2023-06-13T14:33:12.912Z"
   },
   {
    "duration": 5,
    "start_time": "2023-06-13T14:33:14.306Z"
   },
   {
    "duration": 1691,
    "start_time": "2023-06-13T14:33:16.613Z"
   },
   {
    "duration": 81,
    "start_time": "2023-06-13T14:33:18.307Z"
   },
   {
    "duration": 44,
    "start_time": "2023-06-13T14:33:20.173Z"
   },
   {
    "duration": 29,
    "start_time": "2023-06-13T14:33:20.953Z"
   },
   {
    "duration": 6,
    "start_time": "2023-06-13T14:33:22.977Z"
   },
   {
    "duration": 16,
    "start_time": "2023-06-13T14:33:24.802Z"
   },
   {
    "duration": 9,
    "start_time": "2023-06-13T14:34:50.443Z"
   },
   {
    "duration": 137,
    "start_time": "2023-06-13T14:35:01.080Z"
   },
   {
    "duration": 15,
    "start_time": "2023-06-13T14:35:08.742Z"
   },
   {
    "duration": 311,
    "start_time": "2023-06-13T14:35:11.204Z"
   },
   {
    "duration": 9,
    "start_time": "2023-06-13T14:35:11.946Z"
   },
   {
    "duration": 10,
    "start_time": "2023-06-13T14:35:12.472Z"
   },
   {
    "duration": 4,
    "start_time": "2023-06-13T14:35:14.091Z"
   },
   {
    "duration": 11,
    "start_time": "2023-06-13T14:36:55.345Z"
   },
   {
    "duration": 14,
    "start_time": "2023-06-13T14:37:47.772Z"
   },
   {
    "duration": 6,
    "start_time": "2023-06-13T14:39:24.027Z"
   },
   {
    "duration": 5,
    "start_time": "2023-06-13T14:39:33.223Z"
   },
   {
    "duration": 87,
    "start_time": "2023-06-13T14:39:57.403Z"
   },
   {
    "duration": 151,
    "start_time": "2023-06-13T14:40:01.855Z"
   },
   {
    "duration": 13,
    "start_time": "2023-06-13T14:40:06.773Z"
   },
   {
    "duration": 6,
    "start_time": "2023-06-13T14:40:10.563Z"
   },
   {
    "duration": 1162,
    "start_time": "2023-06-13T14:40:11.105Z"
   },
   {
    "duration": 42,
    "start_time": "2023-06-13T14:40:17.676Z"
   },
   {
    "duration": 34,
    "start_time": "2023-06-13T14:40:26.444Z"
   },
   {
    "duration": 10,
    "start_time": "2023-06-13T14:41:38.615Z"
   },
   {
    "duration": 11,
    "start_time": "2023-06-13T14:55:26.131Z"
   },
   {
    "duration": 12,
    "start_time": "2023-06-13T15:06:05.355Z"
   },
   {
    "duration": 6,
    "start_time": "2023-06-13T15:14:41.816Z"
   },
   {
    "duration": 5,
    "start_time": "2023-06-13T15:22:25.831Z"
   },
   {
    "duration": 4,
    "start_time": "2023-06-13T15:22:33.476Z"
   },
   {
    "duration": 3,
    "start_time": "2023-06-13T15:22:43.665Z"
   },
   {
    "duration": 6,
    "start_time": "2023-06-13T15:23:17.519Z"
   },
   {
    "duration": 6,
    "start_time": "2023-06-13T15:23:26.489Z"
   },
   {
    "duration": 27,
    "start_time": "2023-06-13T15:36:29.659Z"
   },
   {
    "duration": 607,
    "start_time": "2023-06-13T15:37:31.893Z"
   },
   {
    "duration": 336,
    "start_time": "2023-06-13T15:44:56.353Z"
   },
   {
    "duration": 9,
    "start_time": "2023-06-13T15:45:34.950Z"
   },
   {
    "duration": 685,
    "start_time": "2023-06-13T15:45:55.264Z"
   },
   {
    "duration": 1494,
    "start_time": "2023-06-13T18:19:00.943Z"
   },
   {
    "duration": 202,
    "start_time": "2023-06-13T18:19:06.280Z"
   },
   {
    "duration": 16,
    "start_time": "2023-06-13T18:19:06.559Z"
   },
   {
    "duration": 280,
    "start_time": "2023-06-13T18:19:06.829Z"
   },
   {
    "duration": 289,
    "start_time": "2023-06-13T18:19:07.139Z"
   },
   {
    "duration": 35,
    "start_time": "2023-06-13T18:19:07.431Z"
   },
   {
    "duration": 15,
    "start_time": "2023-06-13T18:19:07.982Z"
   },
   {
    "duration": 195,
    "start_time": "2023-06-13T18:19:08.770Z"
   },
   {
    "duration": 21,
    "start_time": "2023-06-13T18:19:09.024Z"
   },
   {
    "duration": 5,
    "start_time": "2023-06-13T18:19:09.558Z"
   },
   {
    "duration": 5,
    "start_time": "2023-06-13T18:19:09.809Z"
   },
   {
    "duration": 113,
    "start_time": "2023-06-13T18:19:11.958Z"
   },
   {
    "duration": 150,
    "start_time": "2023-06-13T18:19:12.219Z"
   },
   {
    "duration": 17,
    "start_time": "2023-06-13T18:19:12.989Z"
   },
   {
    "duration": 7,
    "start_time": "2023-06-13T18:19:13.782Z"
   },
   {
    "duration": 1571,
    "start_time": "2023-06-13T18:19:14.758Z"
   },
   {
    "duration": 68,
    "start_time": "2023-06-13T18:19:16.331Z"
   },
   {
    "duration": 29,
    "start_time": "2023-06-13T18:19:16.401Z"
   },
   {
    "duration": 36,
    "start_time": "2023-06-13T18:19:16.433Z"
   },
   {
    "duration": 6,
    "start_time": "2023-06-13T18:19:16.909Z"
   },
   {
    "duration": 12,
    "start_time": "2023-06-13T18:19:18.058Z"
   },
   {
    "duration": 119,
    "start_time": "2023-06-13T18:19:20.389Z"
   },
   {
    "duration": 20,
    "start_time": "2023-06-13T18:19:20.749Z"
   },
   {
    "duration": 98,
    "start_time": "2023-06-13T18:19:22.758Z"
   },
   {
    "duration": 12,
    "start_time": "2023-06-13T18:19:23.139Z"
   },
   {
    "duration": 10,
    "start_time": "2023-06-13T18:19:23.438Z"
   },
   {
    "duration": 10,
    "start_time": "2023-06-13T18:19:24.049Z"
   },
   {
    "duration": 5,
    "start_time": "2023-06-13T18:19:25.418Z"
   },
   {
    "duration": 9,
    "start_time": "2023-06-13T18:19:26.189Z"
   },
   {
    "duration": 10,
    "start_time": "2023-06-13T18:19:26.808Z"
   },
   {
    "duration": 5,
    "start_time": "2023-06-13T18:19:27.539Z"
   },
   {
    "duration": 5,
    "start_time": "2023-06-13T18:19:27.999Z"
   },
   {
    "duration": 120,
    "start_time": "2023-06-13T18:19:30.129Z"
   },
   {
    "duration": 82,
    "start_time": "2023-06-13T18:19:30.485Z"
   },
   {
    "duration": 14,
    "start_time": "2023-06-13T18:19:31.487Z"
   },
   {
    "duration": 6,
    "start_time": "2023-06-13T18:19:32.589Z"
   },
   {
    "duration": 1244,
    "start_time": "2023-06-13T18:19:32.949Z"
   },
   {
    "duration": 40,
    "start_time": "2023-06-13T18:19:34.195Z"
   },
   {
    "duration": 52,
    "start_time": "2023-06-13T18:19:34.237Z"
   },
   {
    "duration": 7,
    "start_time": "2023-06-13T18:19:34.782Z"
   },
   {
    "duration": 6,
    "start_time": "2023-06-13T18:19:44.372Z"
   },
   {
    "duration": 6,
    "start_time": "2023-06-13T18:19:44.859Z"
   },
   {
    "duration": 22,
    "start_time": "2023-06-13T18:19:49.549Z"
   },
   {
    "duration": 186,
    "start_time": "2023-06-13T18:19:56.648Z"
   },
   {
    "duration": 114,
    "start_time": "2023-06-13T18:20:01.750Z"
   },
   {
    "duration": 7,
    "start_time": "2023-06-13T18:20:06.820Z"
   },
   {
    "duration": 703,
    "start_time": "2023-06-13T18:20:09.559Z"
   },
   {
    "duration": 5,
    "start_time": "2023-06-13T18:30:20.989Z"
   },
   {
    "duration": 20,
    "start_time": "2023-06-13T18:31:58.809Z"
   },
   {
    "duration": 16,
    "start_time": "2023-06-13T18:32:34.819Z"
   },
   {
    "duration": 1179,
    "start_time": "2023-06-13T18:34:47.040Z"
   },
   {
    "duration": 66,
    "start_time": "2023-06-13T18:34:48.220Z"
   },
   {
    "duration": 17,
    "start_time": "2023-06-13T18:34:48.329Z"
   },
   {
    "duration": 264,
    "start_time": "2023-06-13T18:34:48.593Z"
   },
   {
    "duration": 368,
    "start_time": "2023-06-13T18:34:48.866Z"
   },
   {
    "duration": 31,
    "start_time": "2023-06-13T18:34:49.236Z"
   },
   {
    "duration": 12,
    "start_time": "2023-06-13T18:34:49.610Z"
   },
   {
    "duration": 143,
    "start_time": "2023-06-13T18:34:50.370Z"
   },
   {
    "duration": 14,
    "start_time": "2023-06-13T18:34:50.605Z"
   },
   {
    "duration": 4,
    "start_time": "2023-06-13T18:34:51.182Z"
   },
   {
    "duration": 4,
    "start_time": "2023-06-13T18:34:51.409Z"
   },
   {
    "duration": 50,
    "start_time": "2023-06-13T18:34:53.450Z"
   },
   {
    "duration": 46,
    "start_time": "2023-06-13T18:34:53.686Z"
   },
   {
    "duration": 16,
    "start_time": "2023-06-13T18:34:54.439Z"
   },
   {
    "duration": 6,
    "start_time": "2023-06-13T18:34:55.101Z"
   },
   {
    "duration": 1597,
    "start_time": "2023-06-13T18:34:56.049Z"
   },
   {
    "duration": 58,
    "start_time": "2023-06-13T18:34:57.650Z"
   },
   {
    "duration": 27,
    "start_time": "2023-06-13T18:34:57.710Z"
   },
   {
    "duration": 36,
    "start_time": "2023-06-13T18:34:57.739Z"
   },
   {
    "duration": 6,
    "start_time": "2023-06-13T18:34:57.777Z"
   },
   {
    "duration": 17,
    "start_time": "2023-06-13T18:34:58.382Z"
   },
   {
    "duration": 61,
    "start_time": "2023-06-13T18:34:59.809Z"
   },
   {
    "duration": 22,
    "start_time": "2023-06-13T18:35:00.062Z"
   },
   {
    "duration": 50,
    "start_time": "2023-06-13T18:35:01.240Z"
   },
   {
    "duration": 11,
    "start_time": "2023-06-13T18:35:01.483Z"
   },
   {
    "duration": 21,
    "start_time": "2023-06-13T18:35:01.710Z"
   },
   {
    "duration": 10,
    "start_time": "2023-06-13T18:35:02.199Z"
   },
   {
    "duration": 4,
    "start_time": "2023-06-13T18:35:02.911Z"
   },
   {
    "duration": 10,
    "start_time": "2023-06-13T18:35:03.387Z"
   },
   {
    "duration": 13,
    "start_time": "2023-06-13T18:35:03.879Z"
   },
   {
    "duration": 5,
    "start_time": "2023-06-13T18:35:04.350Z"
   },
   {
    "duration": 5,
    "start_time": "2023-06-13T18:35:04.549Z"
   },
   {
    "duration": 54,
    "start_time": "2023-06-13T18:35:05.820Z"
   },
   {
    "duration": 47,
    "start_time": "2023-06-13T18:35:06.090Z"
   },
   {
    "duration": 19,
    "start_time": "2023-06-13T18:35:06.770Z"
   },
   {
    "duration": 6,
    "start_time": "2023-06-13T18:35:07.510Z"
   },
   {
    "duration": 1101,
    "start_time": "2023-06-13T18:35:07.784Z"
   },
   {
    "duration": 38,
    "start_time": "2023-06-13T18:35:08.887Z"
   },
   {
    "duration": 49,
    "start_time": "2023-06-13T18:35:08.927Z"
   },
   {
    "duration": 7,
    "start_time": "2023-06-13T18:35:09.287Z"
   },
   {
    "duration": 5,
    "start_time": "2023-06-13T18:35:16.286Z"
   },
   {
    "duration": 7,
    "start_time": "2023-06-13T18:35:16.728Z"
   },
   {
    "duration": 22,
    "start_time": "2023-06-13T18:35:17.839Z"
   },
   {
    "duration": 359,
    "start_time": "2023-06-13T18:35:18.229Z"
   },
   {
    "duration": 9,
    "start_time": "2023-06-13T18:35:18.629Z"
   },
   {
    "duration": 713,
    "start_time": "2023-06-13T18:35:19.109Z"
   },
   {
    "duration": 4,
    "start_time": "2023-06-13T18:35:20.590Z"
   },
   {
    "duration": 13,
    "start_time": "2023-06-13T18:35:21.615Z"
   },
   {
    "duration": 19,
    "start_time": "2023-06-13T18:35:26.299Z"
   },
   {
    "duration": 31,
    "start_time": "2023-06-13T18:38:11.100Z"
   },
   {
    "duration": 22,
    "start_time": "2023-06-13T18:38:32.387Z"
   },
   {
    "duration": 3475,
    "start_time": "2023-06-13T18:38:51.582Z"
   },
   {
    "duration": 19,
    "start_time": "2023-06-13T18:39:14.183Z"
   },
   {
    "duration": 17,
    "start_time": "2023-06-13T18:39:39.500Z"
   },
   {
    "duration": 3606,
    "start_time": "2023-06-13T18:39:55.101Z"
   },
   {
    "duration": 127,
    "start_time": "2023-06-13T18:47:43.384Z"
   },
   {
    "duration": 33,
    "start_time": "2023-06-13T18:48:37.496Z"
   },
   {
    "duration": 13,
    "start_time": "2023-06-13T18:53:01.977Z"
   },
   {
    "duration": 14,
    "start_time": "2023-06-13T18:53:46.259Z"
   },
   {
    "duration": 5,
    "start_time": "2023-06-13T18:56:51.826Z"
   },
   {
    "duration": 27,
    "start_time": "2023-06-13T18:57:34.097Z"
   },
   {
    "duration": 34,
    "start_time": "2023-06-13T18:57:43.225Z"
   },
   {
    "duration": 37,
    "start_time": "2023-06-13T18:58:47.781Z"
   },
   {
    "duration": 26,
    "start_time": "2023-06-13T18:59:21.570Z"
   },
   {
    "duration": 5,
    "start_time": "2023-06-13T18:59:39.388Z"
   },
   {
    "duration": 11,
    "start_time": "2023-06-13T19:04:45.512Z"
   },
   {
    "duration": 3,
    "start_time": "2023-06-13T19:05:34.283Z"
   },
   {
    "duration": 4,
    "start_time": "2023-06-13T19:05:44.789Z"
   },
   {
    "duration": 3,
    "start_time": "2023-06-13T19:06:28.492Z"
   },
   {
    "duration": 3,
    "start_time": "2023-06-13T19:07:07.712Z"
   },
   {
    "duration": 4,
    "start_time": "2023-06-13T19:07:13.732Z"
   },
   {
    "duration": 2797,
    "start_time": "2023-06-13T19:07:54.123Z"
   },
   {
    "duration": 2976,
    "start_time": "2023-06-13T19:09:49.362Z"
   },
   {
    "duration": 3038,
    "start_time": "2023-06-13T19:13:28.842Z"
   },
   {
    "duration": 30,
    "start_time": "2023-06-13T19:13:52.382Z"
   },
   {
    "duration": 2965,
    "start_time": "2023-06-13T19:14:14.003Z"
   },
   {
    "duration": 2876,
    "start_time": "2023-06-13T19:14:22.682Z"
   },
   {
    "duration": 3259,
    "start_time": "2023-06-13T19:14:42.742Z"
   },
   {
    "duration": 32,
    "start_time": "2023-06-13T19:15:55.152Z"
   },
   {
    "duration": 13,
    "start_time": "2023-06-13T19:22:46.928Z"
   },
   {
    "duration": 15,
    "start_time": "2023-06-13T19:24:34.497Z"
   },
   {
    "duration": 11,
    "start_time": "2023-06-13T19:35:39.677Z"
   },
   {
    "duration": 10,
    "start_time": "2023-06-13T19:36:53.283Z"
   },
   {
    "duration": 12,
    "start_time": "2023-06-13T19:39:07.533Z"
   },
   {
    "duration": 17,
    "start_time": "2023-06-13T19:43:17.674Z"
   },
   {
    "duration": 16,
    "start_time": "2023-06-13T19:43:53.524Z"
   },
   {
    "duration": 7,
    "start_time": "2023-06-13T20:04:03.993Z"
   },
   {
    "duration": 6,
    "start_time": "2023-06-13T20:11:15.778Z"
   },
   {
    "duration": 9,
    "start_time": "2023-06-13T20:12:39.901Z"
   },
   {
    "duration": 6,
    "start_time": "2023-06-13T20:14:43.563Z"
   },
   {
    "duration": 11,
    "start_time": "2023-06-13T20:14:46.603Z"
   },
   {
    "duration": 12,
    "start_time": "2023-06-13T20:15:03.804Z"
   },
   {
    "duration": 1095,
    "start_time": "2023-06-13T20:16:25.611Z"
   },
   {
    "duration": 4,
    "start_time": "2023-06-13T20:16:26.709Z"
   },
   {
    "duration": 69,
    "start_time": "2023-06-13T20:16:27.202Z"
   },
   {
    "duration": 16,
    "start_time": "2023-06-13T20:16:27.432Z"
   },
   {
    "duration": 294,
    "start_time": "2023-06-13T20:16:27.691Z"
   },
   {
    "duration": 284,
    "start_time": "2023-06-13T20:16:27.987Z"
   },
   {
    "duration": 20,
    "start_time": "2023-06-13T20:16:28.273Z"
   },
   {
    "duration": 12,
    "start_time": "2023-06-13T20:16:28.532Z"
   },
   {
    "duration": 158,
    "start_time": "2023-06-13T20:16:29.162Z"
   },
   {
    "duration": 14,
    "start_time": "2023-06-13T20:16:29.385Z"
   },
   {
    "duration": 5,
    "start_time": "2023-06-13T20:16:29.822Z"
   },
   {
    "duration": 4,
    "start_time": "2023-06-13T20:16:30.032Z"
   },
   {
    "duration": 53,
    "start_time": "2023-06-13T20:16:31.662Z"
   },
   {
    "duration": 52,
    "start_time": "2023-06-13T20:16:31.862Z"
   },
   {
    "duration": 16,
    "start_time": "2023-06-13T20:16:32.504Z"
   },
   {
    "duration": 6,
    "start_time": "2023-06-13T20:16:33.142Z"
   },
   {
    "duration": 1500,
    "start_time": "2023-06-13T20:16:33.992Z"
   },
   {
    "duration": 64,
    "start_time": "2023-06-13T20:16:35.494Z"
   },
   {
    "duration": 27,
    "start_time": "2023-06-13T20:16:35.560Z"
   },
   {
    "duration": 19,
    "start_time": "2023-06-13T20:16:35.590Z"
   },
   {
    "duration": 5,
    "start_time": "2023-06-13T20:16:35.611Z"
   },
   {
    "duration": 10,
    "start_time": "2023-06-13T20:16:36.213Z"
   },
   {
    "duration": 58,
    "start_time": "2023-06-13T20:16:37.531Z"
   },
   {
    "duration": 15,
    "start_time": "2023-06-13T20:16:37.752Z"
   },
   {
    "duration": 55,
    "start_time": "2023-06-13T20:16:38.833Z"
   },
   {
    "duration": 11,
    "start_time": "2023-06-13T20:16:39.022Z"
   },
   {
    "duration": 10,
    "start_time": "2023-06-13T20:16:39.251Z"
   },
   {
    "duration": 10,
    "start_time": "2023-06-13T20:16:39.683Z"
   },
   {
    "duration": 4,
    "start_time": "2023-06-13T20:16:40.362Z"
   },
   {
    "duration": 9,
    "start_time": "2023-06-13T20:16:40.802Z"
   },
   {
    "duration": 9,
    "start_time": "2023-06-13T20:16:41.253Z"
   },
   {
    "duration": 5,
    "start_time": "2023-06-13T20:16:41.712Z"
   },
   {
    "duration": 5,
    "start_time": "2023-06-13T20:16:41.933Z"
   },
   {
    "duration": 46,
    "start_time": "2023-06-13T20:16:43.087Z"
   },
   {
    "duration": 36,
    "start_time": "2023-06-13T20:16:43.312Z"
   },
   {
    "duration": 15,
    "start_time": "2023-06-13T20:16:44.001Z"
   },
   {
    "duration": 5,
    "start_time": "2023-06-13T20:16:44.641Z"
   },
   {
    "duration": 1053,
    "start_time": "2023-06-13T20:16:44.861Z"
   },
   {
    "duration": 46,
    "start_time": "2023-06-13T20:16:45.916Z"
   },
   {
    "duration": 29,
    "start_time": "2023-06-13T20:16:45.963Z"
   },
   {
    "duration": 9,
    "start_time": "2023-06-13T20:16:46.221Z"
   },
   {
    "duration": 6,
    "start_time": "2023-06-13T20:16:52.884Z"
   },
   {
    "duration": 7,
    "start_time": "2023-06-13T20:16:53.221Z"
   },
   {
    "duration": 21,
    "start_time": "2023-06-13T20:16:54.049Z"
   },
   {
    "duration": 331,
    "start_time": "2023-06-13T20:16:54.321Z"
   },
   {
    "duration": 6,
    "start_time": "2023-06-13T20:16:54.657Z"
   },
   {
    "duration": 623,
    "start_time": "2023-06-13T20:16:54.882Z"
   },
   {
    "duration": 4,
    "start_time": "2023-06-13T20:16:55.507Z"
   },
   {
    "duration": 13,
    "start_time": "2023-06-13T20:16:56.041Z"
   },
   {
    "duration": 29,
    "start_time": "2023-06-13T20:16:56.701Z"
   },
   {
    "duration": 11,
    "start_time": "2023-06-13T20:16:57.021Z"
   },
   {
    "duration": 6,
    "start_time": "2023-06-13T20:16:57.718Z"
   },
   {
    "duration": 17,
    "start_time": "2023-06-13T20:16:59.050Z"
   },
   {
    "duration": 6,
    "start_time": "2023-06-13T20:17:00.111Z"
   },
   {
    "duration": 7,
    "start_time": "2023-06-13T20:17:00.585Z"
   },
   {
    "duration": 10,
    "start_time": "2023-06-13T20:17:01.021Z"
   },
   {
    "duration": 8,
    "start_time": "2023-06-13T20:17:01.731Z"
   },
   {
    "duration": 8,
    "start_time": "2023-06-13T20:17:02.421Z"
   },
   {
    "duration": 12,
    "start_time": "2023-06-13T20:17:02.982Z"
   },
   {
    "duration": 1131,
    "start_time": "2023-06-13T20:23:55.210Z"
   },
   {
    "duration": 4,
    "start_time": "2023-06-13T20:23:57.530Z"
   },
   {
    "duration": 64,
    "start_time": "2023-06-13T20:23:58.182Z"
   },
   {
    "duration": 17,
    "start_time": "2023-06-13T20:23:58.390Z"
   },
   {
    "duration": 291,
    "start_time": "2023-06-13T20:23:58.589Z"
   },
   {
    "duration": 320,
    "start_time": "2023-06-13T20:23:58.883Z"
   },
   {
    "duration": 20,
    "start_time": "2023-06-13T20:23:59.205Z"
   },
   {
    "duration": 10,
    "start_time": "2023-06-13T20:23:59.412Z"
   },
   {
    "duration": 154,
    "start_time": "2023-06-13T20:24:00.029Z"
   },
   {
    "duration": 15,
    "start_time": "2023-06-13T20:24:00.200Z"
   },
   {
    "duration": 5,
    "start_time": "2023-06-13T20:24:00.609Z"
   },
   {
    "duration": 5,
    "start_time": "2023-06-13T20:24:00.809Z"
   },
   {
    "duration": 51,
    "start_time": "2023-06-13T20:24:02.384Z"
   },
   {
    "duration": 45,
    "start_time": "2023-06-13T20:24:02.585Z"
   },
   {
    "duration": 19,
    "start_time": "2023-06-13T20:24:03.200Z"
   },
   {
    "duration": 6,
    "start_time": "2023-06-13T20:24:03.831Z"
   },
   {
    "duration": 1510,
    "start_time": "2023-06-13T20:24:04.668Z"
   },
   {
    "duration": 76,
    "start_time": "2023-06-13T20:24:06.181Z"
   },
   {
    "duration": 26,
    "start_time": "2023-06-13T20:24:06.259Z"
   },
   {
    "duration": 18,
    "start_time": "2023-06-13T20:24:06.287Z"
   },
   {
    "duration": 6,
    "start_time": "2023-06-13T20:24:06.306Z"
   },
   {
    "duration": 9,
    "start_time": "2023-06-13T20:24:06.729Z"
   },
   {
    "duration": 58,
    "start_time": "2023-06-13T20:24:07.998Z"
   },
   {
    "duration": 17,
    "start_time": "2023-06-13T20:24:08.181Z"
   },
   {
    "duration": 51,
    "start_time": "2023-06-13T20:24:09.286Z"
   },
   {
    "duration": 10,
    "start_time": "2023-06-13T20:24:09.489Z"
   },
   {
    "duration": 9,
    "start_time": "2023-06-13T20:24:09.710Z"
   },
   {
    "duration": 10,
    "start_time": "2023-06-13T20:24:10.110Z"
   },
   {
    "duration": 4,
    "start_time": "2023-06-13T20:24:10.741Z"
   },
   {
    "duration": 10,
    "start_time": "2023-06-13T20:24:11.184Z"
   },
   {
    "duration": 10,
    "start_time": "2023-06-13T20:24:11.600Z"
   },
   {
    "duration": 5,
    "start_time": "2023-06-13T20:24:12.050Z"
   },
   {
    "duration": 5,
    "start_time": "2023-06-13T20:24:12.260Z"
   },
   {
    "duration": 43,
    "start_time": "2023-06-13T20:24:13.361Z"
   },
   {
    "duration": 34,
    "start_time": "2023-06-13T20:24:13.590Z"
   },
   {
    "duration": 17,
    "start_time": "2023-06-13T20:24:14.260Z"
   },
   {
    "duration": 5,
    "start_time": "2023-06-13T20:24:14.920Z"
   },
   {
    "duration": 1063,
    "start_time": "2023-06-13T20:24:15.140Z"
   },
   {
    "duration": 38,
    "start_time": "2023-06-13T20:24:16.205Z"
   },
   {
    "duration": 39,
    "start_time": "2023-06-13T20:24:16.244Z"
   },
   {
    "duration": 9,
    "start_time": "2023-06-13T20:24:16.499Z"
   },
   {
    "duration": 7,
    "start_time": "2023-06-13T20:24:23.710Z"
   },
   {
    "duration": 7,
    "start_time": "2023-06-13T20:24:24.020Z"
   },
   {
    "duration": 20,
    "start_time": "2023-06-13T20:24:24.710Z"
   },
   {
    "duration": 308,
    "start_time": "2023-06-13T20:24:24.930Z"
   },
   {
    "duration": 16,
    "start_time": "2023-06-13T20:24:25.240Z"
   },
   {
    "duration": 637,
    "start_time": "2023-06-13T20:24:25.400Z"
   },
   {
    "duration": 5,
    "start_time": "2023-06-13T20:24:26.039Z"
   },
   {
    "duration": 12,
    "start_time": "2023-06-13T20:24:26.351Z"
   },
   {
    "duration": 24,
    "start_time": "2023-06-13T20:24:27.175Z"
   },
   {
    "duration": 13,
    "start_time": "2023-06-13T20:24:27.428Z"
   },
   {
    "duration": 5,
    "start_time": "2023-06-13T20:24:28.138Z"
   },
   {
    "duration": 20,
    "start_time": "2023-06-13T20:24:28.830Z"
   },
   {
    "duration": 7,
    "start_time": "2023-06-13T20:24:29.449Z"
   },
   {
    "duration": 6,
    "start_time": "2023-06-13T20:24:29.860Z"
   },
   {
    "duration": 11,
    "start_time": "2023-06-13T20:24:30.320Z"
   },
   {
    "duration": 7,
    "start_time": "2023-06-13T20:24:30.939Z"
   },
   {
    "duration": 11,
    "start_time": "2023-06-13T20:24:31.730Z"
   },
   {
    "duration": 13,
    "start_time": "2023-06-13T20:24:32.590Z"
   },
   {
    "duration": 32,
    "start_time": "2023-06-13T20:26:03.010Z"
   },
   {
    "duration": 3,
    "start_time": "2023-06-13T20:28:09.351Z"
   },
   {
    "duration": 1281,
    "start_time": "2023-06-13T20:29:30.761Z"
   },
   {
    "duration": 3,
    "start_time": "2023-06-13T20:29:32.044Z"
   },
   {
    "duration": 75,
    "start_time": "2023-06-13T20:29:32.056Z"
   },
   {
    "duration": 15,
    "start_time": "2023-06-13T20:29:32.133Z"
   },
   {
    "duration": 267,
    "start_time": "2023-06-13T20:29:32.151Z"
   },
   {
    "duration": 270,
    "start_time": "2023-06-13T20:29:32.419Z"
   },
   {
    "duration": 19,
    "start_time": "2023-06-13T20:29:32.691Z"
   },
   {
    "duration": 11,
    "start_time": "2023-06-13T20:29:32.711Z"
   },
   {
    "duration": 163,
    "start_time": "2023-06-13T20:29:32.724Z"
   },
   {
    "duration": 14,
    "start_time": "2023-06-13T20:29:32.888Z"
   },
   {
    "duration": 11,
    "start_time": "2023-06-13T20:29:32.903Z"
   },
   {
    "duration": 36,
    "start_time": "2023-06-13T20:29:32.916Z"
   },
   {
    "duration": 49,
    "start_time": "2023-06-13T20:29:32.954Z"
   },
   {
    "duration": 44,
    "start_time": "2023-06-13T20:29:33.006Z"
   },
   {
    "duration": 16,
    "start_time": "2023-06-13T20:29:33.052Z"
   },
   {
    "duration": 6,
    "start_time": "2023-06-13T20:29:33.070Z"
   },
   {
    "duration": 1635,
    "start_time": "2023-06-13T20:29:33.078Z"
   },
   {
    "duration": 69,
    "start_time": "2023-06-13T20:29:34.715Z"
   },
   {
    "duration": 26,
    "start_time": "2023-06-13T20:29:34.786Z"
   },
   {
    "duration": 17,
    "start_time": "2023-06-13T20:29:34.814Z"
   },
   {
    "duration": 25,
    "start_time": "2023-06-13T20:29:34.833Z"
   },
   {
    "duration": 33,
    "start_time": "2023-06-13T20:29:34.860Z"
   },
   {
    "duration": 59,
    "start_time": "2023-06-13T20:29:34.894Z"
   },
   {
    "duration": 15,
    "start_time": "2023-06-13T20:29:34.955Z"
   },
   {
    "duration": 44,
    "start_time": "2023-06-13T20:29:34.972Z"
   },
   {
    "duration": 9,
    "start_time": "2023-06-13T20:29:35.018Z"
   },
   {
    "duration": 30,
    "start_time": "2023-06-13T20:29:35.029Z"
   },
   {
    "duration": 18,
    "start_time": "2023-06-13T20:29:35.060Z"
   },
   {
    "duration": 4,
    "start_time": "2023-06-13T20:29:35.080Z"
   },
   {
    "duration": 9,
    "start_time": "2023-06-13T20:29:35.086Z"
   },
   {
    "duration": 9,
    "start_time": "2023-06-13T20:29:35.096Z"
   },
   {
    "duration": 6,
    "start_time": "2023-06-13T20:29:35.107Z"
   },
   {
    "duration": 6,
    "start_time": "2023-06-13T20:29:35.114Z"
   },
   {
    "duration": 52,
    "start_time": "2023-06-13T20:29:35.121Z"
   },
   {
    "duration": 44,
    "start_time": "2023-06-13T20:29:35.174Z"
   },
   {
    "duration": 18,
    "start_time": "2023-06-13T20:29:35.220Z"
   },
   {
    "duration": 17,
    "start_time": "2023-06-13T20:29:35.240Z"
   },
   {
    "duration": 1073,
    "start_time": "2023-06-13T20:29:35.259Z"
   },
   {
    "duration": 44,
    "start_time": "2023-06-13T20:29:36.333Z"
   },
   {
    "duration": 30,
    "start_time": "2023-06-13T20:29:36.378Z"
   },
   {
    "duration": 8,
    "start_time": "2023-06-13T20:29:36.413Z"
   },
   {
    "duration": 36,
    "start_time": "2023-06-13T20:29:36.423Z"
   },
   {
    "duration": 6,
    "start_time": "2023-06-13T20:29:36.461Z"
   },
   {
    "duration": 26,
    "start_time": "2023-06-13T20:29:36.468Z"
   },
   {
    "duration": 332,
    "start_time": "2023-06-13T20:29:36.496Z"
   },
   {
    "duration": 8,
    "start_time": "2023-06-13T20:29:36.830Z"
   },
   {
    "duration": 697,
    "start_time": "2023-06-13T20:29:36.839Z"
   },
   {
    "duration": 5,
    "start_time": "2023-06-13T20:29:37.538Z"
   },
   {
    "duration": 22,
    "start_time": "2023-06-13T20:29:37.545Z"
   },
   {
    "duration": 25,
    "start_time": "2023-06-13T20:29:37.568Z"
   },
   {
    "duration": 12,
    "start_time": "2023-06-13T20:29:37.595Z"
   },
   {
    "duration": 5,
    "start_time": "2023-06-13T20:29:37.609Z"
   },
   {
    "duration": 45,
    "start_time": "2023-06-13T20:29:37.615Z"
   },
   {
    "duration": 5,
    "start_time": "2023-06-13T20:29:37.662Z"
   },
   {
    "duration": 5,
    "start_time": "2023-06-13T20:29:37.669Z"
   },
   {
    "duration": 17,
    "start_time": "2023-06-13T20:29:37.676Z"
   },
   {
    "duration": 15,
    "start_time": "2023-06-13T20:29:37.694Z"
   },
   {
    "duration": 9,
    "start_time": "2023-06-13T20:29:37.711Z"
   },
   {
    "duration": 9,
    "start_time": "2023-06-13T20:29:37.722Z"
   },
   {
    "duration": 17,
    "start_time": "2023-06-13T20:29:37.733Z"
   },
   {
    "duration": 30,
    "start_time": "2023-06-13T20:29:37.756Z"
   },
   {
    "duration": 27,
    "start_time": "2023-06-13T20:30:03.151Z"
   },
   {
    "duration": 24,
    "start_time": "2023-06-13T20:30:18.050Z"
   },
   {
    "duration": 97,
    "start_time": "2023-06-13T20:32:51.223Z"
   },
   {
    "duration": 7,
    "start_time": "2023-06-13T20:32:57.621Z"
   },
   {
    "duration": 16,
    "start_time": "2023-06-13T20:33:00.710Z"
   },
   {
    "duration": 16,
    "start_time": "2023-06-13T20:34:51.340Z"
   },
   {
    "duration": 17,
    "start_time": "2023-06-13T20:38:22.683Z"
   },
   {
    "duration": 5,
    "start_time": "2023-06-13T20:41:00.297Z"
   },
   {
    "duration": 421,
    "start_time": "2023-06-13T20:54:13.666Z"
   },
   {
    "duration": 3,
    "start_time": "2023-06-13T20:54:17.795Z"
   },
   {
    "duration": 55,
    "start_time": "2023-06-13T20:54:54.215Z"
   },
   {
    "duration": 15,
    "start_time": "2023-06-13T20:55:55.855Z"
   },
   {
    "duration": 3,
    "start_time": "2023-06-13T20:59:32.079Z"
   },
   {
    "duration": 41,
    "start_time": "2023-06-13T21:00:35.735Z"
   },
   {
    "duration": 1198,
    "start_time": "2023-06-13T21:10:43.033Z"
   },
   {
    "duration": 3,
    "start_time": "2023-06-13T21:10:44.233Z"
   },
   {
    "duration": 78,
    "start_time": "2023-06-13T21:10:44.238Z"
   },
   {
    "duration": 16,
    "start_time": "2023-06-13T21:10:44.318Z"
   },
   {
    "duration": 293,
    "start_time": "2023-06-13T21:10:44.337Z"
   },
   {
    "duration": 275,
    "start_time": "2023-06-13T21:10:44.632Z"
   },
   {
    "duration": 21,
    "start_time": "2023-06-13T21:10:44.909Z"
   },
   {
    "duration": 42,
    "start_time": "2023-06-13T21:10:44.932Z"
   },
   {
    "duration": 162,
    "start_time": "2023-06-13T21:10:44.976Z"
   },
   {
    "duration": 26,
    "start_time": "2023-06-13T21:10:45.140Z"
   },
   {
    "duration": 17,
    "start_time": "2023-06-13T21:10:45.174Z"
   },
   {
    "duration": 5,
    "start_time": "2023-06-13T21:10:45.193Z"
   },
   {
    "duration": 79,
    "start_time": "2023-06-13T21:10:45.199Z"
   },
   {
    "duration": 66,
    "start_time": "2023-06-13T21:10:45.283Z"
   },
   {
    "duration": 28,
    "start_time": "2023-06-13T21:10:45.351Z"
   },
   {
    "duration": 9,
    "start_time": "2023-06-13T21:10:45.381Z"
   },
   {
    "duration": 1606,
    "start_time": "2023-06-13T21:10:45.391Z"
   },
   {
    "duration": 66,
    "start_time": "2023-06-13T21:10:46.999Z"
   },
   {
    "duration": 30,
    "start_time": "2023-06-13T21:10:47.067Z"
   },
   {
    "duration": 18,
    "start_time": "2023-06-13T21:10:47.099Z"
   },
   {
    "duration": 6,
    "start_time": "2023-06-13T21:10:47.118Z"
   },
   {
    "duration": 35,
    "start_time": "2023-06-13T21:10:47.126Z"
   },
   {
    "duration": 59,
    "start_time": "2023-06-13T21:10:47.169Z"
   },
   {
    "duration": 17,
    "start_time": "2023-06-13T21:10:47.230Z"
   },
   {
    "duration": 49,
    "start_time": "2023-06-13T21:10:47.249Z"
   },
   {
    "duration": 11,
    "start_time": "2023-06-13T21:10:47.300Z"
   },
   {
    "duration": 13,
    "start_time": "2023-06-13T21:10:47.313Z"
   },
   {
    "duration": 51,
    "start_time": "2023-06-13T21:10:47.328Z"
   },
   {
    "duration": 6,
    "start_time": "2023-06-13T21:10:47.382Z"
   },
   {
    "duration": 14,
    "start_time": "2023-06-13T21:10:47.390Z"
   },
   {
    "duration": 10,
    "start_time": "2023-06-13T21:10:47.406Z"
   },
   {
    "duration": 6,
    "start_time": "2023-06-13T21:10:47.418Z"
   },
   {
    "duration": 5,
    "start_time": "2023-06-13T21:10:47.426Z"
   },
   {
    "duration": 44,
    "start_time": "2023-06-13T21:10:47.433Z"
   },
   {
    "duration": 35,
    "start_time": "2023-06-13T21:10:47.479Z"
   },
   {
    "duration": 13,
    "start_time": "2023-06-13T21:10:47.516Z"
   },
   {
    "duration": 5,
    "start_time": "2023-06-13T21:10:47.531Z"
   },
   {
    "duration": 1123,
    "start_time": "2023-06-13T21:10:47.538Z"
   },
   {
    "duration": 46,
    "start_time": "2023-06-13T21:10:48.665Z"
   },
   {
    "duration": 28,
    "start_time": "2023-06-13T21:10:48.713Z"
   },
   {
    "duration": 14,
    "start_time": "2023-06-13T21:10:48.766Z"
   },
   {
    "duration": 6,
    "start_time": "2023-06-13T21:10:48.781Z"
   },
   {
    "duration": 21,
    "start_time": "2023-06-13T21:10:48.789Z"
   },
   {
    "duration": 25,
    "start_time": "2023-06-13T21:10:48.812Z"
   },
   {
    "duration": 460,
    "start_time": "2023-06-13T21:10:48.839Z"
   },
   {
    "duration": 6,
    "start_time": "2023-06-13T21:10:49.301Z"
   },
   {
    "duration": 716,
    "start_time": "2023-06-13T21:10:49.309Z"
   },
   {
    "duration": 5,
    "start_time": "2023-06-13T21:10:50.026Z"
   },
   {
    "duration": 48,
    "start_time": "2023-06-13T21:10:50.032Z"
   },
   {
    "duration": 39,
    "start_time": "2023-06-13T21:10:50.082Z"
   },
   {
    "duration": 14,
    "start_time": "2023-06-13T21:10:50.122Z"
   },
   {
    "duration": 32,
    "start_time": "2023-06-13T21:10:50.137Z"
   },
   {
    "duration": 48,
    "start_time": "2023-06-13T21:10:50.171Z"
   },
   {
    "duration": 15,
    "start_time": "2023-06-13T21:10:50.220Z"
   },
   {
    "duration": 7,
    "start_time": "2023-06-13T21:10:50.237Z"
   },
   {
    "duration": 9,
    "start_time": "2023-06-13T21:10:50.245Z"
   },
   {
    "duration": 15,
    "start_time": "2023-06-13T21:10:50.256Z"
   },
   {
    "duration": 7,
    "start_time": "2023-06-13T21:10:50.273Z"
   },
   {
    "duration": 22,
    "start_time": "2023-06-13T21:10:50.281Z"
   },
   {
    "duration": 15,
    "start_time": "2023-06-13T21:10:50.306Z"
   },
   {
    "duration": 18,
    "start_time": "2023-06-13T21:10:50.323Z"
   },
   {
    "duration": 32,
    "start_time": "2023-06-13T21:10:50.343Z"
   },
   {
    "duration": 14,
    "start_time": "2023-06-13T21:10:50.377Z"
   },
   {
    "duration": 2,
    "start_time": "2023-06-13T21:10:50.393Z"
   },
   {
    "duration": 9,
    "start_time": "2023-06-13T21:10:50.397Z"
   },
   {
    "duration": 5,
    "start_time": "2023-06-13T21:10:50.408Z"
   },
   {
    "duration": 8,
    "start_time": "2023-06-13T21:10:50.415Z"
   },
   {
    "duration": 43,
    "start_time": "2023-06-13T21:10:50.424Z"
   },
   {
    "duration": 12,
    "start_time": "2023-06-13T21:10:50.469Z"
   },
   {
    "duration": 8,
    "start_time": "2023-06-13T21:10:50.483Z"
   },
   {
    "duration": 423,
    "start_time": "2023-06-13T21:10:50.493Z"
   },
   {
    "duration": 3,
    "start_time": "2023-06-13T21:10:50.918Z"
   },
   {
    "duration": 1204,
    "start_time": "2023-06-13T21:12:20.443Z"
   },
   {
    "duration": 3,
    "start_time": "2023-06-13T21:12:21.649Z"
   },
   {
    "duration": 68,
    "start_time": "2023-06-13T21:12:21.657Z"
   },
   {
    "duration": 16,
    "start_time": "2023-06-13T21:12:21.727Z"
   },
   {
    "duration": 298,
    "start_time": "2023-06-13T21:12:21.745Z"
   },
   {
    "duration": 289,
    "start_time": "2023-06-13T21:12:22.045Z"
   },
   {
    "duration": 36,
    "start_time": "2023-06-13T21:12:22.336Z"
   },
   {
    "duration": 11,
    "start_time": "2023-06-13T21:12:22.374Z"
   },
   {
    "duration": 184,
    "start_time": "2023-06-13T21:12:22.386Z"
   },
   {
    "duration": 16,
    "start_time": "2023-06-13T21:12:22.573Z"
   },
   {
    "duration": 24,
    "start_time": "2023-06-13T21:12:22.591Z"
   },
   {
    "duration": 30,
    "start_time": "2023-06-13T21:12:22.617Z"
   },
   {
    "duration": 81,
    "start_time": "2023-06-13T21:12:22.649Z"
   },
   {
    "duration": 43,
    "start_time": "2023-06-13T21:12:22.734Z"
   },
   {
    "duration": 18,
    "start_time": "2023-06-13T21:12:22.780Z"
   },
   {
    "duration": 10,
    "start_time": "2023-06-13T21:12:22.799Z"
   },
   {
    "duration": 1649,
    "start_time": "2023-06-13T21:12:22.811Z"
   },
   {
    "duration": 56,
    "start_time": "2023-06-13T21:12:24.461Z"
   },
   {
    "duration": 50,
    "start_time": "2023-06-13T21:12:24.518Z"
   },
   {
    "duration": 20,
    "start_time": "2023-06-13T21:12:24.570Z"
   },
   {
    "duration": 7,
    "start_time": "2023-06-13T21:12:24.592Z"
   },
   {
    "duration": 21,
    "start_time": "2023-06-13T21:12:24.601Z"
   },
   {
    "duration": 61,
    "start_time": "2023-06-13T21:12:24.623Z"
   },
   {
    "duration": 17,
    "start_time": "2023-06-13T21:12:24.686Z"
   },
   {
    "duration": 51,
    "start_time": "2023-06-13T21:12:24.706Z"
   },
   {
    "duration": 10,
    "start_time": "2023-06-13T21:12:24.759Z"
   },
   {
    "duration": 13,
    "start_time": "2023-06-13T21:12:24.771Z"
   },
   {
    "duration": 11,
    "start_time": "2023-06-13T21:12:24.786Z"
   },
   {
    "duration": 6,
    "start_time": "2023-06-13T21:12:24.799Z"
   },
   {
    "duration": 49,
    "start_time": "2023-06-13T21:12:24.808Z"
   },
   {
    "duration": 15,
    "start_time": "2023-06-13T21:12:24.859Z"
   },
   {
    "duration": 9,
    "start_time": "2023-06-13T21:12:24.876Z"
   },
   {
    "duration": 10,
    "start_time": "2023-06-13T21:12:24.887Z"
   },
   {
    "duration": 39,
    "start_time": "2023-06-13T21:12:24.899Z"
   },
   {
    "duration": 35,
    "start_time": "2023-06-13T21:12:24.956Z"
   },
   {
    "duration": 20,
    "start_time": "2023-06-13T21:12:24.993Z"
   },
   {
    "duration": 12,
    "start_time": "2023-06-13T21:12:25.016Z"
   },
   {
    "duration": 1172,
    "start_time": "2023-06-13T21:12:25.030Z"
   },
   {
    "duration": 54,
    "start_time": "2023-06-13T21:12:26.204Z"
   },
   {
    "duration": 32,
    "start_time": "2023-06-13T21:12:26.260Z"
   },
   {
    "duration": 9,
    "start_time": "2023-06-13T21:12:26.296Z"
   },
   {
    "duration": 7,
    "start_time": "2023-06-13T21:12:26.306Z"
   },
   {
    "duration": 42,
    "start_time": "2023-06-13T21:12:26.315Z"
   },
   {
    "duration": 23,
    "start_time": "2023-06-13T21:12:26.359Z"
   },
   {
    "duration": 390,
    "start_time": "2023-06-13T21:12:26.384Z"
   },
   {
    "duration": 8,
    "start_time": "2023-06-13T21:12:26.776Z"
   },
   {
    "duration": 770,
    "start_time": "2023-06-13T21:12:26.786Z"
   },
   {
    "duration": 6,
    "start_time": "2023-06-13T21:12:27.558Z"
   },
   {
    "duration": 27,
    "start_time": "2023-06-13T21:12:27.566Z"
   },
   {
    "duration": 27,
    "start_time": "2023-06-13T21:12:27.595Z"
   },
   {
    "duration": 34,
    "start_time": "2023-06-13T21:12:27.625Z"
   },
   {
    "duration": 7,
    "start_time": "2023-06-13T21:12:27.661Z"
   },
   {
    "duration": 33,
    "start_time": "2023-06-13T21:12:27.670Z"
   },
   {
    "duration": 6,
    "start_time": "2023-06-13T21:12:27.705Z"
   },
   {
    "duration": 12,
    "start_time": "2023-06-13T21:12:27.713Z"
   },
   {
    "duration": 25,
    "start_time": "2023-06-13T21:12:27.727Z"
   },
   {
    "duration": 13,
    "start_time": "2023-06-13T21:12:27.756Z"
   },
   {
    "duration": 7,
    "start_time": "2023-06-13T21:12:27.770Z"
   },
   {
    "duration": 11,
    "start_time": "2023-06-13T21:12:27.779Z"
   },
   {
    "duration": 7,
    "start_time": "2023-06-13T21:12:27.792Z"
   },
   {
    "duration": 19,
    "start_time": "2023-06-13T21:12:27.801Z"
   },
   {
    "duration": 27,
    "start_time": "2023-06-13T21:12:27.857Z"
   },
   {
    "duration": 27,
    "start_time": "2023-06-13T21:12:27.886Z"
   },
   {
    "duration": 4,
    "start_time": "2023-06-13T21:12:27.915Z"
   },
   {
    "duration": 20,
    "start_time": "2023-06-13T21:12:27.922Z"
   },
   {
    "duration": 9,
    "start_time": "2023-06-13T21:12:27.956Z"
   },
   {
    "duration": 8,
    "start_time": "2023-06-13T21:12:27.967Z"
   },
   {
    "duration": 15,
    "start_time": "2023-06-13T21:12:27.977Z"
   },
   {
    "duration": 16,
    "start_time": "2023-06-13T21:12:27.994Z"
   },
   {
    "duration": 13,
    "start_time": "2023-06-13T21:12:28.013Z"
   },
   {
    "duration": 475,
    "start_time": "2023-06-13T21:12:28.028Z"
   },
   {
    "duration": 3,
    "start_time": "2023-06-13T21:12:28.505Z"
   },
   {
    "duration": 112022,
    "start_time": "2023-06-13T21:13:28.278Z"
   },
   {
    "duration": 3,
    "start_time": "2023-06-13T21:17:01.673Z"
   },
   {
    "duration": 16,
    "start_time": "2023-06-13T21:19:50.639Z"
   },
   {
    "duration": 1348,
    "start_time": "2023-06-13T21:22:38.486Z"
   },
   {
    "duration": 4,
    "start_time": "2023-06-13T21:22:39.836Z"
   },
   {
    "duration": 71,
    "start_time": "2023-06-13T21:22:39.841Z"
   },
   {
    "duration": 16,
    "start_time": "2023-06-13T21:22:39.914Z"
   },
   {
    "duration": 299,
    "start_time": "2023-06-13T21:22:39.933Z"
   },
   {
    "duration": 275,
    "start_time": "2023-06-13T21:22:40.233Z"
   },
   {
    "duration": 27,
    "start_time": "2023-06-13T21:22:40.510Z"
   },
   {
    "duration": 32,
    "start_time": "2023-06-13T21:22:40.539Z"
   },
   {
    "duration": 178,
    "start_time": "2023-06-13T21:22:40.573Z"
   },
   {
    "duration": 23,
    "start_time": "2023-06-13T21:22:40.755Z"
   },
   {
    "duration": 5,
    "start_time": "2023-06-13T21:22:40.780Z"
   },
   {
    "duration": 5,
    "start_time": "2023-06-13T21:22:40.787Z"
   },
   {
    "duration": 45,
    "start_time": "2023-06-13T21:22:40.794Z"
   },
   {
    "duration": 54,
    "start_time": "2023-06-13T21:22:40.842Z"
   },
   {
    "duration": 16,
    "start_time": "2023-06-13T21:22:40.898Z"
   },
   {
    "duration": 5,
    "start_time": "2023-06-13T21:22:40.916Z"
   },
   {
    "duration": 1700,
    "start_time": "2023-06-13T21:22:40.956Z"
   },
   {
    "duration": 65,
    "start_time": "2023-06-13T21:22:42.658Z"
   },
   {
    "duration": 51,
    "start_time": "2023-06-13T21:22:42.725Z"
   },
   {
    "duration": 21,
    "start_time": "2023-06-13T21:22:42.779Z"
   },
   {
    "duration": 6,
    "start_time": "2023-06-13T21:22:42.802Z"
   },
   {
    "duration": 21,
    "start_time": "2023-06-13T21:22:42.810Z"
   },
   {
    "duration": 76,
    "start_time": "2023-06-13T21:22:42.834Z"
   },
   {
    "duration": 13,
    "start_time": "2023-06-13T21:22:42.912Z"
   },
   {
    "duration": 50,
    "start_time": "2023-06-13T21:22:42.927Z"
   },
   {
    "duration": 9,
    "start_time": "2023-06-13T21:22:42.979Z"
   },
   {
    "duration": 16,
    "start_time": "2023-06-13T21:22:42.990Z"
   },
   {
    "duration": 25,
    "start_time": "2023-06-13T21:22:43.008Z"
   },
   {
    "duration": 25,
    "start_time": "2023-06-13T21:22:43.036Z"
   },
   {
    "duration": 15,
    "start_time": "2023-06-13T21:22:43.063Z"
   },
   {
    "duration": 13,
    "start_time": "2023-06-13T21:22:43.088Z"
   },
   {
    "duration": 9,
    "start_time": "2023-06-13T21:22:43.104Z"
   },
   {
    "duration": 36,
    "start_time": "2023-06-13T21:22:43.115Z"
   },
   {
    "duration": 53,
    "start_time": "2023-06-13T21:22:43.153Z"
   },
   {
    "duration": 45,
    "start_time": "2023-06-13T21:22:43.209Z"
   },
   {
    "duration": 30,
    "start_time": "2023-06-13T21:22:43.256Z"
   },
   {
    "duration": 5,
    "start_time": "2023-06-13T21:22:43.288Z"
   },
   {
    "duration": 1215,
    "start_time": "2023-06-13T21:22:43.295Z"
   },
   {
    "duration": 65,
    "start_time": "2023-06-13T21:22:44.513Z"
   },
   {
    "duration": 37,
    "start_time": "2023-06-13T21:22:44.580Z"
   },
   {
    "duration": 35,
    "start_time": "2023-06-13T21:22:44.623Z"
   },
   {
    "duration": 11,
    "start_time": "2023-06-13T21:22:44.662Z"
   },
   {
    "duration": 24,
    "start_time": "2023-06-13T21:22:44.675Z"
   },
   {
    "duration": 30,
    "start_time": "2023-06-13T21:22:44.701Z"
   },
   {
    "duration": 441,
    "start_time": "2023-06-13T21:22:44.733Z"
   },
   {
    "duration": 10,
    "start_time": "2023-06-13T21:22:45.176Z"
   },
   {
    "duration": 759,
    "start_time": "2023-06-13T21:22:45.188Z"
   },
   {
    "duration": 7,
    "start_time": "2023-06-13T21:22:45.956Z"
   },
   {
    "duration": 26,
    "start_time": "2023-06-13T21:22:45.965Z"
   },
   {
    "duration": 28,
    "start_time": "2023-06-13T21:22:45.993Z"
   },
   {
    "duration": 39,
    "start_time": "2023-06-13T21:22:46.023Z"
   },
   {
    "duration": 14,
    "start_time": "2023-06-13T21:22:46.065Z"
   },
   {
    "duration": 18,
    "start_time": "2023-06-13T21:22:46.084Z"
   },
   {
    "duration": 6,
    "start_time": "2023-06-13T21:22:46.104Z"
   },
   {
    "duration": 15,
    "start_time": "2023-06-13T21:22:46.112Z"
   },
   {
    "duration": 14,
    "start_time": "2023-06-13T21:22:46.129Z"
   },
   {
    "duration": 36,
    "start_time": "2023-06-13T21:22:46.145Z"
   },
   {
    "duration": 33,
    "start_time": "2023-06-13T21:22:46.183Z"
   },
   {
    "duration": 13,
    "start_time": "2023-06-13T21:22:46.218Z"
   },
   {
    "duration": 7,
    "start_time": "2023-06-13T21:22:46.233Z"
   },
   {
    "duration": 37,
    "start_time": "2023-06-13T21:22:46.242Z"
   },
   {
    "duration": 21,
    "start_time": "2023-06-13T21:22:46.281Z"
   },
   {
    "duration": 26,
    "start_time": "2023-06-13T21:22:46.304Z"
   },
   {
    "duration": 4,
    "start_time": "2023-06-13T21:22:46.332Z"
   },
   {
    "duration": 35,
    "start_time": "2023-06-13T21:22:46.338Z"
   },
   {
    "duration": 11,
    "start_time": "2023-06-13T21:22:46.375Z"
   },
   {
    "duration": 8,
    "start_time": "2023-06-13T21:22:46.389Z"
   },
   {
    "duration": 16,
    "start_time": "2023-06-13T21:22:46.398Z"
   },
   {
    "duration": 26,
    "start_time": "2023-06-13T21:22:46.416Z"
   },
   {
    "duration": 5,
    "start_time": "2023-06-13T21:22:46.444Z"
   },
   {
    "duration": 449,
    "start_time": "2023-06-13T21:22:46.458Z"
   },
   {
    "duration": 6,
    "start_time": "2023-06-13T21:22:46.909Z"
   },
   {
    "duration": 12,
    "start_time": "2023-06-13T21:22:46.916Z"
   },
   {
    "duration": 1195,
    "start_time": "2023-06-13T21:38:32.732Z"
   },
   {
    "duration": 3,
    "start_time": "2023-06-13T21:38:33.929Z"
   },
   {
    "duration": 92,
    "start_time": "2023-06-13T21:38:33.934Z"
   },
   {
    "duration": 17,
    "start_time": "2023-06-13T21:38:34.028Z"
   },
   {
    "duration": 299,
    "start_time": "2023-06-13T21:38:34.047Z"
   },
   {
    "duration": 294,
    "start_time": "2023-06-13T21:38:34.347Z"
   },
   {
    "duration": 31,
    "start_time": "2023-06-13T21:38:34.644Z"
   },
   {
    "duration": 14,
    "start_time": "2023-06-13T21:38:34.676Z"
   },
   {
    "duration": 156,
    "start_time": "2023-06-13T21:38:34.692Z"
   },
   {
    "duration": 27,
    "start_time": "2023-06-13T21:38:34.849Z"
   },
   {
    "duration": 11,
    "start_time": "2023-06-13T21:38:34.878Z"
   },
   {
    "duration": 4,
    "start_time": "2023-06-13T21:38:34.891Z"
   },
   {
    "duration": 53,
    "start_time": "2023-06-13T21:38:34.897Z"
   },
   {
    "duration": 75,
    "start_time": "2023-06-13T21:38:34.958Z"
   },
   {
    "duration": 18,
    "start_time": "2023-06-13T21:38:35.035Z"
   },
   {
    "duration": 9,
    "start_time": "2023-06-13T21:38:35.054Z"
   },
   {
    "duration": 1631,
    "start_time": "2023-06-13T21:38:35.065Z"
   },
   {
    "duration": 64,
    "start_time": "2023-06-13T21:38:36.697Z"
   },
   {
    "duration": 34,
    "start_time": "2023-06-13T21:38:36.769Z"
   },
   {
    "duration": 17,
    "start_time": "2023-06-13T21:38:36.805Z"
   },
   {
    "duration": 5,
    "start_time": "2023-06-13T21:38:36.824Z"
   },
   {
    "duration": 31,
    "start_time": "2023-06-13T21:38:36.830Z"
   },
   {
    "duration": 63,
    "start_time": "2023-06-13T21:38:36.868Z"
   },
   {
    "duration": 14,
    "start_time": "2023-06-13T21:38:36.933Z"
   },
   {
    "duration": 51,
    "start_time": "2023-06-13T21:38:36.949Z"
   },
   {
    "duration": 7,
    "start_time": "2023-06-13T21:38:37.001Z"
   },
   {
    "duration": 13,
    "start_time": "2023-06-13T21:38:37.010Z"
   },
   {
    "duration": 13,
    "start_time": "2023-06-13T21:38:37.024Z"
   },
   {
    "duration": 9,
    "start_time": "2023-06-13T21:38:37.038Z"
   },
   {
    "duration": 9,
    "start_time": "2023-06-13T21:38:37.049Z"
   },
   {
    "duration": 14,
    "start_time": "2023-06-13T21:38:37.060Z"
   },
   {
    "duration": 10,
    "start_time": "2023-06-13T21:38:37.076Z"
   },
   {
    "duration": 5,
    "start_time": "2023-06-13T21:38:37.088Z"
   },
   {
    "duration": 35,
    "start_time": "2023-06-13T21:38:37.095Z"
   },
   {
    "duration": 51,
    "start_time": "2023-06-13T21:38:37.131Z"
   },
   {
    "duration": 15,
    "start_time": "2023-06-13T21:38:37.184Z"
   },
   {
    "duration": 6,
    "start_time": "2023-06-13T21:38:37.201Z"
   },
   {
    "duration": 1173,
    "start_time": "2023-06-13T21:38:37.208Z"
   },
   {
    "duration": 41,
    "start_time": "2023-06-13T21:38:38.384Z"
   },
   {
    "duration": 63,
    "start_time": "2023-06-13T21:38:38.427Z"
   },
   {
    "duration": 9,
    "start_time": "2023-06-13T21:38:38.495Z"
   },
   {
    "duration": 19,
    "start_time": "2023-06-13T21:38:38.506Z"
   },
   {
    "duration": 19,
    "start_time": "2023-06-13T21:38:38.526Z"
   },
   {
    "duration": 44,
    "start_time": "2023-06-13T21:38:38.546Z"
   },
   {
    "duration": 417,
    "start_time": "2023-06-13T21:38:38.592Z"
   },
   {
    "duration": 8,
    "start_time": "2023-06-13T21:38:39.011Z"
   },
   {
    "duration": 743,
    "start_time": "2023-06-13T21:38:39.021Z"
   },
   {
    "duration": 13,
    "start_time": "2023-06-13T21:38:39.766Z"
   },
   {
    "duration": 18,
    "start_time": "2023-06-13T21:38:39.781Z"
   },
   {
    "duration": 25,
    "start_time": "2023-06-13T21:38:39.800Z"
   },
   {
    "duration": 11,
    "start_time": "2023-06-13T21:38:39.826Z"
   },
   {
    "duration": 22,
    "start_time": "2023-06-13T21:38:39.839Z"
   },
   {
    "duration": 23,
    "start_time": "2023-06-13T21:38:39.863Z"
   },
   {
    "duration": 7,
    "start_time": "2023-06-13T21:38:39.887Z"
   },
   {
    "duration": 12,
    "start_time": "2023-06-13T21:38:39.895Z"
   },
   {
    "duration": 16,
    "start_time": "2023-06-13T21:38:39.908Z"
   },
   {
    "duration": 18,
    "start_time": "2023-06-13T21:38:39.926Z"
   },
   {
    "duration": 10,
    "start_time": "2023-06-13T21:38:39.946Z"
   },
   {
    "duration": 19,
    "start_time": "2023-06-13T21:38:39.965Z"
   },
   {
    "duration": 40,
    "start_time": "2023-06-13T21:38:39.986Z"
   },
   {
    "duration": 25,
    "start_time": "2023-06-13T21:38:40.028Z"
   },
   {
    "duration": 31,
    "start_time": "2023-06-13T21:38:40.054Z"
   },
   {
    "duration": 38,
    "start_time": "2023-06-13T21:38:40.087Z"
   },
   {
    "duration": 11,
    "start_time": "2023-06-13T21:38:40.127Z"
   },
   {
    "duration": 15,
    "start_time": "2023-06-13T21:38:40.139Z"
   },
   {
    "duration": 17,
    "start_time": "2023-06-13T21:38:40.157Z"
   },
   {
    "duration": 5,
    "start_time": "2023-06-13T21:38:40.176Z"
   },
   {
    "duration": 18,
    "start_time": "2023-06-13T21:38:40.183Z"
   },
   {
    "duration": 23,
    "start_time": "2023-06-13T21:38:40.203Z"
   },
   {
    "duration": 4,
    "start_time": "2023-06-13T21:38:40.227Z"
   },
   {
    "duration": 419,
    "start_time": "2023-06-13T21:38:40.233Z"
   },
   {
    "duration": 9,
    "start_time": "2023-06-13T21:38:40.655Z"
   },
   {
    "duration": 22,
    "start_time": "2023-06-13T21:38:40.668Z"
   },
   {
    "duration": 531790,
    "start_time": "2023-06-13T21:38:40.692Z"
   },
   {
    "duration": 1077,
    "start_time": "2023-06-13T21:49:42.014Z"
   },
   {
    "duration": 4,
    "start_time": "2023-06-13T21:49:43.093Z"
   },
   {
    "duration": 71,
    "start_time": "2023-06-13T21:49:43.099Z"
   },
   {
    "duration": 13,
    "start_time": "2023-06-13T21:49:43.172Z"
   },
   {
    "duration": 273,
    "start_time": "2023-06-13T21:49:43.187Z"
   },
   {
    "duration": 263,
    "start_time": "2023-06-13T21:49:43.461Z"
   },
   {
    "duration": 31,
    "start_time": "2023-06-13T21:49:43.726Z"
   },
   {
    "duration": 10,
    "start_time": "2023-06-13T21:49:43.759Z"
   },
   {
    "duration": 151,
    "start_time": "2023-06-13T21:49:43.770Z"
   },
   {
    "duration": 13,
    "start_time": "2023-06-13T21:49:43.923Z"
   },
   {
    "duration": 19,
    "start_time": "2023-06-13T21:49:43.938Z"
   },
   {
    "duration": 4,
    "start_time": "2023-06-13T21:49:43.958Z"
   },
   {
    "duration": 41,
    "start_time": "2023-06-13T21:49:43.964Z"
   },
   {
    "duration": 46,
    "start_time": "2023-06-13T21:49:44.008Z"
   },
   {
    "duration": 17,
    "start_time": "2023-06-13T21:49:44.056Z"
   },
   {
    "duration": 6,
    "start_time": "2023-06-13T21:49:44.075Z"
   },
   {
    "duration": 1550,
    "start_time": "2023-06-13T21:49:44.082Z"
   },
   {
    "duration": 62,
    "start_time": "2023-06-13T21:49:45.634Z"
   },
   {
    "duration": 26,
    "start_time": "2023-06-13T21:49:45.697Z"
   },
   {
    "duration": 35,
    "start_time": "2023-06-13T21:49:45.724Z"
   },
   {
    "duration": 5,
    "start_time": "2023-06-13T21:49:45.760Z"
   },
   {
    "duration": 26,
    "start_time": "2023-06-13T21:49:45.767Z"
   },
   {
    "duration": 87,
    "start_time": "2023-06-13T21:49:45.794Z"
   },
   {
    "duration": 14,
    "start_time": "2023-06-13T21:49:45.883Z"
   },
   {
    "duration": 39,
    "start_time": "2023-06-13T21:49:45.899Z"
   },
   {
    "duration": 9,
    "start_time": "2023-06-13T21:49:45.940Z"
   },
   {
    "duration": 9,
    "start_time": "2023-06-13T21:49:45.957Z"
   },
   {
    "duration": 17,
    "start_time": "2023-06-13T21:49:45.968Z"
   },
   {
    "duration": 15,
    "start_time": "2023-06-13T21:49:45.987Z"
   },
   {
    "duration": 22,
    "start_time": "2023-06-13T21:49:46.004Z"
   },
   {
    "duration": 9,
    "start_time": "2023-06-13T21:49:46.028Z"
   },
   {
    "duration": 25,
    "start_time": "2023-06-13T21:49:46.038Z"
   },
   {
    "duration": 6,
    "start_time": "2023-06-13T21:49:46.065Z"
   },
   {
    "duration": 41,
    "start_time": "2023-06-13T21:49:46.073Z"
   },
   {
    "duration": 36,
    "start_time": "2023-06-13T21:49:46.116Z"
   },
   {
    "duration": 15,
    "start_time": "2023-06-13T21:49:46.154Z"
   },
   {
    "duration": 5,
    "start_time": "2023-06-13T21:49:46.171Z"
   },
   {
    "duration": 1022,
    "start_time": "2023-06-13T21:49:46.177Z"
   },
   {
    "duration": 40,
    "start_time": "2023-06-13T21:49:47.202Z"
   },
   {
    "duration": 28,
    "start_time": "2023-06-13T21:49:47.255Z"
   },
   {
    "duration": 8,
    "start_time": "2023-06-13T21:49:47.288Z"
   },
   {
    "duration": 7,
    "start_time": "2023-06-13T21:49:47.298Z"
   },
   {
    "duration": 6,
    "start_time": "2023-06-13T21:49:47.306Z"
   },
   {
    "duration": 50,
    "start_time": "2023-06-13T21:49:47.313Z"
   },
   {
    "duration": 335,
    "start_time": "2023-06-13T21:49:47.365Z"
   },
   {
    "duration": 7,
    "start_time": "2023-06-13T21:49:47.701Z"
   },
   {
    "duration": 706,
    "start_time": "2023-06-13T21:49:47.709Z"
   },
   {
    "duration": 5,
    "start_time": "2023-06-13T21:49:48.417Z"
   },
   {
    "duration": 15,
    "start_time": "2023-06-13T21:49:48.423Z"
   },
   {
    "duration": 26,
    "start_time": "2023-06-13T21:49:48.457Z"
   },
   {
    "duration": 11,
    "start_time": "2023-06-13T21:49:48.485Z"
   },
   {
    "duration": 6,
    "start_time": "2023-06-13T21:49:48.497Z"
   },
   {
    "duration": 23,
    "start_time": "2023-06-13T21:49:48.504Z"
   },
   {
    "duration": 5,
    "start_time": "2023-06-13T21:49:48.529Z"
   },
   {
    "duration": 3,
    "start_time": "2023-06-13T21:49:48.557Z"
   },
   {
    "duration": 22,
    "start_time": "2023-06-13T21:49:48.562Z"
   },
   {
    "duration": 16,
    "start_time": "2023-06-13T21:49:48.586Z"
   },
   {
    "duration": 10,
    "start_time": "2023-06-13T21:49:48.604Z"
   },
   {
    "duration": 19,
    "start_time": "2023-06-13T21:49:48.616Z"
   },
   {
    "duration": 6,
    "start_time": "2023-06-13T21:49:48.637Z"
   },
   {
    "duration": 19,
    "start_time": "2023-06-13T21:49:48.645Z"
   },
   {
    "duration": 17,
    "start_time": "2023-06-13T21:49:48.666Z"
   },
   {
    "duration": 43,
    "start_time": "2023-06-13T21:49:48.684Z"
   },
   {
    "duration": 6,
    "start_time": "2023-06-13T21:49:48.729Z"
   },
   {
    "duration": 12,
    "start_time": "2023-06-13T21:49:48.737Z"
   },
   {
    "duration": 9,
    "start_time": "2023-06-13T21:49:48.751Z"
   },
   {
    "duration": 9,
    "start_time": "2023-06-13T21:49:48.762Z"
   },
   {
    "duration": 22,
    "start_time": "2023-06-13T21:49:48.772Z"
   },
   {
    "duration": 29,
    "start_time": "2023-06-13T21:49:48.796Z"
   },
   {
    "duration": 4,
    "start_time": "2023-06-13T21:49:48.827Z"
   },
   {
    "duration": 419,
    "start_time": "2023-06-13T21:49:48.833Z"
   },
   {
    "duration": 7,
    "start_time": "2023-06-13T21:49:49.254Z"
   },
   {
    "duration": 21,
    "start_time": "2023-06-13T21:49:49.263Z"
   },
   {
    "duration": 806230,
    "start_time": "2023-06-13T21:49:49.285Z"
   },
   {
    "duration": 1187,
    "start_time": "2023-06-13T22:09:55.330Z"
   },
   {
    "duration": 310,
    "start_time": "2023-06-13T22:09:56.520Z"
   },
   {
    "duration": 72,
    "start_time": "2023-06-13T22:09:56.832Z"
   },
   {
    "duration": 14,
    "start_time": "2023-06-13T22:09:56.906Z"
   },
   {
    "duration": 267,
    "start_time": "2023-06-13T22:09:56.922Z"
   },
   {
    "duration": 282,
    "start_time": "2023-06-13T22:09:57.191Z"
   },
   {
    "duration": 20,
    "start_time": "2023-06-13T22:09:57.475Z"
   },
   {
    "duration": 10,
    "start_time": "2023-06-13T22:09:57.496Z"
   },
   {
    "duration": 261,
    "start_time": "2023-06-13T22:09:57.507Z"
   },
   {
    "duration": 13,
    "start_time": "2023-06-13T22:09:57.770Z"
   },
   {
    "duration": 5,
    "start_time": "2023-06-13T22:09:57.785Z"
   },
   {
    "duration": 5,
    "start_time": "2023-06-13T22:09:57.792Z"
   },
   {
    "duration": 40,
    "start_time": "2023-06-13T22:09:57.799Z"
   },
   {
    "duration": 46,
    "start_time": "2023-06-13T22:09:57.842Z"
   },
   {
    "duration": 16,
    "start_time": "2023-06-13T22:09:57.890Z"
   },
   {
    "duration": 4,
    "start_time": "2023-06-13T22:09:57.908Z"
   },
   {
    "duration": 1499,
    "start_time": "2023-06-13T22:09:57.914Z"
   },
   {
    "duration": 66,
    "start_time": "2023-06-13T22:09:59.415Z"
   },
   {
    "duration": 25,
    "start_time": "2023-06-13T22:09:59.483Z"
   },
   {
    "duration": 18,
    "start_time": "2023-06-13T22:09:59.509Z"
   },
   {
    "duration": 5,
    "start_time": "2023-06-13T22:09:59.528Z"
   },
   {
    "duration": 13,
    "start_time": "2023-06-13T22:09:59.557Z"
   },
   {
    "duration": 78,
    "start_time": "2023-06-13T22:09:59.571Z"
   },
   {
    "duration": 28,
    "start_time": "2023-06-13T22:09:59.650Z"
   },
   {
    "duration": 37,
    "start_time": "2023-06-13T22:09:59.680Z"
   },
   {
    "duration": 8,
    "start_time": "2023-06-13T22:09:59.719Z"
   },
   {
    "duration": 8,
    "start_time": "2023-06-13T22:09:59.729Z"
   },
   {
    "duration": 10,
    "start_time": "2023-06-13T22:09:59.739Z"
   },
   {
    "duration": 19,
    "start_time": "2023-06-13T22:09:59.750Z"
   },
   {
    "duration": 9,
    "start_time": "2023-06-13T22:09:59.772Z"
   },
   {
    "duration": 8,
    "start_time": "2023-06-13T22:09:59.782Z"
   },
   {
    "duration": 14,
    "start_time": "2023-06-13T22:09:59.792Z"
   },
   {
    "duration": 11,
    "start_time": "2023-06-13T22:09:59.808Z"
   },
   {
    "duration": 51,
    "start_time": "2023-06-13T22:09:59.820Z"
   },
   {
    "duration": 34,
    "start_time": "2023-06-13T22:09:59.873Z"
   },
   {
    "duration": 13,
    "start_time": "2023-06-13T22:09:59.908Z"
   },
   {
    "duration": 10,
    "start_time": "2023-06-13T22:09:59.923Z"
   },
   {
    "duration": 1238,
    "start_time": "2023-06-13T22:09:59.934Z"
   },
   {
    "duration": 38,
    "start_time": "2023-06-13T22:10:01.173Z"
   },
   {
    "duration": 50,
    "start_time": "2023-06-13T22:10:01.213Z"
   },
   {
    "duration": 40,
    "start_time": "2023-06-13T22:10:01.268Z"
   },
   {
    "duration": 38,
    "start_time": "2023-06-13T22:10:01.310Z"
   },
   {
    "duration": 36,
    "start_time": "2023-06-13T22:10:01.349Z"
   },
   {
    "duration": 40,
    "start_time": "2023-06-13T22:10:01.387Z"
   },
   {
    "duration": 388,
    "start_time": "2023-06-13T22:10:01.429Z"
   },
   {
    "duration": 9,
    "start_time": "2023-06-13T22:10:01.818Z"
   },
   {
    "duration": 715,
    "start_time": "2023-06-13T22:10:01.829Z"
   },
   {
    "duration": 15,
    "start_time": "2023-06-13T22:10:02.546Z"
   },
   {
    "duration": 18,
    "start_time": "2023-06-13T22:10:02.565Z"
   },
   {
    "duration": 50,
    "start_time": "2023-06-13T22:10:02.585Z"
   },
   {
    "duration": 13,
    "start_time": "2023-06-13T22:10:02.636Z"
   },
   {
    "duration": 24,
    "start_time": "2023-06-13T22:10:02.650Z"
   },
   {
    "duration": 31,
    "start_time": "2023-06-13T22:10:02.676Z"
   },
   {
    "duration": 12,
    "start_time": "2023-06-13T22:10:02.709Z"
   },
   {
    "duration": 14,
    "start_time": "2023-06-13T22:10:02.722Z"
   },
   {
    "duration": 47,
    "start_time": "2023-06-13T22:10:02.738Z"
   },
   {
    "duration": 17,
    "start_time": "2023-06-13T22:10:02.787Z"
   },
   {
    "duration": 16,
    "start_time": "2023-06-13T22:10:02.806Z"
   },
   {
    "duration": 27,
    "start_time": "2023-06-13T22:10:02.824Z"
   },
   {
    "duration": 20,
    "start_time": "2023-06-13T22:10:02.852Z"
   },
   {
    "duration": 34,
    "start_time": "2023-06-13T22:10:02.873Z"
   },
   {
    "duration": 24,
    "start_time": "2023-06-13T22:10:02.909Z"
   },
   {
    "duration": 33,
    "start_time": "2023-06-13T22:10:02.935Z"
   },
   {
    "duration": 3,
    "start_time": "2023-06-13T22:10:02.971Z"
   },
   {
    "duration": 21,
    "start_time": "2023-06-13T22:10:02.975Z"
   },
   {
    "duration": 12,
    "start_time": "2023-06-13T22:10:02.998Z"
   },
   {
    "duration": 10,
    "start_time": "2023-06-13T22:10:03.012Z"
   },
   {
    "duration": 11,
    "start_time": "2023-06-13T22:10:03.024Z"
   },
   {
    "duration": 32,
    "start_time": "2023-06-13T22:10:03.036Z"
   },
   {
    "duration": 14,
    "start_time": "2023-06-13T22:10:03.070Z"
   },
   {
    "duration": 52247,
    "start_time": "2023-06-13T22:10:03.086Z"
   },
   {
    "duration": 12,
    "start_time": "2023-06-13T22:27:51.160Z"
   },
   {
    "duration": 136,
    "start_time": "2023-06-13T22:28:17.539Z"
   },
   {
    "duration": 1597,
    "start_time": "2023-06-14T08:14:43.899Z"
   },
   {
    "duration": 358,
    "start_time": "2023-06-14T08:14:45.499Z"
   },
   {
    "duration": 148,
    "start_time": "2023-06-14T08:14:45.859Z"
   },
   {
    "duration": 19,
    "start_time": "2023-06-14T08:14:46.009Z"
   },
   {
    "duration": 405,
    "start_time": "2023-06-14T08:14:46.031Z"
   },
   {
    "duration": 399,
    "start_time": "2023-06-14T08:14:46.438Z"
   },
   {
    "duration": 45,
    "start_time": "2023-06-14T08:14:46.839Z"
   },
   {
    "duration": 13,
    "start_time": "2023-06-14T08:14:46.887Z"
   },
   {
    "duration": 265,
    "start_time": "2023-06-14T08:14:46.902Z"
   },
   {
    "duration": 20,
    "start_time": "2023-06-14T08:14:47.169Z"
   },
   {
    "duration": 15,
    "start_time": "2023-06-14T08:14:47.191Z"
   },
   {
    "duration": 9,
    "start_time": "2023-06-14T08:14:47.208Z"
   },
   {
    "duration": 154,
    "start_time": "2023-06-14T08:14:47.219Z"
   },
   {
    "duration": 111,
    "start_time": "2023-06-14T08:14:47.381Z"
   },
   {
    "duration": 22,
    "start_time": "2023-06-14T08:14:47.495Z"
   },
   {
    "duration": 6,
    "start_time": "2023-06-14T08:14:47.519Z"
   },
   {
    "duration": 1846,
    "start_time": "2023-06-14T08:14:47.527Z"
   },
   {
    "duration": 63,
    "start_time": "2023-06-14T08:14:49.375Z"
   },
   {
    "duration": 44,
    "start_time": "2023-06-14T08:14:49.440Z"
   },
   {
    "duration": 21,
    "start_time": "2023-06-14T08:14:49.486Z"
   },
   {
    "duration": 21,
    "start_time": "2023-06-14T08:14:49.509Z"
   },
   {
    "duration": 25,
    "start_time": "2023-06-14T08:14:49.532Z"
   },
   {
    "duration": 164,
    "start_time": "2023-06-14T08:14:49.559Z"
   },
   {
    "duration": 19,
    "start_time": "2023-06-14T08:14:49.725Z"
   },
   {
    "duration": 163,
    "start_time": "2023-06-14T08:14:49.746Z"
   },
   {
    "duration": 13,
    "start_time": "2023-06-14T08:14:49.911Z"
   },
   {
    "duration": 31,
    "start_time": "2023-06-14T08:14:49.927Z"
   },
   {
    "duration": 59,
    "start_time": "2023-06-14T08:14:49.961Z"
   },
   {
    "duration": 32,
    "start_time": "2023-06-14T08:14:50.022Z"
   },
   {
    "duration": 76,
    "start_time": "2023-06-14T08:14:50.056Z"
   },
   {
    "duration": 38,
    "start_time": "2023-06-14T08:14:50.134Z"
   },
   {
    "duration": 137,
    "start_time": "2023-06-14T08:14:50.173Z"
   },
   {
    "duration": 43,
    "start_time": "2023-06-14T08:14:50.312Z"
   },
   {
    "duration": 144,
    "start_time": "2023-06-14T08:14:50.357Z"
   },
   {
    "duration": 102,
    "start_time": "2023-06-14T08:14:50.503Z"
   },
   {
    "duration": 19,
    "start_time": "2023-06-14T08:14:50.608Z"
   },
   {
    "duration": 79,
    "start_time": "2023-06-14T08:14:50.629Z"
   },
   {
    "duration": 1675,
    "start_time": "2023-06-14T08:14:50.711Z"
   },
   {
    "duration": 43,
    "start_time": "2023-06-14T08:14:52.388Z"
   },
   {
    "duration": 56,
    "start_time": "2023-06-14T08:14:52.434Z"
   },
   {
    "duration": 13,
    "start_time": "2023-06-14T08:14:52.496Z"
   },
   {
    "duration": 8,
    "start_time": "2023-06-14T08:14:52.511Z"
   },
   {
    "duration": 16,
    "start_time": "2023-06-14T08:14:52.521Z"
   },
   {
    "duration": 53,
    "start_time": "2023-06-14T08:14:52.539Z"
   },
   {
    "duration": 405,
    "start_time": "2023-06-14T08:14:52.593Z"
   },
   {
    "duration": 9,
    "start_time": "2023-06-14T08:14:52.999Z"
   },
   {
    "duration": 987,
    "start_time": "2023-06-14T08:14:53.010Z"
   },
   {
    "duration": 6,
    "start_time": "2023-06-14T08:14:53.999Z"
   },
   {
    "duration": 22,
    "start_time": "2023-06-14T08:14:54.007Z"
   },
   {
    "duration": 55,
    "start_time": "2023-06-14T08:14:54.031Z"
   },
   {
    "duration": 15,
    "start_time": "2023-06-14T08:14:54.089Z"
   },
   {
    "duration": 6,
    "start_time": "2023-06-14T08:14:54.106Z"
   },
   {
    "duration": 27,
    "start_time": "2023-06-14T08:14:54.113Z"
   },
   {
    "duration": 23,
    "start_time": "2023-06-14T08:14:54.162Z"
   },
   {
    "duration": 10,
    "start_time": "2023-06-14T08:14:54.187Z"
   },
   {
    "duration": 11,
    "start_time": "2023-06-14T08:14:54.199Z"
   },
   {
    "duration": 15,
    "start_time": "2023-06-14T08:14:54.212Z"
   },
   {
    "duration": 8,
    "start_time": "2023-06-14T08:14:54.229Z"
   },
   {
    "duration": 22,
    "start_time": "2023-06-14T08:14:54.239Z"
   },
   {
    "duration": 40,
    "start_time": "2023-06-14T08:14:54.263Z"
   },
   {
    "duration": 17,
    "start_time": "2023-06-14T08:14:54.305Z"
   },
   {
    "duration": 34,
    "start_time": "2023-06-14T08:14:54.325Z"
   },
   {
    "duration": 48,
    "start_time": "2023-06-14T08:14:54.360Z"
   },
   {
    "duration": 11,
    "start_time": "2023-06-14T08:14:54.410Z"
   },
   {
    "duration": 25,
    "start_time": "2023-06-14T08:14:54.423Z"
   },
   {
    "duration": 46,
    "start_time": "2023-06-14T08:14:54.450Z"
   },
   {
    "duration": 17,
    "start_time": "2023-06-14T08:14:54.498Z"
   },
   {
    "duration": 20,
    "start_time": "2023-06-14T08:14:54.517Z"
   },
   {
    "duration": 31,
    "start_time": "2023-06-14T08:14:54.539Z"
   },
   {
    "duration": 12,
    "start_time": "2023-06-14T08:34:16.101Z"
   },
   {
    "duration": 5,
    "start_time": "2023-06-14T08:36:00.203Z"
   },
   {
    "duration": 5,
    "start_time": "2023-06-14T08:38:32.665Z"
   },
   {
    "duration": 13,
    "start_time": "2023-06-14T08:38:33.483Z"
   },
   {
    "duration": 10,
    "start_time": "2023-06-14T08:38:47.826Z"
   },
   {
    "duration": 1262,
    "start_time": "2023-06-14T08:45:13.075Z"
   },
   {
    "duration": 311,
    "start_time": "2023-06-14T08:45:14.339Z"
   },
   {
    "duration": 68,
    "start_time": "2023-06-14T08:45:14.652Z"
   },
   {
    "duration": 15,
    "start_time": "2023-06-14T08:45:14.722Z"
   },
   {
    "duration": 341,
    "start_time": "2023-06-14T08:45:14.740Z"
   },
   {
    "duration": 308,
    "start_time": "2023-06-14T08:45:15.082Z"
   },
   {
    "duration": 26,
    "start_time": "2023-06-14T08:45:15.392Z"
   },
   {
    "duration": 38,
    "start_time": "2023-06-14T08:45:15.420Z"
   },
   {
    "duration": 246,
    "start_time": "2023-06-14T08:45:15.459Z"
   },
   {
    "duration": 19,
    "start_time": "2023-06-14T08:45:15.707Z"
   },
   {
    "duration": 17,
    "start_time": "2023-06-14T08:45:15.728Z"
   },
   {
    "duration": 17,
    "start_time": "2023-06-14T08:45:15.747Z"
   },
   {
    "duration": 58,
    "start_time": "2023-06-14T08:45:15.766Z"
   },
   {
    "duration": 53,
    "start_time": "2023-06-14T08:45:15.828Z"
   },
   {
    "duration": 19,
    "start_time": "2023-06-14T08:45:15.883Z"
   },
   {
    "duration": 16,
    "start_time": "2023-06-14T08:45:15.904Z"
   },
   {
    "duration": 1572,
    "start_time": "2023-06-14T08:45:15.922Z"
   },
   {
    "duration": 69,
    "start_time": "2023-06-14T08:45:17.495Z"
   },
   {
    "duration": 373,
    "start_time": "2023-06-14T08:45:17.566Z"
   },
   {
    "duration": 29,
    "start_time": "2023-06-14T08:45:17.942Z"
   },
   {
    "duration": 6,
    "start_time": "2023-06-14T08:45:17.973Z"
   },
   {
    "duration": 11,
    "start_time": "2023-06-14T08:45:17.980Z"
   },
   {
    "duration": 84,
    "start_time": "2023-06-14T08:45:17.993Z"
   },
   {
    "duration": 16,
    "start_time": "2023-06-14T08:45:18.079Z"
   },
   {
    "duration": 42,
    "start_time": "2023-06-14T08:45:18.099Z"
   },
   {
    "duration": 22,
    "start_time": "2023-06-14T08:45:18.143Z"
   },
   {
    "duration": 10,
    "start_time": "2023-06-14T08:45:18.167Z"
   },
   {
    "duration": 22,
    "start_time": "2023-06-14T08:45:18.178Z"
   },
   {
    "duration": 11,
    "start_time": "2023-06-14T08:45:18.202Z"
   },
   {
    "duration": 14,
    "start_time": "2023-06-14T08:45:18.214Z"
   },
   {
    "duration": 14,
    "start_time": "2023-06-14T08:45:18.230Z"
   },
   {
    "duration": 6,
    "start_time": "2023-06-14T08:45:18.262Z"
   },
   {
    "duration": 19,
    "start_time": "2023-06-14T08:45:18.270Z"
   },
   {
    "duration": 39,
    "start_time": "2023-06-14T08:45:18.291Z"
   },
   {
    "duration": 37,
    "start_time": "2023-06-14T08:45:18.332Z"
   },
   {
    "duration": 15,
    "start_time": "2023-06-14T08:45:18.371Z"
   },
   {
    "duration": 25,
    "start_time": "2023-06-14T08:45:18.388Z"
   },
   {
    "duration": 1225,
    "start_time": "2023-06-14T08:45:18.415Z"
   },
   {
    "duration": 62,
    "start_time": "2023-06-14T08:45:19.642Z"
   },
   {
    "duration": 36,
    "start_time": "2023-06-14T08:45:19.705Z"
   },
   {
    "duration": 8,
    "start_time": "2023-06-14T08:45:19.746Z"
   },
   {
    "duration": 14,
    "start_time": "2023-06-14T08:45:19.762Z"
   },
   {
    "duration": 21,
    "start_time": "2023-06-14T08:45:19.779Z"
   },
   {
    "duration": 33,
    "start_time": "2023-06-14T08:45:19.802Z"
   },
   {
    "duration": 340,
    "start_time": "2023-06-14T08:45:19.837Z"
   },
   {
    "duration": 8,
    "start_time": "2023-06-14T08:45:20.179Z"
   },
   {
    "duration": 741,
    "start_time": "2023-06-14T08:45:20.189Z"
   },
   {
    "duration": 6,
    "start_time": "2023-06-14T08:45:20.932Z"
   },
   {
    "duration": 39,
    "start_time": "2023-06-14T08:45:20.939Z"
   },
   {
    "duration": 28,
    "start_time": "2023-06-14T08:45:20.980Z"
   },
   {
    "duration": 13,
    "start_time": "2023-06-14T08:45:21.009Z"
   },
   {
    "duration": 20,
    "start_time": "2023-06-14T08:45:21.023Z"
   },
   {
    "duration": 32,
    "start_time": "2023-06-14T08:45:21.045Z"
   },
   {
    "duration": 12,
    "start_time": "2023-06-14T08:45:21.080Z"
   },
   {
    "duration": 21,
    "start_time": "2023-06-14T08:45:21.094Z"
   },
   {
    "duration": 27,
    "start_time": "2023-06-14T08:45:21.117Z"
   },
   {
    "duration": 29,
    "start_time": "2023-06-14T08:45:21.146Z"
   },
   {
    "duration": 11,
    "start_time": "2023-06-14T08:45:21.178Z"
   },
   {
    "duration": 14,
    "start_time": "2023-06-14T08:45:21.191Z"
   },
   {
    "duration": 16,
    "start_time": "2023-06-14T08:45:21.207Z"
   },
   {
    "duration": 32,
    "start_time": "2023-06-14T08:45:21.225Z"
   },
   {
    "duration": 32,
    "start_time": "2023-06-14T08:45:21.259Z"
   },
   {
    "duration": 19,
    "start_time": "2023-06-14T08:45:21.293Z"
   },
   {
    "duration": 16,
    "start_time": "2023-06-14T08:45:21.314Z"
   },
   {
    "duration": 25,
    "start_time": "2023-06-14T08:45:21.332Z"
   },
   {
    "duration": 23,
    "start_time": "2023-06-14T08:45:21.359Z"
   },
   {
    "duration": 14,
    "start_time": "2023-06-14T08:45:21.384Z"
   },
   {
    "duration": 27,
    "start_time": "2023-06-14T08:45:21.400Z"
   },
   {
    "duration": 27,
    "start_time": "2023-06-14T08:45:21.429Z"
   },
   {
    "duration": 29,
    "start_time": "2023-06-14T08:45:21.457Z"
   },
   {
    "duration": 1367,
    "start_time": "2023-06-14T08:50:10.025Z"
   },
   {
    "duration": 369,
    "start_time": "2023-06-14T08:50:11.395Z"
   },
   {
    "duration": 73,
    "start_time": "2023-06-14T08:50:11.766Z"
   },
   {
    "duration": 16,
    "start_time": "2023-06-14T08:50:11.841Z"
   },
   {
    "duration": 318,
    "start_time": "2023-06-14T08:50:11.860Z"
   },
   {
    "duration": 284,
    "start_time": "2023-06-14T08:50:12.180Z"
   },
   {
    "duration": 20,
    "start_time": "2023-06-14T08:50:12.466Z"
   },
   {
    "duration": 13,
    "start_time": "2023-06-14T08:50:12.488Z"
   },
   {
    "duration": 280,
    "start_time": "2023-06-14T08:50:12.503Z"
   },
   {
    "duration": 15,
    "start_time": "2023-06-14T08:50:12.784Z"
   },
   {
    "duration": 21,
    "start_time": "2023-06-14T08:50:12.801Z"
   },
   {
    "duration": 31,
    "start_time": "2023-06-14T08:50:12.823Z"
   },
   {
    "duration": 94,
    "start_time": "2023-06-14T08:50:12.856Z"
   },
   {
    "duration": 55,
    "start_time": "2023-06-14T08:50:12.953Z"
   },
   {
    "duration": 20,
    "start_time": "2023-06-14T08:50:13.010Z"
   },
   {
    "duration": 509,
    "start_time": "2023-06-14T08:50:13.032Z"
   },
   {
    "duration": 1620,
    "start_time": "2023-06-14T08:50:13.543Z"
   },
   {
    "duration": 77,
    "start_time": "2023-06-14T08:50:15.165Z"
   },
   {
    "duration": 41,
    "start_time": "2023-06-14T08:50:15.244Z"
   },
   {
    "duration": 29,
    "start_time": "2023-06-14T08:50:15.287Z"
   },
   {
    "duration": 15,
    "start_time": "2023-06-14T08:50:15.318Z"
   },
   {
    "duration": 39,
    "start_time": "2023-06-14T08:50:15.336Z"
   },
   {
    "duration": 87,
    "start_time": "2023-06-14T08:50:15.377Z"
   },
   {
    "duration": 20,
    "start_time": "2023-06-14T08:50:15.467Z"
   },
   {
    "duration": 62,
    "start_time": "2023-06-14T08:50:15.490Z"
   },
   {
    "duration": 11,
    "start_time": "2023-06-14T08:50:15.562Z"
   },
   {
    "duration": 18,
    "start_time": "2023-06-14T08:50:15.575Z"
   },
   {
    "duration": 27,
    "start_time": "2023-06-14T08:50:15.594Z"
   },
   {
    "duration": 29,
    "start_time": "2023-06-14T08:50:15.623Z"
   },
   {
    "duration": 35,
    "start_time": "2023-06-14T08:50:15.655Z"
   },
   {
    "duration": 28,
    "start_time": "2023-06-14T08:50:15.693Z"
   },
   {
    "duration": 20,
    "start_time": "2023-06-14T08:50:15.724Z"
   },
   {
    "duration": 18,
    "start_time": "2023-06-14T08:50:15.746Z"
   },
   {
    "duration": 59,
    "start_time": "2023-06-14T08:50:15.766Z"
   },
   {
    "duration": 45,
    "start_time": "2023-06-14T08:50:15.830Z"
   },
   {
    "duration": 19,
    "start_time": "2023-06-14T08:50:15.877Z"
   },
   {
    "duration": 38,
    "start_time": "2023-06-14T08:50:15.898Z"
   },
   {
    "duration": 1328,
    "start_time": "2023-06-14T08:50:15.938Z"
   },
   {
    "duration": 47,
    "start_time": "2023-06-14T08:50:17.269Z"
   },
   {
    "duration": 47,
    "start_time": "2023-06-14T08:50:17.317Z"
   },
   {
    "duration": 10,
    "start_time": "2023-06-14T08:50:17.369Z"
   },
   {
    "duration": 11,
    "start_time": "2023-06-14T08:50:17.381Z"
   },
   {
    "duration": 9,
    "start_time": "2023-06-14T08:50:17.394Z"
   },
   {
    "duration": 22,
    "start_time": "2023-06-14T08:50:17.405Z"
   },
   {
    "duration": 354,
    "start_time": "2023-06-14T08:50:17.428Z"
   },
   {
    "duration": 7,
    "start_time": "2023-06-14T08:50:17.784Z"
   },
   {
    "duration": 737,
    "start_time": "2023-06-14T08:50:17.793Z"
   },
   {
    "duration": 5,
    "start_time": "2023-06-14T08:50:18.531Z"
   },
   {
    "duration": 498,
    "start_time": "2023-06-14T08:50:18.537Z"
   },
   {
    "duration": 36,
    "start_time": "2023-06-14T08:50:19.036Z"
   },
   {
    "duration": 14,
    "start_time": "2023-06-14T08:50:19.074Z"
   },
   {
    "duration": 6,
    "start_time": "2023-06-14T08:50:19.089Z"
   },
   {
    "duration": 18,
    "start_time": "2023-06-14T08:50:19.097Z"
   },
   {
    "duration": 6,
    "start_time": "2023-06-14T08:50:19.117Z"
   },
   {
    "duration": 38,
    "start_time": "2023-06-14T08:50:19.125Z"
   },
   {
    "duration": 19,
    "start_time": "2023-06-14T08:50:19.164Z"
   },
   {
    "duration": 17,
    "start_time": "2023-06-14T08:50:19.185Z"
   },
   {
    "duration": 7,
    "start_time": "2023-06-14T08:50:19.204Z"
   },
   {
    "duration": 29,
    "start_time": "2023-06-14T08:50:19.212Z"
   },
   {
    "duration": 23,
    "start_time": "2023-06-14T08:50:19.243Z"
   },
   {
    "duration": 30,
    "start_time": "2023-06-14T08:50:19.269Z"
   },
   {
    "duration": 18,
    "start_time": "2023-06-14T08:50:19.301Z"
   },
   {
    "duration": 10,
    "start_time": "2023-06-14T08:50:19.321Z"
   },
   {
    "duration": 13,
    "start_time": "2023-06-14T08:50:19.333Z"
   },
   {
    "duration": 20,
    "start_time": "2023-06-14T08:50:19.362Z"
   },
   {
    "duration": 7,
    "start_time": "2023-06-14T08:50:19.384Z"
   },
   {
    "duration": 24,
    "start_time": "2023-06-14T08:50:19.392Z"
   },
   {
    "duration": 5,
    "start_time": "2023-06-14T08:53:28.236Z"
   },
   {
    "duration": 5,
    "start_time": "2023-06-14T08:56:00.803Z"
   },
   {
    "duration": 9,
    "start_time": "2023-06-14T08:57:01.251Z"
   },
   {
    "duration": 1242,
    "start_time": "2023-06-14T09:08:39.371Z"
   },
   {
    "duration": 312,
    "start_time": "2023-06-14T09:08:40.615Z"
   },
   {
    "duration": 69,
    "start_time": "2023-06-14T09:08:40.929Z"
   },
   {
    "duration": 17,
    "start_time": "2023-06-14T09:08:40.999Z"
   },
   {
    "duration": 285,
    "start_time": "2023-06-14T09:08:41.019Z"
   },
   {
    "duration": 307,
    "start_time": "2023-06-14T09:08:41.306Z"
   },
   {
    "duration": 667,
    "start_time": "2023-06-14T09:08:41.615Z"
   },
   {
    "duration": 27,
    "start_time": "2023-06-14T09:08:42.284Z"
   },
   {
    "duration": 226,
    "start_time": "2023-06-14T09:08:42.313Z"
   },
   {
    "duration": 22,
    "start_time": "2023-06-14T09:08:42.542Z"
   },
   {
    "duration": 21,
    "start_time": "2023-06-14T09:08:42.566Z"
   },
   {
    "duration": 33,
    "start_time": "2023-06-14T09:08:42.589Z"
   },
   {
    "duration": 88,
    "start_time": "2023-06-14T09:08:42.624Z"
   },
   {
    "duration": 55,
    "start_time": "2023-06-14T09:08:42.715Z"
   },
   {
    "duration": 24,
    "start_time": "2023-06-14T09:08:42.772Z"
   },
   {
    "duration": 39,
    "start_time": "2023-06-14T09:08:42.798Z"
   },
   {
    "duration": 1556,
    "start_time": "2023-06-14T09:08:42.839Z"
   },
   {
    "duration": 70,
    "start_time": "2023-06-14T09:08:44.397Z"
   },
   {
    "duration": 29,
    "start_time": "2023-06-14T09:08:44.468Z"
   },
   {
    "duration": 19,
    "start_time": "2023-06-14T09:08:44.498Z"
   },
   {
    "duration": 6,
    "start_time": "2023-06-14T09:08:44.519Z"
   },
   {
    "duration": 41,
    "start_time": "2023-06-14T09:08:44.527Z"
   },
   {
    "duration": 103,
    "start_time": "2023-06-14T09:08:44.570Z"
   },
   {
    "duration": 14,
    "start_time": "2023-06-14T09:08:44.675Z"
   },
   {
    "duration": 47,
    "start_time": "2023-06-14T09:08:44.691Z"
   },
   {
    "duration": 10,
    "start_time": "2023-06-14T09:08:44.739Z"
   },
   {
    "duration": 32,
    "start_time": "2023-06-14T09:08:44.750Z"
   },
   {
    "duration": 38,
    "start_time": "2023-06-14T09:08:44.784Z"
   },
   {
    "duration": 24,
    "start_time": "2023-06-14T09:08:44.824Z"
   },
   {
    "duration": 33,
    "start_time": "2023-06-14T09:08:44.850Z"
   },
   {
    "duration": 25,
    "start_time": "2023-06-14T09:08:44.884Z"
   },
   {
    "duration": 20,
    "start_time": "2023-06-14T09:08:44.911Z"
   },
   {
    "duration": 34,
    "start_time": "2023-06-14T09:08:44.934Z"
   },
   {
    "duration": 63,
    "start_time": "2023-06-14T09:08:44.970Z"
   },
   {
    "duration": 64,
    "start_time": "2023-06-14T09:08:45.035Z"
   },
   {
    "duration": 41,
    "start_time": "2023-06-14T09:08:45.101Z"
   },
   {
    "duration": 23,
    "start_time": "2023-06-14T09:08:45.144Z"
   },
   {
    "duration": 1244,
    "start_time": "2023-06-14T09:08:45.169Z"
   },
   {
    "duration": 47,
    "start_time": "2023-06-14T09:08:46.415Z"
   },
   {
    "duration": 72,
    "start_time": "2023-06-14T09:08:46.464Z"
   },
   {
    "duration": 36,
    "start_time": "2023-06-14T09:08:46.541Z"
   },
   {
    "duration": 35,
    "start_time": "2023-06-14T09:08:46.579Z"
   },
   {
    "duration": 474,
    "start_time": "2023-06-14T09:08:46.616Z"
   },
   {
    "duration": 42,
    "start_time": "2023-06-14T09:08:47.092Z"
   },
   {
    "duration": 308,
    "start_time": "2023-06-14T09:08:47.137Z"
   },
   {
    "duration": 15,
    "start_time": "2023-06-14T09:08:47.447Z"
   },
   {
    "duration": 772,
    "start_time": "2023-06-14T09:08:47.464Z"
   },
   {
    "duration": 5,
    "start_time": "2023-06-14T09:08:48.238Z"
   },
   {
    "duration": 34,
    "start_time": "2023-06-14T09:08:48.244Z"
   },
   {
    "duration": 38,
    "start_time": "2023-06-14T09:08:48.280Z"
   },
   {
    "duration": 13,
    "start_time": "2023-06-14T09:08:48.320Z"
   },
   {
    "duration": 56,
    "start_time": "2023-06-14T09:08:48.335Z"
   },
   {
    "duration": 44,
    "start_time": "2023-06-14T09:08:48.393Z"
   },
   {
    "duration": 14,
    "start_time": "2023-06-14T09:08:48.440Z"
   },
   {
    "duration": 33,
    "start_time": "2023-06-14T09:08:48.456Z"
   },
   {
    "duration": 55,
    "start_time": "2023-06-14T09:08:48.491Z"
   },
   {
    "duration": 74,
    "start_time": "2023-06-14T09:08:48.548Z"
   },
   {
    "duration": 49,
    "start_time": "2023-06-14T09:08:48.624Z"
   },
   {
    "duration": 62,
    "start_time": "2023-06-14T09:08:48.675Z"
   },
   {
    "duration": 17,
    "start_time": "2023-06-14T09:08:48.738Z"
   },
   {
    "duration": 37,
    "start_time": "2023-06-14T09:08:48.757Z"
   },
   {
    "duration": 30,
    "start_time": "2023-06-14T09:08:48.796Z"
   },
   {
    "duration": 54,
    "start_time": "2023-06-14T09:08:48.827Z"
   },
   {
    "duration": 21,
    "start_time": "2023-06-14T09:08:48.883Z"
   },
   {
    "duration": 23,
    "start_time": "2023-06-14T09:08:48.906Z"
   },
   {
    "duration": 24,
    "start_time": "2023-06-14T09:08:48.931Z"
   },
   {
    "duration": 22,
    "start_time": "2023-06-14T09:08:48.957Z"
   },
   {
    "duration": 22,
    "start_time": "2023-06-14T09:08:48.981Z"
   },
   {
    "duration": 17,
    "start_time": "2023-06-14T09:08:49.004Z"
   },
   {
    "duration": 20,
    "start_time": "2023-06-14T09:08:49.022Z"
   },
   {
    "duration": 320083,
    "start_time": "2023-06-14T09:08:49.043Z"
   },
   {
    "duration": 308,
    "start_time": "2023-06-14T09:19:45.722Z"
   },
   {
    "duration": 4205,
    "start_time": "2023-06-14T09:19:52.572Z"
   },
   {
    "duration": 3982,
    "start_time": "2023-06-14T09:20:39.322Z"
   },
   {
    "duration": 2,
    "start_time": "2023-06-14T09:22:55.799Z"
   },
   {
    "duration": 578,
    "start_time": "2023-06-14T09:30:12.504Z"
   },
   {
    "duration": 3248,
    "start_time": "2023-06-14T09:30:32.442Z"
   },
   {
    "duration": 53,
    "start_time": "2023-06-14T09:31:14.614Z"
   },
   {
    "duration": 3066,
    "start_time": "2023-06-14T09:31:24.114Z"
   },
   {
    "duration": 3217,
    "start_time": "2023-06-14T09:32:09.145Z"
   },
   {
    "duration": 416,
    "start_time": "2023-06-14T09:38:26.274Z"
   },
   {
    "duration": 3191,
    "start_time": "2023-06-14T09:39:25.780Z"
   },
   {
    "duration": 10,
    "start_time": "2023-06-14T09:43:24.290Z"
   },
   {
    "duration": 30,
    "start_time": "2023-06-14T09:43:41.519Z"
   },
   {
    "duration": 27,
    "start_time": "2023-06-14T09:44:04.219Z"
   },
   {
    "duration": 1273,
    "start_time": "2023-06-14T09:44:28.019Z"
   },
   {
    "duration": 3793,
    "start_time": "2023-06-14T09:44:43.199Z"
   },
   {
    "duration": 22935,
    "start_time": "2023-06-14T09:45:01.049Z"
   },
   {
    "duration": 3706,
    "start_time": "2023-06-14T09:45:36.959Z"
   },
   {
    "duration": 21627,
    "start_time": "2023-06-14T09:45:56.153Z"
   },
   {
    "duration": 16142,
    "start_time": "2023-06-14T09:46:36.134Z"
   },
   {
    "duration": 17,
    "start_time": "2023-06-14T09:53:19.079Z"
   },
   {
    "duration": 178807,
    "start_time": "2023-06-14T10:05:11.259Z"
   },
   {
    "duration": 2951,
    "start_time": "2023-06-14T10:10:10.269Z"
   },
   {
    "duration": 16746,
    "start_time": "2023-06-14T10:10:34.879Z"
   },
   {
    "duration": 3567,
    "start_time": "2023-06-14T10:14:03.689Z"
   },
   {
    "duration": 1165,
    "start_time": "2023-06-14T10:21:27.309Z"
   },
   {
    "duration": 382,
    "start_time": "2023-06-14T10:21:28.477Z"
   },
   {
    "duration": 69,
    "start_time": "2023-06-14T10:21:28.861Z"
   },
   {
    "duration": 17,
    "start_time": "2023-06-14T10:21:28.931Z"
   },
   {
    "duration": 267,
    "start_time": "2023-06-14T10:21:28.950Z"
   },
   {
    "duration": 271,
    "start_time": "2023-06-14T10:21:29.219Z"
   },
   {
    "duration": 19,
    "start_time": "2023-06-14T10:21:29.492Z"
   },
   {
    "duration": 22,
    "start_time": "2023-06-14T10:21:29.512Z"
   },
   {
    "duration": 247,
    "start_time": "2023-06-14T10:21:29.536Z"
   },
   {
    "duration": 13,
    "start_time": "2023-06-14T10:21:29.785Z"
   },
   {
    "duration": 4,
    "start_time": "2023-06-14T10:21:29.800Z"
   },
   {
    "duration": 11,
    "start_time": "2023-06-14T10:21:29.806Z"
   },
   {
    "duration": 51,
    "start_time": "2023-06-14T10:21:29.818Z"
   },
   {
    "duration": 50,
    "start_time": "2023-06-14T10:21:29.873Z"
   },
   {
    "duration": 19,
    "start_time": "2023-06-14T10:21:29.925Z"
   },
   {
    "duration": 16,
    "start_time": "2023-06-14T10:21:29.946Z"
   },
   {
    "duration": 1536,
    "start_time": "2023-06-14T10:21:29.964Z"
   },
   {
    "duration": 65,
    "start_time": "2023-06-14T10:21:31.503Z"
   },
   {
    "duration": 329,
    "start_time": "2023-06-14T10:21:31.570Z"
   },
   {
    "duration": 19,
    "start_time": "2023-06-14T10:21:31.901Z"
   },
   {
    "duration": 17,
    "start_time": "2023-06-14T10:21:31.922Z"
   },
   {
    "duration": 18,
    "start_time": "2023-06-14T10:21:31.941Z"
   },
   {
    "duration": 67,
    "start_time": "2023-06-14T10:21:31.960Z"
   },
   {
    "duration": 14,
    "start_time": "2023-06-14T10:21:32.028Z"
   },
   {
    "duration": 41,
    "start_time": "2023-06-14T10:21:32.043Z"
   },
   {
    "duration": 9,
    "start_time": "2023-06-14T10:21:32.086Z"
   },
   {
    "duration": 13,
    "start_time": "2023-06-14T10:21:32.097Z"
   },
   {
    "duration": 35,
    "start_time": "2023-06-14T10:21:32.112Z"
   },
   {
    "duration": 37,
    "start_time": "2023-06-14T10:21:32.148Z"
   },
   {
    "duration": 32,
    "start_time": "2023-06-14T10:21:32.187Z"
   },
   {
    "duration": 40,
    "start_time": "2023-06-14T10:21:32.220Z"
   },
   {
    "duration": 25,
    "start_time": "2023-06-14T10:21:32.262Z"
   },
   {
    "duration": 21,
    "start_time": "2023-06-14T10:21:32.289Z"
   },
   {
    "duration": 40,
    "start_time": "2023-06-14T10:21:32.312Z"
   },
   {
    "duration": 40,
    "start_time": "2023-06-14T10:21:32.353Z"
   },
   {
    "duration": 15,
    "start_time": "2023-06-14T10:21:32.396Z"
   },
   {
    "duration": 13,
    "start_time": "2023-06-14T10:21:32.413Z"
   },
   {
    "duration": 1247,
    "start_time": "2023-06-14T10:21:32.427Z"
   },
   {
    "duration": 44,
    "start_time": "2023-06-14T10:21:33.676Z"
   },
   {
    "duration": 50,
    "start_time": "2023-06-14T10:21:33.722Z"
   },
   {
    "duration": 8,
    "start_time": "2023-06-14T10:21:33.776Z"
   },
   {
    "duration": 7,
    "start_time": "2023-06-14T10:21:33.786Z"
   },
   {
    "duration": 15,
    "start_time": "2023-06-14T10:21:33.795Z"
   },
   {
    "duration": 22,
    "start_time": "2023-06-14T10:21:33.812Z"
   },
   {
    "duration": 346,
    "start_time": "2023-06-14T10:21:33.836Z"
   },
   {
    "duration": 7,
    "start_time": "2023-06-14T10:21:34.184Z"
   },
   {
    "duration": 680,
    "start_time": "2023-06-14T10:21:34.192Z"
   },
   {
    "duration": 5,
    "start_time": "2023-06-14T10:21:34.873Z"
   },
   {
    "duration": 20,
    "start_time": "2023-06-14T10:21:34.879Z"
   },
   {
    "duration": 64,
    "start_time": "2023-06-14T10:21:34.901Z"
   },
   {
    "duration": 11,
    "start_time": "2023-06-14T10:21:34.967Z"
   },
   {
    "duration": 14,
    "start_time": "2023-06-14T10:21:34.980Z"
   },
   {
    "duration": 27,
    "start_time": "2023-06-14T10:21:34.996Z"
   },
   {
    "duration": 7,
    "start_time": "2023-06-14T10:21:35.025Z"
   },
   {
    "duration": 24,
    "start_time": "2023-06-14T10:21:35.034Z"
   },
   {
    "duration": 29,
    "start_time": "2023-06-14T10:21:35.060Z"
   },
   {
    "duration": 21,
    "start_time": "2023-06-14T10:21:35.091Z"
   },
   {
    "duration": 15,
    "start_time": "2023-06-14T10:21:35.114Z"
   },
   {
    "duration": 24,
    "start_time": "2023-06-14T10:21:35.131Z"
   },
   {
    "duration": 32,
    "start_time": "2023-06-14T10:21:35.156Z"
   },
   {
    "duration": 21,
    "start_time": "2023-06-14T10:21:35.190Z"
   },
   {
    "duration": 56,
    "start_time": "2023-06-14T10:21:35.213Z"
   },
   {
    "duration": 67,
    "start_time": "2023-06-14T10:21:35.271Z"
   },
   {
    "duration": 52,
    "start_time": "2023-06-14T10:21:35.340Z"
   },
   {
    "duration": 49,
    "start_time": "2023-06-14T10:21:35.394Z"
   },
   {
    "duration": 6,
    "start_time": "2023-06-14T10:21:35.445Z"
   },
   {
    "duration": 34,
    "start_time": "2023-06-14T10:21:35.452Z"
   },
   {
    "duration": 16,
    "start_time": "2023-06-14T10:21:35.487Z"
   },
   {
    "duration": 11,
    "start_time": "2023-06-14T10:21:35.504Z"
   },
   {
    "duration": 36,
    "start_time": "2023-06-14T10:21:35.517Z"
   },
   {
    "duration": 1187,
    "start_time": "2023-06-14T10:30:46.400Z"
   },
   {
    "duration": 426,
    "start_time": "2023-06-14T10:30:47.589Z"
   },
   {
    "duration": 68,
    "start_time": "2023-06-14T10:30:48.017Z"
   },
   {
    "duration": 15,
    "start_time": "2023-06-14T10:30:48.086Z"
   },
   {
    "duration": 274,
    "start_time": "2023-06-14T10:30:48.103Z"
   },
   {
    "duration": 289,
    "start_time": "2023-06-14T10:30:48.379Z"
   },
   {
    "duration": 19,
    "start_time": "2023-06-14T10:30:48.670Z"
   },
   {
    "duration": 24,
    "start_time": "2023-06-14T10:30:48.691Z"
   },
   {
    "duration": 233,
    "start_time": "2023-06-14T10:30:48.716Z"
   },
   {
    "duration": 23,
    "start_time": "2023-06-14T10:30:48.951Z"
   },
   {
    "duration": 6,
    "start_time": "2023-06-14T10:30:48.976Z"
   },
   {
    "duration": 20,
    "start_time": "2023-06-14T10:30:48.983Z"
   },
   {
    "duration": 48,
    "start_time": "2023-06-14T10:30:49.005Z"
   },
   {
    "duration": 58,
    "start_time": "2023-06-14T10:30:49.055Z"
   },
   {
    "duration": 16,
    "start_time": "2023-06-14T10:30:49.115Z"
   },
   {
    "duration": 9,
    "start_time": "2023-06-14T10:30:49.132Z"
   },
   {
    "duration": 1457,
    "start_time": "2023-06-14T10:30:49.143Z"
   },
   {
    "duration": 62,
    "start_time": "2023-06-14T10:30:50.601Z"
   },
   {
    "duration": 26,
    "start_time": "2023-06-14T10:30:50.664Z"
   },
   {
    "duration": 18,
    "start_time": "2023-06-14T10:30:50.692Z"
   },
   {
    "duration": 5,
    "start_time": "2023-06-14T10:30:50.712Z"
   },
   {
    "duration": 16,
    "start_time": "2023-06-14T10:30:50.718Z"
   },
   {
    "duration": 90,
    "start_time": "2023-06-14T10:30:50.735Z"
   },
   {
    "duration": 18,
    "start_time": "2023-06-14T10:30:50.828Z"
   },
   {
    "duration": 66,
    "start_time": "2023-06-14T10:30:50.848Z"
   },
   {
    "duration": 8,
    "start_time": "2023-06-14T10:30:50.916Z"
   },
   {
    "duration": 16,
    "start_time": "2023-06-14T10:30:50.926Z"
   },
   {
    "duration": 20,
    "start_time": "2023-06-14T10:30:50.944Z"
   },
   {
    "duration": 22,
    "start_time": "2023-06-14T10:30:50.966Z"
   },
   {
    "duration": 48,
    "start_time": "2023-06-14T10:30:50.990Z"
   },
   {
    "duration": 24,
    "start_time": "2023-06-14T10:30:51.040Z"
   },
   {
    "duration": 17,
    "start_time": "2023-06-14T10:30:51.066Z"
   },
   {
    "duration": 72,
    "start_time": "2023-06-14T10:30:51.085Z"
   },
   {
    "duration": 47,
    "start_time": "2023-06-14T10:30:51.158Z"
   },
   {
    "duration": 35,
    "start_time": "2023-06-14T10:30:51.207Z"
   },
   {
    "duration": 13,
    "start_time": "2023-06-14T10:30:51.244Z"
   },
   {
    "duration": 18,
    "start_time": "2023-06-14T10:30:51.259Z"
   },
   {
    "duration": 1199,
    "start_time": "2023-06-14T10:30:51.279Z"
   },
   {
    "duration": 47,
    "start_time": "2023-06-14T10:30:52.480Z"
   },
   {
    "duration": 49,
    "start_time": "2023-06-14T10:30:52.532Z"
   },
   {
    "duration": 10,
    "start_time": "2023-06-14T10:30:52.586Z"
   },
   {
    "duration": 15,
    "start_time": "2023-06-14T10:30:52.598Z"
   },
   {
    "duration": 8,
    "start_time": "2023-06-14T10:30:52.615Z"
   },
   {
    "duration": 54,
    "start_time": "2023-06-14T10:30:52.625Z"
   },
   {
    "duration": 294,
    "start_time": "2023-06-14T10:30:52.681Z"
   },
   {
    "duration": 8,
    "start_time": "2023-06-14T10:30:52.977Z"
   },
   {
    "duration": 750,
    "start_time": "2023-06-14T10:30:52.987Z"
   },
   {
    "duration": 6,
    "start_time": "2023-06-14T10:30:53.739Z"
   },
   {
    "duration": 29,
    "start_time": "2023-06-14T10:30:53.746Z"
   },
   {
    "duration": 40,
    "start_time": "2023-06-14T10:30:53.777Z"
   },
   {
    "duration": 15,
    "start_time": "2023-06-14T10:30:53.819Z"
   },
   {
    "duration": 6,
    "start_time": "2023-06-14T10:30:53.836Z"
   },
   {
    "duration": 32,
    "start_time": "2023-06-14T10:30:53.843Z"
   },
   {
    "duration": 6,
    "start_time": "2023-06-14T10:30:53.876Z"
   },
   {
    "duration": 13,
    "start_time": "2023-06-14T10:30:53.884Z"
   },
   {
    "duration": 24,
    "start_time": "2023-06-14T10:30:53.898Z"
   },
   {
    "duration": 21,
    "start_time": "2023-06-14T10:30:53.924Z"
   },
   {
    "duration": 8,
    "start_time": "2023-06-14T10:30:53.947Z"
   },
   {
    "duration": 21,
    "start_time": "2023-06-14T10:30:53.956Z"
   },
   {
    "duration": 12,
    "start_time": "2023-06-14T10:30:53.979Z"
   },
   {
    "duration": 23,
    "start_time": "2023-06-14T10:30:53.993Z"
   },
   {
    "duration": 39,
    "start_time": "2023-06-14T10:30:54.018Z"
   },
   {
    "duration": 10,
    "start_time": "2023-06-14T10:30:54.059Z"
   },
   {
    "duration": 25,
    "start_time": "2023-06-14T10:30:54.071Z"
   },
   {
    "duration": 26,
    "start_time": "2023-06-14T10:30:54.098Z"
   },
   {
    "duration": 9,
    "start_time": "2023-06-14T10:30:54.126Z"
   },
   {
    "duration": 16,
    "start_time": "2023-06-14T10:30:54.136Z"
   },
   {
    "duration": 4,
    "start_time": "2023-06-14T10:30:54.154Z"
   },
   {
    "duration": 11,
    "start_time": "2023-06-14T10:30:54.159Z"
   },
   {
    "duration": 20,
    "start_time": "2023-06-14T10:30:54.172Z"
   },
   {
    "duration": 395704,
    "start_time": "2023-06-14T10:30:54.193Z"
   },
   {
    "duration": 16393,
    "start_time": "2023-06-14T10:37:29.899Z"
   },
   {
    "duration": 75505,
    "start_time": "2023-06-14T10:37:46.365Z"
   },
   {
    "duration": 1190,
    "start_time": "2023-06-14T10:39:01.872Z"
   },
   {
    "duration": 1292,
    "start_time": "2023-06-14T13:15:39.555Z"
   },
   {
    "duration": 9113,
    "start_time": "2023-06-14T13:15:40.849Z"
   },
   {
    "duration": 102,
    "start_time": "2023-06-14T13:15:49.964Z"
   },
   {
    "duration": 16,
    "start_time": "2023-06-14T13:15:50.068Z"
   },
   {
    "duration": 381,
    "start_time": "2023-06-14T13:15:50.086Z"
   },
   {
    "duration": 292,
    "start_time": "2023-06-14T13:15:50.469Z"
   },
   {
    "duration": 22,
    "start_time": "2023-06-14T13:15:50.763Z"
   },
   {
    "duration": 32,
    "start_time": "2023-06-14T13:15:50.786Z"
   },
   {
    "duration": 265,
    "start_time": "2023-06-14T13:15:50.819Z"
   },
   {
    "duration": 16,
    "start_time": "2023-06-14T13:15:51.085Z"
   },
   {
    "duration": 13,
    "start_time": "2023-06-14T13:15:51.103Z"
   },
   {
    "duration": 23,
    "start_time": "2023-06-14T13:15:51.117Z"
   },
   {
    "duration": 55,
    "start_time": "2023-06-14T13:18:02.185Z"
   },
   {
    "duration": 49,
    "start_time": "2023-06-14T13:18:02.894Z"
   },
   {
    "duration": 16,
    "start_time": "2023-06-14T13:18:03.995Z"
   },
   {
    "duration": 6,
    "start_time": "2023-06-14T13:18:05.599Z"
   },
   {
    "duration": 27,
    "start_time": "2023-06-14T13:18:28.457Z"
   },
   {
    "duration": 18,
    "start_time": "2023-06-14T13:18:29.013Z"
   },
   {
    "duration": 6,
    "start_time": "2023-06-14T13:18:30.901Z"
   },
   {
    "duration": 28,
    "start_time": "2023-06-14T13:18:32.305Z"
   },
   {
    "duration": 59,
    "start_time": "2023-06-14T13:18:51.990Z"
   },
   {
    "duration": 16,
    "start_time": "2023-06-14T13:18:54.433Z"
   },
   {
    "duration": 53,
    "start_time": "2023-06-14T13:19:01.283Z"
   },
   {
    "duration": 10,
    "start_time": "2023-06-14T13:19:01.899Z"
   },
   {
    "duration": 9,
    "start_time": "2023-06-14T13:19:02.127Z"
   },
   {
    "duration": 10,
    "start_time": "2023-06-14T13:19:02.494Z"
   },
   {
    "duration": 4,
    "start_time": "2023-06-14T13:19:03.318Z"
   },
   {
    "duration": 8,
    "start_time": "2023-06-14T13:19:03.691Z"
   },
   {
    "duration": 10,
    "start_time": "2023-06-14T13:19:04.008Z"
   },
   {
    "duration": 5,
    "start_time": "2023-06-14T13:19:04.327Z"
   },
   {
    "duration": 5,
    "start_time": "2023-06-14T13:19:04.497Z"
   },
   {
    "duration": 47,
    "start_time": "2023-06-14T13:20:55.512Z"
   },
   {
    "duration": 41,
    "start_time": "2023-06-14T13:20:56.138Z"
   },
   {
    "duration": 14,
    "start_time": "2023-06-14T13:20:58.013Z"
   },
   {
    "duration": 5,
    "start_time": "2023-06-14T13:20:59.511Z"
   },
   {
    "duration": 1187,
    "start_time": "2023-06-14T13:21:00.330Z"
   },
   {
    "duration": 50,
    "start_time": "2023-06-14T13:21:01.519Z"
   },
   {
    "duration": 29,
    "start_time": "2023-06-14T13:21:03.706Z"
   },
   {
    "duration": 9,
    "start_time": "2023-06-14T13:21:04.588Z"
   },
   {
    "duration": 7,
    "start_time": "2023-06-14T13:23:17.523Z"
   },
   {
    "duration": 7,
    "start_time": "2023-06-14T13:23:18.612Z"
   },
   {
    "duration": 20,
    "start_time": "2023-06-14T13:23:39.911Z"
   },
   {
    "duration": 320,
    "start_time": "2023-06-14T13:24:14.038Z"
   },
   {
    "duration": 11,
    "start_time": "2023-06-14T13:24:31.189Z"
   },
   {
    "duration": 8,
    "start_time": "2023-06-14T13:25:14.878Z"
   },
   {
    "duration": 746,
    "start_time": "2023-06-14T13:25:15.586Z"
   },
   {
    "duration": 8,
    "start_time": "2023-06-14T13:25:41.262Z"
   },
   {
    "duration": 789,
    "start_time": "2023-06-14T13:25:41.980Z"
   },
   {
    "duration": 5,
    "start_time": "2023-06-14T13:25:47.412Z"
   },
   {
    "duration": 5,
    "start_time": "2023-06-14T13:26:18.398Z"
   },
   {
    "duration": 17,
    "start_time": "2023-06-14T13:26:19.771Z"
   },
   {
    "duration": 29,
    "start_time": "2023-06-14T13:26:32.157Z"
   },
   {
    "duration": 13,
    "start_time": "2023-06-14T13:26:33.893Z"
   },
   {
    "duration": 8,
    "start_time": "2023-06-14T13:26:50.544Z"
   },
   {
    "duration": 24,
    "start_time": "2023-06-14T13:27:19.589Z"
   },
   {
    "duration": 7,
    "start_time": "2023-06-14T13:27:30.989Z"
   },
   {
    "duration": 3,
    "start_time": "2023-06-14T13:28:33.179Z"
   },
   {
    "duration": 6,
    "start_time": "2023-06-14T13:28:34.679Z"
   },
   {
    "duration": 10,
    "start_time": "2023-06-14T13:28:36.551Z"
   },
   {
    "duration": 7,
    "start_time": "2023-06-14T13:28:39.991Z"
   },
   {
    "duration": 10,
    "start_time": "2023-06-14T13:28:40.558Z"
   },
   {
    "duration": 12,
    "start_time": "2023-06-14T13:28:41.487Z"
   },
   {
    "duration": 11,
    "start_time": "2023-06-14T13:29:14.446Z"
   },
   {
    "duration": 22,
    "start_time": "2023-06-14T13:29:15.590Z"
   },
   {
    "duration": 20,
    "start_time": "2023-06-14T13:29:51.141Z"
   },
   {
    "duration": 10,
    "start_time": "2023-06-14T13:31:39.412Z"
   },
   {
    "duration": 10,
    "start_time": "2023-06-14T13:31:40.654Z"
   },
   {
    "duration": 19,
    "start_time": "2023-06-14T13:31:42.957Z"
   },
   {
    "duration": 4,
    "start_time": "2023-06-14T13:32:57.216Z"
   },
   {
    "duration": 14,
    "start_time": "2023-06-14T13:32:57.889Z"
   },
   {
    "duration": 5,
    "start_time": "2023-06-14T13:33:30.166Z"
   },
   {
    "duration": 6,
    "start_time": "2023-06-14T13:33:31.237Z"
   },
   {
    "duration": 9,
    "start_time": "2023-06-14T13:33:31.738Z"
   },
   {
    "duration": 130619,
    "start_time": "2023-06-14T13:34:11.300Z"
   },
   {
    "duration": 12,
    "start_time": "2023-06-14T13:36:24.699Z"
   },
   {
    "duration": 13,
    "start_time": "2023-06-14T13:36:49.200Z"
   },
   {
    "duration": 11182,
    "start_time": "2023-06-14T13:38:39.756Z"
   },
   {
    "duration": 254839,
    "start_time": "2023-06-14T13:41:06.280Z"
   },
   {
    "duration": 1146,
    "start_time": "2023-06-14T18:09:16.584Z"
   },
   {
    "duration": 281,
    "start_time": "2023-06-14T18:09:18.638Z"
   },
   {
    "duration": 411,
    "start_time": "2023-06-14T18:09:19.776Z"
   },
   {
    "duration": 12,
    "start_time": "2023-06-14T18:09:20.189Z"
   },
   {
    "duration": 222,
    "start_time": "2023-06-14T18:09:20.202Z"
   },
   {
    "duration": 221,
    "start_time": "2023-06-14T18:09:20.425Z"
   },
   {
    "duration": 15,
    "start_time": "2023-06-14T18:09:20.648Z"
   },
   {
    "duration": 9,
    "start_time": "2023-06-14T18:09:21.094Z"
   },
   {
    "duration": 192,
    "start_time": "2023-06-14T18:09:22.185Z"
   },
   {
    "duration": 14,
    "start_time": "2023-06-14T18:09:22.481Z"
   },
   {
    "duration": 4,
    "start_time": "2023-06-14T18:09:22.893Z"
   },
   {
    "duration": 4,
    "start_time": "2023-06-14T18:09:23.115Z"
   },
   {
    "duration": 79,
    "start_time": "2023-06-14T18:09:25.204Z"
   },
   {
    "duration": 186,
    "start_time": "2023-06-14T18:09:25.486Z"
   },
   {
    "duration": 14,
    "start_time": "2023-06-14T18:09:26.124Z"
   },
   {
    "duration": 5,
    "start_time": "2023-06-14T18:09:26.824Z"
   },
   {
    "duration": 1223,
    "start_time": "2023-06-14T18:09:27.975Z"
   },
   {
    "duration": 51,
    "start_time": "2023-06-14T18:09:29.200Z"
   },
   {
    "duration": 22,
    "start_time": "2023-06-14T18:09:29.253Z"
   },
   {
    "duration": 30,
    "start_time": "2023-06-14T18:09:29.277Z"
   },
   {
    "duration": 5,
    "start_time": "2023-06-14T18:09:29.595Z"
   },
   {
    "duration": 17,
    "start_time": "2023-06-14T18:09:30.284Z"
   },
   {
    "duration": 127,
    "start_time": "2023-06-14T18:09:31.984Z"
   },
   {
    "duration": 15,
    "start_time": "2023-06-14T18:09:32.279Z"
   },
   {
    "duration": 82,
    "start_time": "2023-06-14T18:09:33.682Z"
   },
   {
    "duration": 8,
    "start_time": "2023-06-14T18:09:33.904Z"
   },
   {
    "duration": 8,
    "start_time": "2023-06-14T18:09:34.153Z"
   },
   {
    "duration": 8,
    "start_time": "2023-06-14T18:09:34.642Z"
   },
   {
    "duration": 4,
    "start_time": "2023-06-14T18:09:35.384Z"
   },
   {
    "duration": 8,
    "start_time": "2023-06-14T18:09:35.884Z"
   },
   {
    "duration": 8,
    "start_time": "2023-06-14T18:09:36.414Z"
   },
   {
    "duration": 4,
    "start_time": "2023-06-14T18:09:36.925Z"
   },
   {
    "duration": 4,
    "start_time": "2023-06-14T18:09:37.194Z"
   },
   {
    "duration": 112,
    "start_time": "2023-06-14T18:09:42.776Z"
   },
   {
    "duration": 65,
    "start_time": "2023-06-14T18:09:43.103Z"
   },
   {
    "duration": 11,
    "start_time": "2023-06-14T18:09:43.895Z"
   },
   {
    "duration": 4,
    "start_time": "2023-06-14T18:09:44.624Z"
   },
   {
    "duration": 978,
    "start_time": "2023-06-14T18:09:44.885Z"
   },
   {
    "duration": 32,
    "start_time": "2023-06-14T18:09:45.865Z"
   },
   {
    "duration": 24,
    "start_time": "2023-06-14T18:09:45.913Z"
   },
   {
    "duration": 7,
    "start_time": "2023-06-14T18:09:46.553Z"
   },
   {
    "duration": 5,
    "start_time": "2023-06-14T18:10:20.190Z"
   },
   {
    "duration": 6,
    "start_time": "2023-06-14T18:10:21.104Z"
   },
   {
    "duration": 23,
    "start_time": "2023-06-14T18:10:22.424Z"
   },
   {
    "duration": 254,
    "start_time": "2023-06-14T18:10:31.283Z"
   },
   {
    "duration": 6,
    "start_time": "2023-06-14T18:10:36.094Z"
   },
   {
    "duration": 642,
    "start_time": "2023-06-14T18:10:36.585Z"
   },
   {
    "duration": 5,
    "start_time": "2023-06-14T18:30:02.286Z"
   },
   {
    "duration": 12,
    "start_time": "2023-06-14T18:30:10.282Z"
   },
   {
    "duration": 24,
    "start_time": "2023-06-14T18:30:21.765Z"
   },
   {
    "duration": 13,
    "start_time": "2023-06-14T18:30:22.290Z"
   },
   {
    "duration": 5,
    "start_time": "2023-06-14T18:30:23.363Z"
   },
   {
    "duration": 16,
    "start_time": "2023-06-14T18:30:24.173Z"
   },
   {
    "duration": 6,
    "start_time": "2023-06-14T18:30:24.792Z"
   },
   {
    "duration": 3,
    "start_time": "2023-06-14T18:30:25.373Z"
   },
   {
    "duration": 5,
    "start_time": "2023-06-14T18:30:25.917Z"
   },
   {
    "duration": 13,
    "start_time": "2023-06-14T18:30:26.203Z"
   },
   {
    "duration": 5,
    "start_time": "2023-06-14T18:30:26.517Z"
   },
   {
    "duration": 9,
    "start_time": "2023-06-14T18:30:26.817Z"
   },
   {
    "duration": 9,
    "start_time": "2023-06-14T18:30:27.363Z"
   },
   {
    "duration": 18,
    "start_time": "2023-06-14T18:30:27.617Z"
   },
   {
    "duration": 13,
    "start_time": "2023-06-14T18:30:28.164Z"
   },
   {
    "duration": 8,
    "start_time": "2023-06-14T18:30:30.324Z"
   },
   {
    "duration": 8,
    "start_time": "2023-06-14T18:30:30.782Z"
   },
   {
    "duration": 12,
    "start_time": "2023-06-14T18:30:31.267Z"
   },
   {
    "duration": 4,
    "start_time": "2023-06-14T18:30:32.682Z"
   },
   {
    "duration": 9,
    "start_time": "2023-06-14T18:30:33.263Z"
   },
   {
    "duration": 4,
    "start_time": "2023-06-14T18:30:35.363Z"
   },
   {
    "duration": 13,
    "start_time": "2023-06-14T18:30:39.703Z"
   },
   {
    "duration": 8,
    "start_time": "2023-06-14T18:30:40.280Z"
   },
   {
    "duration": 1097,
    "start_time": "2023-06-14T18:37:10.021Z"
   },
   {
    "duration": 294,
    "start_time": "2023-06-14T18:37:11.121Z"
   },
   {
    "duration": 59,
    "start_time": "2023-06-14T18:37:11.419Z"
   },
   {
    "duration": 13,
    "start_time": "2023-06-14T18:37:11.479Z"
   },
   {
    "duration": 226,
    "start_time": "2023-06-14T18:37:11.615Z"
   },
   {
    "duration": 227,
    "start_time": "2023-06-14T18:37:11.863Z"
   },
   {
    "duration": 26,
    "start_time": "2023-06-14T18:37:12.092Z"
   },
   {
    "duration": 13,
    "start_time": "2023-06-14T18:37:12.484Z"
   },
   {
    "duration": 182,
    "start_time": "2023-06-14T18:37:13.161Z"
   },
   {
    "duration": 18,
    "start_time": "2023-06-14T18:37:13.393Z"
   },
   {
    "duration": 4,
    "start_time": "2023-06-14T18:37:13.824Z"
   },
   {
    "duration": 3,
    "start_time": "2023-06-14T18:37:14.066Z"
   },
   {
    "duration": 51,
    "start_time": "2023-06-14T18:37:16.101Z"
   },
   {
    "duration": 40,
    "start_time": "2023-06-14T18:37:16.344Z"
   },
   {
    "duration": 14,
    "start_time": "2023-06-14T18:37:16.983Z"
   },
   {
    "duration": 5,
    "start_time": "2023-06-14T18:37:17.644Z"
   },
   {
    "duration": 1268,
    "start_time": "2023-06-14T18:37:18.793Z"
   },
   {
    "duration": 58,
    "start_time": "2023-06-14T18:37:20.063Z"
   },
   {
    "duration": 22,
    "start_time": "2023-06-14T18:37:20.123Z"
   },
   {
    "duration": 30,
    "start_time": "2023-06-14T18:37:20.147Z"
   },
   {
    "duration": 5,
    "start_time": "2023-06-14T18:37:20.463Z"
   },
   {
    "duration": 8,
    "start_time": "2023-06-14T18:37:21.171Z"
   },
   {
    "duration": 56,
    "start_time": "2023-06-14T18:37:22.843Z"
   },
   {
    "duration": 14,
    "start_time": "2023-06-14T18:37:23.073Z"
   },
   {
    "duration": 52,
    "start_time": "2023-06-14T18:37:24.223Z"
   },
   {
    "duration": 8,
    "start_time": "2023-06-14T18:37:24.462Z"
   },
   {
    "duration": 8,
    "start_time": "2023-06-14T18:37:24.673Z"
   },
   {
    "duration": 9,
    "start_time": "2023-06-14T18:37:25.117Z"
   },
   {
    "duration": 4,
    "start_time": "2023-06-14T18:37:25.803Z"
   },
   {
    "duration": 8,
    "start_time": "2023-06-14T18:37:26.262Z"
   },
   {
    "duration": 7,
    "start_time": "2023-06-14T18:37:26.724Z"
   },
   {
    "duration": 4,
    "start_time": "2023-06-14T18:37:27.194Z"
   },
   {
    "duration": 5,
    "start_time": "2023-06-14T18:37:27.423Z"
   },
   {
    "duration": 52,
    "start_time": "2023-06-14T18:37:28.886Z"
   },
   {
    "duration": 31,
    "start_time": "2023-06-14T18:37:29.127Z"
   },
   {
    "duration": 15,
    "start_time": "2023-06-14T18:37:29.848Z"
   },
   {
    "duration": 5,
    "start_time": "2023-06-14T18:37:30.578Z"
   },
   {
    "duration": 1078,
    "start_time": "2023-06-14T18:37:30.818Z"
   },
   {
    "duration": 48,
    "start_time": "2023-06-14T18:37:31.897Z"
   },
   {
    "duration": 26,
    "start_time": "2023-06-14T18:37:31.946Z"
   },
   {
    "duration": 7,
    "start_time": "2023-06-14T18:37:32.198Z"
   },
   {
    "duration": 6,
    "start_time": "2023-06-14T18:37:39.178Z"
   },
   {
    "duration": 5,
    "start_time": "2023-06-14T18:37:40.668Z"
   },
   {
    "duration": 19,
    "start_time": "2023-06-14T18:37:41.362Z"
   },
   {
    "duration": 271,
    "start_time": "2023-06-14T18:37:41.788Z"
   },
   {
    "duration": 9,
    "start_time": "2023-06-14T18:37:42.249Z"
   },
   {
    "duration": 647,
    "start_time": "2023-06-14T18:37:42.488Z"
   },
   {
    "duration": 5,
    "start_time": "2023-06-14T18:37:43.438Z"
   },
   {
    "duration": 12,
    "start_time": "2023-06-14T18:37:43.990Z"
   },
   {
    "duration": 31,
    "start_time": "2023-06-14T18:37:44.620Z"
   },
   {
    "duration": 12,
    "start_time": "2023-06-14T18:37:45.062Z"
   },
   {
    "duration": 5,
    "start_time": "2023-06-14T18:37:46.988Z"
   },
   {
    "duration": 15,
    "start_time": "2023-06-14T18:37:48.562Z"
   },
   {
    "duration": 6,
    "start_time": "2023-06-14T18:37:49.519Z"
   },
   {
    "duration": 3,
    "start_time": "2023-06-14T18:37:50.479Z"
   },
   {
    "duration": 7,
    "start_time": "2023-06-14T18:37:59.348Z"
   },
   {
    "duration": 9,
    "start_time": "2023-06-14T18:37:59.818Z"
   },
   {
    "duration": 6,
    "start_time": "2023-06-14T18:38:00.314Z"
   },
   {
    "duration": 9,
    "start_time": "2023-06-14T18:38:00.822Z"
   },
   {
    "duration": 11,
    "start_time": "2023-06-14T18:38:02.848Z"
   },
   {
    "duration": 18,
    "start_time": "2023-06-14T18:38:17.128Z"
   },
   {
    "duration": 7,
    "start_time": "2023-06-14T18:38:24.210Z"
   },
   {
    "duration": 11,
    "start_time": "2023-06-14T18:38:25.068Z"
   },
   {
    "duration": 4,
    "start_time": "2023-06-14T18:38:34.788Z"
   },
   {
    "duration": 5,
    "start_time": "2023-06-14T18:38:35.978Z"
   },
   {
    "duration": 10,
    "start_time": "2023-06-14T18:38:36.580Z"
   },
   {
    "duration": 3,
    "start_time": "2023-06-14T18:42:59.480Z"
   },
   {
    "duration": 112,
    "start_time": "2023-06-14T18:45:23.566Z"
   },
   {
    "duration": 20,
    "start_time": "2023-06-14T18:45:38.823Z"
   },
   {
    "duration": 21,
    "start_time": "2023-06-14T18:45:51.439Z"
   },
   {
    "duration": 532,
    "start_time": "2023-06-14T18:46:07.095Z"
   },
   {
    "duration": 32,
    "start_time": "2023-06-14T18:46:14.895Z"
   },
   {
    "duration": 508847,
    "start_time": "2023-06-14T18:48:01.280Z"
   },
   {
    "duration": 1384,
    "start_time": "2023-06-14T19:00:29.602Z"
   },
   {
    "duration": 4,
    "start_time": "2023-06-14T19:00:50.103Z"
   },
   {
    "duration": 12,
    "start_time": "2023-06-14T19:08:01.850Z"
   },
   {
    "duration": 197,
    "start_time": "2023-06-14T19:08:34.141Z"
   },
   {
    "duration": 179,
    "start_time": "2023-06-14T19:09:29.549Z"
   },
   {
    "duration": 171,
    "start_time": "2023-06-14T19:13:08.296Z"
   },
   {
    "duration": 189,
    "start_time": "2023-06-14T19:13:31.345Z"
   },
   {
    "duration": 172,
    "start_time": "2023-06-14T19:14:21.401Z"
   },
   {
    "duration": 178,
    "start_time": "2023-06-14T19:14:33.543Z"
   },
   {
    "duration": 164,
    "start_time": "2023-06-14T19:14:42.785Z"
   },
   {
    "duration": 13,
    "start_time": "2023-06-14T19:15:27.489Z"
   },
   {
    "duration": 13,
    "start_time": "2023-06-14T19:15:50.323Z"
   },
   {
    "duration": 283,
    "start_time": "2023-06-14T19:16:58.510Z"
   },
   {
    "duration": 147,
    "start_time": "2023-06-14T19:17:18.334Z"
   },
   {
    "duration": 149,
    "start_time": "2023-06-14T19:17:36.410Z"
   },
   {
    "duration": 156,
    "start_time": "2023-06-14T19:17:51.579Z"
   },
   {
    "duration": 7,
    "start_time": "2023-06-14T19:19:30.733Z"
   },
   {
    "duration": 10,
    "start_time": "2023-06-14T19:25:20.828Z"
   },
   {
    "duration": 4,
    "start_time": "2023-06-14T19:25:23.726Z"
   },
   {
    "duration": 5,
    "start_time": "2023-06-14T19:25:53.353Z"
   },
   {
    "duration": 9,
    "start_time": "2023-06-14T19:26:16.024Z"
   },
   {
    "duration": 2,
    "start_time": "2023-06-14T19:28:24.139Z"
   },
   {
    "duration": 4,
    "start_time": "2023-06-14T19:28:26.298Z"
   },
   {
    "duration": 9,
    "start_time": "2023-06-14T19:28:27.123Z"
   },
   {
    "duration": 22,
    "start_time": "2023-06-14T19:28:29.945Z"
   },
   {
    "duration": 13,
    "start_time": "2023-06-14T19:28:40.891Z"
   },
   {
    "duration": 1100,
    "start_time": "2023-06-14T19:29:57.718Z"
   },
   {
    "duration": 288,
    "start_time": "2023-06-14T19:29:58.820Z"
   },
   {
    "duration": 260,
    "start_time": "2023-06-14T19:29:59.109Z"
   },
   {
    "duration": 15,
    "start_time": "2023-06-14T19:29:59.371Z"
   },
   {
    "duration": 244,
    "start_time": "2023-06-14T19:29:59.387Z"
   },
   {
    "duration": 226,
    "start_time": "2023-06-14T19:29:59.633Z"
   },
   {
    "duration": 15,
    "start_time": "2023-06-14T19:29:59.861Z"
   },
   {
    "duration": 10,
    "start_time": "2023-06-14T19:30:00.026Z"
   },
   {
    "duration": 191,
    "start_time": "2023-06-14T19:30:00.628Z"
   },
   {
    "duration": 12,
    "start_time": "2023-06-14T19:30:00.821Z"
   },
   {
    "duration": 4,
    "start_time": "2023-06-14T19:30:01.252Z"
   },
   {
    "duration": 4,
    "start_time": "2023-06-14T19:30:01.452Z"
   },
   {
    "duration": 79,
    "start_time": "2023-06-14T19:30:03.342Z"
   },
   {
    "duration": 160,
    "start_time": "2023-06-14T19:30:03.550Z"
   },
   {
    "duration": 14,
    "start_time": "2023-06-14T19:30:04.144Z"
   },
   {
    "duration": 5,
    "start_time": "2023-06-14T19:30:04.734Z"
   },
   {
    "duration": 1266,
    "start_time": "2023-06-14T19:30:05.714Z"
   },
   {
    "duration": 54,
    "start_time": "2023-06-14T19:30:06.981Z"
   },
   {
    "duration": 23,
    "start_time": "2023-06-14T19:30:07.037Z"
   },
   {
    "duration": 19,
    "start_time": "2023-06-14T19:30:07.062Z"
   },
   {
    "duration": 5,
    "start_time": "2023-06-14T19:30:07.135Z"
   },
   {
    "duration": 13,
    "start_time": "2023-06-14T19:30:07.731Z"
   },
   {
    "duration": 113,
    "start_time": "2023-06-14T19:30:09.642Z"
   },
   {
    "duration": 13,
    "start_time": "2023-06-14T19:30:09.756Z"
   },
   {
    "duration": 72,
    "start_time": "2023-06-14T19:30:10.562Z"
   },
   {
    "duration": 8,
    "start_time": "2023-06-14T19:30:10.801Z"
   },
   {
    "duration": 8,
    "start_time": "2023-06-14T19:30:11.023Z"
   },
   {
    "duration": 8,
    "start_time": "2023-06-14T19:30:11.442Z"
   },
   {
    "duration": 4,
    "start_time": "2023-06-14T19:30:12.106Z"
   },
   {
    "duration": 7,
    "start_time": "2023-06-14T19:30:12.560Z"
   },
   {
    "duration": 8,
    "start_time": "2023-06-14T19:30:13.007Z"
   },
   {
    "duration": 4,
    "start_time": "2023-06-14T19:30:13.464Z"
   },
   {
    "duration": 4,
    "start_time": "2023-06-14T19:30:13.699Z"
   },
   {
    "duration": 102,
    "start_time": "2023-06-14T19:30:15.027Z"
   },
   {
    "duration": 65,
    "start_time": "2023-06-14T19:30:15.318Z"
   },
   {
    "duration": 12,
    "start_time": "2023-06-14T19:30:15.962Z"
   },
   {
    "duration": 6,
    "start_time": "2023-06-14T19:30:16.614Z"
   },
   {
    "duration": 1028,
    "start_time": "2023-06-14T19:30:16.845Z"
   },
   {
    "duration": 39,
    "start_time": "2023-06-14T19:30:17.875Z"
   },
   {
    "duration": 25,
    "start_time": "2023-06-14T19:30:17.916Z"
   },
   {
    "duration": 7,
    "start_time": "2023-06-14T19:30:18.242Z"
   },
   {
    "duration": 5,
    "start_time": "2023-06-14T19:30:25.561Z"
   },
   {
    "duration": 5,
    "start_time": "2023-06-14T19:30:26.062Z"
   },
   {
    "duration": 18,
    "start_time": "2023-06-14T19:30:26.798Z"
   },
   {
    "duration": 254,
    "start_time": "2023-06-14T19:30:27.262Z"
   },
   {
    "duration": 6,
    "start_time": "2023-06-14T19:30:27.728Z"
   },
   {
    "duration": 589,
    "start_time": "2023-06-14T19:30:27.961Z"
   },
   {
    "duration": 3,
    "start_time": "2023-06-14T19:30:29.091Z"
   },
   {
    "duration": 12,
    "start_time": "2023-06-14T19:30:29.685Z"
   },
   {
    "duration": 26,
    "start_time": "2023-06-14T19:30:30.594Z"
   },
   {
    "duration": 11,
    "start_time": "2023-06-14T19:30:31.119Z"
   },
   {
    "duration": 5,
    "start_time": "2023-06-14T19:30:32.118Z"
   },
   {
    "duration": 13,
    "start_time": "2023-06-14T19:30:32.807Z"
   },
   {
    "duration": 6,
    "start_time": "2023-06-14T19:30:33.924Z"
   },
   {
    "duration": 4,
    "start_time": "2023-06-14T19:30:34.763Z"
   },
   {
    "duration": 6,
    "start_time": "2023-06-14T19:30:35.561Z"
   },
   {
    "duration": 8,
    "start_time": "2023-06-14T19:30:35.935Z"
   },
   {
    "duration": 6,
    "start_time": "2023-06-14T19:30:36.340Z"
   },
   {
    "duration": 8,
    "start_time": "2023-06-14T19:30:36.962Z"
   },
   {
    "duration": 10,
    "start_time": "2023-06-14T19:30:37.946Z"
   },
   {
    "duration": 19,
    "start_time": "2023-06-14T19:30:38.494Z"
   },
   {
    "duration": 3,
    "start_time": "2023-06-14T19:30:44.643Z"
   },
   {
    "duration": 11,
    "start_time": "2023-06-14T19:30:45.035Z"
   },
   {
    "duration": 6,
    "start_time": "2023-06-14T19:31:05.053Z"
   },
   {
    "duration": 3,
    "start_time": "2023-06-14T19:31:07.352Z"
   },
   {
    "duration": 4,
    "start_time": "2023-06-14T19:31:08.194Z"
   },
   {
    "duration": 96,
    "start_time": "2023-06-14T19:31:09.700Z"
   },
   {
    "duration": 11,
    "start_time": "2023-06-14T19:31:21.710Z"
   },
   {
    "duration": 16,
    "start_time": "2023-06-14T19:31:23.042Z"
   },
   {
    "duration": 6,
    "start_time": "2023-06-14T19:32:51.926Z"
   },
   {
    "duration": 3,
    "start_time": "2023-06-14T19:33:15.831Z"
   },
   {
    "duration": 12,
    "start_time": "2023-06-14T19:33:16.595Z"
   },
   {
    "duration": 15,
    "start_time": "2023-06-14T19:33:17.426Z"
   },
   {
    "duration": 5,
    "start_time": "2023-06-14T19:33:44.691Z"
   },
   {
    "duration": 2,
    "start_time": "2023-06-14T19:33:47.016Z"
   },
   {
    "duration": 4,
    "start_time": "2023-06-14T19:33:47.731Z"
   },
   {
    "duration": 10,
    "start_time": "2023-06-14T19:33:48.446Z"
   },
   {
    "duration": 15,
    "start_time": "2023-06-14T19:33:49.226Z"
   },
   {
    "duration": 14,
    "start_time": "2023-06-14T19:33:55.965Z"
   },
   {
    "duration": 15,
    "start_time": "2023-06-14T19:33:58.695Z"
   },
   {
    "duration": 27,
    "start_time": "2023-06-14T19:34:18.455Z"
   },
   {
    "duration": 6,
    "start_time": "2023-06-14T19:37:02.492Z"
   },
   {
    "duration": 4,
    "start_time": "2023-06-14T19:37:05.531Z"
   },
   {
    "duration": 12,
    "start_time": "2023-06-14T19:37:06.425Z"
   },
   {
    "duration": 56,
    "start_time": "2023-06-14T19:37:07.857Z"
   },
   {
    "duration": 32,
    "start_time": "2023-06-14T19:37:14.995Z"
   },
   {
    "duration": 7,
    "start_time": "2023-06-14T19:37:51.865Z"
   },
   {
    "duration": 8,
    "start_time": "2023-06-14T19:40:08.944Z"
   },
   {
    "duration": 3,
    "start_time": "2023-06-14T19:40:10.086Z"
   },
   {
    "duration": 10,
    "start_time": "2023-06-14T19:40:10.789Z"
   },
   {
    "duration": 23,
    "start_time": "2023-06-14T19:40:11.993Z"
   },
   {
    "duration": 25,
    "start_time": "2023-06-14T19:40:17.421Z"
   },
   {
    "duration": 574,
    "start_time": "2023-06-14T19:40:22.138Z"
   },
   {
    "duration": 6,
    "start_time": "2023-06-14T19:43:38.700Z"
   },
   {
    "duration": 3,
    "start_time": "2023-06-14T19:43:42.023Z"
   },
   {
    "duration": 10,
    "start_time": "2023-06-14T19:43:42.753Z"
   },
   {
    "duration": 772,
    "start_time": "2023-06-14T19:43:44.237Z"
   },
   {
    "duration": 5,
    "start_time": "2023-06-14T19:45:03.049Z"
   },
   {
    "duration": 4,
    "start_time": "2023-06-14T19:45:05.339Z"
   },
   {
    "duration": 10,
    "start_time": "2023-06-14T19:45:11.614Z"
   },
   {
    "duration": 1093,
    "start_time": "2023-06-14T19:46:02.175Z"
   },
   {
    "duration": 290,
    "start_time": "2023-06-14T19:46:04.197Z"
   },
   {
    "duration": 60,
    "start_time": "2023-06-14T19:46:05.006Z"
   },
   {
    "duration": 14,
    "start_time": "2023-06-14T19:46:05.229Z"
   },
   {
    "duration": 211,
    "start_time": "2023-06-14T19:46:05.419Z"
   },
   {
    "duration": 224,
    "start_time": "2023-06-14T19:46:05.631Z"
   },
   {
    "duration": 17,
    "start_time": "2023-06-14T19:46:05.857Z"
   },
   {
    "duration": 10,
    "start_time": "2023-06-14T19:46:06.229Z"
   },
   {
    "duration": 187,
    "start_time": "2023-06-14T19:46:06.820Z"
   },
   {
    "duration": 11,
    "start_time": "2023-06-14T19:46:07.029Z"
   },
   {
    "duration": 4,
    "start_time": "2023-06-14T19:46:07.406Z"
   },
   {
    "duration": 4,
    "start_time": "2023-06-14T19:46:07.613Z"
   },
   {
    "duration": 46,
    "start_time": "2023-06-14T19:46:09.415Z"
   },
   {
    "duration": 41,
    "start_time": "2023-06-14T19:46:09.620Z"
   },
   {
    "duration": 13,
    "start_time": "2023-06-14T19:46:10.230Z"
   },
   {
    "duration": 5,
    "start_time": "2023-06-14T19:46:10.829Z"
   },
   {
    "duration": 1268,
    "start_time": "2023-06-14T19:46:11.820Z"
   },
   {
    "duration": 56,
    "start_time": "2023-06-14T19:46:13.091Z"
   },
   {
    "duration": 23,
    "start_time": "2023-06-14T19:46:13.149Z"
   },
   {
    "duration": 16,
    "start_time": "2023-06-14T19:46:13.174Z"
   },
   {
    "duration": 4,
    "start_time": "2023-06-14T19:46:13.207Z"
   },
   {
    "duration": 11,
    "start_time": "2023-06-14T19:46:14.259Z"
   },
   {
    "duration": 57,
    "start_time": "2023-06-14T19:46:15.299Z"
   },
   {
    "duration": 13,
    "start_time": "2023-06-14T19:46:15.507Z"
   },
   {
    "duration": 48,
    "start_time": "2023-06-14T19:46:16.529Z"
   },
   {
    "duration": 8,
    "start_time": "2023-06-14T19:46:16.750Z"
   },
   {
    "duration": 8,
    "start_time": "2023-06-14T19:46:16.939Z"
   },
   {
    "duration": 8,
    "start_time": "2023-06-14T19:46:17.403Z"
   },
   {
    "duration": 4,
    "start_time": "2023-06-14T19:46:18.029Z"
   },
   {
    "duration": 7,
    "start_time": "2023-06-14T19:46:18.503Z"
   },
   {
    "duration": 8,
    "start_time": "2023-06-14T19:46:19.087Z"
   },
   {
    "duration": 4,
    "start_time": "2023-06-14T19:46:19.529Z"
   },
   {
    "duration": 5,
    "start_time": "2023-06-14T19:46:19.749Z"
   },
   {
    "duration": 40,
    "start_time": "2023-06-14T19:46:21.221Z"
   },
   {
    "duration": 32,
    "start_time": "2023-06-14T19:46:21.440Z"
   },
   {
    "duration": 13,
    "start_time": "2023-06-14T19:46:22.230Z"
   },
   {
    "duration": 5,
    "start_time": "2023-06-14T19:46:23.005Z"
   },
   {
    "duration": 1034,
    "start_time": "2023-06-14T19:46:23.259Z"
   },
   {
    "duration": 39,
    "start_time": "2023-06-14T19:46:24.295Z"
   },
   {
    "duration": 26,
    "start_time": "2023-06-14T19:46:24.335Z"
   },
   {
    "duration": 8,
    "start_time": "2023-06-14T19:46:24.682Z"
   },
   {
    "duration": 5,
    "start_time": "2023-06-14T19:46:31.330Z"
   },
   {
    "duration": 7,
    "start_time": "2023-06-14T19:46:32.539Z"
   },
   {
    "duration": 19,
    "start_time": "2023-06-14T19:46:33.294Z"
   },
   {
    "duration": 280,
    "start_time": "2023-06-14T19:46:33.721Z"
   },
   {
    "duration": 7,
    "start_time": "2023-06-14T19:46:34.157Z"
   },
   {
    "duration": 654,
    "start_time": "2023-06-14T19:46:34.349Z"
   },
   {
    "duration": 5,
    "start_time": "2023-06-14T19:46:35.329Z"
   },
   {
    "duration": 13,
    "start_time": "2023-06-14T19:46:35.814Z"
   },
   {
    "duration": 24,
    "start_time": "2023-06-14T19:46:36.323Z"
   },
   {
    "duration": 10,
    "start_time": "2023-06-14T19:46:36.560Z"
   },
   {
    "duration": 6,
    "start_time": "2023-06-14T19:46:37.791Z"
   },
   {
    "duration": 15,
    "start_time": "2023-06-14T19:46:38.557Z"
   },
   {
    "duration": 6,
    "start_time": "2023-06-14T19:46:39.758Z"
   },
   {
    "duration": 3,
    "start_time": "2023-06-14T19:46:46.294Z"
   },
   {
    "duration": 6,
    "start_time": "2023-06-14T19:46:48.220Z"
   },
   {
    "duration": 9,
    "start_time": "2023-06-14T19:46:48.802Z"
   },
   {
    "duration": 6,
    "start_time": "2023-06-14T19:46:49.406Z"
   },
   {
    "duration": 11,
    "start_time": "2023-06-14T19:46:50.507Z"
   },
   {
    "duration": 12,
    "start_time": "2023-06-14T19:46:58.018Z"
   },
   {
    "duration": 17,
    "start_time": "2023-06-14T19:47:11.006Z"
   },
   {
    "duration": 3,
    "start_time": "2023-06-14T19:47:39.898Z"
   },
   {
    "duration": 10,
    "start_time": "2023-06-14T19:47:40.539Z"
   },
   {
    "duration": 5,
    "start_time": "2023-06-14T19:47:57.939Z"
   },
   {
    "duration": 4,
    "start_time": "2023-06-14T19:48:02.158Z"
   },
   {
    "duration": 5,
    "start_time": "2023-06-14T19:48:03.743Z"
   },
   {
    "duration": 8,
    "start_time": "2023-06-14T19:48:04.320Z"
   },
   {
    "duration": 461458,
    "start_time": "2023-06-14T19:48:14.282Z"
   },
   {
    "duration": 28,
    "start_time": "2023-06-14T19:56:25.096Z"
   },
   {
    "duration": 68398,
    "start_time": "2023-06-14T19:56:53.481Z"
   },
   {
    "duration": 1209,
    "start_time": "2023-06-14T19:58:22.757Z"
   },
   {
    "duration": 4,
    "start_time": "2023-06-14T20:03:31.500Z"
   },
   {
    "duration": 116,
    "start_time": "2023-06-14T20:03:34.344Z"
   },
   {
    "duration": 1091,
    "start_time": "2023-06-14T20:05:02.726Z"
   },
   {
    "duration": 328,
    "start_time": "2023-06-14T20:05:03.821Z"
   },
   {
    "duration": 64,
    "start_time": "2023-06-14T20:05:04.151Z"
   },
   {
    "duration": 16,
    "start_time": "2023-06-14T20:05:04.228Z"
   },
   {
    "duration": 233,
    "start_time": "2023-06-14T20:05:04.246Z"
   },
   {
    "duration": 248,
    "start_time": "2023-06-14T20:05:04.481Z"
   },
   {
    "duration": 16,
    "start_time": "2023-06-14T20:05:04.731Z"
   },
   {
    "duration": 19,
    "start_time": "2023-06-14T20:05:04.748Z"
   },
   {
    "duration": 204,
    "start_time": "2023-06-14T20:05:04.768Z"
   },
   {
    "duration": 13,
    "start_time": "2023-06-14T20:05:04.974Z"
   },
   {
    "duration": 18,
    "start_time": "2023-06-14T20:05:04.988Z"
   },
   {
    "duration": 20,
    "start_time": "2023-06-14T20:05:05.018Z"
   },
   {
    "duration": 43,
    "start_time": "2023-06-14T20:05:05.040Z"
   },
   {
    "duration": 49,
    "start_time": "2023-06-14T20:05:05.087Z"
   },
   {
    "duration": 12,
    "start_time": "2023-06-14T20:05:05.138Z"
   },
   {
    "duration": 3,
    "start_time": "2023-06-14T20:05:05.152Z"
   },
   {
    "duration": 1291,
    "start_time": "2023-06-14T20:05:05.156Z"
   },
   {
    "duration": 72,
    "start_time": "2023-06-14T20:05:06.449Z"
   },
   {
    "duration": 23,
    "start_time": "2023-06-14T20:05:06.523Z"
   },
   {
    "duration": 15,
    "start_time": "2023-06-14T20:05:06.547Z"
   },
   {
    "duration": 5,
    "start_time": "2023-06-14T20:05:06.563Z"
   },
   {
    "duration": 12,
    "start_time": "2023-06-14T20:05:06.569Z"
   },
   {
    "duration": 60,
    "start_time": "2023-06-14T20:05:06.582Z"
   },
   {
    "duration": 12,
    "start_time": "2023-06-14T20:05:06.643Z"
   },
   {
    "duration": 35,
    "start_time": "2023-06-14T20:05:06.656Z"
   },
   {
    "duration": 7,
    "start_time": "2023-06-14T20:05:06.692Z"
   },
   {
    "duration": 11,
    "start_time": "2023-06-14T20:05:06.700Z"
   },
   {
    "duration": 11,
    "start_time": "2023-06-14T20:05:06.712Z"
   },
   {
    "duration": 8,
    "start_time": "2023-06-14T20:05:06.724Z"
   },
   {
    "duration": 11,
    "start_time": "2023-06-14T20:05:06.733Z"
   },
   {
    "duration": 11,
    "start_time": "2023-06-14T20:05:06.745Z"
   },
   {
    "duration": 6,
    "start_time": "2023-06-14T20:05:06.757Z"
   },
   {
    "duration": 22,
    "start_time": "2023-06-14T20:05:06.764Z"
   },
   {
    "duration": 32,
    "start_time": "2023-06-14T20:05:06.787Z"
   },
   {
    "duration": 31,
    "start_time": "2023-06-14T20:05:06.822Z"
   },
   {
    "duration": 12,
    "start_time": "2023-06-14T20:05:06.854Z"
   },
   {
    "duration": 4,
    "start_time": "2023-06-14T20:05:06.867Z"
   },
   {
    "duration": 1059,
    "start_time": "2023-06-14T20:05:06.872Z"
   },
   {
    "duration": 34,
    "start_time": "2023-06-14T20:05:07.932Z"
   },
   {
    "duration": 53,
    "start_time": "2023-06-14T20:05:07.967Z"
   },
   {
    "duration": 10,
    "start_time": "2023-06-14T20:05:08.024Z"
   },
   {
    "duration": 5,
    "start_time": "2023-06-14T20:05:08.036Z"
   },
   {
    "duration": 5,
    "start_time": "2023-06-14T20:05:08.042Z"
   },
   {
    "duration": 17,
    "start_time": "2023-06-14T20:05:08.049Z"
   },
   {
    "duration": 273,
    "start_time": "2023-06-14T20:05:08.068Z"
   },
   {
    "duration": 6,
    "start_time": "2023-06-14T20:05:08.343Z"
   },
   {
    "duration": 675,
    "start_time": "2023-06-14T20:05:08.350Z"
   },
   {
    "duration": 4,
    "start_time": "2023-06-14T20:05:09.028Z"
   },
   {
    "duration": 26,
    "start_time": "2023-06-14T20:05:09.033Z"
   },
   {
    "duration": 21,
    "start_time": "2023-06-14T20:05:09.060Z"
   },
   {
    "duration": 10,
    "start_time": "2023-06-14T20:05:09.083Z"
   },
   {
    "duration": 22,
    "start_time": "2023-06-14T20:05:09.094Z"
   },
   {
    "duration": 14,
    "start_time": "2023-06-14T20:05:09.118Z"
   },
   {
    "duration": 5,
    "start_time": "2023-06-14T20:05:09.134Z"
   },
   {
    "duration": 14,
    "start_time": "2023-06-14T20:05:09.140Z"
   },
   {
    "duration": 20,
    "start_time": "2023-06-14T20:05:09.155Z"
   },
   {
    "duration": 20,
    "start_time": "2023-06-14T20:05:09.176Z"
   },
   {
    "duration": 26,
    "start_time": "2023-06-14T20:05:09.198Z"
   },
   {
    "duration": 30,
    "start_time": "2023-06-14T20:05:09.225Z"
   },
   {
    "duration": 19,
    "start_time": "2023-06-14T20:05:09.256Z"
   },
   {
    "duration": 6,
    "start_time": "2023-06-14T20:05:09.276Z"
   },
   {
    "duration": 16,
    "start_time": "2023-06-14T20:05:09.283Z"
   },
   {
    "duration": 18,
    "start_time": "2023-06-14T20:05:09.300Z"
   },
   {
    "duration": 17,
    "start_time": "2023-06-14T20:05:09.319Z"
   },
   {
    "duration": 6,
    "start_time": "2023-06-14T20:05:09.337Z"
   },
   {
    "duration": 25,
    "start_time": "2023-06-14T20:05:09.344Z"
   },
   {
    "duration": 270124,
    "start_time": "2023-06-14T20:05:09.371Z"
   },
   {
    "duration": 19,
    "start_time": "2023-06-14T20:09:39.497Z"
   },
   {
    "duration": 49385,
    "start_time": "2023-06-14T20:09:39.517Z"
   },
   {
    "duration": 560,
    "start_time": "2023-06-14T20:10:28.905Z"
   },
   {
    "duration": 6,
    "start_time": "2023-06-14T20:10:29.466Z"
   },
   {
    "duration": 7,
    "start_time": "2023-06-14T20:10:29.473Z"
   },
   {
    "duration": 26,
    "start_time": "2023-06-14T20:10:29.481Z"
   },
   {
    "duration": 13,
    "start_time": "2023-06-14T20:10:29.508Z"
   },
   {
    "duration": 36,
    "start_time": "2023-06-14T20:10:29.523Z"
   },
   {
    "duration": 764,
    "start_time": "2023-06-14T20:10:29.561Z"
   },
   {
    "duration": 1088,
    "start_time": "2023-06-14T20:15:29.397Z"
   },
   {
    "duration": 285,
    "start_time": "2023-06-14T20:15:30.487Z"
   },
   {
    "duration": 60,
    "start_time": "2023-06-14T20:15:30.774Z"
   },
   {
    "duration": 41,
    "start_time": "2023-06-14T20:15:30.836Z"
   },
   {
    "duration": 262,
    "start_time": "2023-06-14T20:15:30.879Z"
   },
   {
    "duration": 223,
    "start_time": "2023-06-14T20:15:31.142Z"
   },
   {
    "duration": 16,
    "start_time": "2023-06-14T20:15:31.366Z"
   },
   {
    "duration": 21,
    "start_time": "2023-06-14T20:15:31.384Z"
   },
   {
    "duration": 201,
    "start_time": "2023-06-14T20:15:31.406Z"
   },
   {
    "duration": 11,
    "start_time": "2023-06-14T20:15:31.609Z"
   },
   {
    "duration": 21,
    "start_time": "2023-06-14T20:15:31.622Z"
   },
   {
    "duration": 30,
    "start_time": "2023-06-14T20:15:31.644Z"
   },
   {
    "duration": 52,
    "start_time": "2023-06-14T20:15:31.676Z"
   },
   {
    "duration": 42,
    "start_time": "2023-06-14T20:15:31.731Z"
   },
   {
    "duration": 13,
    "start_time": "2023-06-14T20:15:31.775Z"
   },
   {
    "duration": 17,
    "start_time": "2023-06-14T20:15:31.789Z"
   },
   {
    "duration": 1304,
    "start_time": "2023-06-14T20:15:31.807Z"
   },
   {
    "duration": 48,
    "start_time": "2023-06-14T20:15:33.113Z"
   },
   {
    "duration": 24,
    "start_time": "2023-06-14T20:15:33.162Z"
   },
   {
    "duration": 32,
    "start_time": "2023-06-14T20:15:33.188Z"
   },
   {
    "duration": 4,
    "start_time": "2023-06-14T20:15:33.221Z"
   },
   {
    "duration": 16,
    "start_time": "2023-06-14T20:15:33.226Z"
   },
   {
    "duration": 55,
    "start_time": "2023-06-14T20:15:33.243Z"
   },
   {
    "duration": 11,
    "start_time": "2023-06-14T20:15:33.300Z"
   },
   {
    "duration": 34,
    "start_time": "2023-06-14T20:15:33.312Z"
   },
   {
    "duration": 7,
    "start_time": "2023-06-14T20:15:33.347Z"
   },
   {
    "duration": 10,
    "start_time": "2023-06-14T20:15:33.355Z"
   },
   {
    "duration": 12,
    "start_time": "2023-06-14T20:15:33.366Z"
   },
   {
    "duration": 143,
    "start_time": "2023-06-14T20:15:33.379Z"
   },
   {
    "duration": 17,
    "start_time": "2023-06-14T20:15:33.524Z"
   },
   {
    "duration": 41,
    "start_time": "2023-06-14T20:15:33.542Z"
   },
   {
    "duration": 6,
    "start_time": "2023-06-14T20:15:33.584Z"
   },
   {
    "duration": 11,
    "start_time": "2023-06-14T20:15:33.591Z"
   },
   {
    "duration": 49,
    "start_time": "2023-06-14T20:15:33.603Z"
   },
   {
    "duration": 31,
    "start_time": "2023-06-14T20:15:33.653Z"
   },
   {
    "duration": 11,
    "start_time": "2023-06-14T20:15:33.686Z"
   },
   {
    "duration": 8,
    "start_time": "2023-06-14T20:15:33.698Z"
   },
   {
    "duration": 1062,
    "start_time": "2023-06-14T20:15:33.707Z"
   },
   {
    "duration": 40,
    "start_time": "2023-06-14T20:15:34.771Z"
   },
   {
    "duration": 24,
    "start_time": "2023-06-14T20:15:34.812Z"
   },
   {
    "duration": 6,
    "start_time": "2023-06-14T20:15:34.840Z"
   },
   {
    "duration": 6,
    "start_time": "2023-06-14T20:15:34.847Z"
   },
   {
    "duration": 9,
    "start_time": "2023-06-14T20:15:34.854Z"
   },
   {
    "duration": 44,
    "start_time": "2023-06-14T20:15:34.864Z"
   },
   {
    "duration": 266,
    "start_time": "2023-06-14T20:15:34.910Z"
   },
   {
    "duration": 6,
    "start_time": "2023-06-14T20:15:35.177Z"
   },
   {
    "duration": 607,
    "start_time": "2023-06-14T20:15:35.184Z"
   },
   {
    "duration": 4,
    "start_time": "2023-06-14T20:15:35.792Z"
   },
   {
    "duration": 22,
    "start_time": "2023-06-14T20:15:35.797Z"
   },
   {
    "duration": 22,
    "start_time": "2023-06-14T20:15:35.820Z"
   },
   {
    "duration": 10,
    "start_time": "2023-06-14T20:15:35.844Z"
   },
   {
    "duration": 4,
    "start_time": "2023-06-14T20:15:35.855Z"
   },
   {
    "duration": 14,
    "start_time": "2023-06-14T20:15:35.861Z"
   },
   {
    "duration": 30,
    "start_time": "2023-06-14T20:15:35.876Z"
   },
   {
    "duration": 3,
    "start_time": "2023-06-14T20:15:35.908Z"
   },
   {
    "duration": 16,
    "start_time": "2023-06-14T20:15:35.912Z"
   },
   {
    "duration": 9,
    "start_time": "2023-06-14T20:15:35.930Z"
   },
   {
    "duration": 6,
    "start_time": "2023-06-14T20:15:35.940Z"
   },
   {
    "duration": 8,
    "start_time": "2023-06-14T20:15:35.948Z"
   },
   {
    "duration": 29,
    "start_time": "2023-06-14T20:15:35.958Z"
   },
   {
    "duration": 4,
    "start_time": "2023-06-14T20:15:36.005Z"
   },
   {
    "duration": 44,
    "start_time": "2023-06-14T20:15:36.010Z"
   },
   {
    "duration": 5,
    "start_time": "2023-06-14T20:15:36.056Z"
   },
   {
    "duration": 6,
    "start_time": "2023-06-14T20:15:36.062Z"
   },
   {
    "duration": 8,
    "start_time": "2023-06-14T20:15:36.070Z"
   },
   {
    "duration": 501783,
    "start_time": "2023-06-14T20:15:36.080Z"
   },
   {
    "duration": 50,
    "start_time": "2023-06-14T20:23:57.864Z"
   },
   {
    "duration": 79518,
    "start_time": "2023-06-14T20:23:57.916Z"
   },
   {
    "duration": 1389,
    "start_time": "2023-06-14T20:25:17.436Z"
   },
   {
    "duration": 7,
    "start_time": "2023-06-14T20:25:18.827Z"
   },
   {
    "duration": 12,
    "start_time": "2023-06-14T20:25:18.836Z"
   },
   {
    "duration": 21,
    "start_time": "2023-06-14T20:25:18.849Z"
   },
   {
    "duration": 31,
    "start_time": "2023-06-14T20:25:18.871Z"
   },
   {
    "duration": 18,
    "start_time": "2023-06-14T20:25:18.904Z"
   },
   {
    "duration": 906,
    "start_time": "2023-06-14T20:25:18.923Z"
   },
   {
    "duration": 1062,
    "start_time": "2023-06-14T20:30:09.130Z"
   },
   {
    "duration": 289,
    "start_time": "2023-06-14T20:30:10.194Z"
   },
   {
    "duration": 65,
    "start_time": "2023-06-14T20:30:10.484Z"
   },
   {
    "duration": 12,
    "start_time": "2023-06-14T20:30:10.550Z"
   },
   {
    "duration": 237,
    "start_time": "2023-06-14T20:30:10.564Z"
   },
   {
    "duration": 240,
    "start_time": "2023-06-14T20:30:10.805Z"
   },
   {
    "duration": 17,
    "start_time": "2023-06-14T20:30:11.046Z"
   },
   {
    "duration": 8,
    "start_time": "2023-06-14T20:30:11.064Z"
   },
   {
    "duration": 217,
    "start_time": "2023-06-14T20:30:11.074Z"
   },
   {
    "duration": 29,
    "start_time": "2023-06-14T20:30:11.292Z"
   },
   {
    "duration": 4,
    "start_time": "2023-06-14T20:30:11.323Z"
   },
   {
    "duration": 5,
    "start_time": "2023-06-14T20:30:11.328Z"
   },
   {
    "duration": 47,
    "start_time": "2023-06-14T20:30:11.335Z"
   },
   {
    "duration": 50,
    "start_time": "2023-06-14T20:30:11.384Z"
   },
   {
    "duration": 15,
    "start_time": "2023-06-14T20:30:11.436Z"
   },
   {
    "duration": 4,
    "start_time": "2023-06-14T20:30:11.452Z"
   },
   {
    "duration": 1379,
    "start_time": "2023-06-14T20:30:11.457Z"
   },
   {
    "duration": 46,
    "start_time": "2023-06-14T20:30:12.838Z"
   },
   {
    "duration": 43,
    "start_time": "2023-06-14T20:30:12.886Z"
   },
   {
    "duration": 15,
    "start_time": "2023-06-14T20:30:12.931Z"
   },
   {
    "duration": 4,
    "start_time": "2023-06-14T20:30:12.948Z"
   },
   {
    "duration": 18,
    "start_time": "2023-06-14T20:30:12.954Z"
   },
   {
    "duration": 66,
    "start_time": "2023-06-14T20:30:12.974Z"
   },
   {
    "duration": 12,
    "start_time": "2023-06-14T20:30:13.041Z"
   },
   {
    "duration": 34,
    "start_time": "2023-06-14T20:30:13.054Z"
   },
   {
    "duration": 6,
    "start_time": "2023-06-14T20:30:13.090Z"
   },
   {
    "duration": 10,
    "start_time": "2023-06-14T20:30:13.098Z"
   },
   {
    "duration": 10,
    "start_time": "2023-06-14T20:30:13.110Z"
   },
   {
    "duration": 38,
    "start_time": "2023-06-14T20:30:13.121Z"
   },
   {
    "duration": 16,
    "start_time": "2023-06-14T20:30:13.161Z"
   },
   {
    "duration": 8,
    "start_time": "2023-06-14T20:30:13.178Z"
   },
   {
    "duration": 11,
    "start_time": "2023-06-14T20:30:13.187Z"
   },
   {
    "duration": 5,
    "start_time": "2023-06-14T20:30:13.200Z"
   },
   {
    "duration": 39,
    "start_time": "2023-06-14T20:30:13.207Z"
   },
   {
    "duration": 32,
    "start_time": "2023-06-14T20:30:13.247Z"
   },
   {
    "duration": 11,
    "start_time": "2023-06-14T20:30:13.281Z"
   },
   {
    "duration": 6,
    "start_time": "2023-06-14T20:30:13.293Z"
   },
   {
    "duration": 1209,
    "start_time": "2023-06-14T20:30:13.301Z"
   },
   {
    "duration": 36,
    "start_time": "2023-06-14T20:30:14.511Z"
   },
   {
    "duration": 24,
    "start_time": "2023-06-14T20:30:14.549Z"
   },
   {
    "duration": 7,
    "start_time": "2023-06-14T20:30:14.576Z"
   },
   {
    "duration": 30,
    "start_time": "2023-06-14T20:30:14.584Z"
   },
   {
    "duration": 7,
    "start_time": "2023-06-14T20:30:14.616Z"
   },
   {
    "duration": 19,
    "start_time": "2023-06-14T20:30:14.624Z"
   },
   {
    "duration": 289,
    "start_time": "2023-06-14T20:30:14.644Z"
   },
   {
    "duration": 6,
    "start_time": "2023-06-14T20:30:14.934Z"
   },
   {
    "duration": 594,
    "start_time": "2023-06-14T20:30:14.941Z"
   },
   {
    "duration": 4,
    "start_time": "2023-06-14T20:30:15.537Z"
   },
   {
    "duration": 43,
    "start_time": "2023-06-14T20:30:15.542Z"
   },
   {
    "duration": 26,
    "start_time": "2023-06-14T20:30:15.586Z"
   },
   {
    "duration": 14,
    "start_time": "2023-06-14T20:30:15.614Z"
   },
   {
    "duration": 13,
    "start_time": "2023-06-14T20:30:15.629Z"
   },
   {
    "duration": 32,
    "start_time": "2023-06-14T20:30:15.644Z"
   },
   {
    "duration": 4,
    "start_time": "2023-06-14T20:30:15.678Z"
   },
   {
    "duration": 7,
    "start_time": "2023-06-14T20:30:15.683Z"
   },
   {
    "duration": 9,
    "start_time": "2023-06-14T20:30:15.691Z"
   },
   {
    "duration": 18,
    "start_time": "2023-06-14T20:30:15.701Z"
   },
   {
    "duration": 18,
    "start_time": "2023-06-14T20:30:15.721Z"
   },
   {
    "duration": 9,
    "start_time": "2023-06-14T20:30:15.741Z"
   },
   {
    "duration": 16,
    "start_time": "2023-06-14T20:30:15.752Z"
   },
   {
    "duration": 5,
    "start_time": "2023-06-14T20:30:15.769Z"
   },
   {
    "duration": 10,
    "start_time": "2023-06-14T20:30:15.776Z"
   },
   {
    "duration": 2,
    "start_time": "2023-06-14T20:30:15.788Z"
   },
   {
    "duration": 14,
    "start_time": "2023-06-14T20:30:15.792Z"
   },
   {
    "duration": 18,
    "start_time": "2023-06-14T20:30:15.809Z"
   },
   {
    "duration": 2405091,
    "start_time": "2023-06-14T20:30:15.829Z"
   },
   {
    "duration": 994,
    "start_time": "2023-06-14T21:10:20.921Z"
   },
   {
    "duration": 76176,
    "start_time": "2023-06-14T21:10:21.921Z"
   },
   {
    "duration": 1371,
    "start_time": "2023-06-14T21:11:38.099Z"
   },
   {
    "duration": 6,
    "start_time": "2023-06-14T21:11:39.472Z"
   },
   {
    "duration": 1287,
    "start_time": "2023-06-15T07:29:14.595Z"
   },
   {
    "duration": 2320,
    "start_time": "2023-06-15T07:29:39.422Z"
   },
   {
    "duration": 69,
    "start_time": "2023-06-15T07:29:41.744Z"
   },
   {
    "duration": 18,
    "start_time": "2023-06-15T07:29:41.815Z"
   },
   {
    "duration": 365,
    "start_time": "2023-06-15T07:29:41.835Z"
   },
   {
    "duration": 277,
    "start_time": "2023-06-15T07:29:42.202Z"
   },
   {
    "duration": 27,
    "start_time": "2023-06-15T07:29:42.481Z"
   },
   {
    "duration": 15,
    "start_time": "2023-06-15T07:29:42.510Z"
   },
   {
    "duration": 265,
    "start_time": "2023-06-15T07:29:45.264Z"
   },
   {
    "duration": 14,
    "start_time": "2023-06-15T07:29:45.531Z"
   },
   {
    "duration": 29,
    "start_time": "2023-06-15T07:29:45.547Z"
   },
   {
    "duration": 16,
    "start_time": "2023-06-15T07:29:45.578Z"
   },
   {
    "duration": 58,
    "start_time": "2023-06-15T07:29:47.192Z"
   },
   {
    "duration": 47,
    "start_time": "2023-06-15T07:29:47.363Z"
   },
   {
    "duration": 19,
    "start_time": "2023-06-15T07:29:47.815Z"
   },
   {
    "duration": 7,
    "start_time": "2023-06-15T07:29:48.433Z"
   },
   {
    "duration": 1451,
    "start_time": "2023-06-15T07:29:49.228Z"
   },
   {
    "duration": 98,
    "start_time": "2023-06-15T07:29:50.682Z"
   },
   {
    "duration": 39,
    "start_time": "2023-06-15T07:29:50.782Z"
   },
   {
    "duration": 33,
    "start_time": "2023-06-15T07:29:50.824Z"
   },
   {
    "duration": 8,
    "start_time": "2023-06-15T07:29:50.876Z"
   },
   {
    "duration": 13,
    "start_time": "2023-06-15T07:29:52.100Z"
   },
   {
    "duration": 63,
    "start_time": "2023-06-15T07:29:53.927Z"
   },
   {
    "duration": 24,
    "start_time": "2023-06-15T07:29:54.126Z"
   },
   {
    "duration": 66,
    "start_time": "2023-06-15T07:29:55.985Z"
   },
   {
    "duration": 9,
    "start_time": "2023-06-15T07:29:56.157Z"
   },
   {
    "duration": 12,
    "start_time": "2023-06-15T07:29:56.333Z"
   },
   {
    "duration": 9,
    "start_time": "2023-06-15T07:29:56.744Z"
   },
   {
    "duration": 6,
    "start_time": "2023-06-15T07:29:57.235Z"
   },
   {
    "duration": 9,
    "start_time": "2023-06-15T07:29:57.598Z"
   },
   {
    "duration": 10,
    "start_time": "2023-06-15T07:29:58.100Z"
   },
   {
    "duration": 5,
    "start_time": "2023-06-15T07:29:59.426Z"
   },
   {
    "duration": 6,
    "start_time": "2023-06-15T07:30:04.550Z"
   },
   {
    "duration": 61,
    "start_time": "2023-06-15T07:30:05.773Z"
   },
   {
    "duration": 49,
    "start_time": "2023-06-15T07:30:06.260Z"
   },
   {
    "duration": 19,
    "start_time": "2023-06-15T07:30:06.908Z"
   },
   {
    "duration": 6,
    "start_time": "2023-06-15T07:30:07.700Z"
   },
   {
    "duration": 1263,
    "start_time": "2023-06-15T07:30:07.925Z"
   },
   {
    "duration": 48,
    "start_time": "2023-06-15T07:30:09.190Z"
   },
   {
    "duration": 59,
    "start_time": "2023-06-15T07:30:09.240Z"
   },
   {
    "duration": 30,
    "start_time": "2023-06-15T07:30:09.302Z"
   },
   {
    "duration": 9,
    "start_time": "2023-06-15T07:30:15.336Z"
   },
   {
    "duration": 8,
    "start_time": "2023-06-15T07:30:15.702Z"
   },
   {
    "duration": 32,
    "start_time": "2023-06-15T07:30:17.725Z"
   },
   {
    "duration": 389,
    "start_time": "2023-06-15T07:30:19.710Z"
   },
   {
    "duration": 9,
    "start_time": "2023-06-15T07:30:20.957Z"
   },
   {
    "duration": 792,
    "start_time": "2023-06-15T07:30:22.765Z"
   },
   {
    "duration": 6,
    "start_time": "2023-06-15T07:30:55.259Z"
   },
   {
    "duration": 16,
    "start_time": "2023-06-15T07:30:55.615Z"
   },
   {
    "duration": 28,
    "start_time": "2023-06-15T07:30:56.626Z"
   },
   {
    "duration": 12,
    "start_time": "2023-06-15T07:30:57.474Z"
   },
   {
    "duration": 6,
    "start_time": "2023-06-15T07:30:59.140Z"
   },
   {
    "duration": 23,
    "start_time": "2023-06-15T07:31:00.763Z"
   },
   {
    "duration": 8,
    "start_time": "2023-06-15T07:31:02.118Z"
   },
   {
    "duration": 4,
    "start_time": "2023-06-15T07:31:03.148Z"
   },
   {
    "duration": 10,
    "start_time": "2023-06-15T07:31:04.108Z"
   },
   {
    "duration": 11,
    "start_time": "2023-06-15T07:31:04.680Z"
   },
   {
    "duration": 10,
    "start_time": "2023-06-15T07:31:05.140Z"
   },
   {
    "duration": 13,
    "start_time": "2023-06-15T07:31:05.545Z"
   },
   {
    "duration": 33,
    "start_time": "2023-06-15T07:31:06.204Z"
   },
   {
    "duration": 6,
    "start_time": "2023-06-15T07:31:11.878Z"
   },
   {
    "duration": 13,
    "start_time": "2023-06-15T07:31:12.940Z"
   },
   {
    "duration": 36,
    "start_time": "2023-06-15T07:31:27.741Z"
   },
   {
    "duration": 4,
    "start_time": "2023-06-15T07:31:37.041Z"
   },
   {
    "duration": 7,
    "start_time": "2023-06-15T07:31:38.804Z"
   },
   {
    "duration": 14,
    "start_time": "2023-06-15T07:31:39.313Z"
   },
   {
    "duration": 1417,
    "start_time": "2023-06-15T08:37:07.521Z"
   },
   {
    "duration": 315,
    "start_time": "2023-06-15T08:37:08.940Z"
   },
   {
    "duration": 116,
    "start_time": "2023-06-15T08:37:09.256Z"
   },
   {
    "duration": 16,
    "start_time": "2023-06-15T08:37:09.374Z"
   },
   {
    "duration": 274,
    "start_time": "2023-06-15T08:37:09.392Z"
   },
   {
    "duration": 263,
    "start_time": "2023-06-15T08:37:09.667Z"
   },
   {
    "duration": 25,
    "start_time": "2023-06-15T08:37:09.932Z"
   },
   {
    "duration": 9,
    "start_time": "2023-06-15T08:37:09.959Z"
   },
   {
    "duration": 254,
    "start_time": "2023-06-15T08:37:09.970Z"
   },
   {
    "duration": 26,
    "start_time": "2023-06-15T08:37:10.226Z"
   },
   {
    "duration": 4,
    "start_time": "2023-06-15T08:37:10.254Z"
   },
   {
    "duration": 19,
    "start_time": "2023-06-15T08:37:10.260Z"
   },
   {
    "duration": 219,
    "start_time": "2023-06-15T08:37:10.280Z"
   },
   {
    "duration": 110,
    "start_time": "2023-06-15T08:37:10.503Z"
   },
   {
    "duration": 17,
    "start_time": "2023-06-15T08:37:10.614Z"
   },
   {
    "duration": 13,
    "start_time": "2023-06-15T08:37:10.633Z"
   },
   {
    "duration": 1538,
    "start_time": "2023-06-15T08:37:10.648Z"
   },
   {
    "duration": 71,
    "start_time": "2023-06-15T08:37:12.187Z"
   },
   {
    "duration": 30,
    "start_time": "2023-06-15T08:37:12.260Z"
   },
   {
    "duration": 19,
    "start_time": "2023-06-15T08:37:12.292Z"
   },
   {
    "duration": 6,
    "start_time": "2023-06-15T08:37:12.313Z"
   },
   {
    "duration": 35,
    "start_time": "2023-06-15T08:37:12.321Z"
   },
   {
    "duration": 112,
    "start_time": "2023-06-15T08:37:12.358Z"
   },
   {
    "duration": 14,
    "start_time": "2023-06-15T08:37:12.472Z"
   },
   {
    "duration": 114,
    "start_time": "2023-06-15T08:37:12.487Z"
   },
   {
    "duration": 9,
    "start_time": "2023-06-15T08:37:12.603Z"
   },
   {
    "duration": 12,
    "start_time": "2023-06-15T08:37:12.614Z"
   },
   {
    "duration": 29,
    "start_time": "2023-06-15T08:37:12.628Z"
   },
   {
    "duration": 29,
    "start_time": "2023-06-15T08:37:12.658Z"
   },
   {
    "duration": 15,
    "start_time": "2023-06-15T08:37:12.689Z"
   },
   {
    "duration": 20,
    "start_time": "2023-06-15T08:37:12.706Z"
   },
   {
    "duration": 13,
    "start_time": "2023-06-15T08:37:12.728Z"
   },
   {
    "duration": 8,
    "start_time": "2023-06-15T08:37:12.743Z"
   },
   {
    "duration": 87,
    "start_time": "2023-06-15T08:37:12.754Z"
   },
   {
    "duration": 78,
    "start_time": "2023-06-15T08:37:12.843Z"
   },
   {
    "duration": 15,
    "start_time": "2023-06-15T08:37:12.923Z"
   },
   {
    "duration": 5,
    "start_time": "2023-06-15T08:37:12.940Z"
   },
   {
    "duration": 1171,
    "start_time": "2023-06-15T08:37:12.946Z"
   },
   {
    "duration": 50,
    "start_time": "2023-06-15T08:37:14.119Z"
   },
   {
    "duration": 30,
    "start_time": "2023-06-15T08:37:14.171Z"
   },
   {
    "duration": 8,
    "start_time": "2023-06-15T08:37:14.206Z"
   },
   {
    "duration": 36,
    "start_time": "2023-06-15T08:37:14.216Z"
   },
   {
    "duration": 6,
    "start_time": "2023-06-15T08:37:14.255Z"
   },
   {
    "duration": 22,
    "start_time": "2023-06-15T08:37:14.263Z"
   },
   {
    "duration": 326,
    "start_time": "2023-06-15T08:37:14.286Z"
   },
   {
    "duration": 6,
    "start_time": "2023-06-15T08:37:14.614Z"
   },
   {
    "duration": 762,
    "start_time": "2023-06-15T08:37:14.621Z"
   },
   {
    "duration": 10,
    "start_time": "2023-06-15T08:37:15.386Z"
   },
   {
    "duration": 29,
    "start_time": "2023-06-15T08:37:15.399Z"
   },
   {
    "duration": 37,
    "start_time": "2023-06-15T08:37:15.431Z"
   },
   {
    "duration": 14,
    "start_time": "2023-06-15T08:37:15.470Z"
   },
   {
    "duration": 6,
    "start_time": "2023-06-15T08:37:15.485Z"
   },
   {
    "duration": 19,
    "start_time": "2023-06-15T08:37:15.492Z"
   },
   {
    "duration": 7,
    "start_time": "2023-06-15T08:37:15.512Z"
   },
   {
    "duration": 32,
    "start_time": "2023-06-15T08:37:15.520Z"
   },
   {
    "duration": 6,
    "start_time": "2023-06-15T08:37:15.554Z"
   },
   {
    "duration": 15,
    "start_time": "2023-06-15T08:37:15.562Z"
   },
   {
    "duration": 5,
    "start_time": "2023-06-15T08:37:15.579Z"
   },
   {
    "duration": 10,
    "start_time": "2023-06-15T08:37:15.586Z"
   },
   {
    "duration": 29,
    "start_time": "2023-06-15T08:37:15.598Z"
   },
   {
    "duration": 27,
    "start_time": "2023-06-15T08:37:15.628Z"
   },
   {
    "duration": 17,
    "start_time": "2023-06-15T08:37:15.657Z"
   },
   {
    "duration": 4,
    "start_time": "2023-06-15T08:37:15.676Z"
   },
   {
    "duration": 11,
    "start_time": "2023-06-15T08:37:15.682Z"
   },
   {
    "duration": 9,
    "start_time": "2023-06-15T08:37:15.695Z"
   },
   {
    "duration": 14,
    "start_time": "2023-06-15T08:37:15.706Z"
   },
   {
    "duration": 1552766,
    "start_time": "2023-06-15T08:37:15.722Z"
   },
   {
    "duration": 2383,
    "start_time": "2023-06-15T09:03:08.490Z"
   },
   {
    "duration": 90700,
    "start_time": "2023-06-15T09:03:10.881Z"
   },
   {
    "duration": 1829,
    "start_time": "2023-06-15T09:04:41.582Z"
   },
   {
    "duration": 8,
    "start_time": "2023-06-15T09:04:43.412Z"
   },
   {
    "duration": 175,
    "start_time": "2023-06-15T09:07:17.793Z"
   },
   {
    "duration": 34,
    "start_time": "2023-06-15T09:08:36.493Z"
   },
   {
    "duration": 20,
    "start_time": "2023-06-15T09:09:05.811Z"
   },
   {
    "duration": 32,
    "start_time": "2023-06-15T09:09:22.142Z"
   },
   {
    "duration": 20,
    "start_time": "2023-06-15T09:09:35.523Z"
   },
   {
    "duration": 22,
    "start_time": "2023-06-15T09:09:52.711Z"
   },
   {
    "duration": 13,
    "start_time": "2023-06-15T09:11:21.467Z"
   },
   {
    "duration": 2433,
    "start_time": "2023-06-15T09:12:00.601Z"
   },
   {
    "duration": 21,
    "start_time": "2023-06-15T09:12:36.442Z"
   },
   {
    "duration": 1915,
    "start_time": "2023-06-15T09:12:37.711Z"
   },
   {
    "duration": 14,
    "start_time": "2023-06-15T09:12:56.091Z"
   },
   {
    "duration": 2435,
    "start_time": "2023-06-15T09:12:57.133Z"
   },
   {
    "duration": 14,
    "start_time": "2023-06-15T09:13:11.672Z"
   },
   {
    "duration": 2100,
    "start_time": "2023-06-15T09:13:12.191Z"
   },
   {
    "duration": 24,
    "start_time": "2023-06-15T09:13:30.047Z"
   },
   {
    "duration": 2505,
    "start_time": "2023-06-15T09:13:30.972Z"
   },
   {
    "duration": 30,
    "start_time": "2023-06-15T09:14:13.491Z"
   },
   {
    "duration": 8,
    "start_time": "2023-06-15T09:18:03.182Z"
   },
   {
    "duration": 6,
    "start_time": "2023-06-15T09:18:24.298Z"
   },
   {
    "duration": 2015,
    "start_time": "2023-06-15T19:14:22.932Z"
   },
   {
    "duration": 561,
    "start_time": "2023-06-15T19:14:24.950Z"
   },
   {
    "duration": 874,
    "start_time": "2023-06-15T19:14:25.518Z"
   },
   {
    "duration": 20,
    "start_time": "2023-06-15T19:14:26.393Z"
   },
   {
    "duration": 434,
    "start_time": "2023-06-15T19:14:26.417Z"
   },
   {
    "duration": 438,
    "start_time": "2023-06-15T19:14:26.857Z"
   },
   {
    "duration": 41,
    "start_time": "2023-06-15T19:14:27.300Z"
   },
   {
    "duration": 23,
    "start_time": "2023-06-15T19:14:27.347Z"
   },
   {
    "duration": 346,
    "start_time": "2023-06-15T19:14:27.372Z"
   },
   {
    "duration": 29,
    "start_time": "2023-06-15T19:14:27.725Z"
   },
   {
    "duration": 16,
    "start_time": "2023-06-15T19:14:27.763Z"
   },
   {
    "duration": 33,
    "start_time": "2023-06-15T19:14:27.784Z"
   },
   {
    "duration": 195,
    "start_time": "2023-06-15T19:14:27.823Z"
   },
   {
    "duration": 281,
    "start_time": "2023-06-15T19:14:28.034Z"
   },
   {
    "duration": 60,
    "start_time": "2023-06-15T19:14:28.320Z"
   },
   {
    "duration": 9,
    "start_time": "2023-06-15T19:14:28.385Z"
   },
   {
    "duration": 1995,
    "start_time": "2023-06-15T19:14:28.399Z"
   },
   {
    "duration": 90,
    "start_time": "2023-06-15T19:14:30.401Z"
   },
   {
    "duration": 58,
    "start_time": "2023-06-15T19:14:30.497Z"
   },
   {
    "duration": 47,
    "start_time": "2023-06-15T19:14:30.565Z"
   },
   {
    "duration": 15,
    "start_time": "2023-06-15T19:14:30.618Z"
   },
   {
    "duration": 46,
    "start_time": "2023-06-15T19:14:30.639Z"
   },
   {
    "duration": 222,
    "start_time": "2023-06-15T19:14:30.696Z"
   },
   {
    "duration": 28,
    "start_time": "2023-06-15T19:14:30.928Z"
   },
   {
    "duration": 180,
    "start_time": "2023-06-15T19:14:30.958Z"
   },
   {
    "duration": 21,
    "start_time": "2023-06-15T19:14:31.140Z"
   },
   {
    "duration": 34,
    "start_time": "2023-06-15T19:14:31.165Z"
   },
   {
    "duration": 39,
    "start_time": "2023-06-15T19:14:31.204Z"
   },
   {
    "duration": 48,
    "start_time": "2023-06-15T19:14:31.250Z"
   },
   {
    "duration": 39,
    "start_time": "2023-06-15T19:14:31.308Z"
   },
   {
    "duration": 48,
    "start_time": "2023-06-15T19:14:31.353Z"
   },
   {
    "duration": 17,
    "start_time": "2023-06-15T19:14:31.407Z"
   },
   {
    "duration": 40,
    "start_time": "2023-06-15T19:14:31.427Z"
   },
   {
    "duration": 199,
    "start_time": "2023-06-15T19:14:31.486Z"
   },
   {
    "duration": 150,
    "start_time": "2023-06-15T19:14:31.692Z"
   },
   {
    "duration": 53,
    "start_time": "2023-06-15T19:14:31.849Z"
   },
   {
    "duration": 23,
    "start_time": "2023-06-15T19:14:31.908Z"
   },
   {
    "duration": 1739,
    "start_time": "2023-06-15T19:14:31.937Z"
   },
   {
    "duration": 86,
    "start_time": "2023-06-15T19:14:33.681Z"
   },
   {
    "duration": 44,
    "start_time": "2023-06-15T19:14:33.775Z"
   },
   {
    "duration": 18,
    "start_time": "2023-06-15T19:14:33.829Z"
   },
   {
    "duration": 15,
    "start_time": "2023-06-15T19:14:33.854Z"
   },
   {
    "duration": 14,
    "start_time": "2023-06-15T19:14:33.874Z"
   },
   {
    "duration": 52,
    "start_time": "2023-06-15T19:14:33.898Z"
   },
   {
    "duration": 479,
    "start_time": "2023-06-15T19:14:33.955Z"
   },
   {
    "duration": 15,
    "start_time": "2023-06-15T19:14:34.439Z"
   },
   {
    "duration": 1093,
    "start_time": "2023-06-15T19:14:34.460Z"
   },
   {
    "duration": 10,
    "start_time": "2023-06-15T19:14:35.561Z"
   },
   {
    "duration": 45,
    "start_time": "2023-06-15T19:14:35.577Z"
   },
   {
    "duration": 83,
    "start_time": "2023-06-15T19:14:35.627Z"
   },
   {
    "duration": 27,
    "start_time": "2023-06-15T19:14:35.715Z"
   },
   {
    "duration": 14,
    "start_time": "2023-06-15T19:14:35.748Z"
   },
   {
    "duration": 54,
    "start_time": "2023-06-15T19:14:35.768Z"
   },
   {
    "duration": 18,
    "start_time": "2023-06-15T19:14:35.830Z"
   },
   {
    "duration": 6,
    "start_time": "2023-06-15T19:14:35.854Z"
   },
   {
    "duration": 25,
    "start_time": "2023-06-15T19:14:35.865Z"
   },
   {
    "duration": 31,
    "start_time": "2023-06-15T19:14:35.899Z"
   },
   {
    "duration": 26,
    "start_time": "2023-06-15T19:14:35.936Z"
   },
   {
    "duration": 34,
    "start_time": "2023-06-15T19:14:35.968Z"
   },
   {
    "duration": 74,
    "start_time": "2023-06-15T19:14:36.008Z"
   },
   {
    "duration": 10,
    "start_time": "2023-06-15T19:14:36.088Z"
   },
   {
    "duration": 32,
    "start_time": "2023-06-15T19:14:36.108Z"
   },
   {
    "duration": 68,
    "start_time": "2023-06-15T19:14:36.150Z"
   },
   {
    "duration": 9,
    "start_time": "2023-06-15T19:14:36.234Z"
   },
   {
    "duration": 13,
    "start_time": "2023-06-15T19:14:36.249Z"
   },
   {
    "duration": 34,
    "start_time": "2023-06-15T19:14:36.268Z"
   },
   {
    "duration": 2757894,
    "start_time": "2023-06-15T19:14:36.308Z"
   },
   {
    "duration": 3292,
    "start_time": "2023-06-15T20:00:34.207Z"
   },
   {
    "duration": 110363,
    "start_time": "2023-06-15T20:00:37.514Z"
   },
   {
    "duration": 5880,
    "start_time": "2023-06-15T20:02:27.879Z"
   },
   {
    "duration": 19,
    "start_time": "2023-06-15T20:02:33.761Z"
   }
  ],
  "kernelspec": {
   "display_name": "Python 3 (ipykernel)",
   "language": "python",
   "name": "python3"
  },
  "language_info": {
   "codemirror_mode": {
    "name": "ipython",
    "version": 3
   },
   "file_extension": ".py",
   "mimetype": "text/x-python",
   "name": "python",
   "nbconvert_exporter": "python",
   "pygments_lexer": "ipython3",
   "version": "3.9.12"
  },
  "toc": {
   "base_numbering": 1,
   "nav_menu": {
    "height": "138.984px",
    "width": "235.987px"
   },
   "number_sections": true,
   "sideBar": true,
   "skip_h1_title": true,
   "title_cell": "Table of Contents",
   "title_sidebar": "Contents",
   "toc_cell": false,
   "toc_position": {},
   "toc_section_display": true,
   "toc_window_display": false
  }
 },
 "nbformat": 4,
 "nbformat_minor": 2
}
